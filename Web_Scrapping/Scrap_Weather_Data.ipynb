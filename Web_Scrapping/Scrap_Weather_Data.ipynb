{
 "cells": [
  {
   "cell_type": "code",
   "execution_count": 1,
   "id": "23a4d532",
   "metadata": {
    "ExecuteTime": {
     "end_time": "2021-09-09T13:14:32.390895Z",
     "start_time": "2021-09-09T13:14:31.786300Z"
    }
   },
   "outputs": [],
   "source": [
    "import sys\n",
    "import time\n",
    "from bs4 import BeautifulSoup  \n",
    "import requests\n",
    "import pandas as pd"
   ]
  },
  {
   "cell_type": "code",
   "execution_count": 2,
   "id": "3c2e20fa",
   "metadata": {
    "ExecuteTime": {
     "end_time": "2021-09-09T13:14:34.922107Z",
     "start_time": "2021-09-09T13:14:33.941921Z"
    }
   },
   "outputs": [],
   "source": [
    "page = requests.get(\"https://forecast.weather.gov/MapClick.php?lat=37.7772&lon=-122.4168\")\n",
    "\n",
    "soup = BeautifulSoup(page.content, 'html.parser')\n",
    "seven_day = soup.find(id=\"seven-day-forecast\")\n",
    "forecast_items = seven_day.find_all(class_=\"tombstone-container\")\n"
   ]
  },
  {
   "cell_type": "code",
   "execution_count": 3,
   "id": "ea97da67",
   "metadata": {
    "ExecuteTime": {
     "end_time": "2021-09-09T13:14:37.068589Z",
     "start_time": "2021-09-09T13:14:37.054601Z"
    }
   },
   "outputs": [],
   "source": [
    "tonight = forecast_items[0]\n"
   ]
  },
  {
   "cell_type": "code",
   "execution_count": 5,
   "id": "0fa9b23f",
   "metadata": {
    "ExecuteTime": {
     "end_time": "2021-09-09T13:14:46.659886Z",
     "start_time": "2021-09-09T13:14:46.648871Z"
    }
   },
   "outputs": [
    {
     "name": "stdout",
     "output_type": "stream",
     "text": [
      "<div class=\"tombstone-container\">\n",
      " <p class=\"period-name\">\n",
      "  Today\n",
      "  <br/>\n",
      "  <br/>\n",
      " </p>\n",
      " <p>\n",
      "  <img alt=\"Today: Mostly sunny, with a high near 68. Breezy, with a west southwest wind 7 to 12 mph increasing to 19 to 24 mph in the afternoon. Winds could gust as high as 31 mph. \" class=\"forecast-icon\" src=\"DualImage.php?i=sct&amp;j=wind_sct\" title=\"Today: Mostly sunny, with a high near 68. Breezy, with a west southwest wind 7 to 12 mph increasing to 19 to 24 mph in the afternoon. Winds could gust as high as 31 mph. \"/>\n",
      " </p>\n",
      " <p class=\"short-desc\">\n",
      "  Mostly Sunny\n",
      "  <br/>\n",
      "  then Mostly\n",
      "  <br/>\n",
      "  Sunny and\n",
      "  <br/>\n",
      "  Breezy\n",
      " </p>\n",
      " <p class=\"temp temp-high\">\n",
      "  High: 68 °F\n",
      " </p>\n",
      "</div>\n"
     ]
    }
   ],
   "source": [
    "print(tonight.prettify())"
   ]
  },
  {
   "cell_type": "markdown",
   "id": "aba83d96",
   "metadata": {},
   "source": [
    "# Extracting information from the page\n"
   ]
  },
  {
   "cell_type": "code",
   "execution_count": 6,
   "id": "d2a20626",
   "metadata": {
    "ExecuteTime": {
     "end_time": "2021-09-09T13:14:51.153104Z",
     "start_time": "2021-09-09T13:14:51.140597Z"
    }
   },
   "outputs": [],
   "source": [
    "period = tonight.find(class_=\"period-name\").get_text()\n",
    "short_desc = tonight.find(class_=\"short-desc\").get_text()\n",
    "temp = tonight.find(class_=\"temp\").get_text()\n"
   ]
  },
  {
   "cell_type": "code",
   "execution_count": 7,
   "id": "bd96e0f9",
   "metadata": {
    "ExecuteTime": {
     "end_time": "2021-09-09T13:14:53.378899Z",
     "start_time": "2021-09-09T13:14:53.366899Z"
    }
   },
   "outputs": [
    {
     "name": "stdout",
     "output_type": "stream",
     "text": [
      "Today\n",
      "Mostly Sunnythen MostlySunny andBreezy\n",
      "High: 68 °F\n"
     ]
    }
   ],
   "source": [
    "print(period)\n",
    "print(short_desc)\n",
    "print(temp)"
   ]
  },
  {
   "cell_type": "markdown",
   "id": "8a367226",
   "metadata": {},
   "source": [
    " extract the title attribute from the img tag. To do this, we just treat the BeautifulSoup object like a dictionary,\n",
    "and pass in the attribute we want as a key"
   ]
  },
  {
   "cell_type": "code",
   "execution_count": 8,
   "id": "bfabc22e",
   "metadata": {
    "ExecuteTime": {
     "end_time": "2021-09-09T13:15:02.227752Z",
     "start_time": "2021-09-09T13:15:02.223751Z"
    }
   },
   "outputs": [],
   "source": [
    "img = tonight.find(\"img\")\n",
    "desc = img['title']\n"
   ]
  },
  {
   "cell_type": "code",
   "execution_count": 9,
   "id": "71513f20",
   "metadata": {
    "ExecuteTime": {
     "end_time": "2021-09-09T13:15:04.324304Z",
     "start_time": "2021-09-09T13:15:04.316287Z"
    },
    "scrolled": true
   },
   "outputs": [
    {
     "name": "stdout",
     "output_type": "stream",
     "text": [
      "Today: Mostly sunny, with a high near 68. Breezy, with a west southwest wind 7 to 12 mph increasing to 19 to 24 mph in the afternoon. Winds could gust as high as 31 mph. \n"
     ]
    }
   ],
   "source": [
    "print(desc)"
   ]
  },
  {
   "cell_type": "markdown",
   "id": "999ed997",
   "metadata": {},
   "source": [
    "# Extracting all the information from the page\n"
   ]
  },
  {
   "cell_type": "code",
   "execution_count": null,
   "id": "61a1381a",
   "metadata": {},
   "outputs": [],
   "source": []
  },
  {
   "cell_type": "code",
   "execution_count": 10,
   "id": "4be006c4",
   "metadata": {
    "ExecuteTime": {
     "end_time": "2021-09-09T13:15:10.789447Z",
     "start_time": "2021-09-09T13:15:10.785445Z"
    }
   },
   "outputs": [],
   "source": [
    "period_tags = seven_day.select(\".tombstone-container .period-name\")\n",
    "periods = [pt.get_text() for pt in period_tags]\n"
   ]
  },
  {
   "cell_type": "code",
   "execution_count": 11,
   "id": "b14b97dc",
   "metadata": {
    "ExecuteTime": {
     "end_time": "2021-09-09T13:15:14.454340Z",
     "start_time": "2021-09-09T13:15:14.443730Z"
    }
   },
   "outputs": [
    {
     "data": {
      "text/plain": [
       "['Today',\n",
       " 'Tonight',\n",
       " 'Friday',\n",
       " 'FridayNight',\n",
       " 'Saturday',\n",
       " 'SaturdayNight',\n",
       " 'Sunday',\n",
       " 'SundayNight',\n",
       " 'Monday']"
      ]
     },
     "execution_count": 11,
     "metadata": {},
     "output_type": "execute_result"
    }
   ],
   "source": [
    "periods"
   ]
  },
  {
   "cell_type": "markdown",
   "id": "4ee26db0",
   "metadata": {},
   "source": [
    "As we can see above, our technique gets us each of the period names, in order.\n",
    "\n",
    "We can apply the same technique to get the other three fields"
   ]
  },
  {
   "cell_type": "code",
   "execution_count": null,
   "id": "2a4f1e2c",
   "metadata": {},
   "outputs": [],
   "source": []
  },
  {
   "cell_type": "code",
   "execution_count": 12,
   "id": "f71a419d",
   "metadata": {
    "ExecuteTime": {
     "end_time": "2021-09-09T13:15:25.482116Z",
     "start_time": "2021-09-09T13:15:25.466606Z"
    }
   },
   "outputs": [],
   "source": [
    "short_descs = [sd.get_text() for sd in seven_day.select(\".tombstone-container .short-desc\")]\n",
    "temps = [t.get_text() for t in seven_day.select(\".tombstone-container .temp\")]\n",
    "descs = [d[\"title\"] for d in seven_day.select(\".tombstone-container img\")]\n"
   ]
  },
  {
   "cell_type": "code",
   "execution_count": 13,
   "id": "ce412f99",
   "metadata": {
    "ExecuteTime": {
     "end_time": "2021-09-09T13:15:31.364797Z",
     "start_time": "2021-09-09T13:15:31.349795Z"
    }
   },
   "outputs": [
    {
     "name": "stdout",
     "output_type": "stream",
     "text": [
      "['Mostly Sunnythen MostlySunny andBreezy', 'ChanceShowers', 'Partly Sunnythen Sunnyand Breezy', 'Partly Cloudy', 'Mostly Sunny', 'Partly Cloudy', 'Mostly Sunny', 'Partly Cloudy', 'Mostly Sunny']\n",
      "['High: 68 °F', 'Low: 57 °F', 'High: 69 °F', 'Low: 55 °F', 'High: 68 °F', 'Low: 56 °F', 'High: 71 °F', 'Low: 56 °F', 'High: 71 °F']\n",
      "['Today: Mostly sunny, with a high near 68. Breezy, with a west southwest wind 7 to 12 mph increasing to 19 to 24 mph in the afternoon. Winds could gust as high as 31 mph. ', 'Tonight: A 30 percent chance of showers and thunderstorms, mainly after 11pm.  Mostly cloudy, with a low around 57. West wind 16 to 21 mph decreasing to 9 to 14 mph in the evening. Winds could gust as high as 26 mph.  New rainfall amounts of less than a tenth of an inch, except higher amounts possible in thunderstorms. ', 'Friday: Mostly cloudy, then gradually becoming sunny, with a high near 69. Breezy, with a west wind 15 to 23 mph, with gusts as high as 31 mph. ', 'Friday Night: Partly cloudy, with a low around 55. West wind 14 to 21 mph, with gusts as high as 28 mph. ', 'Saturday: Mostly sunny, with a high near 68. West southwest wind 8 to 18 mph, with gusts as high as 24 mph. ', 'Saturday Night: Partly cloudy, with a low around 56.', 'Sunday: Mostly sunny, with a high near 71.', 'Sunday Night: Partly cloudy, with a low around 56.', 'Monday: Mostly sunny, with a high near 71.']\n"
     ]
    }
   ],
   "source": [
    "print(short_descs)\n",
    "print(temps)\n",
    "print(descs)"
   ]
  },
  {
   "cell_type": "code",
   "execution_count": null,
   "id": "1eb1d247",
   "metadata": {},
   "outputs": [],
   "source": []
  },
  {
   "cell_type": "markdown",
   "id": "4bf3df16",
   "metadata": {},
   "source": [
    "# Combining our data into a Pandas Dataframe\n"
   ]
  },
  {
   "cell_type": "code",
   "execution_count": 14,
   "id": "d1c14898",
   "metadata": {
    "ExecuteTime": {
     "end_time": "2021-09-09T13:15:38.282151Z",
     "start_time": "2021-09-09T13:15:38.267152Z"
    }
   },
   "outputs": [],
   "source": [
    "weather = pd.DataFrame({\n",
    "    \"period\": periods,\n",
    "    \"short_desc\": short_descs,\n",
    "    \"temp\": temps,\n",
    "    \"desc\":descs\n",
    "})"
   ]
  },
  {
   "cell_type": "code",
   "execution_count": 15,
   "id": "61dd2b68",
   "metadata": {
    "ExecuteTime": {
     "end_time": "2021-09-09T13:15:40.984324Z",
     "start_time": "2021-09-09T13:15:40.971329Z"
    }
   },
   "outputs": [
    {
     "data": {
      "text/html": [
       "<div>\n",
       "<style scoped>\n",
       "    .dataframe tbody tr th:only-of-type {\n",
       "        vertical-align: middle;\n",
       "    }\n",
       "\n",
       "    .dataframe tbody tr th {\n",
       "        vertical-align: top;\n",
       "    }\n",
       "\n",
       "    .dataframe thead th {\n",
       "        text-align: right;\n",
       "    }\n",
       "</style>\n",
       "<table border=\"1\" class=\"dataframe\">\n",
       "  <thead>\n",
       "    <tr style=\"text-align: right;\">\n",
       "      <th></th>\n",
       "      <th>period</th>\n",
       "      <th>short_desc</th>\n",
       "      <th>temp</th>\n",
       "      <th>desc</th>\n",
       "    </tr>\n",
       "  </thead>\n",
       "  <tbody>\n",
       "    <tr>\n",
       "      <th>0</th>\n",
       "      <td>Today</td>\n",
       "      <td>Mostly Sunnythen MostlySunny andBreezy</td>\n",
       "      <td>High: 68 °F</td>\n",
       "      <td>Today: Mostly sunny, with a high near 68. Bree...</td>\n",
       "    </tr>\n",
       "    <tr>\n",
       "      <th>1</th>\n",
       "      <td>Tonight</td>\n",
       "      <td>ChanceShowers</td>\n",
       "      <td>Low: 57 °F</td>\n",
       "      <td>Tonight: A 30 percent chance of showers and th...</td>\n",
       "    </tr>\n",
       "    <tr>\n",
       "      <th>2</th>\n",
       "      <td>Friday</td>\n",
       "      <td>Partly Sunnythen Sunnyand Breezy</td>\n",
       "      <td>High: 69 °F</td>\n",
       "      <td>Friday: Mostly cloudy, then gradually becoming...</td>\n",
       "    </tr>\n",
       "    <tr>\n",
       "      <th>3</th>\n",
       "      <td>FridayNight</td>\n",
       "      <td>Partly Cloudy</td>\n",
       "      <td>Low: 55 °F</td>\n",
       "      <td>Friday Night: Partly cloudy, with a low around...</td>\n",
       "    </tr>\n",
       "    <tr>\n",
       "      <th>4</th>\n",
       "      <td>Saturday</td>\n",
       "      <td>Mostly Sunny</td>\n",
       "      <td>High: 68 °F</td>\n",
       "      <td>Saturday: Mostly sunny, with a high near 68. W...</td>\n",
       "    </tr>\n",
       "    <tr>\n",
       "      <th>5</th>\n",
       "      <td>SaturdayNight</td>\n",
       "      <td>Partly Cloudy</td>\n",
       "      <td>Low: 56 °F</td>\n",
       "      <td>Saturday Night: Partly cloudy, with a low arou...</td>\n",
       "    </tr>\n",
       "    <tr>\n",
       "      <th>6</th>\n",
       "      <td>Sunday</td>\n",
       "      <td>Mostly Sunny</td>\n",
       "      <td>High: 71 °F</td>\n",
       "      <td>Sunday: Mostly sunny, with a high near 71.</td>\n",
       "    </tr>\n",
       "    <tr>\n",
       "      <th>7</th>\n",
       "      <td>SundayNight</td>\n",
       "      <td>Partly Cloudy</td>\n",
       "      <td>Low: 56 °F</td>\n",
       "      <td>Sunday Night: Partly cloudy, with a low around...</td>\n",
       "    </tr>\n",
       "    <tr>\n",
       "      <th>8</th>\n",
       "      <td>Monday</td>\n",
       "      <td>Mostly Sunny</td>\n",
       "      <td>High: 71 °F</td>\n",
       "      <td>Monday: Mostly sunny, with a high near 71.</td>\n",
       "    </tr>\n",
       "  </tbody>\n",
       "</table>\n",
       "</div>"
      ],
      "text/plain": [
       "          period                              short_desc         temp  \\\n",
       "0          Today  Mostly Sunnythen MostlySunny andBreezy  High: 68 °F   \n",
       "1        Tonight                           ChanceShowers   Low: 57 °F   \n",
       "2         Friday        Partly Sunnythen Sunnyand Breezy  High: 69 °F   \n",
       "3    FridayNight                           Partly Cloudy   Low: 55 °F   \n",
       "4       Saturday                            Mostly Sunny  High: 68 °F   \n",
       "5  SaturdayNight                           Partly Cloudy   Low: 56 °F   \n",
       "6         Sunday                            Mostly Sunny  High: 71 °F   \n",
       "7    SundayNight                           Partly Cloudy   Low: 56 °F   \n",
       "8         Monday                            Mostly Sunny  High: 71 °F   \n",
       "\n",
       "                                                desc  \n",
       "0  Today: Mostly sunny, with a high near 68. Bree...  \n",
       "1  Tonight: A 30 percent chance of showers and th...  \n",
       "2  Friday: Mostly cloudy, then gradually becoming...  \n",
       "3  Friday Night: Partly cloudy, with a low around...  \n",
       "4  Saturday: Mostly sunny, with a high near 68. W...  \n",
       "5  Saturday Night: Partly cloudy, with a low arou...  \n",
       "6         Sunday: Mostly sunny, with a high near 71.  \n",
       "7  Sunday Night: Partly cloudy, with a low around...  \n",
       "8         Monday: Mostly sunny, with a high near 71.  "
      ]
     },
     "execution_count": 15,
     "metadata": {},
     "output_type": "execute_result"
    }
   ],
   "source": [
    "weather\n"
   ]
  }
 ],
 "metadata": {
  "kernelspec": {
   "display_name": "Python 3",
   "language": "python",
   "name": "python3"
  },
  "language_info": {
   "codemirror_mode": {
    "name": "ipython",
    "version": 3
   },
   "file_extension": ".py",
   "mimetype": "text/x-python",
   "name": "python",
   "nbconvert_exporter": "python",
   "pygments_lexer": "ipython3",
   "version": "3.8.8"
  }
 },
 "nbformat": 4,
 "nbformat_minor": 5
}
