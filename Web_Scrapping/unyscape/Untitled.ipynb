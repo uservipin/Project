{
 "cells": [
  {
   "cell_type": "code",
   "execution_count": 1,
   "id": "11d4fd9b",
   "metadata": {
    "ExecuteTime": {
     "end_time": "2021-09-22T20:41:36.978969Z",
     "start_time": "2021-09-22T20:41:35.470628Z"
    }
   },
   "outputs": [
    {
     "name": "stdout",
     "output_type": "stream",
     "text": [
      "Requirement already satisfied: jupyterthemes in c:\\users\\kumar\\appdata\\local\\programs\\python\\python39\\lib\\site-packages (0.20.0)\n",
      "Requirement already satisfied: notebook>=5.6.0 in c:\\users\\kumar\\appdata\\local\\programs\\python\\python39\\lib\\site-packages (from jupyterthemes) (6.4.4)\n",
      "Requirement already satisfied: ipython>=5.4.1 in c:\\users\\kumar\\appdata\\local\\programs\\python\\python39\\lib\\site-packages (from jupyterthemes) (7.27.0)\n",
      "Requirement already satisfied: jupyter-core in c:\\users\\kumar\\appdata\\local\\programs\\python\\python39\\lib\\site-packages (from jupyterthemes) (4.8.1)\n",
      "Requirement already satisfied: matplotlib>=1.4.3 in c:\\users\\kumar\\appdata\\local\\programs\\python\\python39\\lib\\site-packages (from jupyterthemes) (3.4.3)\n",
      "Requirement already satisfied: lesscpy>=0.11.2 in c:\\users\\kumar\\appdata\\local\\programs\\python\\python39\\lib\\site-packages (from jupyterthemes) (0.15.0)\n",
      "Requirement already satisfied: traitlets>=4.2 in c:\\users\\kumar\\appdata\\local\\programs\\python\\python39\\lib\\site-packages (from ipython>=5.4.1->jupyterthemes) (5.1.0)\n",
      "Requirement already satisfied: backcall in c:\\users\\kumar\\appdata\\local\\programs\\python\\python39\\lib\\site-packages (from ipython>=5.4.1->jupyterthemes) (0.2.0)\n",
      "Requirement already satisfied: pickleshare in c:\\users\\kumar\\appdata\\local\\programs\\python\\python39\\lib\\site-packages (from ipython>=5.4.1->jupyterthemes) (0.7.5)\n",
      "Requirement already satisfied: prompt-toolkit!=3.0.0,!=3.0.1,<3.1.0,>=2.0.0 in c:\\users\\kumar\\appdata\\local\\programs\\python\\python39\\lib\\site-packages (from ipython>=5.4.1->jupyterthemes) (3.0.20)\n",
      "Requirement already satisfied: pygments in c:\\users\\kumar\\appdata\\local\\programs\\python\\python39\\lib\\site-packages (from ipython>=5.4.1->jupyterthemes) (2.10.0)\n",
      "Requirement already satisfied: matplotlib-inline in c:\\users\\kumar\\appdata\\local\\programs\\python\\python39\\lib\\site-packages (from ipython>=5.4.1->jupyterthemes) (0.1.3)\n",
      "Requirement already satisfied: colorama in c:\\users\\kumar\\appdata\\local\\programs\\python\\python39\\lib\\site-packages (from ipython>=5.4.1->jupyterthemes) (0.4.4)\n",
      "Requirement already satisfied: setuptools>=18.5 in c:\\users\\kumar\\appdata\\local\\programs\\python\\python39\\lib\\site-packages (from ipython>=5.4.1->jupyterthemes) (56.0.0)\n",
      "Requirement already satisfied: decorator in c:\\users\\kumar\\appdata\\local\\programs\\python\\python39\\lib\\site-packages (from ipython>=5.4.1->jupyterthemes) (5.1.0)\n",
      "Requirement already satisfied: jedi>=0.16 in c:\\users\\kumar\\appdata\\local\\programs\\python\\python39\\lib\\site-packages (from ipython>=5.4.1->jupyterthemes) (0.18.0)\n",
      "Requirement already satisfied: parso<0.9.0,>=0.8.0 in c:\\users\\kumar\\appdata\\local\\programs\\python\\python39\\lib\\site-packages (from jedi>=0.16->ipython>=5.4.1->jupyterthemes) (0.8.2)\n",
      "Requirement already satisfied: ply in c:\\users\\kumar\\appdata\\local\\programs\\python\\python39\\lib\\site-packages (from lesscpy>=0.11.2->jupyterthemes) (3.11)\n",
      "Requirement already satisfied: six in c:\\users\\kumar\\appdata\\local\\programs\\python\\python39\\lib\\site-packages (from lesscpy>=0.11.2->jupyterthemes) (1.16.0)\n",
      "Requirement already satisfied: kiwisolver>=1.0.1 in c:\\users\\kumar\\appdata\\local\\programs\\python\\python39\\lib\\site-packages (from matplotlib>=1.4.3->jupyterthemes) (1.3.1)\n",
      "Requirement already satisfied: python-dateutil>=2.7 in c:\\users\\kumar\\appdata\\local\\programs\\python\\python39\\lib\\site-packages (from matplotlib>=1.4.3->jupyterthemes) (2.8.2)\n",
      "Requirement already satisfied: pyparsing>=2.2.1 in c:\\users\\kumar\\appdata\\local\\programs\\python\\python39\\lib\\site-packages (from matplotlib>=1.4.3->jupyterthemes) (2.4.7)\n",
      "Requirement already satisfied: cycler>=0.10 in c:\\users\\kumar\\appdata\\local\\programs\\python\\python39\\lib\\site-packages (from matplotlib>=1.4.3->jupyterthemes) (0.10.0)\n",
      "Requirement already satisfied: numpy>=1.16 in c:\\users\\kumar\\appdata\\local\\programs\\python\\python39\\lib\\site-packages (from matplotlib>=1.4.3->jupyterthemes) (1.21.2)\n",
      "Requirement already satisfied: pillow>=6.2.0 in c:\\users\\kumar\\appdata\\local\\programs\\python\\python39\\lib\\site-packages (from matplotlib>=1.4.3->jupyterthemes) (8.3.1)\n",
      "Requirement already satisfied: jinja2 in c:\\users\\kumar\\appdata\\local\\programs\\python\\python39\\lib\\site-packages (from notebook>=5.6.0->jupyterthemes) (3.0.1)\n",
      "Requirement already satisfied: nbconvert in c:\\users\\kumar\\appdata\\local\\programs\\python\\python39\\lib\\site-packages (from notebook>=5.6.0->jupyterthemes) (6.1.0)\n",
      "Requirement already satisfied: terminado>=0.8.3 in c:\\users\\kumar\\appdata\\local\\programs\\python\\python39\\lib\\site-packages (from notebook>=5.6.0->jupyterthemes) (0.12.1)\n",
      "Requirement already satisfied: tornado>=6.1 in c:\\users\\kumar\\appdata\\local\\programs\\python\\python39\\lib\\site-packages (from notebook>=5.6.0->jupyterthemes) (6.1)\n",
      "Requirement already satisfied: pyzmq>=17 in c:\\users\\kumar\\appdata\\local\\programs\\python\\python39\\lib\\site-packages (from notebook>=5.6.0->jupyterthemes) (22.3.0)\n",
      "Requirement already satisfied: ipykernel in c:\\users\\kumar\\appdata\\local\\programs\\python\\python39\\lib\\site-packages (from notebook>=5.6.0->jupyterthemes) (6.4.1)\n",
      "Requirement already satisfied: ipython-genutils in c:\\users\\kumar\\appdata\\local\\programs\\python\\python39\\lib\\site-packages (from notebook>=5.6.0->jupyterthemes) (0.2.0)\n",
      "Requirement already satisfied: Send2Trash>=1.5.0 in c:\\users\\kumar\\appdata\\local\\programs\\python\\python39\\lib\\site-packages (from notebook>=5.6.0->jupyterthemes) (1.8.0)\n",
      "Requirement already satisfied: argon2-cffi in c:\\users\\kumar\\appdata\\local\\programs\\python\\python39\\lib\\site-packages (from notebook>=5.6.0->jupyterthemes) (21.1.0)\n",
      "Requirement already satisfied: prometheus-client in c:\\users\\kumar\\appdata\\local\\programs\\python\\python39\\lib\\site-packages (from notebook>=5.6.0->jupyterthemes) (0.11.0)\n",
      "Requirement already satisfied: nbformat in c:\\users\\kumar\\appdata\\local\\programs\\python\\python39\\lib\\site-packages (from notebook>=5.6.0->jupyterthemes) (5.1.3)\n",
      "Requirement already satisfied: jupyter-client>=5.3.4 in c:\\users\\kumar\\appdata\\local\\programs\\python\\python39\\lib\\site-packages (from notebook>=5.6.0->jupyterthemes) (7.0.3)\n",
      "Requirement already satisfied: nest-asyncio>=1.5 in c:\\users\\kumar\\appdata\\local\\programs\\python\\python39\\lib\\site-packages (from jupyter-client>=5.3.4->notebook>=5.6.0->jupyterthemes) (1.5.1)\n",
      "Requirement already satisfied: entrypoints in c:\\users\\kumar\\appdata\\local\\programs\\python\\python39\\lib\\site-packages (from jupyter-client>=5.3.4->notebook>=5.6.0->jupyterthemes) (0.3)\n",
      "Requirement already satisfied: pywin32>=1.0 in c:\\users\\kumar\\appdata\\local\\programs\\python\\python39\\lib\\site-packages (from jupyter-core->jupyterthemes) (301)\n",
      "Requirement already satisfied: wcwidth in c:\\users\\kumar\\appdata\\local\\programs\\python\\python39\\lib\\site-packages (from prompt-toolkit!=3.0.0,!=3.0.1,<3.1.0,>=2.0.0->ipython>=5.4.1->jupyterthemes) (0.2.5)\n",
      "Requirement already satisfied: pywinpty>=1.1.0 in c:\\users\\kumar\\appdata\\local\\programs\\python\\python39\\lib\\site-packages (from terminado>=0.8.3->notebook>=5.6.0->jupyterthemes) (1.1.4)\n",
      "Requirement already satisfied: cffi>=1.0.0 in c:\\users\\kumar\\appdata\\local\\programs\\python\\python39\\lib\\site-packages (from argon2-cffi->notebook>=5.6.0->jupyterthemes) (1.14.6)\n",
      "Requirement already satisfied: pycparser in c:\\users\\kumar\\appdata\\local\\programs\\python\\python39\\lib\\site-packages (from cffi>=1.0.0->argon2-cffi->notebook>=5.6.0->jupyterthemes) (2.20)\n",
      "Requirement already satisfied: debugpy<2.0,>=1.0.0 in c:\\users\\kumar\\appdata\\local\\programs\\python\\python39\\lib\\site-packages (from ipykernel->notebook>=5.6.0->jupyterthemes) (1.4.3)\n",
      "Requirement already satisfied: MarkupSafe>=2.0 in c:\\users\\kumar\\appdata\\local\\programs\\python\\python39\\lib\\site-packages (from jinja2->notebook>=5.6.0->jupyterthemes) (2.0.1)\n",
      "Requirement already satisfied: nbclient<0.6.0,>=0.5.0 in c:\\users\\kumar\\appdata\\local\\programs\\python\\python39\\lib\\site-packages (from nbconvert->notebook>=5.6.0->jupyterthemes) (0.5.4)\n",
      "Requirement already satisfied: bleach in c:\\users\\kumar\\appdata\\local\\programs\\python\\python39\\lib\\site-packages (from nbconvert->notebook>=5.6.0->jupyterthemes) (4.1.0)\n",
      "Requirement already satisfied: defusedxml in c:\\users\\kumar\\appdata\\local\\programs\\python\\python39\\lib\\site-packages (from nbconvert->notebook>=5.6.0->jupyterthemes) (0.7.1)\n",
      "Requirement already satisfied: jupyterlab-pygments in c:\\users\\kumar\\appdata\\local\\programs\\python\\python39\\lib\\site-packages (from nbconvert->notebook>=5.6.0->jupyterthemes) (0.1.2)\n",
      "Requirement already satisfied: pandocfilters>=1.4.1 in c:\\users\\kumar\\appdata\\local\\programs\\python\\python39\\lib\\site-packages (from nbconvert->notebook>=5.6.0->jupyterthemes) (1.5.0)\n",
      "Requirement already satisfied: mistune<2,>=0.8.1 in c:\\users\\kumar\\appdata\\local\\programs\\python\\python39\\lib\\site-packages (from nbconvert->notebook>=5.6.0->jupyterthemes) (0.8.4)\n",
      "Requirement already satisfied: testpath in c:\\users\\kumar\\appdata\\local\\programs\\python\\python39\\lib\\site-packages (from nbconvert->notebook>=5.6.0->jupyterthemes) (0.5.0)\n",
      "Requirement already satisfied: jsonschema!=2.5.0,>=2.4 in c:\\users\\kumar\\appdata\\local\\programs\\python\\python39\\lib\\site-packages (from nbformat->notebook>=5.6.0->jupyterthemes) (3.2.0)\n",
      "Requirement already satisfied: attrs>=17.4.0 in c:\\users\\kumar\\appdata\\local\\programs\\python\\python39\\lib\\site-packages (from jsonschema!=2.5.0,>=2.4->nbformat->notebook>=5.6.0->jupyterthemes) (21.2.0)\n",
      "Requirement already satisfied: pyrsistent>=0.14.0 in c:\\users\\kumar\\appdata\\local\\programs\\python\\python39\\lib\\site-packages (from jsonschema!=2.5.0,>=2.4->nbformat->notebook>=5.6.0->jupyterthemes) (0.18.0)\n",
      "Requirement already satisfied: packaging in c:\\users\\kumar\\appdata\\local\\programs\\python\\python39\\lib\\site-packages (from bleach->nbconvert->notebook>=5.6.0->jupyterthemes) (21.0)\n",
      "Requirement already satisfied: webencodings in c:\\users\\kumar\\appdata\\local\\programs\\python\\python39\\lib\\site-packages (from bleach->nbconvert->notebook>=5.6.0->jupyterthemes) (0.5.1)\n"
     ]
    }
   ],
   "source": [
    "! pip install jupyterthemes"
   ]
  },
  {
   "cell_type": "code",
   "execution_count": 4,
   "id": "66851a26",
   "metadata": {
    "ExecuteTime": {
     "end_time": "2021-09-22T20:43:18.550990Z",
     "start_time": "2021-09-22T20:43:18.131167Z"
    },
    "scrolled": true
   },
   "outputs": [
    {
     "name": "stdout",
     "output_type": "stream",
     "text": [
      "Available Themes: \n",
      "   chesterish\n",
      "   grade3\n",
      "   gruvboxd\n",
      "   gruvboxl\n",
      "   monokai\n",
      "   oceans16\n",
      "   onedork\n",
      "   solarizedd\n",
      "   solarizedl\n"
     ]
    }
   ],
   "source": [
    "! jt -l"
   ]
  },
  {
   "cell_type": "code",
   "execution_count": 31,
   "id": "fa4d2a9b",
   "metadata": {
    "ExecuteTime": {
     "end_time": "2021-09-22T21:24:42.580763Z",
     "start_time": "2021-09-22T21:24:40.568093Z"
    }
   },
   "outputs": [],
   "source": [
    "! jt -t grade3"
   ]
  },
  {
   "cell_type": "code",
   "execution_count": 9,
   "id": "3a49cb8f",
   "metadata": {
    "ExecuteTime": {
     "end_time": "2021-09-22T21:13:14.404874Z",
     "start_time": "2021-09-22T21:13:14.395872Z"
    }
   },
   "outputs": [
    {
     "name": "stdout",
     "output_type": "stream",
     "text": [
      "hello\n"
     ]
    }
   ],
   "source": [
    "print('hello')"
   ]
  },
  {
   "cell_type": "code",
   "execution_count": null,
   "id": "4217a0c2",
   "metadata": {},
   "outputs": [],
   "source": []
  },
  {
   "cell_type": "code",
   "execution_count": 36,
   "id": "c7f865f5",
   "metadata": {
    "ExecuteTime": {
     "end_time": "2021-09-22T21:27:22.263439Z",
     "start_time": "2021-09-22T21:27:21.369177Z"
    },
    "scrolled": false
   },
   "outputs": [
    {
     "name": "stdout",
     "output_type": "stream",
     "text": [
      "Reset css and font defaults in:\n",
      "C:\\Users\\kumar\\.jupyter\\custom &\n",
      "C:\\Users\\kumar\\AppData\\Roaming\\jupyter\\nbextensions\n"
     ]
    }
   ],
   "source": [
    "! jt -r"
   ]
  },
  {
   "cell_type": "code",
   "execution_count": 17,
   "id": "2fe3e473",
   "metadata": {
    "ExecuteTime": {
     "end_time": "2021-09-22T21:18:11.305023Z",
     "start_time": "2021-09-22T21:18:11.288716Z"
    }
   },
   "outputs": [],
   "source": [
    "from jupyterthemes import jtplot"
   ]
  }
 ],
 "metadata": {
  "kernelspec": {
   "display_name": "Python 3 (ipykernel)",
   "language": "python",
   "name": "python3"
  },
  "language_info": {
   "codemirror_mode": {
    "name": "ipython",
    "version": 3
   },
   "file_extension": ".py",
   "mimetype": "text/x-python",
   "name": "python",
   "nbconvert_exporter": "python",
   "pygments_lexer": "ipython3",
   "version": "3.9.5"
  }
 },
 "nbformat": 4,
 "nbformat_minor": 5
}
