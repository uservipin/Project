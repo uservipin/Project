{
 "cells": [
  {
   "cell_type": "code",
   "execution_count": 2,
   "id": "5f5ed961",
   "metadata": {
    "ExecuteTime": {
     "end_time": "2021-09-11T06:21:19.957787Z",
     "start_time": "2021-09-11T06:21:18.665982Z"
    }
   },
   "outputs": [],
   "source": [
    "# !pip install pandas requests BeautifulSoup4 \n",
    "\n",
    "import pandas as pd\n",
    "import requests\n",
    "from bs4 import BeautifulSoup as bs"
   ]
  },
  {
   "cell_type": "code",
   "execution_count": 3,
   "id": "81156f7b",
   "metadata": {
    "ExecuteTime": {
     "end_time": "2021-09-11T06:21:21.295384Z",
     "start_time": "2021-09-11T06:21:21.273479Z"
    }
   },
   "outputs": [],
   "source": [
    "# Define the base URL\n",
    "base_url = \"https://www.consumeraffairs.com/food/dominos.html\""
   ]
  },
  {
   "cell_type": "code",
   "execution_count": 4,
   "id": "cdffaaf0",
   "metadata": {
    "ExecuteTime": {
     "end_time": "2021-09-11T06:21:23.093043Z",
     "start_time": "2021-09-11T06:21:23.076749Z"
    }
   },
   "outputs": [],
   "source": [
    "# Create an empty list to store all review\n",
    "all_pages_reviews =[]"
   ]
  },
  {
   "cell_type": "code",
   "execution_count": 5,
   "id": "8513ae52",
   "metadata": {
    "ExecuteTime": {
     "end_time": "2021-09-11T06:21:25.238055Z",
     "start_time": "2021-09-11T06:21:25.222237Z"
    }
   },
   "outputs": [],
   "source": [
    "# Create a Scraper function\n",
    "def scraper():\n",
    "\t# Web scraping - fetching the reviews from the webpage using BeautifulSoup\n",
    "\n",
    "\t# loop through a range of page numbers \n",
    "\tfor i in range(1,6): # fetching reviews from five pages\n",
    "\n",
    "\t\t# Creating an empty list to store the reviews of each page\n",
    "\t\tpagewise_reviews = [] \n",
    "\n",
    "\t\t# Query parameter\n",
    "\t\tquery_parameter = \"?page=\"+str(i)\n",
    "\n",
    "\t\t# Constructing the URL\n",
    "\t\turl = base_url + query_parameter\n",
    "\t\t\n",
    "\t\t# Send HTTP request to the URL\n",
    "\t\tresponse = requests.get(url)\n",
    "\n",
    "\t\t# Create a soup object and parse the HTML page\n",
    "\t\tsoup = bs(response.content, 'html.parser') \n",
    "\n",
    "\t\t# Finding all the elements having reviews using class attribute\n",
    "\t\trev_div = soup.findAll(\"div\",attrs={\"class\",\"rvw-bd\"}) \n",
    "\n",
    "\t\t# loop through all the divs and append \n",
    "\t\tfor j in range(len(rev_div)):\n",
    "\t\t\t# finding all the p tags to fetch only the review text\n",
    "\t\t\tpagewise_reviews.append(rev_div[j].find(\"p\").text)\n",
    "\n",
    "\t\t# writing all the reviews into a list\n",
    "\t\tfor k in range(len(pagewise_reviews)):\n",
    "\t\t\tall_pages_reviews.append(pagewise_reviews[k]) \n",
    "\n",
    "\t# return the final list of reviews\n",
    "\treturn all_pages_reviews\n"
   ]
  },
  {
   "cell_type": "code",
   "execution_count": 6,
   "id": "b9708256",
   "metadata": {
    "ExecuteTime": {
     "end_time": "2021-09-11T06:21:43.538374Z",
     "start_time": "2021-09-11T06:21:29.320122Z"
    }
   },
   "outputs": [],
   "source": [
    "# Driver code\n",
    "reviews = scraper()\n"
   ]
  },
  {
   "cell_type": "code",
   "execution_count": 7,
   "id": "42304757",
   "metadata": {
    "ExecuteTime": {
     "end_time": "2021-09-11T06:21:43.562560Z",
     "start_time": "2021-09-11T06:21:43.538374Z"
    }
   },
   "outputs": [],
   "source": [
    "# Storing in a dataframe\n",
    "i = range(1, len(reviews)+1)\n",
    "reviews_df = pd.DataFrame({'review':reviews}, index=i)\n",
    "\n"
   ]
  },
  {
   "cell_type": "code",
   "execution_count": 8,
   "id": "ce3cee81",
   "metadata": {
    "ExecuteTime": {
     "end_time": "2021-09-11T06:21:43.610361Z",
     "start_time": "2021-09-11T06:21:43.570619Z"
    }
   },
   "outputs": [],
   "source": [
    "# Writing to a text file\n",
    "reviews_df.to_csv('reviews.txt', sep='\\t')"
   ]
  },
  {
   "cell_type": "code",
   "execution_count": 12,
   "id": "485a543d",
   "metadata": {
    "ExecuteTime": {
     "end_time": "2021-09-11T06:24:05.731995Z",
     "start_time": "2021-09-11T06:24:05.707350Z"
    }
   },
   "outputs": [],
   "source": [
    "scraped_reviews = pd.read_csv('reviews.txt',sep='\\t')"
   ]
  },
  {
   "cell_type": "code",
   "execution_count": 13,
   "id": "d70a5747",
   "metadata": {
    "ExecuteTime": {
     "end_time": "2021-09-11T06:24:13.498373Z",
     "start_time": "2021-09-11T06:24:13.457787Z"
    }
   },
   "outputs": [
    {
     "data": {
      "text/html": [
       "<div>\n",
       "<style scoped>\n",
       "    .dataframe tbody tr th:only-of-type {\n",
       "        vertical-align: middle;\n",
       "    }\n",
       "\n",
       "    .dataframe tbody tr th {\n",
       "        vertical-align: top;\n",
       "    }\n",
       "\n",
       "    .dataframe thead th {\n",
       "        text-align: right;\n",
       "    }\n",
       "</style>\n",
       "<table border=\"1\" class=\"dataframe\">\n",
       "  <thead>\n",
       "    <tr style=\"text-align: right;\">\n",
       "      <th></th>\n",
       "      <th>Unnamed: 0</th>\n",
       "      <th>review</th>\n",
       "    </tr>\n",
       "  </thead>\n",
       "  <tbody>\n",
       "    <tr>\n",
       "      <th>0</th>\n",
       "      <td>1</td>\n",
       "      <td>Review for Dominos del Amo bl, Lakewood CA. Ve...</td>\n",
       "    </tr>\n",
       "    <tr>\n",
       "      <th>1</th>\n",
       "      <td>2</td>\n",
       "      <td>I called because my food was cold and not done...</td>\n",
       "    </tr>\n",
       "    <tr>\n",
       "      <th>2</th>\n",
       "      <td>3</td>\n",
       "      <td>OMG, hands down the best pizza I've had from D...</td>\n",
       "    </tr>\n",
       "    <tr>\n",
       "      <th>3</th>\n",
       "      <td>4</td>\n",
       "      <td>This Domino's has the best pizza delivery and ...</td>\n",
       "    </tr>\n",
       "    <tr>\n",
       "      <th>4</th>\n",
       "      <td>5</td>\n",
       "      <td>My Sweetheart &amp; I are very pleased with the qu...</td>\n",
       "    </tr>\n",
       "    <tr>\n",
       "      <th>...</th>\n",
       "      <td>...</td>\n",
       "      <td>...</td>\n",
       "    </tr>\n",
       "    <tr>\n",
       "      <th>85</th>\n",
       "      <td>86</td>\n",
       "      <td>I place the order at Domino's at 1801 Valley V...</td>\n",
       "    </tr>\n",
       "    <tr>\n",
       "      <th>86</th>\n",
       "      <td>87</td>\n",
       "      <td>After an hour passed and refused cold uncooked...</td>\n",
       "    </tr>\n",
       "    <tr>\n",
       "      <th>87</th>\n",
       "      <td>88</td>\n",
       "      <td>Overpriced \"Nothing Pizza\". Very dry and taste...</td>\n",
       "    </tr>\n",
       "    <tr>\n",
       "      <th>88</th>\n",
       "      <td>89</td>\n",
       "      <td>I placed an order online on 10-25-20, the deli...</td>\n",
       "    </tr>\n",
       "    <tr>\n",
       "      <th>89</th>\n",
       "      <td>90</td>\n",
       "      <td>I ordered online for pick up it said would be ...</td>\n",
       "    </tr>\n",
       "  </tbody>\n",
       "</table>\n",
       "<p>90 rows × 2 columns</p>\n",
       "</div>"
      ],
      "text/plain": [
       "    Unnamed: 0                                             review\n",
       "0            1  Review for Dominos del Amo bl, Lakewood CA. Ve...\n",
       "1            2  I called because my food was cold and not done...\n",
       "2            3  OMG, hands down the best pizza I've had from D...\n",
       "3            4  This Domino's has the best pizza delivery and ...\n",
       "4            5  My Sweetheart & I are very pleased with the qu...\n",
       "..         ...                                                ...\n",
       "85          86  I place the order at Domino's at 1801 Valley V...\n",
       "86          87  After an hour passed and refused cold uncooked...\n",
       "87          88  Overpriced \"Nothing Pizza\". Very dry and taste...\n",
       "88          89  I placed an order online on 10-25-20, the deli...\n",
       "89          90  I ordered online for pick up it said would be ...\n",
       "\n",
       "[90 rows x 2 columns]"
      ]
     },
     "execution_count": 13,
     "metadata": {},
     "output_type": "execute_result"
    }
   ],
   "source": [
    "scraped_reviews"
   ]
  }
 ],
 "metadata": {
  "kernelspec": {
   "display_name": "Python 3",
   "language": "python",
   "name": "python3"
  },
  "language_info": {
   "codemirror_mode": {
    "name": "ipython",
    "version": 3
   },
   "file_extension": ".py",
   "mimetype": "text/x-python",
   "name": "python",
   "nbconvert_exporter": "python",
   "pygments_lexer": "ipython3",
   "version": "3.8.8"
  }
 },
 "nbformat": 4,
 "nbformat_minor": 5
}
