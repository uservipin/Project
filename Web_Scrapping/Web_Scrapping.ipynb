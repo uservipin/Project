{
 "cells": [
  {
   "cell_type": "code",
   "execution_count": 1,
   "id": "a59f28e5",
   "metadata": {
    "ExecuteTime": {
     "end_time": "2021-09-09T13:18:09.704721Z",
     "start_time": "2021-09-09T13:18:03.729038Z"
    }
   },
   "outputs": [
    {
     "name": "stdout",
     "output_type": "stream",
     "text": [
      "Requirement already satisfied: beautifulSoup4 in c:\\users\\kumar\\anaconda3\\lib\\site-packages (4.9.3)\n",
      "Requirement already satisfied: soupsieve>1.2 in c:\\users\\kumar\\anaconda3\\lib\\site-packages (from beautifulSoup4) (2.2.1)\n",
      "Note: you may need to restart the kernel to use updated packages.\n"
     ]
    }
   ],
   "source": [
    "pip install beautifulSoup4\n"
   ]
  },
  {
   "cell_type": "code",
   "execution_count": 2,
   "id": "e86d5209",
   "metadata": {
    "ExecuteTime": {
     "end_time": "2021-09-09T13:18:10.840316Z",
     "start_time": "2021-09-09T13:18:09.706717Z"
    },
    "scrolled": true
   },
   "outputs": [],
   "source": [
    "import sys\n",
    "import time\n",
    "from bs4 import BeautifulSoup  \n",
    "import requests\n",
    "import pandas as pd"
   ]
  },
  {
   "cell_type": "code",
   "execution_count": 3,
   "id": "6fd4dbbe",
   "metadata": {
    "ExecuteTime": {
     "end_time": "2021-09-09T13:18:17.546345Z",
     "start_time": "2021-09-09T13:18:15.215090Z"
    }
   },
   "outputs": [],
   "source": [
    "try:\n",
    "    #use browser to extrace data\n",
    "    page =requests.get('https://www.cricbuzz.com')\n",
    "    \n",
    "except Exception as e:\n",
    "    error_type, error_obj, error_info = sys.exc_info()\n",
    "    print('ERROR FOR LINK:' , url)\n",
    "    print(error_type, ' Line', error_info.tb_lineno)\n",
    "    \n",
    "time.sleep(2)\n",
    "\n",
    "soup=  BeautifulSoup(page.text,'html.parser')\n",
    "\n",
    "links= soup.find_all('div',attrs={'class':'cb-nws-intr'})"
   ]
  },
  {
   "cell_type": "code",
   "execution_count": 4,
   "id": "2eee8f19",
   "metadata": {
    "ExecuteTime": {
     "end_time": "2021-09-09T13:18:20.530753Z",
     "start_time": "2021-09-09T13:18:20.504807Z"
    }
   },
   "outputs": [
    {
     "data": {
      "text/plain": [
       "[<div class=\"cb-nws-intr\">The fate of the fifth Test is in limbo with India cancelling their practice session on the eve of the match</div>,\n",
       " <div class=\"cb-nws-intr\">A day before the fifth Test, another member of India's support staff tested positive for Covid-19 in Manchester</div>,\n",
       " <div class=\"cb-nws-intr\">MS Dhoni will be the team mentor for the tournament; Kishan, Chakravarthy and Suryakumar also included</div>,\n",
       " <div class=\"cb-nws-intr\">Ben Stokes was not considered for selection as the allrounder took an indefinite break from the sport in July</div>,\n",
       " <div class=\"cb-nws-intr\">The contrasting fortunes of Joe Root and Virat Kohli in the ongoing series have reminded us of the ebb and flow of greatness as well as the way we crave it, writes Jon Hotten in a new column for Cricbuzz Plus</div>,\n",
       " <div class=\"cb-nws-intr\">Skill and technique play a dominant role but there is also a mental aspect to England's lack of ruthlessness in Test cricket</div>,\n",
       " <div class=\"cb-nws-intr\">England will also host South Africa for a full series and New Zealand for three Tests</div>,\n",
       " <div class=\"cb-nws-intr\">Ever since they formed the government, the Taliban has already indicated that it wouldn't allow women to take part in sport</div>,\n",
       " <div class=\"cb-nws-intr\">Shakib al Hasan will miss the final T20I against New Zealand because of a finger niggle</div>,\n",
       " <div class=\"cb-nws-intr\">The two warm up games are scheduled to be held on October 7 and 9</div>,\n",
       " <div class=\"cb-nws-intr\">Needing 45 runs from 30 balls with seven wickets in hand, Saint Lucia Kings still fell short comfortably by 17 runs</div>,\n",
       " <div class=\"cb-nws-intr\">As India search for the right balance to succeed in England, the Mumbaikar can emerge as the unlikely x-factor, his coaches say</div>,\n",
       " <div class=\"cb-nws-intr\">From being tutored by his father to working on his skills and action, the pace bowler has found a way to tackle different challenges </div>,\n",
       " <div class=\"cb-nws-intr\">Abhinav Mukund's personal account on the struggles of everyday life as a professional player in India</div>,\n",
       " <div class=\"cb-nws-intr\">The 32-year-old is all set to become just the 11th pacer to feature in 100 Tests in the history of the game</div>,\n",
       " <div class=\"cb-nws-intr\">Destined to the fate of a cricketer, Devdutt owes a lot of his success to meticulous planning and forethought from his parents</div>]"
      ]
     },
     "execution_count": 4,
     "metadata": {},
     "output_type": "execute_result"
    }
   ],
   "source": [
    "links"
   ]
  },
  {
   "cell_type": "code",
   "execution_count": 5,
   "id": "a82c85db",
   "metadata": {
    "ExecuteTime": {
     "end_time": "2021-09-09T13:18:23.867366Z",
     "start_time": "2021-09-09T13:18:23.855837Z"
    }
   },
   "outputs": [
    {
     "name": "stdout",
     "output_type": "stream",
     "text": [
      "The fate of the fifth Test is in limbo with India cancelling their practice session on the eve of the match\n",
      "A day before the fifth Test, another member of India's support staff tested positive for Covid-19 in Manchester\n",
      "MS Dhoni will be the team mentor for the tournament; Kishan, Chakravarthy and Suryakumar also included\n",
      "Ben Stokes was not considered for selection as the allrounder took an indefinite break from the sport in July\n",
      "The contrasting fortunes of Joe Root and Virat Kohli in the ongoing series have reminded us of the ebb and flow of greatness as well as the way we crave it, writes Jon Hotten in a new column for Cricbuzz Plus\n",
      "Skill and technique play a dominant role but there is also a mental aspect to England's lack of ruthlessness in Test cricket\n",
      "England will also host South Africa for a full series and New Zealand for three Tests\n",
      "Ever since they formed the government, the Taliban has already indicated that it wouldn't allow women to take part in sport\n",
      "Shakib al Hasan will miss the final T20I against New Zealand because of a finger niggle\n",
      "The two warm up games are scheduled to be held on October 7 and 9\n",
      "Needing 45 runs from 30 balls with seven wickets in hand, Saint Lucia Kings still fell short comfortably by 17 runs\n",
      "As India search for the right balance to succeed in England, the Mumbaikar can emerge as the unlikely x-factor, his coaches say\n",
      "From being tutored by his father to working on his skills and action, the pace bowler has found a way to tackle different challenges \n",
      "Abhinav Mukund's personal account on the struggles of everyday life as a professional player in India\n",
      "The 32-year-old is all set to become just the 11th pacer to feature in 100 Tests in the history of the game\n",
      "Destined to the fate of a cricketer, Devdutt owes a lot of his success to meticulous planning and forethought from his parents\n"
     ]
    }
   ],
   "source": [
    "for i in links:\n",
    "    print(i.text)\n",
    "    print\n",
    "    "
   ]
  },
  {
   "cell_type": "code",
   "execution_count": null,
   "id": "6d088e23",
   "metadata": {},
   "outputs": [],
   "source": []
  },
  {
   "cell_type": "code",
   "execution_count": null,
   "id": "3c3824b3",
   "metadata": {},
   "outputs": [],
   "source": []
  },
  {
   "cell_type": "code",
   "execution_count": null,
   "id": "3cc3b352",
   "metadata": {},
   "outputs": [],
   "source": []
  },
  {
   "cell_type": "code",
   "execution_count": null,
   "id": "357cce6b",
   "metadata": {},
   "outputs": [],
   "source": []
  },
  {
   "cell_type": "code",
   "execution_count": null,
   "id": "7323dd1e",
   "metadata": {},
   "outputs": [],
   "source": []
  },
  {
   "cell_type": "code",
   "execution_count": null,
   "id": "8c3513a5",
   "metadata": {},
   "outputs": [],
   "source": []
  }
 ],
 "metadata": {
  "kernelspec": {
   "display_name": "Python 3",
   "language": "python",
   "name": "python3"
  },
  "language_info": {
   "codemirror_mode": {
    "name": "ipython",
    "version": 3
   },
   "file_extension": ".py",
   "mimetype": "text/x-python",
   "name": "python",
   "nbconvert_exporter": "python",
   "pygments_lexer": "ipython3",
   "version": "3.8.8"
  }
 },
 "nbformat": 4,
 "nbformat_minor": 5
}
