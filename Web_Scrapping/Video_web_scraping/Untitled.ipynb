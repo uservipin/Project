{
 "cells": [
  {
   "cell_type": "code",
   "execution_count": 1,
   "id": "06b47fce",
   "metadata": {
    "ExecuteTime": {
     "end_time": "2021-09-21T09:40:09.531773Z",
     "start_time": "2021-09-21T09:40:09.495137Z"
    },
    "run_control": {
     "marked": false
    },
    "scrolled": true
   },
   "outputs": [],
   "source": [
    "from pytube import YouTube"
   ]
  },
  {
   "cell_type": "code",
   "execution_count": 8,
   "id": "032b32e8",
   "metadata": {
    "ExecuteTime": {
     "end_time": "2021-09-21T10:06:26.641427Z",
     "start_time": "2021-09-21T10:06:26.625880Z"
    }
   },
   "outputs": [],
   "source": [
    "def download_video_from_youtube(url):\n",
    "    my_video = YouTube(url)\n",
    "    \n",
    "\n",
    "#     print(\"*********************Video Title************************\")\n",
    "#     #get Video Title\n",
    "#     print(my_video.title)\n",
    "\n",
    "#     print(\"********************Tumbnail Image***********************\")\n",
    "    #get Thumbnail Image\n",
    "#     print(my_video.thumbnail_url)\n",
    "\n",
    "#     print(\"********************Download video*************************\")\n",
    "#     get all the stream resolution for the \n",
    "#     for stream in my_video.streams:\n",
    "#         print(stream)\n",
    "\n",
    "    #set stream resolution\n",
    "    my_video = my_video.streams.get_highest_resolution()\n",
    "\n",
    "    #or\n",
    "    #my_video = my_video.streams.first()\n",
    "\n",
    "    #Download video\n",
    "    my_video.download('C:\\\\Users\\\\kumar\\\\OneDrive\\\\Programm\\\\Project\\\\Web_Scrapping\\\\Video_web_scraping\\\\downloaded_videos')\n"
   ]
  },
  {
   "cell_type": "code",
   "execution_count": 9,
   "id": "e32928d7",
   "metadata": {
    "ExecuteTime": {
     "end_time": "2021-09-21T10:06:34.339450Z",
     "start_time": "2021-09-21T10:06:29.877178Z"
    }
   },
   "outputs": [],
   "source": [
    "url= \"https://www.youtube.com/watch?v=JqLz0ULmGUY&ab_channel=ElegantThemes\"\n",
    "video_1= download_video_from_youtube(url)"
   ]
  },
  {
   "cell_type": "code",
   "execution_count": null,
   "id": "ad0f01b3",
   "metadata": {},
   "outputs": [],
   "source": []
  }
 ],
 "metadata": {
  "kernelspec": {
   "display_name": "Python 3",
   "language": "python",
   "name": "python3"
  },
  "language_info": {
   "codemirror_mode": {
    "name": "ipython",
    "version": 3
   },
   "file_extension": ".py",
   "mimetype": "text/x-python",
   "name": "python",
   "nbconvert_exporter": "python",
   "pygments_lexer": "ipython3",
   "version": "3.8.8"
  }
 },
 "nbformat": 4,
 "nbformat_minor": 5
}
