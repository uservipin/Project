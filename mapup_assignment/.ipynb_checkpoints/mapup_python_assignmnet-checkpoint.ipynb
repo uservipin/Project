{
 "cells": [
  {
   "cell_type": "code",
   "execution_count": 1,
   "id": "11cda96e",
   "metadata": {
    "ExecuteTime": {
     "end_time": "2021-09-21T14:39:17.623449Z",
     "start_time": "2021-09-21T14:39:16.784089Z"
    }
   },
   "outputs": [],
   "source": [
    "import pandas as pd"
   ]
  },
  {
   "cell_type": "code",
   "execution_count": 2,
   "id": "4c2ecfeb",
   "metadata": {
    "ExecuteTime": {
     "end_time": "2021-09-21T14:39:19.669328Z",
     "start_time": "2021-09-21T14:39:19.066885Z"
    }
   },
   "outputs": [],
   "source": [
    "df1 = pd.read_excel('Python&Excel_Assesment.xlsx', 'DataSet')\n",
    "df2 = pd.read_excel('Python&Excel_Assesment.xlsx', 'DataSet2')"
   ]
  },
  {
   "cell_type": "code",
   "execution_count": 3,
   "id": "abb69e3d",
   "metadata": {},
   "outputs": [
    {
     "data": {
      "text/html": [
       "<div>\n",
       "<style scoped>\n",
       "    .dataframe tbody tr th:only-of-type {\n",
       "        vertical-align: middle;\n",
       "    }\n",
       "\n",
       "    .dataframe tbody tr th {\n",
       "        vertical-align: top;\n",
       "    }\n",
       "\n",
       "    .dataframe thead th {\n",
       "        text-align: right;\n",
       "    }\n",
       "</style>\n",
       "<table border=\"1\" class=\"dataframe\">\n",
       "  <thead>\n",
       "    <tr style=\"text-align: right;\">\n",
       "      <th></th>\n",
       "      <th>name</th>\n",
       "      <th>Id_a</th>\n",
       "      <th>Id_b</th>\n",
       "      <th>startDay</th>\n",
       "      <th>startDay.1</th>\n",
       "      <th>startTime</th>\n",
       "      <th>endDay</th>\n",
       "      <th>endDay.1</th>\n",
       "      <th>endTime</th>\n",
       "      <th>ablePri2AxlesAuto</th>\n",
       "      <th>...</th>\n",
       "      <th>able3Hov2</th>\n",
       "      <th>able3Hov3</th>\n",
       "      <th>able5Hov2</th>\n",
       "      <th>able5Hov3</th>\n",
       "      <th>able4Hov2</th>\n",
       "      <th>able4Hov3</th>\n",
       "      <th>Unnamed: 80</th>\n",
       "      <th>Unnamed: 81</th>\n",
       "      <th>Unnamed: 82</th>\n",
       "      <th>Unnamed: 83</th>\n",
       "    </tr>\n",
       "  </thead>\n",
       "  <tbody>\n",
       "    <tr>\n",
       "      <th>0</th>\n",
       "      <td>ZUK</td>\n",
       "      <td>30000</td>\n",
       "      <td>-1</td>\n",
       "      <td>Monday</td>\n",
       "      <td>1</td>\n",
       "      <td>05:00:00</td>\n",
       "      <td>Wednesday</td>\n",
       "      <td>3</td>\n",
       "      <td>10:00:00</td>\n",
       "      <td>127.0</td>\n",
       "      <td>...</td>\n",
       "      <td>-1.0</td>\n",
       "      <td>-1</td>\n",
       "      <td>3</td>\n",
       "      <td>3</td>\n",
       "      <td>3</td>\n",
       "      <td>3</td>\n",
       "      <td>NaN</td>\n",
       "      <td>NaN</td>\n",
       "      <td>NaN</td>\n",
       "      <td>NaN</td>\n",
       "    </tr>\n",
       "    <tr>\n",
       "      <th>1</th>\n",
       "      <td>KHJ</td>\n",
       "      <td>30000</td>\n",
       "      <td>-1</td>\n",
       "      <td>Monday</td>\n",
       "      <td>1</td>\n",
       "      <td>10:00:00</td>\n",
       "      <td>Friday</td>\n",
       "      <td>5</td>\n",
       "      <td>15:00:00</td>\n",
       "      <td>119.0</td>\n",
       "      <td>...</td>\n",
       "      <td>-1.0</td>\n",
       "      <td>-1</td>\n",
       "      <td>6</td>\n",
       "      <td>6</td>\n",
       "      <td>6</td>\n",
       "      <td>6</td>\n",
       "      <td>NaN</td>\n",
       "      <td>NaN</td>\n",
       "      <td>NaN</td>\n",
       "      <td>NaN</td>\n",
       "    </tr>\n",
       "    <tr>\n",
       "      <th>2</th>\n",
       "      <td>DFK</td>\n",
       "      <td>30000</td>\n",
       "      <td>-1</td>\n",
       "      <td>Thursday</td>\n",
       "      <td>4</td>\n",
       "      <td>15:00:00</td>\n",
       "      <td>Friday</td>\n",
       "      <td>5</td>\n",
       "      <td>19:00:00</td>\n",
       "      <td>126.0</td>\n",
       "      <td>...</td>\n",
       "      <td>-1.0</td>\n",
       "      <td>-1</td>\n",
       "      <td>3</td>\n",
       "      <td>3</td>\n",
       "      <td>3</td>\n",
       "      <td>3</td>\n",
       "      <td>NaN</td>\n",
       "      <td>NaN</td>\n",
       "      <td>NaN</td>\n",
       "      <td>NaN</td>\n",
       "    </tr>\n",
       "    <tr>\n",
       "      <th>3</th>\n",
       "      <td>DFD</td>\n",
       "      <td>30000</td>\n",
       "      <td>-1</td>\n",
       "      <td>Monday</td>\n",
       "      <td>1</td>\n",
       "      <td>19:00:00</td>\n",
       "      <td>Friday</td>\n",
       "      <td>5</td>\n",
       "      <td>23:59:59</td>\n",
       "      <td>128.0</td>\n",
       "      <td>...</td>\n",
       "      <td>-1.0</td>\n",
       "      <td>-1</td>\n",
       "      <td>6</td>\n",
       "      <td>6</td>\n",
       "      <td>6</td>\n",
       "      <td>6</td>\n",
       "      <td>NaN</td>\n",
       "      <td>NaN</td>\n",
       "      <td>NaN</td>\n",
       "      <td>NaN</td>\n",
       "    </tr>\n",
       "    <tr>\n",
       "      <th>4</th>\n",
       "      <td>MWS</td>\n",
       "      <td>30000</td>\n",
       "      <td>-1</td>\n",
       "      <td>Saturday</td>\n",
       "      <td>6</td>\n",
       "      <td>00:00:00</td>\n",
       "      <td>Sunday</td>\n",
       "      <td>7</td>\n",
       "      <td>23:59:59</td>\n",
       "      <td>115.0</td>\n",
       "      <td>...</td>\n",
       "      <td>NaN</td>\n",
       "      <td>-1</td>\n",
       "      <td>6</td>\n",
       "      <td>6</td>\n",
       "      <td>6</td>\n",
       "      <td>6</td>\n",
       "      <td>NaN</td>\n",
       "      <td>NaN</td>\n",
       "      <td>NaN</td>\n",
       "      <td>NaN</td>\n",
       "    </tr>\n",
       "  </tbody>\n",
       "</table>\n",
       "<p>5 rows × 84 columns</p>\n",
       "</div>"
      ],
      "text/plain": [
       "    name   Id_a  Id_b  startDay  startDay.1 startTime     endDay  endDay.1  \\\n",
       "0    ZUK  30000    -1    Monday           1  05:00:00  Wednesday         3   \n",
       "1  KHJ    30000    -1    Monday           1  10:00:00     Friday         5   \n",
       "2    DFK  30000    -1  Thursday           4  15:00:00     Friday         5   \n",
       "3   DFD   30000    -1    Monday           1  19:00:00     Friday         5   \n",
       "4    MWS  30000    -1  Saturday           6  00:00:00     Sunday         7   \n",
       "\n",
       "    endTime  ablePri2AxlesAuto  ...  able3Hov2  able3Hov3  able5Hov2  \\\n",
       "0  10:00:00              127.0  ...       -1.0         -1          3   \n",
       "1  15:00:00              119.0  ...       -1.0         -1          6   \n",
       "2  19:00:00              126.0  ...       -1.0         -1          3   \n",
       "3  23:59:59              128.0  ...       -1.0         -1          6   \n",
       "4  23:59:59              115.0  ...        NaN         -1          6   \n",
       "\n",
       "   able5Hov3  able4Hov2  able4Hov3  Unnamed: 80  Unnamed: 81  Unnamed: 82  \\\n",
       "0          3          3          3          NaN          NaN          NaN   \n",
       "1          6          6          6          NaN          NaN          NaN   \n",
       "2          3          3          3          NaN          NaN          NaN   \n",
       "3          6          6          6          NaN          NaN          NaN   \n",
       "4          6          6          6          NaN          NaN          NaN   \n",
       "\n",
       "   Unnamed: 83  \n",
       "0          NaN  \n",
       "1          NaN  \n",
       "2          NaN  \n",
       "3          NaN  \n",
       "4          NaN  \n",
       "\n",
       "[5 rows x 84 columns]"
      ]
     },
     "execution_count": 3,
     "metadata": {},
     "output_type": "execute_result"
    }
   ],
   "source": [
    "df1.head()"
   ]
  },
  {
   "cell_type": "code",
   "execution_count": 4,
   "id": "4c7d1b33",
   "metadata": {},
   "outputs": [
    {
     "data": {
      "text/plain": [
       "(25, 84)"
      ]
     },
     "execution_count": 4,
     "metadata": {},
     "output_type": "execute_result"
    }
   ],
   "source": [
    "df1.shape"
   ]
  },
  {
   "cell_type": "code",
   "execution_count": 5,
   "id": "f086a14e",
   "metadata": {},
   "outputs": [
    {
     "data": {
      "text/html": [
       "<div>\n",
       "<style scoped>\n",
       "    .dataframe tbody tr th:only-of-type {\n",
       "        vertical-align: middle;\n",
       "    }\n",
       "\n",
       "    .dataframe tbody tr th {\n",
       "        vertical-align: top;\n",
       "    }\n",
       "\n",
       "    .dataframe thead th {\n",
       "        text-align: right;\n",
       "    }\n",
       "</style>\n",
       "<table border=\"1\" class=\"dataframe\">\n",
       "  <thead>\n",
       "    <tr style=\"text-align: right;\">\n",
       "      <th></th>\n",
       "      <th>name</th>\n",
       "      <th>Id_a</th>\n",
       "      <th>Id_b</th>\n",
       "      <th>startDay</th>\n",
       "      <th>startTime</th>\n",
       "      <th>endDay</th>\n",
       "      <th>endTime</th>\n",
       "      <th>ablePri2AxlesAuto</th>\n",
       "      <th>ablePri4AxlesAuto</th>\n",
       "      <th>ablePri2AxlesDualTire</th>\n",
       "      <th>...</th>\n",
       "      <th>ableSecHov2</th>\n",
       "      <th>ableSecHov3</th>\n",
       "      <th>able2Hov2</th>\n",
       "      <th>able2Hov3</th>\n",
       "      <th>able3Hov2</th>\n",
       "      <th>able3Hov3</th>\n",
       "      <th>able5Hov2</th>\n",
       "      <th>able5Hov3</th>\n",
       "      <th>able4Hov2</th>\n",
       "      <th>able4Hov3</th>\n",
       "    </tr>\n",
       "  </thead>\n",
       "  <tbody>\n",
       "    <tr>\n",
       "      <th>0</th>\n",
       "      <td>COM</td>\n",
       "      <td>30000</td>\n",
       "      <td>30002</td>\n",
       "      <td>Monday</td>\n",
       "      <td>05:00:00</td>\n",
       "      <td>Friday</td>\n",
       "      <td>10:00:00</td>\n",
       "      <td>116</td>\n",
       "      <td>30</td>\n",
       "      <td>15</td>\n",
       "      <td>...</td>\n",
       "      <td>-1</td>\n",
       "      <td>-1</td>\n",
       "      <td>3</td>\n",
       "      <td>3</td>\n",
       "      <td>-1</td>\n",
       "      <td>-1</td>\n",
       "      <td>3</td>\n",
       "      <td>3</td>\n",
       "      <td>3</td>\n",
       "      <td>3</td>\n",
       "    </tr>\n",
       "    <tr>\n",
       "      <th>1</th>\n",
       "      <td>FMG</td>\n",
       "      <td>30000</td>\n",
       "      <td>30002</td>\n",
       "      <td>Monday</td>\n",
       "      <td>19:00:00</td>\n",
       "      <td>Friday</td>\n",
       "      <td>23:59:59</td>\n",
       "      <td>127</td>\n",
       "      <td>32</td>\n",
       "      <td>11</td>\n",
       "      <td>...</td>\n",
       "      <td>-1</td>\n",
       "      <td>-1</td>\n",
       "      <td>6</td>\n",
       "      <td>6</td>\n",
       "      <td>-1</td>\n",
       "      <td>-1</td>\n",
       "      <td>6</td>\n",
       "      <td>6</td>\n",
       "      <td>6</td>\n",
       "      <td>6</td>\n",
       "    </tr>\n",
       "    <tr>\n",
       "      <th>2</th>\n",
       "      <td>PSQ</td>\n",
       "      <td>30000</td>\n",
       "      <td>30002</td>\n",
       "      <td>Monday</td>\n",
       "      <td>19:00:00</td>\n",
       "      <td>Friday</td>\n",
       "      <td>23:59:59</td>\n",
       "      <td>104</td>\n",
       "      <td>23</td>\n",
       "      <td>14</td>\n",
       "      <td>...</td>\n",
       "      <td>-1</td>\n",
       "      <td>-1</td>\n",
       "      <td>6</td>\n",
       "      <td>6</td>\n",
       "      <td>-1</td>\n",
       "      <td>-1</td>\n",
       "      <td>6</td>\n",
       "      <td>6</td>\n",
       "      <td>6</td>\n",
       "      <td>6</td>\n",
       "    </tr>\n",
       "    <tr>\n",
       "      <th>3</th>\n",
       "      <td>XBL</td>\n",
       "      <td>30000</td>\n",
       "      <td>30002</td>\n",
       "      <td>Monday</td>\n",
       "      <td>19:00:00</td>\n",
       "      <td>Friday</td>\n",
       "      <td>23:59:59</td>\n",
       "      <td>128</td>\n",
       "      <td>32</td>\n",
       "      <td>16</td>\n",
       "      <td>...</td>\n",
       "      <td>-1</td>\n",
       "      <td>-1</td>\n",
       "      <td>6</td>\n",
       "      <td>6</td>\n",
       "      <td>-1</td>\n",
       "      <td>-1</td>\n",
       "      <td>6</td>\n",
       "      <td>6</td>\n",
       "      <td>6</td>\n",
       "      <td>6</td>\n",
       "    </tr>\n",
       "    <tr>\n",
       "      <th>4</th>\n",
       "      <td>VRK</td>\n",
       "      <td>30000</td>\n",
       "      <td>30002</td>\n",
       "      <td>Monday</td>\n",
       "      <td>19:00:00</td>\n",
       "      <td>Friday</td>\n",
       "      <td>23:59:59</td>\n",
       "      <td>107</td>\n",
       "      <td>22</td>\n",
       "      <td>12</td>\n",
       "      <td>...</td>\n",
       "      <td>-1</td>\n",
       "      <td>-1</td>\n",
       "      <td>6</td>\n",
       "      <td>6</td>\n",
       "      <td>-1</td>\n",
       "      <td>-1</td>\n",
       "      <td>6</td>\n",
       "      <td>6</td>\n",
       "      <td>6</td>\n",
       "      <td>6</td>\n",
       "    </tr>\n",
       "  </tbody>\n",
       "</table>\n",
       "<p>5 rows × 78 columns</p>\n",
       "</div>"
      ],
      "text/plain": [
       "  name   Id_a   Id_b startDay startTime  endDay   endTime  ablePri2AxlesAuto  \\\n",
       "0  COM  30000  30002   Monday  05:00:00  Friday  10:00:00                116   \n",
       "1  FMG  30000  30002   Monday  19:00:00  Friday  23:59:59                127   \n",
       "2  PSQ  30000  30002   Monday  19:00:00  Friday  23:59:59                104   \n",
       "3  XBL  30000  30002   Monday  19:00:00  Friday  23:59:59                128   \n",
       "4  VRK  30000  30002   Monday  19:00:00  Friday  23:59:59                107   \n",
       "\n",
       "   ablePri4AxlesAuto  ablePri2AxlesDualTire  ...  ableSecHov2  ableSecHov3  \\\n",
       "0                 30                     15  ...           -1           -1   \n",
       "1                 32                     11  ...           -1           -1   \n",
       "2                 23                     14  ...           -1           -1   \n",
       "3                 32                     16  ...           -1           -1   \n",
       "4                 22                     12  ...           -1           -1   \n",
       "\n",
       "   able2Hov2  able2Hov3  able3Hov2  able3Hov3  able5Hov2  able5Hov3  \\\n",
       "0          3          3         -1         -1          3          3   \n",
       "1          6          6         -1         -1          6          6   \n",
       "2          6          6         -1         -1          6          6   \n",
       "3          6          6         -1         -1          6          6   \n",
       "4          6          6         -1         -1          6          6   \n",
       "\n",
       "   able4Hov2  able4Hov3  \n",
       "0          3          3  \n",
       "1          6          6  \n",
       "2          6          6  \n",
       "3          6          6  \n",
       "4          6          6  \n",
       "\n",
       "[5 rows x 78 columns]"
      ]
     },
     "execution_count": 5,
     "metadata": {},
     "output_type": "execute_result"
    }
   ],
   "source": [
    "df2.head()"
   ]
  },
  {
   "cell_type": "code",
   "execution_count": 6,
   "id": "dba78555",
   "metadata": {},
   "outputs": [
    {
     "data": {
      "text/plain": [
       "(23, 78)"
      ]
     },
     "execution_count": 6,
     "metadata": {},
     "output_type": "execute_result"
    }
   ],
   "source": [
    "df2.shape"
   ]
  },
  {
   "cell_type": "code",
   "execution_count": 7,
   "id": "cdce8041",
   "metadata": {},
   "outputs": [],
   "source": [
    "frames = [df1, df2]\n",
    "final = pd.concat(frames)"
   ]
  },
  {
   "cell_type": "code",
   "execution_count": 8,
   "id": "f17afc92",
   "metadata": {},
   "outputs": [
    {
     "data": {
      "text/html": [
       "<div>\n",
       "<style scoped>\n",
       "    .dataframe tbody tr th:only-of-type {\n",
       "        vertical-align: middle;\n",
       "    }\n",
       "\n",
       "    .dataframe tbody tr th {\n",
       "        vertical-align: top;\n",
       "    }\n",
       "\n",
       "    .dataframe thead th {\n",
       "        text-align: right;\n",
       "    }\n",
       "</style>\n",
       "<table border=\"1\" class=\"dataframe\">\n",
       "  <thead>\n",
       "    <tr style=\"text-align: right;\">\n",
       "      <th></th>\n",
       "      <th>name</th>\n",
       "      <th>Id_a</th>\n",
       "      <th>Id_b</th>\n",
       "      <th>startDay</th>\n",
       "      <th>startDay.1</th>\n",
       "      <th>startTime</th>\n",
       "      <th>endDay</th>\n",
       "      <th>endDay.1</th>\n",
       "      <th>endTime</th>\n",
       "      <th>ablePri2AxlesAuto</th>\n",
       "      <th>...</th>\n",
       "      <th>able3Hov3</th>\n",
       "      <th>able5Hov2</th>\n",
       "      <th>able5Hov3</th>\n",
       "      <th>able4Hov2</th>\n",
       "      <th>able4Hov3</th>\n",
       "      <th>Unnamed: 80</th>\n",
       "      <th>Unnamed: 81</th>\n",
       "      <th>Unnamed: 82</th>\n",
       "      <th>Unnamed: 83</th>\n",
       "      <th>able24AxlesAuto</th>\n",
       "    </tr>\n",
       "  </thead>\n",
       "  <tbody>\n",
       "    <tr>\n",
       "      <th>0</th>\n",
       "      <td>ZUK</td>\n",
       "      <td>30000</td>\n",
       "      <td>-1</td>\n",
       "      <td>Monday</td>\n",
       "      <td>1.0</td>\n",
       "      <td>05:00:00</td>\n",
       "      <td>Wednesday</td>\n",
       "      <td>3.0</td>\n",
       "      <td>10:00:00</td>\n",
       "      <td>127.0</td>\n",
       "      <td>...</td>\n",
       "      <td>-1</td>\n",
       "      <td>3</td>\n",
       "      <td>3</td>\n",
       "      <td>3</td>\n",
       "      <td>3</td>\n",
       "      <td>NaN</td>\n",
       "      <td>NaN</td>\n",
       "      <td>NaN</td>\n",
       "      <td>NaN</td>\n",
       "      <td>NaN</td>\n",
       "    </tr>\n",
       "    <tr>\n",
       "      <th>1</th>\n",
       "      <td>KHJ</td>\n",
       "      <td>30000</td>\n",
       "      <td>-1</td>\n",
       "      <td>Monday</td>\n",
       "      <td>1.0</td>\n",
       "      <td>10:00:00</td>\n",
       "      <td>Friday</td>\n",
       "      <td>5.0</td>\n",
       "      <td>15:00:00</td>\n",
       "      <td>119.0</td>\n",
       "      <td>...</td>\n",
       "      <td>-1</td>\n",
       "      <td>6</td>\n",
       "      <td>6</td>\n",
       "      <td>6</td>\n",
       "      <td>6</td>\n",
       "      <td>NaN</td>\n",
       "      <td>NaN</td>\n",
       "      <td>NaN</td>\n",
       "      <td>NaN</td>\n",
       "      <td>NaN</td>\n",
       "    </tr>\n",
       "    <tr>\n",
       "      <th>2</th>\n",
       "      <td>DFK</td>\n",
       "      <td>30000</td>\n",
       "      <td>-1</td>\n",
       "      <td>Thursday</td>\n",
       "      <td>4.0</td>\n",
       "      <td>15:00:00</td>\n",
       "      <td>Friday</td>\n",
       "      <td>5.0</td>\n",
       "      <td>19:00:00</td>\n",
       "      <td>126.0</td>\n",
       "      <td>...</td>\n",
       "      <td>-1</td>\n",
       "      <td>3</td>\n",
       "      <td>3</td>\n",
       "      <td>3</td>\n",
       "      <td>3</td>\n",
       "      <td>NaN</td>\n",
       "      <td>NaN</td>\n",
       "      <td>NaN</td>\n",
       "      <td>NaN</td>\n",
       "      <td>NaN</td>\n",
       "    </tr>\n",
       "    <tr>\n",
       "      <th>3</th>\n",
       "      <td>DFD</td>\n",
       "      <td>30000</td>\n",
       "      <td>-1</td>\n",
       "      <td>Monday</td>\n",
       "      <td>1.0</td>\n",
       "      <td>19:00:00</td>\n",
       "      <td>Friday</td>\n",
       "      <td>5.0</td>\n",
       "      <td>23:59:59</td>\n",
       "      <td>128.0</td>\n",
       "      <td>...</td>\n",
       "      <td>-1</td>\n",
       "      <td>6</td>\n",
       "      <td>6</td>\n",
       "      <td>6</td>\n",
       "      <td>6</td>\n",
       "      <td>NaN</td>\n",
       "      <td>NaN</td>\n",
       "      <td>NaN</td>\n",
       "      <td>NaN</td>\n",
       "      <td>NaN</td>\n",
       "    </tr>\n",
       "    <tr>\n",
       "      <th>4</th>\n",
       "      <td>MWS</td>\n",
       "      <td>30000</td>\n",
       "      <td>-1</td>\n",
       "      <td>Saturday</td>\n",
       "      <td>6.0</td>\n",
       "      <td>00:00:00</td>\n",
       "      <td>Sunday</td>\n",
       "      <td>7.0</td>\n",
       "      <td>23:59:59</td>\n",
       "      <td>115.0</td>\n",
       "      <td>...</td>\n",
       "      <td>-1</td>\n",
       "      <td>6</td>\n",
       "      <td>6</td>\n",
       "      <td>6</td>\n",
       "      <td>6</td>\n",
       "      <td>NaN</td>\n",
       "      <td>NaN</td>\n",
       "      <td>NaN</td>\n",
       "      <td>NaN</td>\n",
       "      <td>NaN</td>\n",
       "    </tr>\n",
       "  </tbody>\n",
       "</table>\n",
       "<p>5 rows × 85 columns</p>\n",
       "</div>"
      ],
      "text/plain": [
       "    name   Id_a  Id_b  startDay  startDay.1 startTime     endDay  endDay.1  \\\n",
       "0    ZUK  30000    -1    Monday         1.0  05:00:00  Wednesday       3.0   \n",
       "1  KHJ    30000    -1    Monday         1.0  10:00:00     Friday       5.0   \n",
       "2    DFK  30000    -1  Thursday         4.0  15:00:00     Friday       5.0   \n",
       "3   DFD   30000    -1    Monday         1.0  19:00:00     Friday       5.0   \n",
       "4    MWS  30000    -1  Saturday         6.0  00:00:00     Sunday       7.0   \n",
       "\n",
       "    endTime  ablePri2AxlesAuto  ...  able3Hov3  able5Hov2  able5Hov3  \\\n",
       "0  10:00:00              127.0  ...         -1          3          3   \n",
       "1  15:00:00              119.0  ...         -1          6          6   \n",
       "2  19:00:00              126.0  ...         -1          3          3   \n",
       "3  23:59:59              128.0  ...         -1          6          6   \n",
       "4  23:59:59              115.0  ...         -1          6          6   \n",
       "\n",
       "   able4Hov2  able4Hov3  Unnamed: 80  Unnamed: 81  Unnamed: 82  Unnamed: 83  \\\n",
       "0          3          3          NaN          NaN          NaN          NaN   \n",
       "1          6          6          NaN          NaN          NaN          NaN   \n",
       "2          3          3          NaN          NaN          NaN          NaN   \n",
       "3          6          6          NaN          NaN          NaN          NaN   \n",
       "4          6          6          NaN          NaN          NaN          NaN   \n",
       "\n",
       "   able24AxlesAuto  \n",
       "0              NaN  \n",
       "1              NaN  \n",
       "2              NaN  \n",
       "3              NaN  \n",
       "4              NaN  \n",
       "\n",
       "[5 rows x 85 columns]"
      ]
     },
     "execution_count": 8,
     "metadata": {},
     "output_type": "execute_result"
    }
   ],
   "source": [
    "final.head()"
   ]
  },
  {
   "cell_type": "code",
   "execution_count": 9,
   "id": "981107df",
   "metadata": {},
   "outputs": [
    {
     "data": {
      "text/plain": [
       "(48, 85)"
      ]
     },
     "execution_count": 9,
     "metadata": {},
     "output_type": "execute_result"
    }
   ],
   "source": [
    "final.shape"
   ]
  },
  {
   "cell_type": "code",
   "execution_count": 10,
   "id": "2571c1cf",
   "metadata": {},
   "outputs": [],
   "source": [
    "final = final[['name','Id_a','Id_b','startDay','startTime','endDay','endTime','ablePri2AxlesAuto','ablePri3AxlesAuto','ablePri4AxlesAuto','ablePri2AxlesDualTire','ablePri2AxlesTaxi','ablePri2AxlesTaxiPool','able23AxlesAuto','able24AxlesAuto']]"
   ]
  },
  {
   "cell_type": "code",
   "execution_count": 11,
   "id": "34ba28ab",
   "metadata": {},
   "outputs": [
    {
     "data": {
      "text/html": [
       "<div>\n",
       "<style scoped>\n",
       "    .dataframe tbody tr th:only-of-type {\n",
       "        vertical-align: middle;\n",
       "    }\n",
       "\n",
       "    .dataframe tbody tr th {\n",
       "        vertical-align: top;\n",
       "    }\n",
       "\n",
       "    .dataframe thead th {\n",
       "        text-align: right;\n",
       "    }\n",
       "</style>\n",
       "<table border=\"1\" class=\"dataframe\">\n",
       "  <thead>\n",
       "    <tr style=\"text-align: right;\">\n",
       "      <th></th>\n",
       "      <th>name</th>\n",
       "      <th>Id_a</th>\n",
       "      <th>Id_b</th>\n",
       "      <th>startDay</th>\n",
       "      <th>startTime</th>\n",
       "      <th>endDay</th>\n",
       "      <th>endTime</th>\n",
       "      <th>ablePri2AxlesAuto</th>\n",
       "      <th>ablePri3AxlesAuto</th>\n",
       "      <th>ablePri4AxlesAuto</th>\n",
       "      <th>ablePri2AxlesDualTire</th>\n",
       "      <th>ablePri2AxlesTaxi</th>\n",
       "      <th>ablePri2AxlesTaxiPool</th>\n",
       "      <th>able23AxlesAuto</th>\n",
       "      <th>able24AxlesAuto</th>\n",
       "    </tr>\n",
       "  </thead>\n",
       "  <tbody>\n",
       "    <tr>\n",
       "      <th>0</th>\n",
       "      <td>ZUK</td>\n",
       "      <td>30000</td>\n",
       "      <td>-1</td>\n",
       "      <td>Monday</td>\n",
       "      <td>05:00:00</td>\n",
       "      <td>Wednesday</td>\n",
       "      <td>10:00:00</td>\n",
       "      <td>127.0</td>\n",
       "      <td>52.0</td>\n",
       "      <td>23</td>\n",
       "      <td>13</td>\n",
       "      <td>7</td>\n",
       "      <td>4</td>\n",
       "      <td>1</td>\n",
       "      <td>NaN</td>\n",
       "    </tr>\n",
       "    <tr>\n",
       "      <th>1</th>\n",
       "      <td>KHJ</td>\n",
       "      <td>30000</td>\n",
       "      <td>-1</td>\n",
       "      <td>Monday</td>\n",
       "      <td>10:00:00</td>\n",
       "      <td>Friday</td>\n",
       "      <td>15:00:00</td>\n",
       "      <td>119.0</td>\n",
       "      <td>59.0</td>\n",
       "      <td>31</td>\n",
       "      <td>13</td>\n",
       "      <td>6</td>\n",
       "      <td>2</td>\n",
       "      <td>1</td>\n",
       "      <td>NaN</td>\n",
       "    </tr>\n",
       "    <tr>\n",
       "      <th>2</th>\n",
       "      <td>DFK</td>\n",
       "      <td>30000</td>\n",
       "      <td>-1</td>\n",
       "      <td>Thursday</td>\n",
       "      <td>15:00:00</td>\n",
       "      <td>Friday</td>\n",
       "      <td>19:00:00</td>\n",
       "      <td>126.0</td>\n",
       "      <td>57.0</td>\n",
       "      <td>31</td>\n",
       "      <td>14</td>\n",
       "      <td>7</td>\n",
       "      <td>2</td>\n",
       "      <td>1</td>\n",
       "      <td>NaN</td>\n",
       "    </tr>\n",
       "    <tr>\n",
       "      <th>3</th>\n",
       "      <td>DFD</td>\n",
       "      <td>30000</td>\n",
       "      <td>-1</td>\n",
       "      <td>Monday</td>\n",
       "      <td>19:00:00</td>\n",
       "      <td>Friday</td>\n",
       "      <td>23:59:59</td>\n",
       "      <td>128.0</td>\n",
       "      <td>64.0</td>\n",
       "      <td>32</td>\n",
       "      <td>16</td>\n",
       "      <td>8</td>\n",
       "      <td>4</td>\n",
       "      <td>2</td>\n",
       "      <td>NaN</td>\n",
       "    </tr>\n",
       "    <tr>\n",
       "      <th>4</th>\n",
       "      <td>MWS</td>\n",
       "      <td>30000</td>\n",
       "      <td>-1</td>\n",
       "      <td>Saturday</td>\n",
       "      <td>00:00:00</td>\n",
       "      <td>Sunday</td>\n",
       "      <td>23:59:59</td>\n",
       "      <td>115.0</td>\n",
       "      <td>63.0</td>\n",
       "      <td>29</td>\n",
       "      <td>12</td>\n",
       "      <td>8</td>\n",
       "      <td>2</td>\n",
       "      <td>2</td>\n",
       "      <td>NaN</td>\n",
       "    </tr>\n",
       "  </tbody>\n",
       "</table>\n",
       "</div>"
      ],
      "text/plain": [
       "    name   Id_a  Id_b  startDay startTime     endDay   endTime  \\\n",
       "0    ZUK  30000    -1    Monday  05:00:00  Wednesday  10:00:00   \n",
       "1  KHJ    30000    -1    Monday  10:00:00     Friday  15:00:00   \n",
       "2    DFK  30000    -1  Thursday  15:00:00     Friday  19:00:00   \n",
       "3   DFD   30000    -1    Monday  19:00:00     Friday  23:59:59   \n",
       "4    MWS  30000    -1  Saturday  00:00:00     Sunday  23:59:59   \n",
       "\n",
       "   ablePri2AxlesAuto  ablePri3AxlesAuto  ablePri4AxlesAuto  \\\n",
       "0              127.0               52.0                 23   \n",
       "1              119.0               59.0                 31   \n",
       "2              126.0               57.0                 31   \n",
       "3              128.0               64.0                 32   \n",
       "4              115.0               63.0                 29   \n",
       "\n",
       "   ablePri2AxlesDualTire  ablePri2AxlesTaxi  ablePri2AxlesTaxiPool  \\\n",
       "0                     13                  7                      4   \n",
       "1                     13                  6                      2   \n",
       "2                     14                  7                      2   \n",
       "3                     16                  8                      4   \n",
       "4                     12                  8                      2   \n",
       "\n",
       "   able23AxlesAuto  able24AxlesAuto  \n",
       "0                1              NaN  \n",
       "1                1              NaN  \n",
       "2                1              NaN  \n",
       "3                2              NaN  \n",
       "4                2              NaN  "
      ]
     },
     "execution_count": 11,
     "metadata": {},
     "output_type": "execute_result"
    }
   ],
   "source": [
    "final.head()"
   ]
  },
  {
   "cell_type": "code",
   "execution_count": 12,
   "id": "5202e0ba",
   "metadata": {},
   "outputs": [
    {
     "data": {
      "text/plain": [
       "(48, 15)"
      ]
     },
     "execution_count": 12,
     "metadata": {},
     "output_type": "execute_result"
    }
   ],
   "source": [
    "final.shape"
   ]
  },
  {
   "cell_type": "code",
   "execution_count": 13,
   "id": "51209557",
   "metadata": {},
   "outputs": [
    {
     "data": {
      "text/plain": [
       "name                      0\n",
       "Id_a                      0\n",
       "Id_b                      0\n",
       "startDay                  0\n",
       "startTime                 0\n",
       "endDay                    0\n",
       "endTime                   0\n",
       "ablePri2AxlesAuto         2\n",
       "ablePri3AxlesAuto        23\n",
       "ablePri4AxlesAuto         0\n",
       "ablePri2AxlesDualTire     0\n",
       "ablePri2AxlesTaxi         0\n",
       "ablePri2AxlesTaxiPool     0\n",
       "able23AxlesAuto           0\n",
       "able24AxlesAuto          25\n",
       "dtype: int64"
      ]
     },
     "execution_count": 13,
     "metadata": {},
     "output_type": "execute_result"
    }
   ],
   "source": [
    "final.isnull().sum()"
   ]
  },
  {
   "cell_type": "code",
   "execution_count": 14,
   "id": "8976691c",
   "metadata": {},
   "outputs": [],
   "source": [
    "final['ablePri2AxlesAuto'].fillna(value=128,inplace=True)"
   ]
  },
  {
   "cell_type": "code",
   "execution_count": 15,
   "id": "fd5f6472",
   "metadata": {},
   "outputs": [
    {
     "data": {
      "text/plain": [
       "name                      0\n",
       "Id_a                      0\n",
       "Id_b                      0\n",
       "startDay                  0\n",
       "startTime                 0\n",
       "endDay                    0\n",
       "endTime                   0\n",
       "ablePri2AxlesAuto         0\n",
       "ablePri3AxlesAuto        23\n",
       "ablePri4AxlesAuto         0\n",
       "ablePri2AxlesDualTire     0\n",
       "ablePri2AxlesTaxi         0\n",
       "ablePri2AxlesTaxiPool     0\n",
       "able23AxlesAuto           0\n",
       "able24AxlesAuto          25\n",
       "dtype: int64"
      ]
     },
     "execution_count": 15,
     "metadata": {},
     "output_type": "execute_result"
    }
   ],
   "source": [
    "final.isnull().sum()"
   ]
  },
  {
   "cell_type": "code",
   "execution_count": 16,
   "id": "97dacd05",
   "metadata": {},
   "outputs": [],
   "source": [
    "final['ablePri3AxlesAuto'].fillna(value=64,inplace=True)"
   ]
  },
  {
   "cell_type": "code",
   "execution_count": 17,
   "id": "051b229d",
   "metadata": {},
   "outputs": [],
   "source": [
    "final['able23AxlesAuto'].fillna(value=64,inplace=True)"
   ]
  },
  {
   "cell_type": "code",
   "execution_count": 18,
   "id": "172fda87",
   "metadata": {},
   "outputs": [],
   "source": [
    "final['able24AxlesAuto'].fillna(value=1,inplace=True)"
   ]
  },
  {
   "cell_type": "code",
   "execution_count": 19,
   "id": "16876f3a",
   "metadata": {},
   "outputs": [],
   "source": [
    "final.sort_values('ablePri2AxlesAuto').drop_duplicates(subset=['Id_a', 'Id_b'], keep='last', inplace = True)"
   ]
  },
  {
   "cell_type": "code",
   "execution_count": 20,
   "id": "e7966568",
   "metadata": {},
   "outputs": [],
   "source": [
    "final.sort_values(['Id_a', 'Id_b'], ascending=[True, True], inplace = True)"
   ]
  },
  {
   "cell_type": "code",
   "execution_count": 21,
   "id": "bb863028",
   "metadata": {},
   "outputs": [],
   "source": [
    "final.to_csv('task_3.csv')"
   ]
  },
  {
   "cell_type": "code",
   "execution_count": 22,
   "id": "25d277cc",
   "metadata": {},
   "outputs": [],
   "source": [
    "df_slice = final[['Id_a','Id_b','ablePri2AxlesAuto','ablePri3AxlesAuto','ablePri4AxlesAuto','ablePri2AxlesDualTire','ablePri2AxlesTaxi','ablePri2AxlesTaxiPool','able23AxlesAuto','able24AxlesAuto']]"
   ]
  },
  {
   "cell_type": "code",
   "execution_count": 23,
   "id": "ae420db1",
   "metadata": {},
   "outputs": [
    {
     "data": {
      "text/plain": [
       "(48, 10)"
      ]
     },
     "execution_count": 23,
     "metadata": {},
     "output_type": "execute_result"
    }
   ],
   "source": [
    "df_slice.shape"
   ]
  },
  {
   "cell_type": "code",
   "execution_count": 24,
   "id": "fa4a45b3",
   "metadata": {},
   "outputs": [
    {
     "data": {
      "text/html": [
       "<div>\n",
       "<style scoped>\n",
       "    .dataframe tbody tr th:only-of-type {\n",
       "        vertical-align: middle;\n",
       "    }\n",
       "\n",
       "    .dataframe tbody tr th {\n",
       "        vertical-align: top;\n",
       "    }\n",
       "\n",
       "    .dataframe thead th {\n",
       "        text-align: right;\n",
       "    }\n",
       "</style>\n",
       "<table border=\"1\" class=\"dataframe\">\n",
       "  <thead>\n",
       "    <tr style=\"text-align: right;\">\n",
       "      <th></th>\n",
       "      <th>Id_a</th>\n",
       "      <th>Id_b</th>\n",
       "      <th>ablePri2AxlesAuto</th>\n",
       "      <th>ablePri3AxlesAuto</th>\n",
       "      <th>ablePri4AxlesAuto</th>\n",
       "      <th>ablePri2AxlesDualTire</th>\n",
       "      <th>ablePri2AxlesTaxi</th>\n",
       "      <th>ablePri2AxlesTaxiPool</th>\n",
       "      <th>able23AxlesAuto</th>\n",
       "      <th>able24AxlesAuto</th>\n",
       "    </tr>\n",
       "  </thead>\n",
       "  <tbody>\n",
       "    <tr>\n",
       "      <th>0</th>\n",
       "      <td>30000</td>\n",
       "      <td>-1</td>\n",
       "      <td>127.0</td>\n",
       "      <td>52.0</td>\n",
       "      <td>23</td>\n",
       "      <td>13</td>\n",
       "      <td>7</td>\n",
       "      <td>4</td>\n",
       "      <td>1</td>\n",
       "      <td>1.0</td>\n",
       "    </tr>\n",
       "    <tr>\n",
       "      <th>1</th>\n",
       "      <td>30000</td>\n",
       "      <td>-1</td>\n",
       "      <td>119.0</td>\n",
       "      <td>59.0</td>\n",
       "      <td>31</td>\n",
       "      <td>13</td>\n",
       "      <td>6</td>\n",
       "      <td>2</td>\n",
       "      <td>1</td>\n",
       "      <td>1.0</td>\n",
       "    </tr>\n",
       "    <tr>\n",
       "      <th>2</th>\n",
       "      <td>30000</td>\n",
       "      <td>-1</td>\n",
       "      <td>126.0</td>\n",
       "      <td>57.0</td>\n",
       "      <td>31</td>\n",
       "      <td>14</td>\n",
       "      <td>7</td>\n",
       "      <td>2</td>\n",
       "      <td>1</td>\n",
       "      <td>1.0</td>\n",
       "    </tr>\n",
       "    <tr>\n",
       "      <th>3</th>\n",
       "      <td>30000</td>\n",
       "      <td>-1</td>\n",
       "      <td>128.0</td>\n",
       "      <td>64.0</td>\n",
       "      <td>32</td>\n",
       "      <td>16</td>\n",
       "      <td>8</td>\n",
       "      <td>4</td>\n",
       "      <td>2</td>\n",
       "      <td>1.0</td>\n",
       "    </tr>\n",
       "    <tr>\n",
       "      <th>4</th>\n",
       "      <td>30000</td>\n",
       "      <td>-1</td>\n",
       "      <td>115.0</td>\n",
       "      <td>63.0</td>\n",
       "      <td>29</td>\n",
       "      <td>12</td>\n",
       "      <td>8</td>\n",
       "      <td>2</td>\n",
       "      <td>2</td>\n",
       "      <td>1.0</td>\n",
       "    </tr>\n",
       "  </tbody>\n",
       "</table>\n",
       "</div>"
      ],
      "text/plain": [
       "    Id_a  Id_b  ablePri2AxlesAuto  ablePri3AxlesAuto  ablePri4AxlesAuto  \\\n",
       "0  30000    -1              127.0               52.0                 23   \n",
       "1  30000    -1              119.0               59.0                 31   \n",
       "2  30000    -1              126.0               57.0                 31   \n",
       "3  30000    -1              128.0               64.0                 32   \n",
       "4  30000    -1              115.0               63.0                 29   \n",
       "\n",
       "   ablePri2AxlesDualTire  ablePri2AxlesTaxi  ablePri2AxlesTaxiPool  \\\n",
       "0                     13                  7                      4   \n",
       "1                     13                  6                      2   \n",
       "2                     14                  7                      2   \n",
       "3                     16                  8                      4   \n",
       "4                     12                  8                      2   \n",
       "\n",
       "   able23AxlesAuto  able24AxlesAuto  \n",
       "0                1              1.0  \n",
       "1                1              1.0  \n",
       "2                1              1.0  \n",
       "3                2              1.0  \n",
       "4                2              1.0  "
      ]
     },
     "execution_count": 24,
     "metadata": {},
     "output_type": "execute_result"
    }
   ],
   "source": [
    "df_slice.head()"
   ]
  },
  {
   "cell_type": "code",
   "execution_count": 25,
   "id": "f91881c0",
   "metadata": {},
   "outputs": [],
   "source": [
    "df10 = df_slice.pivot_table(values = 'ablePri2AxlesAuto', columns = ['Id_b'], index=['Id_a'], aggfunc='count')"
   ]
  },
  {
   "cell_type": "code",
   "execution_count": 26,
   "id": "bcb80fa5",
   "metadata": {},
   "outputs": [],
   "source": [
    "df10['pivoted_col'] = 'ablePri2AxlesAuto'"
   ]
  },
  {
   "cell_type": "code",
   "execution_count": 27,
   "id": "4f9b5eb3",
   "metadata": {},
   "outputs": [],
   "source": [
    "df11 = df_slice.pivot_table(values = 'ablePri3AxlesAuto', columns = ['Id_b'], index=['Id_a'], aggfunc='count')"
   ]
  },
  {
   "cell_type": "code",
   "execution_count": 28,
   "id": "5f44118d",
   "metadata": {},
   "outputs": [],
   "source": [
    "df11['pivoted_col'] = 'ablePri3AxlesAuto'"
   ]
  },
  {
   "cell_type": "code",
   "execution_count": 29,
   "id": "487d6be9",
   "metadata": {},
   "outputs": [],
   "source": [
    "df12 = df_slice.pivot_table(values = 'ablePri4AxlesAuto', columns = ['Id_b'], index=['Id_a'], aggfunc='count')"
   ]
  },
  {
   "cell_type": "code",
   "execution_count": 30,
   "id": "782abddc",
   "metadata": {},
   "outputs": [],
   "source": [
    "df12['pivoted_col'] = 'ablePri4AxlesAuto'"
   ]
  },
  {
   "cell_type": "code",
   "execution_count": 31,
   "id": "42041610",
   "metadata": {},
   "outputs": [],
   "source": [
    "df13 = df_slice.pivot_table(values = 'ablePri2AxlesDualTire', columns = ['Id_b'], index=['Id_a'], aggfunc='count')"
   ]
  },
  {
   "cell_type": "code",
   "execution_count": 32,
   "id": "3cbaefe1",
   "metadata": {},
   "outputs": [],
   "source": [
    "df13['pivoted_col'] = 'ablePri2AxlesDualTire'"
   ]
  },
  {
   "cell_type": "code",
   "execution_count": 33,
   "id": "843056a9",
   "metadata": {},
   "outputs": [],
   "source": [
    "df14 = df_slice.pivot_table(values = 'ablePri2AxlesTaxi', columns = ['Id_b'], index=['Id_a'], aggfunc='count')"
   ]
  },
  {
   "cell_type": "code",
   "execution_count": 34,
   "id": "09fea4e3",
   "metadata": {},
   "outputs": [],
   "source": [
    "df14['pivoted_col'] = 'ablePri2AxlesTaxi'"
   ]
  },
  {
   "cell_type": "code",
   "execution_count": 35,
   "id": "5aa516bb",
   "metadata": {},
   "outputs": [],
   "source": [
    "df15 = df_slice.pivot_table(values = 'ablePri2AxlesTaxiPool', columns = ['Id_b'], index=['Id_a'], aggfunc='count')"
   ]
  },
  {
   "cell_type": "code",
   "execution_count": 36,
   "id": "5ce13f06",
   "metadata": {},
   "outputs": [],
   "source": [
    "df15['pivoted_col'] = 'ablePri2AxlesTaxiPool'"
   ]
  },
  {
   "cell_type": "code",
   "execution_count": 37,
   "id": "ce899468",
   "metadata": {},
   "outputs": [],
   "source": [
    "df16 = df_slice.pivot_table(values = 'able23AxlesAuto', columns = ['Id_b'], index=['Id_a'], aggfunc='count')"
   ]
  },
  {
   "cell_type": "code",
   "execution_count": 38,
   "id": "b6383880",
   "metadata": {},
   "outputs": [],
   "source": [
    "df16['pivoted_col'] = 'able23AxlesAuto'"
   ]
  },
  {
   "cell_type": "code",
   "execution_count": 39,
   "id": "00efae84",
   "metadata": {},
   "outputs": [],
   "source": [
    "df17 = df_slice.pivot_table(values = 'able24AxlesAuto', columns = ['Id_b'], index=['Id_a'], aggfunc='count')"
   ]
  },
  {
   "cell_type": "code",
   "execution_count": 40,
   "id": "4bbce5eb",
   "metadata": {},
   "outputs": [],
   "source": [
    "df17['pivoted_col'] = 'able24AxlesAuto'"
   ]
  },
  {
   "cell_type": "code",
   "execution_count": 41,
   "id": "6a7a15d5",
   "metadata": {},
   "outputs": [],
   "source": [
    "frames2 = [df10,df11,df12,df13,df14,df15,df16,df17]"
   ]
  },
  {
   "cell_type": "code",
   "execution_count": 42,
   "id": "af6f15ad",
   "metadata": {},
   "outputs": [],
   "source": [
    "last = pd.concat(frames2)"
   ]
  },
  {
   "cell_type": "code",
   "execution_count": 43,
   "id": "3aba5089",
   "metadata": {},
   "outputs": [
    {
     "data": {
      "text/html": [
       "<div>\n",
       "<style scoped>\n",
       "    .dataframe tbody tr th:only-of-type {\n",
       "        vertical-align: middle;\n",
       "    }\n",
       "\n",
       "    .dataframe tbody tr th {\n",
       "        vertical-align: top;\n",
       "    }\n",
       "\n",
       "    .dataframe thead th {\n",
       "        text-align: right;\n",
       "    }\n",
       "</style>\n",
       "<table border=\"1\" class=\"dataframe\">\n",
       "  <thead>\n",
       "    <tr style=\"text-align: right;\">\n",
       "      <th>Id_b</th>\n",
       "      <th>-1</th>\n",
       "      <th>30000</th>\n",
       "      <th>30002</th>\n",
       "      <th>30004</th>\n",
       "      <th>pivoted_col</th>\n",
       "    </tr>\n",
       "    <tr>\n",
       "      <th>Id_a</th>\n",
       "      <th></th>\n",
       "      <th></th>\n",
       "      <th></th>\n",
       "      <th></th>\n",
       "      <th></th>\n",
       "    </tr>\n",
       "  </thead>\n",
       "  <tbody>\n",
       "    <tr>\n",
       "      <th>30000</th>\n",
       "      <td>5.0</td>\n",
       "      <td>NaN</td>\n",
       "      <td>5.0</td>\n",
       "      <td>6.0</td>\n",
       "      <td>ablePri2AxlesAuto</td>\n",
       "    </tr>\n",
       "    <tr>\n",
       "      <th>30002</th>\n",
       "      <td>11.0</td>\n",
       "      <td>3.0</td>\n",
       "      <td>NaN</td>\n",
       "      <td>3.0</td>\n",
       "      <td>ablePri2AxlesAuto</td>\n",
       "    </tr>\n",
       "    <tr>\n",
       "      <th>30004</th>\n",
       "      <td>9.0</td>\n",
       "      <td>3.0</td>\n",
       "      <td>3.0</td>\n",
       "      <td>NaN</td>\n",
       "      <td>ablePri2AxlesAuto</td>\n",
       "    </tr>\n",
       "    <tr>\n",
       "      <th>30000</th>\n",
       "      <td>5.0</td>\n",
       "      <td>NaN</td>\n",
       "      <td>5.0</td>\n",
       "      <td>6.0</td>\n",
       "      <td>ablePri3AxlesAuto</td>\n",
       "    </tr>\n",
       "    <tr>\n",
       "      <th>30002</th>\n",
       "      <td>11.0</td>\n",
       "      <td>3.0</td>\n",
       "      <td>NaN</td>\n",
       "      <td>3.0</td>\n",
       "      <td>ablePri3AxlesAuto</td>\n",
       "    </tr>\n",
       "  </tbody>\n",
       "</table>\n",
       "</div>"
      ],
      "text/plain": [
       "Id_b     -1  30000  30002  30004        pivoted_col\n",
       "Id_a                                               \n",
       "30000   5.0    NaN    5.0    6.0  ablePri2AxlesAuto\n",
       "30002  11.0    3.0    NaN    3.0  ablePri2AxlesAuto\n",
       "30004   9.0    3.0    3.0    NaN  ablePri2AxlesAuto\n",
       "30000   5.0    NaN    5.0    6.0  ablePri3AxlesAuto\n",
       "30002  11.0    3.0    NaN    3.0  ablePri3AxlesAuto"
      ]
     },
     "execution_count": 43,
     "metadata": {},
     "output_type": "execute_result"
    }
   ],
   "source": [
    "last.head()"
   ]
  },
  {
   "cell_type": "code",
   "execution_count": 44,
   "id": "f174455d",
   "metadata": {},
   "outputs": [
    {
     "data": {
      "text/plain": [
       "(21, 5)"
      ]
     },
     "execution_count": 44,
     "metadata": {},
     "output_type": "execute_result"
    }
   ],
   "source": [
    "last.shape"
   ]
  },
  {
   "cell_type": "code",
   "execution_count": 45,
   "id": "249e20e3",
   "metadata": {},
   "outputs": [],
   "source": [
    "last.to_csv('task_4.csv')"
   ]
  },
  {
   "cell_type": "code",
   "execution_count": null,
   "id": "9051c111",
   "metadata": {},
   "outputs": [],
   "source": []
  }
 ],
 "metadata": {
  "kernelspec": {
   "display_name": "Python 3",
   "language": "python",
   "name": "python3"
  },
  "language_info": {
   "codemirror_mode": {
    "name": "ipython",
    "version": 3
   },
   "file_extension": ".py",
   "mimetype": "text/x-python",
   "name": "python",
   "nbconvert_exporter": "python",
   "pygments_lexer": "ipython3",
   "version": "3.8.8"
  }
 },
 "nbformat": 4,
 "nbformat_minor": 5
}
