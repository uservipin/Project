{
 "cells": [
  {
   "cell_type": "markdown",
   "id": "ba2588f0-56b6-4dcc-a1f3-c80dfb85afc4",
   "metadata": {},
   "source": [
    "pip install PyPDF2\n",
    "pip install tika"
   ]
  },
  {
   "cell_type": "code",
   "execution_count": 39,
   "id": "3556ea4a-6bbe-4d2a-a408-5a91198ab185",
   "metadata": {
    "ExecuteTime": {
     "end_time": "2021-09-29T22:27:14.481149Z",
     "start_time": "2021-09-29T22:27:14.466594Z"
    }
   },
   "outputs": [],
   "source": [
    "import re\n",
    "from tika import parser\n",
    "import pandas as pd \n",
    "from collections import namedtuple\n"
   ]
  },
  {
   "cell_type": "code",
   "execution_count": 40,
   "id": "77338b16",
   "metadata": {
    "ExecuteTime": {
     "end_time": "2021-09-29T22:27:14.953255Z",
     "start_time": "2021-09-29T22:27:14.936643Z"
    }
   },
   "outputs": [],
   "source": [
    "############################################################"
   ]
  },
  {
   "cell_type": "code",
   "execution_count": 3,
   "id": "7acd8f0f-1fb0-4d25-a823-af41acca2dac",
   "metadata": {
    "ExecuteTime": {
     "end_time": "2021-09-29T22:20:13.409876Z",
     "start_time": "2021-09-29T22:20:13.337270Z"
    },
    "run_control": {
     "marked": false
    }
   },
   "outputs": [],
   "source": [
    "raw = parser.from_file('Sample Pdf to excel.pdf')\n",
    "# print(raw['content'])"
   ]
  },
  {
   "cell_type": "code",
   "execution_count": 4,
   "id": "8c66b4d6-1fa9-4d82-b8b6-d88d49a36e8d",
   "metadata": {
    "ExecuteTime": {
     "end_time": "2021-09-29T22:20:13.864452Z",
     "start_time": "2021-09-29T22:20:13.849865Z"
    }
   },
   "outputs": [
    {
     "data": {
      "text/plain": [
       "str"
      ]
     },
     "execution_count": 4,
     "metadata": {},
     "output_type": "execute_result"
    }
   ],
   "source": [
    "type(raw['content'])"
   ]
  },
  {
   "cell_type": "code",
   "execution_count": 5,
   "id": "c8f8b5e4-1000-4149-9897-de8aaefd1e74",
   "metadata": {
    "ExecuteTime": {
     "end_time": "2021-09-29T22:20:14.857260Z",
     "start_time": "2021-09-29T22:20:14.842707Z"
    }
   },
   "outputs": [
    {
     "data": {
      "text/plain": [
       "list"
      ]
     },
     "execution_count": 5,
     "metadata": {},
     "output_type": "execute_result"
    }
   ],
   "source": [
    "data = raw['content'].split('\\n\\n')\n",
    "type(data)"
   ]
  },
  {
   "cell_type": "code",
   "execution_count": 6,
   "id": "abb85088-d2cb-40ab-a10a-27e9aad865a0",
   "metadata": {
    "ExecuteTime": {
     "end_time": "2021-09-29T22:20:15.604745Z",
     "start_time": "2021-09-29T22:20:15.591737Z"
    },
    "code_folding": []
   },
   "outputs": [],
   "source": [
    "count = 0\n",
    "for i in data:\n",
    "    count +=1\n",
    "#     print('.............................................................................',count)\n",
    "#     print(i)"
   ]
  },
  {
   "cell_type": "code",
   "execution_count": 7,
   "id": "6a21fa69-0afb-4ed5-8ece-7db031952ca5",
   "metadata": {
    "ExecuteTime": {
     "end_time": "2021-09-29T22:20:17.344990Z",
     "start_time": "2021-09-29T22:20:17.338982Z"
    }
   },
   "outputs": [],
   "source": [
    "raw_data = data[14:]"
   ]
  },
  {
   "cell_type": "code",
   "execution_count": 8,
   "id": "95a92032-04d7-416e-861d-7805b3b1636a",
   "metadata": {
    "ExecuteTime": {
     "end_time": "2021-09-29T22:20:17.993411Z",
     "start_time": "2021-09-29T22:20:17.978870Z"
    }
   },
   "outputs": [
    {
     "data": {
      "text/plain": [
       "[['ABBEVILLE',\n",
       "  'Henry County Day Treatment ',\n",
       "  '403 Dothan Road ',\n",
       "  'Abbeville, Alabama 36310 ',\n",
       "  'Phone: (800) 951-4357 ',\n",
       "  'Intake: (334) 951-4357 ',\n",
       "  '① MH SUMH ② PHDT TELE ③ CMHC ④ BMT CBT CFT GT IDD ',\n",
       "  'IPT PTM ⑤ CIT WI ⑥ PVTN ⑧ CLF CMHG CSBG MC MD MI OSF PI ',\n",
       "  'SCJJ SEF SF SI SMHA SWFS VAF ⑨ SS ⑩ TAY SE GL VET ADM MF CJ ',\n",
       "  'CO HV TRMA ALZ PTSD SED SMI ⑪ ACT CM COOT DEC ES FPSY ',\n",
       "  'ICM IMR PRS SH SPS VRS ⑬ SMPD ⑭ ADLT CHLD SNR YAD ⑯ AH'],\n",
       " ['SpectraCare ',\n",
       "  'Henry County Clinic ',\n",
       "  '219 Dothan Road ',\n",
       "  'Abbeville, Alabama 36310 ',\n",
       "  'Phone: (334) 585-5331 ',\n",
       "  'Intake: (800) 951-4357 ',\n",
       "  '① MH SUMH ② OP TELE ③ CMHC ④ BMT CBT CFT GT IDD IPT ',\n",
       "  'PTM TT ⑤ CIT WI ⑥ PVTN ⑧ CLF CMHG CSBG MC MD MI OSF PI ',\n",
       "  'SCJJ SEF SF SMHA SWFS ⑨ SS ⑩ TAY SE GL VET ADM MF CJ CO HV ',\n",
       "  'TRMA ALZ PTSD SED SMI ⑪ ACT CM COOT ES FPSY ICM IMR PRS ',\n",
       "  'SH SPS ⑬ SMPD ⑭ ADLT CHLD SNR YAD ⑯ AH'],\n",
       " ['ANDALUSIA',\n",
       "  'South Central Alabama CMHC ',\n",
       "  '19815 Bay Branch Road ',\n",
       "  'Andalusia, Alabama 36420 ',\n",
       "  'Phone: (334) 222-2523 ',\n",
       "  'Intake: (877) 530-0002 ',\n",
       "  '① MH SUMH ② OP TELE ③ CMHC ④ AT CBT CFT GT IPT PTM ⑤ ',\n",
       "  'CIT WI ⑥ PVTN ⑧ MC MD MI PI SF SMHA SWFS ⑨ PA SS ⑩ SE SED ',\n",
       "  'SMI ⑪ CM COOT FPSY SH SPS ⑬ SMPD ⑭ ADLT CHLD SNR YAD ',\n",
       "  '⑯ AH'],\n",
       " ['South Central Alabama MH Center ',\n",
       "  'Montezuma Complex ',\n",
       "  '205 Academy Drive ',\n",
       "  'Andalusia, Alabama 36420 ',\n",
       "  'Phone: (334) 428-5050 ',\n",
       "  '① MH SUMH ② PHDT RES TELE ③ RTCA ④ AT BMT CBT CFT GT ',\n",
       "  'IPT PTM ⑥ PVTN ⑧ MC MD PI SF SMHA ⑨ PA SS ⑩ SMI ⑪ CM ',\n",
       "  'COOT FPSY IPC SPS ⑬ SMPD ⑭ ADLT SNR YAD ⑯ AH'],\n",
       " ['ANNISTON',\n",
       "  'Highland Health Systems ',\n",
       "  '331 East 8th Street ',\n",
       "  'Anniston, Alabama 36207 ',\n",
       "  'Phone: (256) 236-3403 ',\n",
       "  '① MH SUMH ② OP PHDT TELE ③ CMHC ④ AT BMT CBT DBT GT ',\n",
       "  'IPT PTM TT ⑤ CIT WI ⑥ SMA ⑧ MD MI OSF PI SF SI SMHA SWFS ',\n",
       "  '⑩ SE GL VET ADM MF CJ CO TRMA PTSD SED SMI ⑪ CM COOT ',\n",
       "  'DEC FPSY ICM IPC PRS SH SPS ⑫ NSC ⑬ SMPD ⑭ ADLT CHLD SNR ',\n",
       "  'YAD ⑯ AH'],\n",
       " ['Northeast Alabama Regional Med Ctr ',\n",
       "  'Behavioral Health ',\n",
       "  '400 East 10th Street ',\n",
       "  'Anniston, Alabama 36207 ',\n",
       "  'Phone: (256) 235-5121 ',\n",
       "  'Intakes: (256) 235-5564 (256) 235-5482 ',\n",
       "  '① MH SUMH ② HI ③ PSY ④ AT CBT CFT DBT ECT GT IPT PTM ⑥ ',\n",
       "  'PVTN ⑧ MC MD MI PI SF SI SMHA VAF ⑪ CM ES SPS ⑫ NRT NSC ',\n",
       "  'STU TCC ⑬ SMON ⑭ ADLT SNR YAD ⑯ AH'],\n",
       " ['ASHFORD',\n",
       "  'Cottonwood Specialized Care CRF ',\n",
       "  '(DMHF) ',\n",
       "  '1539 Sweetie Smith Road ',\n",
       "  'Ashford, Alabama 36312 ',\n",
       "  'Phone: (334) 691-8030 ',\n",
       "  '① MH SUMH ② RES TELE ③ RTCA ④ BMT CBT CFT GT IDD IPT ',\n",
       "  'TT ⑤ CIT ⑥ PVTN ⑧ CLF CMHG CSBG MC MD MI PI SCJJ SEF SF SI ',\n",
       "  'SMHA SWFS ⑨ SS ⑩ SE GL VET ADM MF CJ CO HV PTSD SMI ⑪ ',\n",
       "  'COOT FPSY ICM PRS SPS ⑬ SMPD ⑭ ADLT SNR YAD ⑯ AH'],\n",
       " ['ATHENS',\n",
       "  'MHCNCA Inc ',\n",
       "  'Athens Limestone Counseling Center ',\n",
       "  '1307 East Elm Street ',\n",
       "  'Athens, Alabama 35611 ',\n",
       "  'Phone: (256) 232-3661 ',\n",
       "  'Intakes: (256) 355-5904 (800) 365-6008 ',\n",
       "  '① MH SUMH ② OP PHDT TELE ③ CMHC ④ CBT CFT GT IPT PTM ',\n",
       "  '⑤ CIT ⑥ PVTN ⑧ CLF CMHG CSBG MC MD OSF PI SF SI SMHA ⑩ ',\n",
       "  'CO SED SMI ⑪ CM COOT FPSY PRS ⑫ STU ⑬ SMPD ⑭ ADLT ',\n",
       "  'CHLD SNR YAD ⑯ AH'],\n",
       " ['ATTALLA',\n",
       "  'Cherokee Etowah Dekalb CMHC ',\n",
       "  '425 5th Avenue NW ',\n",
       "  'Attalla, Alabama 35954 ',\n",
       "  'Phone: (256) 492-7800 ',\n",
       "  '① MH SUMH ② OP PHDT TELE ③ CMHC ④ AT BMT CBT CFT ',\n",
       "  'DBT GT IPT PTM TT ⑤ CIT WI ⑥ PVTN ⑦ FQHC ⑧ CMHG MC ',\n",
       "  'MD MI PI SCJJ SEF SF SI SMHA SWFS ⑩ CO SED SMI ⑪ ACT CM ',\n",
       "  'COOT ES FPSY ICM SH SPS PEER ⑫ STU TCC ⑬ SMPD ⑭ ADLT ',\n",
       "  'CHLD SNR YAD ⑯ AH'],\n",
       " ['BAY MINETTE',\n",
       "  'North Baldwin Infirmary ',\n",
       "  'Senior Behavioral Health ',\n",
       "  '1815 Hand Avenue ',\n",
       "  'Bay Minette, Alabama 36507 ',\n",
       "  'Phone: (251) 580-1770 ',\n",
       "  '① MH ② HI TELE ③ PSY ④ AT CBT CFT DBT ECT GT IPT PTM TT ',\n",
       "  '⑥ PVTN ⑧ MC MD MI PI SF VAF ⑩ SE ALZ ⑪ FPSY ⑫ NRT NSC ',\n",
       "  'STU TCC ⑬ SMON ⑭ SNR ⑯ AH'],\n",
       " ['BESSEMER',\n",
       "  'Birmingham VAMC ',\n",
       "  'Bessemer Clinic ',\n",
       "  '975 9th Avenue SW ',\n",
       "  'Suite 400 ',\n",
       "  'Bessemer, Alabama 35022 ',\n",
       "  'Phone: (205) 428-3495 ',\n",
       "  'Intakes: (205) 428-3495x7931 (205) 428-3495x7934 ',\n",
       "  '① MH SUMH ② OP TELE ④ BMT CBT CFT GT IDD IPT PTM TT ⑤ ',\n",
       "  'CIT WI ⑥ VAMC ⑧ MC MI PI VAF ⑩ VET ⑪ CM COOT DEC FPSY ',\n",
       "  'HS ICM IPC LAD SEMP SH SPS PEER ⑫ NRT NSC STU TCC ⑬ SMPD ',\n",
       "  '⑭ ADLT SNR YAD ⑮ VO ⑯ AH'],\n",
       " ['', '']]"
      ]
     },
     "execution_count": 8,
     "metadata": {},
     "output_type": "execute_result"
    }
   ],
   "source": [
    "list_of_strings= [ data.split('\\n')  for data in raw_data]\n",
    "list_of_strings"
   ]
  },
  {
   "cell_type": "code",
   "execution_count": 9,
   "id": "ca47b56a-4e73-4301-b2b7-00e1aca60f26",
   "metadata": {
    "ExecuteTime": {
     "end_time": "2021-09-29T22:20:20.119154Z",
     "start_time": "2021-09-29T22:20:20.112150Z"
    },
    "scrolled": true
   },
   "outputs": [
    {
     "data": {
      "text/plain": [
       "['Henry County Day Treatment ',\n",
       " '403 Dothan Road ',\n",
       " 'Abbeville, Alabama 36310 ',\n",
       " 'Phone: (800) 951-4357 ',\n",
       " 'Intake: (334) 951-4357 ',\n",
       " 'SpectraCare ',\n",
       " 'Henry County Clinic ',\n",
       " '219 Dothan Road ',\n",
       " 'Abbeville, Alabama 36310 ',\n",
       " 'Phone: (334) 585-5331 ',\n",
       " 'Intake: (800) 951-4357 ',\n",
       " 'South Central Alabama CMHC ',\n",
       " '19815 Bay Branch Road ',\n",
       " 'Andalusia, Alabama 36420 ',\n",
       " 'Phone: (334) 222-2523 ',\n",
       " 'Intake: (877) 530-0002 ',\n",
       " 'South Central Alabama MH Center ',\n",
       " 'Montezuma Complex ',\n",
       " '205 Academy Drive ',\n",
       " 'Andalusia, Alabama 36420 ',\n",
       " 'Phone: (334) 428-5050 ',\n",
       " 'Highland Health Systems ',\n",
       " '331 East 8th Street ',\n",
       " 'Anniston, Alabama 36207 ',\n",
       " 'Phone: (256) 236-3403 ',\n",
       " 'Northeast Alabama Regional Med Ctr ',\n",
       " 'Behavioral Health ',\n",
       " '400 East 10th Street ',\n",
       " 'Anniston, Alabama 36207 ',\n",
       " 'Phone: (256) 235-5121 ',\n",
       " 'Intakes: (256) 235-5564 (256) 235-5482 ',\n",
       " 'Cottonwood Specialized Care CRF ',\n",
       " '1539 Sweetie Smith Road ',\n",
       " 'Ashford, Alabama 36312 ',\n",
       " 'Phone: (334) 691-8030 ',\n",
       " 'MHCNCA Inc ',\n",
       " 'Athens Limestone Counseling Center ',\n",
       " '1307 East Elm Street ',\n",
       " 'Athens, Alabama 35611 ',\n",
       " 'Phone: (256) 232-3661 ',\n",
       " 'Intakes: (256) 355-5904 (800) 365-6008 ',\n",
       " 'Cherokee Etowah Dekalb CMHC ',\n",
       " '425 5th Avenue NW ',\n",
       " 'Attalla, Alabama 35954 ',\n",
       " 'Phone: (256) 492-7800 ',\n",
       " 'North Baldwin Infirmary ',\n",
       " 'Senior Behavioral Health ',\n",
       " '1815 Hand Avenue ',\n",
       " 'Bay Minette, Alabama 36507 ',\n",
       " 'Phone: (251) 580-1770 ',\n",
       " 'Birmingham VAMC ',\n",
       " 'Bessemer Clinic ',\n",
       " '975 9th Avenue SW ',\n",
       " 'Suite 400 ',\n",
       " 'Bessemer, Alabama 35022 ',\n",
       " 'Phone: (205) 428-3495 ',\n",
       " 'Intakes: (205) 428-3495x7931 (205) 428-3495x7934 ',\n",
       " '',\n",
       " '']"
      ]
     },
     "execution_count": 9,
     "metadata": {},
     "output_type": "execute_result"
    }
   ],
   "source": [
    "[strings  for list_of_string in list_of_strings for strings in list_of_string if not strings.isupper()  ]"
   ]
  },
  {
   "cell_type": "code",
   "execution_count": 10,
   "id": "557f462a",
   "metadata": {
    "ExecuteTime": {
     "end_time": "2021-09-29T22:20:22.579768Z",
     "start_time": "2021-09-29T22:20:22.560503Z"
    },
    "scrolled": true
   },
   "outputs": [
    {
     "data": {
      "text/plain": [
       "[['Henry County Day Treatment ',\n",
       "  '403 Dothan Road ',\n",
       "  'Abbeville, Alabama 36310 ',\n",
       "  'Phone: (800) 951-4357 ',\n",
       "  'Intake: (334) 951-4357 '],\n",
       " ['SpectraCare ',\n",
       "  'Henry County Clinic ',\n",
       "  '219 Dothan Road ',\n",
       "  'Abbeville, Alabama 36310 ',\n",
       "  'Phone: (334) 585-5331 ',\n",
       "  'Intake: (800) 951-4357 '],\n",
       " ['South Central Alabama CMHC ',\n",
       "  '19815 Bay Branch Road ',\n",
       "  'Andalusia, Alabama 36420 ',\n",
       "  'Phone: (334) 222-2523 ',\n",
       "  'Intake: (877) 530-0002 '],\n",
       " ['South Central Alabama MH Center ',\n",
       "  'Montezuma Complex ',\n",
       "  '205 Academy Drive ',\n",
       "  'Andalusia, Alabama 36420 ',\n",
       "  'Phone: (334) 428-5050 '],\n",
       " ['Highland Health Systems ',\n",
       "  '331 East 8th Street ',\n",
       "  'Anniston, Alabama 36207 ',\n",
       "  'Phone: (256) 236-3403 '],\n",
       " ['Northeast Alabama Regional Med Ctr ',\n",
       "  'Behavioral Health ',\n",
       "  '400 East 10th Street ',\n",
       "  'Anniston, Alabama 36207 ',\n",
       "  'Phone: (256) 235-5121 ',\n",
       "  'Intakes: (256) 235-5564 (256) 235-5482 '],\n",
       " ['Cottonwood Specialized Care CRF ',\n",
       "  '1539 Sweetie Smith Road ',\n",
       "  'Ashford, Alabama 36312 ',\n",
       "  'Phone: (334) 691-8030 '],\n",
       " ['MHCNCA Inc ',\n",
       "  'Athens Limestone Counseling Center ',\n",
       "  '1307 East Elm Street ',\n",
       "  'Athens, Alabama 35611 ',\n",
       "  'Phone: (256) 232-3661 ',\n",
       "  'Intakes: (256) 355-5904 (800) 365-6008 '],\n",
       " ['Cherokee Etowah Dekalb CMHC ',\n",
       "  '425 5th Avenue NW ',\n",
       "  'Attalla, Alabama 35954 ',\n",
       "  'Phone: (256) 492-7800 '],\n",
       " ['North Baldwin Infirmary ',\n",
       "  'Senior Behavioral Health ',\n",
       "  '1815 Hand Avenue ',\n",
       "  'Bay Minette, Alabama 36507 ',\n",
       "  'Phone: (251) 580-1770 '],\n",
       " ['Birmingham VAMC ',\n",
       "  'Bessemer Clinic ',\n",
       "  '975 9th Avenue SW ',\n",
       "  'Suite 400 ',\n",
       "  'Bessemer, Alabama 35022 ',\n",
       "  'Phone: (205) 428-3495 ',\n",
       "  'Intakes: (205) 428-3495x7931 (205) 428-3495x7934 ']]"
      ]
     },
     "execution_count": 10,
     "metadata": {},
     "output_type": "execute_result"
    }
   ],
   "source": [
    "filtered_list_of_details= [[strings for strings in list_of_string if not strings.isupper()] for list_of_string in list_of_strings]\n",
    "filtered_list_of_details.pop()\n",
    "filtered_list_of_details"
   ]
  },
  {
   "cell_type": "code",
   "execution_count": 11,
   "id": "b711028b",
   "metadata": {
    "ExecuteTime": {
     "end_time": "2021-09-29T22:20:26.287946Z",
     "start_time": "2021-09-29T22:20:26.283957Z"
    }
   },
   "outputs": [
    {
     "data": {
      "text/plain": [
       "[5, 6, 5, 5, 4, 6, 4, 6, 4, 5, 7]"
      ]
     },
     "execution_count": 11,
     "metadata": {},
     "output_type": "execute_result"
    }
   ],
   "source": [
    "[ len(data) for data in filtered_list_of_details ]"
   ]
  },
  {
   "cell_type": "code",
   "execution_count": null,
   "id": "079d9068",
   "metadata": {
    "ExecuteTime": {
     "end_time": "2021-09-29T21:10:34.008138Z",
     "start_time": "2021-09-29T21:10:33.999136Z"
    },
    "code_folding": [
     0
    ],
    "run_control": {
     "marked": false
    },
    "scrolled": false
   },
   "outputs": [],
   "source": [
    "# li = [ [ 'a','b', 'c','d','e'],[ 'a','b', 'c','d','e','f'], [ 'a','b', 'c','d','e','f','g']]\n",
    "\n",
    "for  list_of_details in filtered_list_of_details:\n",
    "    if len(list_of_details)>5:\n",
    "        print('indide 5 if statement')\n",
    "        list_of_details[0]=list_of_details[0]+list_of_details[1]\n",
    "        print(list_of_details[0])\n",
    "        list_of_details.pop(1)\n",
    "        print(list_of_details)\n",
    "        \n",
    "    if len(list_of_details)>=6:\n",
    "        print('indide 6 if statement')\n",
    "        list_of_details[1]=list_of_details[1]+list_of_details[2]\n",
    "        print(list_of_details[0])\n",
    "        list_of_details.pop(2)\n",
    "        print(list_of_details)\n",
    "        \n",
    "    \n"
   ]
  },
  {
   "cell_type": "code",
   "execution_count": 12,
   "id": "cb94fe95",
   "metadata": {
    "ExecuteTime": {
     "end_time": "2021-09-29T22:20:43.315259Z",
     "start_time": "2021-09-29T22:20:43.299712Z"
    },
    "run_control": {
     "marked": false
    },
    "scrolled": false
   },
   "outputs": [
    {
     "name": "stdout",
     "output_type": "stream",
     "text": [
      "len =5\n",
      "Henry County Day Treatment \n",
      "403 Dothan Road \n",
      "Abbeville, Alabama 36310 \n",
      "SpectraCare Henry County Clinic \n",
      "['SpectraCare Henry County Clinic ', '219 Dothan Road ', 'Abbeville, Alabama 36310 ', 'Phone: (334) 585-5331 ', 'Intake: (800) 951-4357 ']\n",
      "len =5\n",
      "SpectraCare Henry County Clinic \n",
      "219 Dothan Road \n",
      "Abbeville, Alabama 36310 \n",
      "len =5\n",
      "South Central Alabama CMHC \n",
      "19815 Bay Branch Road \n",
      "Andalusia, Alabama 36420 \n",
      "len =5\n",
      "South Central Alabama MH Center \n",
      "Montezuma Complex \n",
      "205 Academy Drive \n",
      "...............\n",
      "Pop in len =5 South Central Alabama MH Center Montezuma Complex \n",
      "['South Central Alabama MH Center Montezuma Complex ', '205 Academy Drive ', 'Andalusia, Alabama 36420 ', 'Phone: (334) 428-5050 ']\n",
      "Northeast Alabama Regional Med Ctr Behavioral Health \n",
      "['Northeast Alabama Regional Med Ctr Behavioral Health ', '400 East 10th Street ', 'Anniston, Alabama 36207 ', 'Phone: (256) 235-5121 ', 'Intakes: (256) 235-5564 (256) 235-5482 ']\n",
      "len =5\n",
      "Northeast Alabama Regional Med Ctr Behavioral Health \n",
      "400 East 10th Street \n",
      "Anniston, Alabama 36207 \n",
      "MHCNCA Inc Athens Limestone Counseling Center \n",
      "['MHCNCA Inc Athens Limestone Counseling Center ', '1307 East Elm Street ', 'Athens, Alabama 35611 ', 'Phone: (256) 232-3661 ', 'Intakes: (256) 355-5904 (800) 365-6008 ']\n",
      "len =5\n",
      "MHCNCA Inc Athens Limestone Counseling Center \n",
      "1307 East Elm Street \n",
      "Athens, Alabama 35611 \n",
      "len =5\n",
      "North Baldwin Infirmary \n",
      "Senior Behavioral Health \n",
      "1815 Hand Avenue \n",
      "...............\n",
      "Pop in len =5 North Baldwin Infirmary Senior Behavioral Health \n",
      "['North Baldwin Infirmary Senior Behavioral Health ', '1815 Hand Avenue ', 'Bay Minette, Alabama 36507 ', 'Phone: (251) 580-1770 ']\n",
      "Birmingham VAMC Bessemer Clinic \n",
      "['Birmingham VAMC Bessemer Clinic ', '975 9th Avenue SW ', 'Suite 400 ', 'Bessemer, Alabama 35022 ', 'Phone: (205) 428-3495 ', 'Intakes: (205) 428-3495x7931 (205) 428-3495x7934 ']\n",
      "Birmingham VAMC Bessemer Clinic \n",
      "['Birmingham VAMC Bessemer Clinic ', '975 9th Avenue SW Suite 400 ', 'Bessemer, Alabama 35022 ', 'Phone: (205) 428-3495 ', 'Intakes: (205) 428-3495x7931 (205) 428-3495x7934 ']\n",
      "len =5\n",
      "Birmingham VAMC Bessemer Clinic \n",
      "975 9th Avenue SW Suite 400 \n",
      "Bessemer, Alabama 35022 \n"
     ]
    }
   ],
   "source": [
    "li = [ [ 'a','23b', 'c','d','e'],[ 'a','b', '34 c','d','e'],[ 'a','b', '34 c','d','e','f'], [ 'a','b', '34 c','d','e','f','g']]\n",
    "\n",
    "pattern  = re.compile('^[0-9]{3,6}')\n",
    "\n",
    "\n",
    "for  list_of_details in filtered_list_of_details:\n",
    "    if len(list_of_details)>5:\n",
    "#         print('indide 5 if statement')\n",
    "        list_of_details[0]=list_of_details[0]+list_of_details[1]\n",
    "        print(list_of_details[0])\n",
    "        list_of_details.pop(1)\n",
    "        print(list_of_details)\n",
    "\n",
    "    if len(list_of_details)>=6:\n",
    "#         print('indide 6 if statement')\n",
    "        list_of_details[1]=list_of_details[1]+list_of_details[2]\n",
    "        print(list_of_details[0])\n",
    "        list_of_details.pop(2)\n",
    "        print(list_of_details)\n",
    "        \n",
    "        \n",
    "    if len(list_of_details) == 5:\n",
    "        print(\"len =5\")\n",
    "#         print(list_of_details[1])\n",
    "        \n",
    "#         for char in list_of_details[1]:\n",
    "#             if char.isdigit():\n",
    "#                 print('Y')\n",
    "        print(list_of_details[0])\n",
    "        print(list_of_details[1])\n",
    "        print(list_of_details[2])\n",
    "        \n",
    "        match = pattern.findall(list_of_details[2])\n",
    "        \n",
    "        if match:\n",
    "            print(\"...............\")\n",
    "            list_of_details[0]=list_of_details[0]+list_of_details[1]\n",
    "            print('Pop in len =5',list_of_details[0])\n",
    "            list_of_details.pop(1)\n",
    "            print(list_of_details)\n",
    "            \n",
    "        \n",
    "        \n",
    "        "
   ]
  },
  {
   "cell_type": "code",
   "execution_count": 14,
   "id": "f18a529f",
   "metadata": {
    "ExecuteTime": {
     "end_time": "2021-09-29T22:21:28.449255Z",
     "start_time": "2021-09-29T22:21:28.435707Z"
    },
    "scrolled": false
   },
   "outputs": [
    {
     "data": {
      "text/plain": [
       "[['Henry County Day Treatment ',\n",
       "  '403 Dothan Road ',\n",
       "  'Abbeville, Alabama 36310 ',\n",
       "  'Phone: (800) 951-4357 ',\n",
       "  'Intake: (334) 951-4357 '],\n",
       " ['SpectraCare Henry County Clinic ',\n",
       "  '219 Dothan Road ',\n",
       "  'Abbeville, Alabama 36310 ',\n",
       "  'Phone: (334) 585-5331 ',\n",
       "  'Intake: (800) 951-4357 '],\n",
       " ['South Central Alabama CMHC ',\n",
       "  '19815 Bay Branch Road ',\n",
       "  'Andalusia, Alabama 36420 ',\n",
       "  'Phone: (334) 222-2523 ',\n",
       "  'Intake: (877) 530-0002 '],\n",
       " ['South Central Alabama MH Center Montezuma Complex ',\n",
       "  '205 Academy Drive ',\n",
       "  'Andalusia, Alabama 36420 ',\n",
       "  'Phone: (334) 428-5050 '],\n",
       " ['Highland Health Systems ',\n",
       "  '331 East 8th Street ',\n",
       "  'Anniston, Alabama 36207 ',\n",
       "  'Phone: (256) 236-3403 '],\n",
       " ['Northeast Alabama Regional Med Ctr Behavioral Health ',\n",
       "  '400 East 10th Street ',\n",
       "  'Anniston, Alabama 36207 ',\n",
       "  'Phone: (256) 235-5121 ',\n",
       "  'Intakes: (256) 235-5564 (256) 235-5482 '],\n",
       " ['Cottonwood Specialized Care CRF ',\n",
       "  '1539 Sweetie Smith Road ',\n",
       "  'Ashford, Alabama 36312 ',\n",
       "  'Phone: (334) 691-8030 '],\n",
       " ['MHCNCA Inc Athens Limestone Counseling Center ',\n",
       "  '1307 East Elm Street ',\n",
       "  'Athens, Alabama 35611 ',\n",
       "  'Phone: (256) 232-3661 ',\n",
       "  'Intakes: (256) 355-5904 (800) 365-6008 '],\n",
       " ['Cherokee Etowah Dekalb CMHC ',\n",
       "  '425 5th Avenue NW ',\n",
       "  'Attalla, Alabama 35954 ',\n",
       "  'Phone: (256) 492-7800 '],\n",
       " ['North Baldwin Infirmary Senior Behavioral Health ',\n",
       "  '1815 Hand Avenue ',\n",
       "  'Bay Minette, Alabama 36507 ',\n",
       "  'Phone: (251) 580-1770 '],\n",
       " ['Birmingham VAMC Bessemer Clinic ',\n",
       "  '975 9th Avenue SW Suite 400 ',\n",
       "  'Bessemer, Alabama 35022 ',\n",
       "  'Phone: (205) 428-3495 ',\n",
       "  'Intakes: (205) 428-3495x7931 (205) 428-3495x7934 ']]"
      ]
     },
     "execution_count": 14,
     "metadata": {},
     "output_type": "execute_result"
    }
   ],
   "source": [
    "filtered_list_of_details"
   ]
  },
  {
   "cell_type": "code",
   "execution_count": 13,
   "id": "02c3e4bf",
   "metadata": {
    "ExecuteTime": {
     "end_time": "2021-09-29T22:21:11.628008Z",
     "start_time": "2021-09-29T22:21:11.623000Z"
    }
   },
   "outputs": [
    {
     "data": {
      "text/plain": [
       "[5, 5, 5, 4, 4, 5, 4, 5, 4, 4, 5]"
      ]
     },
     "execution_count": 13,
     "metadata": {},
     "output_type": "execute_result"
    }
   ],
   "source": [
    "[ len(data) for data in filtered_list_of_details ]"
   ]
  },
  {
   "cell_type": "code",
   "execution_count": 16,
   "id": "5166271f",
   "metadata": {
    "ExecuteTime": {
     "end_time": "2021-09-29T22:22:23.025978Z",
     "start_time": "2021-09-29T22:22:23.008421Z"
    }
   },
   "outputs": [],
   "source": [
    "for  list_of_details in filtered_list_of_details:\n",
    "    if len(list_of_details)==4:\n",
    "        list_of_details.append('NA')\n",
    "        \n",
    "        "
   ]
  },
  {
   "cell_type": "code",
   "execution_count": 17,
   "id": "13b75424",
   "metadata": {
    "ExecuteTime": {
     "end_time": "2021-09-29T22:22:23.704232Z",
     "start_time": "2021-09-29T22:22:23.687801Z"
    }
   },
   "outputs": [
    {
     "data": {
      "text/plain": [
       "[5, 5, 5, 5, 5, 5, 5, 5, 5, 5, 5]"
      ]
     },
     "execution_count": 17,
     "metadata": {},
     "output_type": "execute_result"
    }
   ],
   "source": [
    "[ len(data) for data in filtered_list_of_details ]"
   ]
  },
  {
   "cell_type": "code",
   "execution_count": 18,
   "id": "7b279fcc",
   "metadata": {
    "ExecuteTime": {
     "end_time": "2021-09-29T22:22:25.636129Z",
     "start_time": "2021-09-29T22:22:25.624106Z"
    }
   },
   "outputs": [],
   "source": [
    "list_of_treatment_center =[]\n",
    "list_of_address= []\n",
    "list_of_city_state_pincode =[]\n",
    "\n",
    "list_of_city=[]\n",
    "list_of_state=[]\n",
    "list_of_pin_code=[]\n",
    "\n",
    "\n",
    "list_of_phone_no =[]\n",
    "list_of_intake= []  \n",
    "\n"
   ]
  },
  {
   "cell_type": "code",
   "execution_count": 19,
   "id": "efa2af6d",
   "metadata": {
    "ExecuteTime": {
     "end_time": "2021-09-29T22:22:28.300882Z",
     "start_time": "2021-09-29T22:22:28.294881Z"
    },
    "scrolled": false
   },
   "outputs": [
    {
     "data": {
      "text/plain": [
       "11"
      ]
     },
     "execution_count": 19,
     "metadata": {},
     "output_type": "execute_result"
    }
   ],
   "source": [
    "len(filtered_list_of_details)"
   ]
  },
  {
   "cell_type": "code",
   "execution_count": 20,
   "id": "cdd1f75c",
   "metadata": {
    "ExecuteTime": {
     "end_time": "2021-09-29T22:22:29.514727Z",
     "start_time": "2021-09-29T22:22:29.506718Z"
    }
   },
   "outputs": [],
   "source": [
    "for list_of_details in filtered_list_of_details:\n",
    "    list_of_treatment_center.append(list_of_details[0])\n",
    "    list_of_address.append(list_of_details[1])\n",
    "    list_of_city_state_pincode.append(list_of_details[2])\n",
    "    list_of_phone_no.append(list_of_details[3])\n",
    "    list_of_intake.append(list_of_details[4])      "
   ]
  },
  {
   "cell_type": "code",
   "execution_count": 21,
   "id": "ae492a8c",
   "metadata": {
    "ExecuteTime": {
     "end_time": "2021-09-29T22:22:32.508148Z",
     "start_time": "2021-09-29T22:22:32.488144Z"
    }
   },
   "outputs": [
    {
     "data": {
      "text/plain": [
       "['Henry County Day Treatment ',\n",
       " 'SpectraCare Henry County Clinic ',\n",
       " 'South Central Alabama CMHC ',\n",
       " 'South Central Alabama MH Center Montezuma Complex ',\n",
       " 'Highland Health Systems ',\n",
       " 'Northeast Alabama Regional Med Ctr Behavioral Health ',\n",
       " 'Cottonwood Specialized Care CRF ',\n",
       " 'MHCNCA Inc Athens Limestone Counseling Center ',\n",
       " 'Cherokee Etowah Dekalb CMHC ',\n",
       " 'North Baldwin Infirmary Senior Behavioral Health ',\n",
       " 'Birmingham VAMC Bessemer Clinic ']"
      ]
     },
     "execution_count": 21,
     "metadata": {},
     "output_type": "execute_result"
    }
   ],
   "source": [
    "list_of_treatment_center"
   ]
  },
  {
   "cell_type": "code",
   "execution_count": 22,
   "id": "251a7bde",
   "metadata": {
    "ExecuteTime": {
     "end_time": "2021-09-29T22:22:34.288769Z",
     "start_time": "2021-09-29T22:22:34.283761Z"
    }
   },
   "outputs": [
    {
     "data": {
      "text/plain": [
       "['403 Dothan Road ',\n",
       " '219 Dothan Road ',\n",
       " '19815 Bay Branch Road ',\n",
       " '205 Academy Drive ',\n",
       " '331 East 8th Street ',\n",
       " '400 East 10th Street ',\n",
       " '1539 Sweetie Smith Road ',\n",
       " '1307 East Elm Street ',\n",
       " '425 5th Avenue NW ',\n",
       " '1815 Hand Avenue ',\n",
       " '975 9th Avenue SW Suite 400 ']"
      ]
     },
     "execution_count": 22,
     "metadata": {},
     "output_type": "execute_result"
    }
   ],
   "source": [
    "list_of_address"
   ]
  },
  {
   "cell_type": "code",
   "execution_count": 23,
   "id": "31aae5af",
   "metadata": {
    "ExecuteTime": {
     "end_time": "2021-09-29T22:22:35.078154Z",
     "start_time": "2021-09-29T22:22:35.062140Z"
    }
   },
   "outputs": [
    {
     "data": {
      "text/plain": [
       "['Abbeville, Alabama 36310 ',\n",
       " 'Abbeville, Alabama 36310 ',\n",
       " 'Andalusia, Alabama 36420 ',\n",
       " 'Andalusia, Alabama 36420 ',\n",
       " 'Anniston, Alabama 36207 ',\n",
       " 'Anniston, Alabama 36207 ',\n",
       " 'Ashford, Alabama 36312 ',\n",
       " 'Athens, Alabama 35611 ',\n",
       " 'Attalla, Alabama 35954 ',\n",
       " 'Bay Minette, Alabama 36507 ',\n",
       " 'Bessemer, Alabama 35022 ']"
      ]
     },
     "execution_count": 23,
     "metadata": {},
     "output_type": "execute_result"
    }
   ],
   "source": [
    "list_of_city_state_pincode"
   ]
  },
  {
   "cell_type": "code",
   "execution_count": 24,
   "id": "a2ba9c3c",
   "metadata": {
    "ExecuteTime": {
     "end_time": "2021-09-29T22:22:38.047517Z",
     "start_time": "2021-09-29T22:22:38.033522Z"
    }
   },
   "outputs": [
    {
     "data": {
      "text/plain": [
       "['Phone: (800) 951-4357 ',\n",
       " 'Phone: (334) 585-5331 ',\n",
       " 'Phone: (334) 222-2523 ',\n",
       " 'Phone: (334) 428-5050 ',\n",
       " 'Phone: (256) 236-3403 ',\n",
       " 'Phone: (256) 235-5121 ',\n",
       " 'Phone: (334) 691-8030 ',\n",
       " 'Phone: (256) 232-3661 ',\n",
       " 'Phone: (256) 492-7800 ',\n",
       " 'Phone: (251) 580-1770 ',\n",
       " 'Phone: (205) 428-3495 ']"
      ]
     },
     "execution_count": 24,
     "metadata": {},
     "output_type": "execute_result"
    }
   ],
   "source": [
    "list_of_phone_no"
   ]
  },
  {
   "cell_type": "code",
   "execution_count": 25,
   "id": "40719791",
   "metadata": {
    "ExecuteTime": {
     "end_time": "2021-09-29T22:22:40.369498Z",
     "start_time": "2021-09-29T22:22:40.353527Z"
    }
   },
   "outputs": [
    {
     "data": {
      "text/plain": [
       "['Intake: (334) 951-4357 ',\n",
       " 'Intake: (800) 951-4357 ',\n",
       " 'Intake: (877) 530-0002 ',\n",
       " 'NA',\n",
       " 'NA',\n",
       " 'Intakes: (256) 235-5564 (256) 235-5482 ',\n",
       " 'NA',\n",
       " 'Intakes: (256) 355-5904 (800) 365-6008 ',\n",
       " 'NA',\n",
       " 'NA',\n",
       " 'Intakes: (205) 428-3495x7931 (205) 428-3495x7934 ']"
      ]
     },
     "execution_count": 25,
     "metadata": {},
     "output_type": "execute_result"
    }
   ],
   "source": [
    "list_of_intake"
   ]
  },
  {
   "cell_type": "code",
   "execution_count": 26,
   "id": "eb0797f7",
   "metadata": {
    "ExecuteTime": {
     "end_time": "2021-09-29T22:22:46.300722Z",
     "start_time": "2021-09-29T22:22:46.295722Z"
    },
    "code_folding": [
     0
    ],
    "scrolled": true
   },
   "outputs": [],
   "source": [
    "df = pd.DataFrame(list(zip(list_of_treatment_center, list_of_address, list_of_city_state_pincode,list_of_phone_no,\n",
    "                           list_of_intake)), columns =['Treatement_centre', 'Address','City_State_Pincode', 'PhoneNo','Intake'])"
   ]
  },
  {
   "cell_type": "code",
   "execution_count": 27,
   "id": "c1e58736",
   "metadata": {
    "ExecuteTime": {
     "end_time": "2021-09-29T22:22:51.104051Z",
     "start_time": "2021-09-29T22:22:51.100043Z"
    }
   },
   "outputs": [
    {
     "data": {
      "text/plain": [
       "11"
      ]
     },
     "execution_count": 27,
     "metadata": {},
     "output_type": "execute_result"
    }
   ],
   "source": [
    "len(list_of_treatment_center)"
   ]
  },
  {
   "cell_type": "code",
   "execution_count": 28,
   "id": "0923f86c",
   "metadata": {
    "ExecuteTime": {
     "end_time": "2021-09-29T22:22:52.568997Z",
     "start_time": "2021-09-29T22:22:52.555994Z"
    }
   },
   "outputs": [
    {
     "data": {
      "text/html": [
       "<div>\n",
       "<style scoped>\n",
       "    .dataframe tbody tr th:only-of-type {\n",
       "        vertical-align: middle;\n",
       "    }\n",
       "\n",
       "    .dataframe tbody tr th {\n",
       "        vertical-align: top;\n",
       "    }\n",
       "\n",
       "    .dataframe thead th {\n",
       "        text-align: right;\n",
       "    }\n",
       "</style>\n",
       "<table border=\"1\" class=\"dataframe\">\n",
       "  <thead>\n",
       "    <tr style=\"text-align: right;\">\n",
       "      <th></th>\n",
       "      <th>Treatement_centre</th>\n",
       "      <th>Address</th>\n",
       "      <th>City_State_Pincode</th>\n",
       "      <th>PhoneNo</th>\n",
       "      <th>Intake</th>\n",
       "    </tr>\n",
       "  </thead>\n",
       "  <tbody>\n",
       "    <tr>\n",
       "      <th>0</th>\n",
       "      <td>Henry County Day Treatment</td>\n",
       "      <td>403 Dothan Road</td>\n",
       "      <td>Abbeville, Alabama 36310</td>\n",
       "      <td>Phone: (800) 951-4357</td>\n",
       "      <td>Intake: (334) 951-4357</td>\n",
       "    </tr>\n",
       "    <tr>\n",
       "      <th>1</th>\n",
       "      <td>SpectraCare Henry County Clinic</td>\n",
       "      <td>219 Dothan Road</td>\n",
       "      <td>Abbeville, Alabama 36310</td>\n",
       "      <td>Phone: (334) 585-5331</td>\n",
       "      <td>Intake: (800) 951-4357</td>\n",
       "    </tr>\n",
       "    <tr>\n",
       "      <th>2</th>\n",
       "      <td>South Central Alabama CMHC</td>\n",
       "      <td>19815 Bay Branch Road</td>\n",
       "      <td>Andalusia, Alabama 36420</td>\n",
       "      <td>Phone: (334) 222-2523</td>\n",
       "      <td>Intake: (877) 530-0002</td>\n",
       "    </tr>\n",
       "    <tr>\n",
       "      <th>3</th>\n",
       "      <td>South Central Alabama MH Center Montezuma Comp...</td>\n",
       "      <td>205 Academy Drive</td>\n",
       "      <td>Andalusia, Alabama 36420</td>\n",
       "      <td>Phone: (334) 428-5050</td>\n",
       "      <td>NA</td>\n",
       "    </tr>\n",
       "    <tr>\n",
       "      <th>4</th>\n",
       "      <td>Highland Health Systems</td>\n",
       "      <td>331 East 8th Street</td>\n",
       "      <td>Anniston, Alabama 36207</td>\n",
       "      <td>Phone: (256) 236-3403</td>\n",
       "      <td>NA</td>\n",
       "    </tr>\n",
       "    <tr>\n",
       "      <th>5</th>\n",
       "      <td>Northeast Alabama Regional Med Ctr Behavioral ...</td>\n",
       "      <td>400 East 10th Street</td>\n",
       "      <td>Anniston, Alabama 36207</td>\n",
       "      <td>Phone: (256) 235-5121</td>\n",
       "      <td>Intakes: (256) 235-5564 (256) 235-5482</td>\n",
       "    </tr>\n",
       "    <tr>\n",
       "      <th>6</th>\n",
       "      <td>Cottonwood Specialized Care CRF</td>\n",
       "      <td>1539 Sweetie Smith Road</td>\n",
       "      <td>Ashford, Alabama 36312</td>\n",
       "      <td>Phone: (334) 691-8030</td>\n",
       "      <td>NA</td>\n",
       "    </tr>\n",
       "    <tr>\n",
       "      <th>7</th>\n",
       "      <td>MHCNCA Inc Athens Limestone Counseling Center</td>\n",
       "      <td>1307 East Elm Street</td>\n",
       "      <td>Athens, Alabama 35611</td>\n",
       "      <td>Phone: (256) 232-3661</td>\n",
       "      <td>Intakes: (256) 355-5904 (800) 365-6008</td>\n",
       "    </tr>\n",
       "    <tr>\n",
       "      <th>8</th>\n",
       "      <td>Cherokee Etowah Dekalb CMHC</td>\n",
       "      <td>425 5th Avenue NW</td>\n",
       "      <td>Attalla, Alabama 35954</td>\n",
       "      <td>Phone: (256) 492-7800</td>\n",
       "      <td>NA</td>\n",
       "    </tr>\n",
       "    <tr>\n",
       "      <th>9</th>\n",
       "      <td>North Baldwin Infirmary Senior Behavioral Health</td>\n",
       "      <td>1815 Hand Avenue</td>\n",
       "      <td>Bay Minette, Alabama 36507</td>\n",
       "      <td>Phone: (251) 580-1770</td>\n",
       "      <td>NA</td>\n",
       "    </tr>\n",
       "    <tr>\n",
       "      <th>10</th>\n",
       "      <td>Birmingham VAMC Bessemer Clinic</td>\n",
       "      <td>975 9th Avenue SW Suite 400</td>\n",
       "      <td>Bessemer, Alabama 35022</td>\n",
       "      <td>Phone: (205) 428-3495</td>\n",
       "      <td>Intakes: (205) 428-3495x7931 (205) 428-3495x7934</td>\n",
       "    </tr>\n",
       "  </tbody>\n",
       "</table>\n",
       "</div>"
      ],
      "text/plain": [
       "                                    Treatement_centre  \\\n",
       "0                         Henry County Day Treatment    \n",
       "1                    SpectraCare Henry County Clinic    \n",
       "2                         South Central Alabama CMHC    \n",
       "3   South Central Alabama MH Center Montezuma Comp...   \n",
       "4                            Highland Health Systems    \n",
       "5   Northeast Alabama Regional Med Ctr Behavioral ...   \n",
       "6                    Cottonwood Specialized Care CRF    \n",
       "7      MHCNCA Inc Athens Limestone Counseling Center    \n",
       "8                        Cherokee Etowah Dekalb CMHC    \n",
       "9   North Baldwin Infirmary Senior Behavioral Health    \n",
       "10                   Birmingham VAMC Bessemer Clinic    \n",
       "\n",
       "                         Address           City_State_Pincode  \\\n",
       "0               403 Dothan Road     Abbeville, Alabama 36310    \n",
       "1               219 Dothan Road     Abbeville, Alabama 36310    \n",
       "2         19815 Bay Branch Road     Andalusia, Alabama 36420    \n",
       "3             205 Academy Drive     Andalusia, Alabama 36420    \n",
       "4           331 East 8th Street      Anniston, Alabama 36207    \n",
       "5          400 East 10th Street      Anniston, Alabama 36207    \n",
       "6       1539 Sweetie Smith Road       Ashford, Alabama 36312    \n",
       "7          1307 East Elm Street        Athens, Alabama 35611    \n",
       "8             425 5th Avenue NW       Attalla, Alabama 35954    \n",
       "9              1815 Hand Avenue   Bay Minette, Alabama 36507    \n",
       "10  975 9th Avenue SW Suite 400      Bessemer, Alabama 35022    \n",
       "\n",
       "                   PhoneNo                                             Intake  \n",
       "0   Phone: (800) 951-4357                             Intake: (334) 951-4357   \n",
       "1   Phone: (334) 585-5331                             Intake: (800) 951-4357   \n",
       "2   Phone: (334) 222-2523                             Intake: (877) 530-0002   \n",
       "3   Phone: (334) 428-5050                                                  NA  \n",
       "4   Phone: (256) 236-3403                                                  NA  \n",
       "5   Phone: (256) 235-5121             Intakes: (256) 235-5564 (256) 235-5482   \n",
       "6   Phone: (334) 691-8030                                                  NA  \n",
       "7   Phone: (256) 232-3661             Intakes: (256) 355-5904 (800) 365-6008   \n",
       "8   Phone: (256) 492-7800                                                  NA  \n",
       "9   Phone: (251) 580-1770                                                  NA  \n",
       "10  Phone: (205) 428-3495   Intakes: (205) 428-3495x7931 (205) 428-3495x7934   "
      ]
     },
     "execution_count": 28,
     "metadata": {},
     "output_type": "execute_result"
    }
   ],
   "source": [
    "df"
   ]
  },
  {
   "cell_type": "markdown",
   "id": "1daa0895",
   "metadata": {
    "ExecuteTime": {
     "end_time": "2021-09-29T20:08:14.821201Z",
     "start_time": "2021-09-29T20:08:14.603939Z"
    },
    "run_control": {
     "marked": true
    }
   },
   "source": [
    "# df[['A', 'B']] = df['AB'].str.split(' ', 1, expand=True)\n",
    "df[['City','State_Pincode']]= df['City_State_Pincode'].str.split(',' ,expand=True)"
   ]
  },
  {
   "cell_type": "markdown",
   "id": "23ed5a20",
   "metadata": {
    "ExecuteTime": {
     "end_time": "2021-09-29T20:09:34.683090Z",
     "start_time": "2021-09-29T20:09:34.657537Z"
    },
    "run_control": {
     "marked": true
    }
   },
   "source": [
    "df[['State','Pincode']]= df['State_Pincode'].str.split('expand=True)"
   ]
  },
  {
   "cell_type": "code",
   "execution_count": 31,
   "id": "dbfb519f",
   "metadata": {
    "ExecuteTime": {
     "end_time": "2021-09-29T22:23:42.905735Z",
     "start_time": "2021-09-29T22:23:42.899447Z"
    },
    "scrolled": true
   },
   "outputs": [],
   "source": [
    "df[['City','State_Pincode']]= df['City_State_Pincode'].str.split(',' ,expand=True)\n",
    "df[['State','Pincode']]= df['State_Pincode'].str.split(expand=True)\n",
    "df['PhoneNo'] = df['PhoneNo'].str.replace(\"Phone:\", \"\")\n",
    "df['Intake'] = df['Intake'].str.replace(\"Intake:\", \"\")\n",
    "df['Intake'] = df['Intake'].str.replace(\"Intakes:\", \"\")"
   ]
  },
  {
   "cell_type": "code",
   "execution_count": 32,
   "id": "23a45b28",
   "metadata": {
    "ExecuteTime": {
     "end_time": "2021-09-29T22:23:57.486148Z",
     "start_time": "2021-09-29T22:23:57.465135Z"
    },
    "scrolled": true
   },
   "outputs": [
    {
     "data": {
      "text/plain": [
       "0     (800) 951-4357 \n",
       "1     (334) 585-5331 \n",
       "2     (334) 222-2523 \n",
       "3     (334) 428-5050 \n",
       "4     (256) 236-3403 \n",
       "5     (256) 235-5121 \n",
       "6     (334) 691-8030 \n",
       "7     (256) 232-3661 \n",
       "8     (256) 492-7800 \n",
       "9     (251) 580-1770 \n",
       "Name: PhoneNo, dtype: object"
      ]
     },
     "execution_count": 32,
     "metadata": {},
     "output_type": "execute_result"
    }
   ],
   "source": [
    "df['PhoneNo'].head(10)"
   ]
  },
  {
   "cell_type": "code",
   "execution_count": 33,
   "id": "b6ad1cf8",
   "metadata": {
    "ExecuteTime": {
     "end_time": "2021-09-29T22:24:00.291228Z",
     "start_time": "2021-09-29T22:24:00.281219Z"
    }
   },
   "outputs": [
    {
     "data": {
      "text/plain": [
       "0                    (334) 951-4357 \n",
       "1                    (800) 951-4357 \n",
       "2                    (877) 530-0002 \n",
       "3                                 NA\n",
       "4                                 NA\n",
       "5     (256) 235-5564 (256) 235-5482 \n",
       "6                                 NA\n",
       "7     (256) 355-5904 (800) 365-6008 \n",
       "8                                 NA\n",
       "9                                 NA\n",
       "Name: Intake, dtype: object"
      ]
     },
     "execution_count": 33,
     "metadata": {},
     "output_type": "execute_result"
    }
   ],
   "source": [
    "df['Intake'].head(10)"
   ]
  },
  {
   "cell_type": "code",
   "execution_count": 34,
   "id": "319f5eef",
   "metadata": {
    "ExecuteTime": {
     "end_time": "2021-09-29T22:24:06.908350Z",
     "start_time": "2021-09-29T22:24:06.893821Z"
    }
   },
   "outputs": [],
   "source": [
    "df = df.drop(['City_State_Pincode', 'State_Pincode'], 1)"
   ]
  },
  {
   "cell_type": "code",
   "execution_count": 35,
   "id": "4298255f",
   "metadata": {
    "ExecuteTime": {
     "end_time": "2021-09-29T22:24:09.305337Z",
     "start_time": "2021-09-29T22:24:09.286774Z"
    }
   },
   "outputs": [
    {
     "data": {
      "text/html": [
       "<div>\n",
       "<style scoped>\n",
       "    .dataframe tbody tr th:only-of-type {\n",
       "        vertical-align: middle;\n",
       "    }\n",
       "\n",
       "    .dataframe tbody tr th {\n",
       "        vertical-align: top;\n",
       "    }\n",
       "\n",
       "    .dataframe thead th {\n",
       "        text-align: right;\n",
       "    }\n",
       "</style>\n",
       "<table border=\"1\" class=\"dataframe\">\n",
       "  <thead>\n",
       "    <tr style=\"text-align: right;\">\n",
       "      <th></th>\n",
       "      <th>Treatement_centre</th>\n",
       "      <th>Address</th>\n",
       "      <th>PhoneNo</th>\n",
       "      <th>Intake</th>\n",
       "      <th>City</th>\n",
       "      <th>State</th>\n",
       "      <th>Pincode</th>\n",
       "    </tr>\n",
       "  </thead>\n",
       "  <tbody>\n",
       "    <tr>\n",
       "      <th>0</th>\n",
       "      <td>Henry County Day Treatment</td>\n",
       "      <td>403 Dothan Road</td>\n",
       "      <td>(800) 951-4357</td>\n",
       "      <td>(334) 951-4357</td>\n",
       "      <td>Abbeville</td>\n",
       "      <td>Alabama</td>\n",
       "      <td>36310</td>\n",
       "    </tr>\n",
       "    <tr>\n",
       "      <th>1</th>\n",
       "      <td>SpectraCare Henry County Clinic</td>\n",
       "      <td>219 Dothan Road</td>\n",
       "      <td>(334) 585-5331</td>\n",
       "      <td>(800) 951-4357</td>\n",
       "      <td>Abbeville</td>\n",
       "      <td>Alabama</td>\n",
       "      <td>36310</td>\n",
       "    </tr>\n",
       "    <tr>\n",
       "      <th>2</th>\n",
       "      <td>South Central Alabama CMHC</td>\n",
       "      <td>19815 Bay Branch Road</td>\n",
       "      <td>(334) 222-2523</td>\n",
       "      <td>(877) 530-0002</td>\n",
       "      <td>Andalusia</td>\n",
       "      <td>Alabama</td>\n",
       "      <td>36420</td>\n",
       "    </tr>\n",
       "    <tr>\n",
       "      <th>3</th>\n",
       "      <td>South Central Alabama MH Center Montezuma Comp...</td>\n",
       "      <td>205 Academy Drive</td>\n",
       "      <td>(334) 428-5050</td>\n",
       "      <td>NA</td>\n",
       "      <td>Andalusia</td>\n",
       "      <td>Alabama</td>\n",
       "      <td>36420</td>\n",
       "    </tr>\n",
       "    <tr>\n",
       "      <th>4</th>\n",
       "      <td>Highland Health Systems</td>\n",
       "      <td>331 East 8th Street</td>\n",
       "      <td>(256) 236-3403</td>\n",
       "      <td>NA</td>\n",
       "      <td>Anniston</td>\n",
       "      <td>Alabama</td>\n",
       "      <td>36207</td>\n",
       "    </tr>\n",
       "    <tr>\n",
       "      <th>5</th>\n",
       "      <td>Northeast Alabama Regional Med Ctr Behavioral ...</td>\n",
       "      <td>400 East 10th Street</td>\n",
       "      <td>(256) 235-5121</td>\n",
       "      <td>(256) 235-5564 (256) 235-5482</td>\n",
       "      <td>Anniston</td>\n",
       "      <td>Alabama</td>\n",
       "      <td>36207</td>\n",
       "    </tr>\n",
       "    <tr>\n",
       "      <th>6</th>\n",
       "      <td>Cottonwood Specialized Care CRF</td>\n",
       "      <td>1539 Sweetie Smith Road</td>\n",
       "      <td>(334) 691-8030</td>\n",
       "      <td>NA</td>\n",
       "      <td>Ashford</td>\n",
       "      <td>Alabama</td>\n",
       "      <td>36312</td>\n",
       "    </tr>\n",
       "    <tr>\n",
       "      <th>7</th>\n",
       "      <td>MHCNCA Inc Athens Limestone Counseling Center</td>\n",
       "      <td>1307 East Elm Street</td>\n",
       "      <td>(256) 232-3661</td>\n",
       "      <td>(256) 355-5904 (800) 365-6008</td>\n",
       "      <td>Athens</td>\n",
       "      <td>Alabama</td>\n",
       "      <td>35611</td>\n",
       "    </tr>\n",
       "    <tr>\n",
       "      <th>8</th>\n",
       "      <td>Cherokee Etowah Dekalb CMHC</td>\n",
       "      <td>425 5th Avenue NW</td>\n",
       "      <td>(256) 492-7800</td>\n",
       "      <td>NA</td>\n",
       "      <td>Attalla</td>\n",
       "      <td>Alabama</td>\n",
       "      <td>35954</td>\n",
       "    </tr>\n",
       "    <tr>\n",
       "      <th>9</th>\n",
       "      <td>North Baldwin Infirmary Senior Behavioral Health</td>\n",
       "      <td>1815 Hand Avenue</td>\n",
       "      <td>(251) 580-1770</td>\n",
       "      <td>NA</td>\n",
       "      <td>Bay Minette</td>\n",
       "      <td>Alabama</td>\n",
       "      <td>36507</td>\n",
       "    </tr>\n",
       "    <tr>\n",
       "      <th>10</th>\n",
       "      <td>Birmingham VAMC Bessemer Clinic</td>\n",
       "      <td>975 9th Avenue SW Suite 400</td>\n",
       "      <td>(205) 428-3495</td>\n",
       "      <td>(205) 428-3495x7931 (205) 428-3495x7934</td>\n",
       "      <td>Bessemer</td>\n",
       "      <td>Alabama</td>\n",
       "      <td>35022</td>\n",
       "    </tr>\n",
       "  </tbody>\n",
       "</table>\n",
       "</div>"
      ],
      "text/plain": [
       "                                    Treatement_centre  \\\n",
       "0                         Henry County Day Treatment    \n",
       "1                    SpectraCare Henry County Clinic    \n",
       "2                         South Central Alabama CMHC    \n",
       "3   South Central Alabama MH Center Montezuma Comp...   \n",
       "4                            Highland Health Systems    \n",
       "5   Northeast Alabama Regional Med Ctr Behavioral ...   \n",
       "6                    Cottonwood Specialized Care CRF    \n",
       "7      MHCNCA Inc Athens Limestone Counseling Center    \n",
       "8                        Cherokee Etowah Dekalb CMHC    \n",
       "9   North Baldwin Infirmary Senior Behavioral Health    \n",
       "10                   Birmingham VAMC Bessemer Clinic    \n",
       "\n",
       "                         Address           PhoneNo  \\\n",
       "0               403 Dothan Road    (800) 951-4357    \n",
       "1               219 Dothan Road    (334) 585-5331    \n",
       "2         19815 Bay Branch Road    (334) 222-2523    \n",
       "3             205 Academy Drive    (334) 428-5050    \n",
       "4           331 East 8th Street    (256) 236-3403    \n",
       "5          400 East 10th Street    (256) 235-5121    \n",
       "6       1539 Sweetie Smith Road    (334) 691-8030    \n",
       "7          1307 East Elm Street    (256) 232-3661    \n",
       "8             425 5th Avenue NW    (256) 492-7800    \n",
       "9              1815 Hand Avenue    (251) 580-1770    \n",
       "10  975 9th Avenue SW Suite 400    (205) 428-3495    \n",
       "\n",
       "                                       Intake         City    State Pincode  \n",
       "0                             (334) 951-4357     Abbeville  Alabama   36310  \n",
       "1                             (800) 951-4357     Abbeville  Alabama   36310  \n",
       "2                             (877) 530-0002     Andalusia  Alabama   36420  \n",
       "3                                          NA    Andalusia  Alabama   36420  \n",
       "4                                          NA     Anniston  Alabama   36207  \n",
       "5              (256) 235-5564 (256) 235-5482      Anniston  Alabama   36207  \n",
       "6                                          NA      Ashford  Alabama   36312  \n",
       "7              (256) 355-5904 (800) 365-6008        Athens  Alabama   35611  \n",
       "8                                          NA      Attalla  Alabama   35954  \n",
       "9                                          NA  Bay Minette  Alabama   36507  \n",
       "10   (205) 428-3495x7931 (205) 428-3495x7934      Bessemer  Alabama   35022  "
      ]
     },
     "execution_count": 35,
     "metadata": {},
     "output_type": "execute_result"
    }
   ],
   "source": [
    "df"
   ]
  },
  {
   "cell_type": "code",
   "execution_count": 38,
   "id": "3a0c0814",
   "metadata": {
    "ExecuteTime": {
     "end_time": "2021-09-29T22:26:29.459895Z",
     "start_time": "2021-09-29T22:26:29.447849Z"
    }
   },
   "outputs": [],
   "source": [
    "csv_data= df.to_csv('pdf_to_csv.csv')"
   ]
  }
 ],
 "metadata": {
  "kernelspec": {
   "display_name": "Python 3",
   "language": "python",
   "name": "python3"
  },
  "language_info": {
   "codemirror_mode": {
    "name": "ipython",
    "version": 3
   },
   "file_extension": ".py",
   "mimetype": "text/x-python",
   "name": "python",
   "nbconvert_exporter": "python",
   "pygments_lexer": "ipython3",
   "version": "3.8.8"
  },
  "toc": {
   "base_numbering": 1,
   "nav_menu": {},
   "number_sections": true,
   "sideBar": true,
   "skip_h1_title": false,
   "title_cell": "Table of Contents",
   "title_sidebar": "Contents",
   "toc_cell": false,
   "toc_position": {},
   "toc_section_display": true,
   "toc_window_display": false
  },
  "varInspector": {
   "cols": {
    "lenName": 16,
    "lenType": 16,
    "lenVar": 40
   },
   "kernels_config": {
    "python": {
     "delete_cmd_postfix": "",
     "delete_cmd_prefix": "del ",
     "library": "var_list.py",
     "varRefreshCmd": "print(var_dic_list())"
    },
    "r": {
     "delete_cmd_postfix": ") ",
     "delete_cmd_prefix": "rm(",
     "library": "var_list.r",
     "varRefreshCmd": "cat(var_dic_list()) "
    }
   },
   "types_to_exclude": [
    "module",
    "function",
    "builtin_function_or_method",
    "instance",
    "_Feature"
   ],
   "window_display": false
  }
 },
 "nbformat": 4,
 "nbformat_minor": 5
}
