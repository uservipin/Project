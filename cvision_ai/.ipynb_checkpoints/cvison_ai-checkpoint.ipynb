{
 "cells": [
  {
   "cell_type": "code",
   "execution_count": 2,
   "id": "a315ee74",
   "metadata": {
    "ExecuteTime": {
     "end_time": "2021-11-19T18:08:29.454159Z",
     "start_time": "2021-11-19T18:08:29.253162Z"
    }
   },
   "outputs": [],
   "source": [
    "import  pytesseract\n",
    "import cv2\n",
    "\n",
    "pytesseract.pytesseract.tesseract_cmd= r'C:\\\\Program Files\\\\Tesseract-OCR\\\\tesseract.exe'"
   ]
  },
  {
   "cell_type": "code",
   "execution_count": 3,
   "id": "f6ee6939",
   "metadata": {
    "ExecuteTime": {
     "end_time": "2021-11-19T18:08:43.562577Z",
     "start_time": "2021-11-19T18:08:33.908465Z"
    },
    "scrolled": false
   },
   "outputs": [
    {
     "name": "stdout",
     "output_type": "stream",
     "text": [
      "a\n",
      "\n",
      "REGN . NO : DL2CAM0993\n",
      "\n",
      "O SNo : O1\n",
      "REG. DT: 1370/2010 MFGCD : HYU\n",
      "CH.NO : MALBBS51 BLAM217697 COLOUR : (CR. WHITE\n",
      "ENO -: G4LAAM4SSOSS CLASS : LMY.\n",
      "NAME - MR. KAMAL BHOLA\n",
      "\n",
      ": SAWID OF : SIO SH. J.C. BHOLA\n",
      "ADDRESS: 65B, AB BLOCK, lIND FLOOR,\n",
      "RAMESH NAGAR, :\n",
      "\n",
      "DELHI 410015\n",
      "H\n",
      "MODEL i20 Sportz Registering Authority\n",
      "BODY - SALOON NO.OF CYL : 4 | P Depot\n",
      "WHEEL BASE: 0 UNLADEN WT : 1066 ae\n",
      "MFG.DT. - 0872010 SEATINGC <: 95 wo\n",
      "FUEL - PETROL STANDINGC : See P\n",
      "REG.UPTO - 42H 012025 CU.CAP > 4200\n",
      "\n",
      " \n",
      "\f",
      "\n"
     ]
    }
   ],
   "source": [
    "img = cv2.imread(\"drive-download-20211117T192647Z-001/txt_mudit_b8_1_513.jpg\")\n",
    "cv2.imshow(\"sample\", img)\n",
    "cv2.waitKey(0)\n",
    "text = pytesseract.image_to_string(img)\n",
    "print(text)"
   ]
  },
  {
   "cell_type": "code",
   "execution_count": 17,
   "id": "73d5e6a9",
   "metadata": {
    "ExecuteTime": {
     "end_time": "2021-11-19T18:17:20.000135Z",
     "start_time": "2021-11-19T18:17:19.986130Z"
    }
   },
   "outputs": [
    {
     "name": "stdout",
     "output_type": "stream",
     "text": [
      "REGN . NO : DL2CAM0993\n",
      "REG. DT: 1370/2010 MFGCD : HYU\n",
      "CH.NO : MALBBS51 BLAM217697 COLOUR : (CR. WHITE\n",
      "ENO -: G4LAAM4SSOSS CLASS : LMY.\n",
      "NAME - MR. KAMAL BHOLA\n"
     ]
    }
   ],
   "source": [
    "list_of_lines= text.split(\"\\n\")\n",
    "list_of_lines\n",
    "Reg_No = \"REGN . NO\"\n",
    "Reg_date= \"REG. DT\"\n",
    "Mfg_date= \"MFG.DT.\"\n",
    "Vin_No = \"CH.NO\"\n",
    "Engine_No= \"ENO\"\n",
    "Name= \"NAME\"\n",
    "\n",
    "for lines in list_of_lines:\n",
    "    if lines.__contains__(Reg_No):\n",
    "        reg_no = lines\n",
    "        reg_no[12:22]\n",
    "        print(reg_no)\n",
    "        \n",
    "    if lines.__contains__(Reg_date):\n",
    "        reg_date= lines\n",
    "        reg_date[9:18]\n",
    "        print(reg_date)\n",
    "        \n",
    "    if lines.__contains__(Vin_No):\n",
    "        vin_no= lines\n",
    "        vin_no[8:27]\n",
    "        print(vin_no)\n",
    "    \n",
    "    if lines.__contains__(Engine_No):\n",
    "        eng_no= lines\n",
    "        eng_no[7:19]\n",
    "        print(eng_no)\n",
    "        \n",
    "    if lines.__contains__(Name):\n",
    "        name= lines\n",
    "        print(name)"
   ]
  },
  {
   "cell_type": "code",
   "execution_count": 8,
   "id": "5a4c2296",
   "metadata": {
    "ExecuteTime": {
     "end_time": "2021-11-19T18:12:40.074340Z",
     "start_time": "2021-11-19T18:12:40.065340Z"
    }
   },
   "outputs": [
    {
     "data": {
      "text/plain": [
       "'DL2CAM0993'"
      ]
     },
     "execution_count": 8,
     "metadata": {},
     "output_type": "execute_result"
    }
   ],
   "source": [
    "reg_no[12:22]"
   ]
  },
  {
   "cell_type": "code",
   "execution_count": 12,
   "id": "4dd0a0c6",
   "metadata": {
    "ExecuteTime": {
     "end_time": "2021-11-19T18:14:27.800252Z",
     "start_time": "2021-11-19T18:14:27.782641Z"
    }
   },
   "outputs": [
    {
     "data": {
      "text/plain": [
       "'1370/2010'"
      ]
     },
     "execution_count": 12,
     "metadata": {},
     "output_type": "execute_result"
    }
   ],
   "source": [
    "reg_date[9:18]"
   ]
  },
  {
   "cell_type": "code",
   "execution_count": 14,
   "id": "95e5756e",
   "metadata": {
    "ExecuteTime": {
     "end_time": "2021-11-19T18:14:56.128477Z",
     "start_time": "2021-11-19T18:14:56.112473Z"
    }
   },
   "outputs": [
    {
     "data": {
      "text/plain": [
       "'MALBBS51 BLAM217697'"
      ]
     },
     "execution_count": 14,
     "metadata": {},
     "output_type": "execute_result"
    }
   ],
   "source": [
    "vin_no[8:27]"
   ]
  },
  {
   "cell_type": "code",
   "execution_count": 15,
   "id": "9be1b9c3",
   "metadata": {
    "ExecuteTime": {
     "end_time": "2021-11-19T18:15:36.469268Z",
     "start_time": "2021-11-19T18:15:36.463267Z"
    }
   },
   "outputs": [
    {
     "data": {
      "text/plain": [
       "'G4LAAM4SSOSS'"
      ]
     },
     "execution_count": 15,
     "metadata": {},
     "output_type": "execute_result"
    }
   ],
   "source": [
    "eng_no[7:19]"
   ]
  }
 ],
 "metadata": {
  "kernelspec": {
   "display_name": "Python 3",
   "language": "python",
   "name": "python3"
  },
  "language_info": {
   "codemirror_mode": {
    "name": "ipython",
    "version": 3
   },
   "file_extension": ".py",
   "mimetype": "text/x-python",
   "name": "python",
   "nbconvert_exporter": "python",
   "pygments_lexer": "ipython3",
   "version": "3.8.8"
  },
  "latex_envs": {
   "LaTeX_envs_menu_present": true,
   "autoclose": false,
   "autocomplete": true,
   "bibliofile": "biblio.bib",
   "cite_by": "apalike",
   "current_citInitial": 1,
   "eqLabelWithNumbers": true,
   "eqNumInitial": 1,
   "hotkeys": {
    "equation": "Ctrl-E",
    "itemize": "Ctrl-I"
   },
   "labels_anchors": false,
   "latex_user_defs": false,
   "report_style_numbering": false,
   "user_envs_cfg": false
  },
  "toc": {
   "base_numbering": 1,
   "nav_menu": {},
   "number_sections": true,
   "sideBar": true,
   "skip_h1_title": false,
   "title_cell": "Table of Contents",
   "title_sidebar": "Contents",
   "toc_cell": false,
   "toc_position": {},
   "toc_section_display": true,
   "toc_window_display": false
  },
  "varInspector": {
   "cols": {
    "lenName": 16,
    "lenType": 16,
    "lenVar": 40
   },
   "kernels_config": {
    "python": {
     "delete_cmd_postfix": "",
     "delete_cmd_prefix": "del ",
     "library": "var_list.py",
     "varRefreshCmd": "print(var_dic_list())"
    },
    "r": {
     "delete_cmd_postfix": ") ",
     "delete_cmd_prefix": "rm(",
     "library": "var_list.r",
     "varRefreshCmd": "cat(var_dic_list()) "
    }
   },
   "types_to_exclude": [
    "module",
    "function",
    "builtin_function_or_method",
    "instance",
    "_Feature"
   ],
   "window_display": false
  }
 },
 "nbformat": 4,
 "nbformat_minor": 5
}
