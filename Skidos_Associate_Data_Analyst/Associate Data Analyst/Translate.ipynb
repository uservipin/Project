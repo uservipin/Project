{
 "cells": [
  {
   "cell_type": "markdown",
   "id": "e3ab5db0",
   "metadata": {
    "ExecuteTime": {
     "end_time": "2021-10-01T11:58:23.699666Z",
     "start_time": "2021-10-01T11:58:23.693519Z"
    },
    "heading_collapsed": true
   },
   "source": [
    "## This script helps to translate `Text | String | Words` to other Language"
   ]
  },
  {
   "cell_type": "markdown",
   "id": "8be9c4c2",
   "metadata": {
    "heading_collapsed": true
   },
   "source": [
    "# Import Library"
   ]
  },
  {
   "cell_type": "code",
   "execution_count": 14,
   "id": "c5fe0e4e",
   "metadata": {
    "ExecuteTime": {
     "end_time": "2021-10-01T20:08:51.022702Z",
     "start_time": "2021-10-01T20:08:50.394078Z"
    },
    "hidden": true
   },
   "outputs": [],
   "source": [
    "import pandas as pd\n",
    "from time import sleep\n",
    "from googletrans import Translator  \n",
    "translator = Translator()"
   ]
  },
  {
   "cell_type": "markdown",
   "id": "1cf4a4f4",
   "metadata": {
    "ExecuteTime": {
     "end_time": "2021-10-01T20:08:51.733800Z",
     "start_time": "2021-10-01T20:08:51.707651Z"
    },
    "heading_collapsed": true
   },
   "source": [
    "# Load data from csv "
   ]
  },
  {
   "cell_type": "code",
   "execution_count": 53,
   "id": "7442e962",
   "metadata": {
    "ExecuteTime": {
     "end_time": "2021-10-01T20:30:38.090611Z",
     "start_time": "2021-10-01T20:30:38.069092Z"
    },
    "hidden": true,
    "scrolled": false
   },
   "outputs": [
    {
     "data": {
      "text/html": [
       "<div>\n",
       "<style scoped>\n",
       "    .dataframe tbody tr th:only-of-type {\n",
       "        vertical-align: middle;\n",
       "    }\n",
       "\n",
       "    .dataframe tbody tr th {\n",
       "        vertical-align: top;\n",
       "    }\n",
       "\n",
       "    .dataframe thead th {\n",
       "        text-align: right;\n",
       "    }\n",
       "</style>\n",
       "<table border=\"1\" class=\"dataframe\">\n",
       "  <thead>\n",
       "    <tr style=\"text-align: right;\">\n",
       "      <th></th>\n",
       "      <th>English Text</th>\n",
       "    </tr>\n",
       "  </thead>\n",
       "  <tbody>\n",
       "    <tr>\n",
       "      <th>0</th>\n",
       "      <td>Biggest</td>\n",
       "    </tr>\n",
       "    <tr>\n",
       "      <th>1</th>\n",
       "      <td>Compare 3 digit numbers</td>\n",
       "    </tr>\n",
       "    <tr>\n",
       "      <th>2</th>\n",
       "      <td>Compare fractions</td>\n",
       "    </tr>\n",
       "    <tr>\n",
       "      <th>3</th>\n",
       "      <td>Counting numbers up to 10</td>\n",
       "    </tr>\n",
       "    <tr>\n",
       "      <th>4</th>\n",
       "      <td>Division</td>\n",
       "    </tr>\n",
       "  </tbody>\n",
       "</table>\n",
       "</div>"
      ],
      "text/plain": [
       "                English Text\n",
       "0                    Biggest\n",
       "1    Compare 3 digit numbers\n",
       "2          Compare fractions\n",
       "3  Counting numbers up to 10\n",
       "4                   Division"
      ]
     },
     "execution_count": 53,
     "metadata": {},
     "output_type": "execute_result"
    }
   ],
   "source": [
    "csv_data = pd.read_csv('input_data_translation.csv')\n",
    "csv_data.head()"
   ]
  },
  {
   "cell_type": "markdown",
   "id": "f625b232",
   "metadata": {
    "ExecuteTime": {
     "end_time": "2021-10-01T17:57:51.078987Z",
     "start_time": "2021-10-01T17:57:51.070561Z"
    },
    "heading_collapsed": true
   },
   "source": [
    "# Language Code used to translate."
   ]
  },
  {
   "cell_type": "markdown",
   "id": "4337ac06",
   "metadata": {
    "hidden": true
   },
   "source": [
    "* Malaysian - ms\n",
    "* Russian   - ru\n",
    "* Spanish   - es\n"
   ]
  },
  {
   "cell_type": "code",
   "execution_count": 38,
   "id": "fd8ff409",
   "metadata": {
    "ExecuteTime": {
     "end_time": "2021-10-01T20:20:38.052380Z",
     "start_time": "2021-10-01T20:20:38.040837Z"
    },
    "hidden": true
   },
   "outputs": [],
   "source": [
    "#list_of_translated_word\n",
    "list_of_Malysian_words=[]\n",
    "list_of_Russian_words=[]\n",
    "list_of_Spanish_words=[]\n",
    "list_of_Hindi_words=[]"
   ]
  },
  {
   "cell_type": "code",
   "execution_count": 39,
   "id": "6fb137b1",
   "metadata": {
    "ExecuteTime": {
     "end_time": "2021-10-01T20:20:39.551295Z",
     "start_time": "2021-10-01T20:20:39.537742Z"
    },
    "hidden": true
   },
   "outputs": [],
   "source": [
    "def translate_text_fun(excel_data,list_of_lang_code):\n",
    "    for to_lang in list_of_lang_code:\n",
    "        if to_lang =='ms':\n",
    "            for i in csv_data['English Text']:\n",
    "                translate_text = translator.translate(i,dest=to_lang) \n",
    "                sleep(3)\n",
    "                list_of_Malysian_words.append(translate_text.text)\n",
    "\n",
    "        if to_lang =='ru':\n",
    "            for i in csv_data['English Text']:\n",
    "                translate_text = translator.translate(i,dest=to_lang) \n",
    "                sleep(3)\n",
    "                list_of_Russian_words.append(translate_text.text)\n",
    "\n",
    "        if to_lang =='es':\n",
    "            for i in csv_data['English Text']:\n",
    "                translate_text = translator.translate(i,dest=to_lang) \n",
    "                sleep(3)\n",
    "                list_of_Spanish_words.append(translate_text.text)\n",
    "                \n",
    "                "
   ]
  },
  {
   "cell_type": "code",
   "execution_count": 40,
   "id": "8f77f37e",
   "metadata": {
    "ExecuteTime": {
     "end_time": "2021-10-01T20:23:34.730358Z",
     "start_time": "2021-10-01T20:20:45.396248Z"
    },
    "hidden": true,
    "scrolled": true
   },
   "outputs": [],
   "source": [
    "list_of_translation_language_code = ['ms','ru','es'] \n",
    "translate_text_fun_called= translate_text_fun(excel_data=csv_data['English Text'],list_of_lang_code=list_of_translation_language_code)"
   ]
  },
  {
   "cell_type": "markdown",
   "id": "fc0dce6c",
   "metadata": {
    "heading_collapsed": true
   },
   "source": [
    "# Test output and shape "
   ]
  },
  {
   "cell_type": "code",
   "execution_count": 54,
   "id": "2c9e87db",
   "metadata": {
    "ExecuteTime": {
     "end_time": "2021-10-01T20:32:12.597851Z",
     "start_time": "2021-10-01T20:32:12.583843Z"
    },
    "hidden": true
   },
   "outputs": [
    {
     "name": "stdout",
     "output_type": "stream",
     "text": [
      "16\n",
      "16\n",
      "16\n"
     ]
    }
   ],
   "source": [
    "print(len(list_of_Malysian_words))\n",
    "print(len(list_of_Russian_words))\n",
    "print(len(list_of_Spanish_words))"
   ]
  },
  {
   "cell_type": "code",
   "execution_count": 44,
   "id": "5706ee4a",
   "metadata": {
    "ExecuteTime": {
     "end_time": "2021-10-01T20:24:41.462130Z",
     "start_time": "2021-10-01T20:24:41.446492Z"
    },
    "hidden": true
   },
   "outputs": [
    {
     "data": {
      "text/plain": [
       "['Yang paling besar',\n",
       " 'Bandingkan nombor 3 digit',\n",
       " 'Bandingkan pecahan',\n",
       " 'Mengira nombor sehingga 10',\n",
       " 'Bahagian',\n",
       " 'Genap atau ganjil',\n",
       " 'Kenal pasti bentuk 2 dimensi',\n",
       " 'Operasi bercampur',\n",
       " 'Gerakkan watak itu',\n",
       " 'Pendaraban',\n",
       " 'Pembulatan ke seratus yang terdekat',\n",
       " 'Tolak dengan perpuluhan',\n",
       " 'Simetri.',\n",
       " 'Betul atau salah',\n",
       " 'Apa yang berlaku di antara?',\n",
       " 'Tulis nombor sehingga 10']"
      ]
     },
     "execution_count": 44,
     "metadata": {},
     "output_type": "execute_result"
    }
   ],
   "source": [
    "list_of_Malysian_words"
   ]
  },
  {
   "cell_type": "code",
   "execution_count": 46,
   "id": "2309dcd9",
   "metadata": {
    "ExecuteTime": {
     "end_time": "2021-10-01T20:24:43.130788Z",
     "start_time": "2021-10-01T20:24:43.123262Z"
    },
    "hidden": true
   },
   "outputs": [
    {
     "data": {
      "text/plain": [
       "['Самый большой',\n",
       " 'Сравнить 3 цифры',\n",
       " 'Сравнить фракции',\n",
       " 'Подсчет номеров до 10',\n",
       " 'Разделение',\n",
       " 'Четным или нечетным',\n",
       " 'Определить 2-мерные формы',\n",
       " 'Смешанные операции',\n",
       " 'Переместить характер',\n",
       " 'Умножение',\n",
       " 'Округление до ближайших сотен',\n",
       " 'Вычесть с десятиками',\n",
       " 'Симметрия',\n",
       " 'Правда или ложь',\n",
       " 'Что происходит между?',\n",
       " 'Написать номера до 10']"
      ]
     },
     "execution_count": 46,
     "metadata": {},
     "output_type": "execute_result"
    }
   ],
   "source": [
    "list_of_Russian_words"
   ]
  },
  {
   "cell_type": "code",
   "execution_count": 48,
   "id": "f659138b",
   "metadata": {
    "ExecuteTime": {
     "end_time": "2021-10-01T20:24:44.353055Z",
     "start_time": "2021-10-01T20:24:44.343520Z"
    },
    "hidden": true
   },
   "outputs": [
    {
     "data": {
      "text/plain": [
       "['Más grande',\n",
       " 'Comparar números de 3 dígitos',\n",
       " 'Comparar fracciones',\n",
       " 'Contando números hasta 10',\n",
       " 'División',\n",
       " 'Par o impar',\n",
       " 'Identificar formas 2-dimensionales.',\n",
       " 'Operaciones mixtas',\n",
       " 'Mover el personaje',\n",
       " 'Multiplicación',\n",
       " 'Redondeo a cien más cercanos',\n",
       " 'Restar con decimales',\n",
       " 'Simetría',\n",
       " 'Verdadero o falso',\n",
       " '¿Qué viene entre?',\n",
       " 'Escribe números hasta 10']"
      ]
     },
     "execution_count": 48,
     "metadata": {},
     "output_type": "execute_result"
    }
   ],
   "source": [
    "list_of_Spanish_words"
   ]
  },
  {
   "cell_type": "code",
   "execution_count": null,
   "id": "07dc360f",
   "metadata": {
    "hidden": true
   },
   "outputs": [],
   "source": []
  },
  {
   "cell_type": "markdown",
   "id": "a8fb26fc",
   "metadata": {
    "heading_collapsed": true
   },
   "source": [
    "# Load data into data frame"
   ]
  },
  {
   "cell_type": "code",
   "execution_count": 49,
   "id": "a0379cc9",
   "metadata": {
    "ExecuteTime": {
     "end_time": "2021-10-01T20:26:44.049936Z",
     "start_time": "2021-10-01T20:26:44.034391Z"
    },
    "hidden": true
   },
   "outputs": [],
   "source": [
    "csv_data['Russian']= list_of_Russian_words\n",
    "csv_data['Spanish']= list_of_Spanish_words\n",
    "csv_data['Malysian']= list_of_Spanish_words"
   ]
  },
  {
   "cell_type": "markdown",
   "id": "e73500ab",
   "metadata": {
    "ExecuteTime": {
     "end_time": "2021-10-01T20:32:58.864788Z",
     "start_time": "2021-10-01T20:32:58.851204Z"
    },
    "heading_collapsed": true
   },
   "source": [
    "# Final Data Frame"
   ]
  },
  {
   "cell_type": "code",
   "execution_count": 50,
   "id": "b96941e1",
   "metadata": {
    "ExecuteTime": {
     "end_time": "2021-10-01T20:26:49.225656Z",
     "start_time": "2021-10-01T20:26:49.205145Z"
    },
    "hidden": true
   },
   "outputs": [
    {
     "data": {
      "text/html": [
       "<div>\n",
       "<style scoped>\n",
       "    .dataframe tbody tr th:only-of-type {\n",
       "        vertical-align: middle;\n",
       "    }\n",
       "\n",
       "    .dataframe tbody tr th {\n",
       "        vertical-align: top;\n",
       "    }\n",
       "\n",
       "    .dataframe thead th {\n",
       "        text-align: right;\n",
       "    }\n",
       "</style>\n",
       "<table border=\"1\" class=\"dataframe\">\n",
       "  <thead>\n",
       "    <tr style=\"text-align: right;\">\n",
       "      <th></th>\n",
       "      <th>English Text</th>\n",
       "      <th>Russian</th>\n",
       "      <th>Spanish</th>\n",
       "      <th>Malysian</th>\n",
       "    </tr>\n",
       "  </thead>\n",
       "  <tbody>\n",
       "    <tr>\n",
       "      <th>0</th>\n",
       "      <td>Biggest</td>\n",
       "      <td>Самый большой</td>\n",
       "      <td>Más grande</td>\n",
       "      <td>Más grande</td>\n",
       "    </tr>\n",
       "    <tr>\n",
       "      <th>1</th>\n",
       "      <td>Compare 3 digit numbers</td>\n",
       "      <td>Сравнить 3 цифры</td>\n",
       "      <td>Comparar números de 3 dígitos</td>\n",
       "      <td>Comparar números de 3 dígitos</td>\n",
       "    </tr>\n",
       "    <tr>\n",
       "      <th>2</th>\n",
       "      <td>Compare fractions</td>\n",
       "      <td>Сравнить фракции</td>\n",
       "      <td>Comparar fracciones</td>\n",
       "      <td>Comparar fracciones</td>\n",
       "    </tr>\n",
       "    <tr>\n",
       "      <th>3</th>\n",
       "      <td>Counting numbers up to 10</td>\n",
       "      <td>Подсчет номеров до 10</td>\n",
       "      <td>Contando números hasta 10</td>\n",
       "      <td>Contando números hasta 10</td>\n",
       "    </tr>\n",
       "    <tr>\n",
       "      <th>4</th>\n",
       "      <td>Division</td>\n",
       "      <td>Разделение</td>\n",
       "      <td>División</td>\n",
       "      <td>División</td>\n",
       "    </tr>\n",
       "    <tr>\n",
       "      <th>5</th>\n",
       "      <td>Even or odd</td>\n",
       "      <td>Четным или нечетным</td>\n",
       "      <td>Par o impar</td>\n",
       "      <td>Par o impar</td>\n",
       "    </tr>\n",
       "    <tr>\n",
       "      <th>6</th>\n",
       "      <td>Identify 2-dimensional shapes</td>\n",
       "      <td>Определить 2-мерные формы</td>\n",
       "      <td>Identificar formas 2-dimensionales.</td>\n",
       "      <td>Identificar formas 2-dimensionales.</td>\n",
       "    </tr>\n",
       "    <tr>\n",
       "      <th>7</th>\n",
       "      <td>Mixed Operations</td>\n",
       "      <td>Смешанные операции</td>\n",
       "      <td>Operaciones mixtas</td>\n",
       "      <td>Operaciones mixtas</td>\n",
       "    </tr>\n",
       "    <tr>\n",
       "      <th>8</th>\n",
       "      <td>Move The Character</td>\n",
       "      <td>Переместить характер</td>\n",
       "      <td>Mover el personaje</td>\n",
       "      <td>Mover el personaje</td>\n",
       "    </tr>\n",
       "    <tr>\n",
       "      <th>9</th>\n",
       "      <td>Multiplication</td>\n",
       "      <td>Умножение</td>\n",
       "      <td>Multiplicación</td>\n",
       "      <td>Multiplicación</td>\n",
       "    </tr>\n",
       "    <tr>\n",
       "      <th>10</th>\n",
       "      <td>Rounding to nearest hundred</td>\n",
       "      <td>Округление до ближайших сотен</td>\n",
       "      <td>Redondeo a cien más cercanos</td>\n",
       "      <td>Redondeo a cien más cercanos</td>\n",
       "    </tr>\n",
       "    <tr>\n",
       "      <th>11</th>\n",
       "      <td>Subtract with decimals</td>\n",
       "      <td>Вычесть с десятиками</td>\n",
       "      <td>Restar con decimales</td>\n",
       "      <td>Restar con decimales</td>\n",
       "    </tr>\n",
       "    <tr>\n",
       "      <th>12</th>\n",
       "      <td>Symmetry</td>\n",
       "      <td>Симметрия</td>\n",
       "      <td>Simetría</td>\n",
       "      <td>Simetría</td>\n",
       "    </tr>\n",
       "    <tr>\n",
       "      <th>13</th>\n",
       "      <td>True or False</td>\n",
       "      <td>Правда или ложь</td>\n",
       "      <td>Verdadero o falso</td>\n",
       "      <td>Verdadero o falso</td>\n",
       "    </tr>\n",
       "    <tr>\n",
       "      <th>14</th>\n",
       "      <td>What comes between?</td>\n",
       "      <td>Что происходит между?</td>\n",
       "      <td>¿Qué viene entre?</td>\n",
       "      <td>¿Qué viene entre?</td>\n",
       "    </tr>\n",
       "    <tr>\n",
       "      <th>15</th>\n",
       "      <td>Write numbers up to 10</td>\n",
       "      <td>Написать номера до 10</td>\n",
       "      <td>Escribe números hasta 10</td>\n",
       "      <td>Escribe números hasta 10</td>\n",
       "    </tr>\n",
       "  </tbody>\n",
       "</table>\n",
       "</div>"
      ],
      "text/plain": [
       "                     English Text                        Russian  \\\n",
       "0                         Biggest                  Самый большой   \n",
       "1         Compare 3 digit numbers               Сравнить 3 цифры   \n",
       "2               Compare fractions               Сравнить фракции   \n",
       "3       Counting numbers up to 10          Подсчет номеров до 10   \n",
       "4                        Division                     Разделение   \n",
       "5                     Even or odd            Четным или нечетным   \n",
       "6   Identify 2-dimensional shapes      Определить 2-мерные формы   \n",
       "7                Mixed Operations             Смешанные операции   \n",
       "8              Move The Character           Переместить характер   \n",
       "9                  Multiplication                      Умножение   \n",
       "10    Rounding to nearest hundred  Округление до ближайших сотен   \n",
       "11         Subtract with decimals           Вычесть с десятиками   \n",
       "12                       Symmetry                      Симметрия   \n",
       "13                  True or False                Правда или ложь   \n",
       "14            What comes between?          Что происходит между?   \n",
       "15         Write numbers up to 10          Написать номера до 10   \n",
       "\n",
       "                                Spanish                             Malysian  \n",
       "0                            Más grande                           Más grande  \n",
       "1         Comparar números de 3 dígitos        Comparar números de 3 dígitos  \n",
       "2                   Comparar fracciones                  Comparar fracciones  \n",
       "3             Contando números hasta 10            Contando números hasta 10  \n",
       "4                              División                             División  \n",
       "5                           Par o impar                          Par o impar  \n",
       "6   Identificar formas 2-dimensionales.  Identificar formas 2-dimensionales.  \n",
       "7                    Operaciones mixtas                   Operaciones mixtas  \n",
       "8                    Mover el personaje                   Mover el personaje  \n",
       "9                        Multiplicación                       Multiplicación  \n",
       "10         Redondeo a cien más cercanos         Redondeo a cien más cercanos  \n",
       "11                 Restar con decimales                 Restar con decimales  \n",
       "12                             Simetría                             Simetría  \n",
       "13                    Verdadero o falso                    Verdadero o falso  \n",
       "14                    ¿Qué viene entre?                    ¿Qué viene entre?  \n",
       "15             Escribe números hasta 10             Escribe números hasta 10  "
      ]
     },
     "execution_count": 50,
     "metadata": {},
     "output_type": "execute_result"
    }
   ],
   "source": [
    "csv_data"
   ]
  },
  {
   "cell_type": "markdown",
   "id": "920fcd02",
   "metadata": {
    "heading_collapsed": true
   },
   "source": [
    "# Export to CSV"
   ]
  },
  {
   "cell_type": "code",
   "execution_count": 52,
   "id": "cdb2e380",
   "metadata": {
    "ExecuteTime": {
     "end_time": "2021-10-01T20:29:09.668527Z",
     "start_time": "2021-10-01T20:29:09.651151Z"
    },
    "hidden": true
   },
   "outputs": [],
   "source": [
    "trans_late= csv_data.to_csv('translated_language_Russian_Spanish_Malysian.csv')"
   ]
  }
 ],
 "metadata": {
  "kernelspec": {
   "display_name": "Python 3",
   "language": "python",
   "name": "python3"
  },
  "language_info": {
   "codemirror_mode": {
    "name": "ipython",
    "version": 3
   },
   "file_extension": ".py",
   "mimetype": "text/x-python",
   "name": "python",
   "nbconvert_exporter": "python",
   "pygments_lexer": "ipython3",
   "version": "3.8.8"
  },
  "toc": {
   "base_numbering": 1,
   "nav_menu": {},
   "number_sections": true,
   "sideBar": true,
   "skip_h1_title": false,
   "title_cell": "Table of Contents",
   "title_sidebar": "Contents",
   "toc_cell": false,
   "toc_position": {},
   "toc_section_display": true,
   "toc_window_display": false
  },
  "varInspector": {
   "cols": {
    "lenName": 16,
    "lenType": 16,
    "lenVar": 40
   },
   "kernels_config": {
    "python": {
     "delete_cmd_postfix": "",
     "delete_cmd_prefix": "del ",
     "library": "var_list.py",
     "varRefreshCmd": "print(var_dic_list())"
    },
    "r": {
     "delete_cmd_postfix": ") ",
     "delete_cmd_prefix": "rm(",
     "library": "var_list.r",
     "varRefreshCmd": "cat(var_dic_list()) "
    }
   },
   "types_to_exclude": [
    "module",
    "function",
    "builtin_function_or_method",
    "instance",
    "_Feature"
   ],
   "window_display": false
  }
 },
 "nbformat": 4,
 "nbformat_minor": 5
}
