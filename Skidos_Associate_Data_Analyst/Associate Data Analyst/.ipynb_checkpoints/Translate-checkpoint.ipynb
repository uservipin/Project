{
 "cells": [
  {
   "cell_type": "markdown",
   "id": "e3ab5db0",
   "metadata": {
    "ExecuteTime": {
     "end_time": "2021-10-01T11:58:23.699666Z",
     "start_time": "2021-10-01T11:58:23.693519Z"
    }
   },
   "source": [
    "## This script helps to translate `Text | String | Words` to other Language"
   ]
  },
  {
   "cell_type": "code",
   "execution_count": 2,
   "id": "43f6a178",
   "metadata": {
    "ExecuteTime": {
     "end_time": "2021-10-01T12:01:35.798115Z",
     "start_time": "2021-10-01T12:01:32.560728Z"
    }
   },
   "outputs": [
    {
     "name": "stdout",
     "output_type": "stream",
     "text": [
      "Collecting translate\n",
      "  Downloading translate-3.6.1-py2.py3-none-any.whl (12 kB)\n",
      "Requirement already satisfied: click in /home/ubuntu/anaconda3/lib/python3.8/site-packages (from translate) (7.1.2)\n",
      "Collecting libretranslatepy==2.1.1\n",
      "  Downloading libretranslatepy-2.1.1-py3-none-any.whl (3.2 kB)\n",
      "Requirement already satisfied: lxml in /home/ubuntu/anaconda3/lib/python3.8/site-packages (from translate) (4.6.3)\n",
      "Requirement already satisfied: requests in /home/ubuntu/anaconda3/lib/python3.8/site-packages (from translate) (2.25.1)\n",
      "Requirement already satisfied: certifi>=2017.4.17 in /home/ubuntu/anaconda3/lib/python3.8/site-packages (from requests->translate) (2020.12.5)\n",
      "Requirement already satisfied: idna<3,>=2.5 in /home/ubuntu/anaconda3/lib/python3.8/site-packages (from requests->translate) (2.10)\n",
      "Requirement already satisfied: urllib3<1.27,>=1.21.1 in /home/ubuntu/anaconda3/lib/python3.8/site-packages (from requests->translate) (1.26.4)\n",
      "Requirement already satisfied: chardet<5,>=3.0.2 in /home/ubuntu/anaconda3/lib/python3.8/site-packages (from requests->translate) (4.0.0)\n",
      "Installing collected packages: libretranslatepy, translate\n",
      "Successfully installed libretranslatepy-2.1.1 translate-3.6.1\n",
      "Note: you may need to restart the kernel to use updated packages.\n"
     ]
    }
   ],
   "source": [
    "pip install translate"
   ]
  },
  {
   "cell_type": "code",
   "execution_count": 1,
   "id": "c5fe0e4e",
   "metadata": {
    "ExecuteTime": {
     "end_time": "2021-10-01T13:17:27.418721Z",
     "start_time": "2021-10-01T13:17:26.945864Z"
    }
   },
   "outputs": [],
   "source": [
    "from translate import Translator\n",
    "import pandas as pd\n"
   ]
  },
  {
   "cell_type": "code",
   "execution_count": null,
   "id": "7442e962",
   "metadata": {},
   "outputs": [],
   "source": []
  },
  {
   "cell_type": "code",
   "execution_count": null,
   "id": "6fb137b1",
   "metadata": {},
   "outputs": [],
   "source": []
  },
  {
   "cell_type": "code",
   "execution_count": 6,
   "id": "6a9915f9",
   "metadata": {
    "ExecuteTime": {
     "end_time": "2021-10-01T13:18:45.996595Z",
     "start_time": "2021-10-01T13:18:45.954819Z"
    },
    "scrolled": true
   },
   "outputs": [
    {
     "name": "stdout",
     "output_type": "stream",
     "text": [
      "<class 'pandas.core.frame.DataFrame'>\n"
     ]
    },
    {
     "data": {
      "text/html": [
       "<div>\n",
       "<style scoped>\n",
       "    .dataframe tbody tr th:only-of-type {\n",
       "        vertical-align: middle;\n",
       "    }\n",
       "\n",
       "    .dataframe tbody tr th {\n",
       "        vertical-align: top;\n",
       "    }\n",
       "\n",
       "    .dataframe thead th {\n",
       "        text-align: right;\n",
       "    }\n",
       "</style>\n",
       "<table border=\"1\" class=\"dataframe\">\n",
       "  <thead>\n",
       "    <tr style=\"text-align: right;\">\n",
       "      <th></th>\n",
       "      <th>English Text</th>\n",
       "    </tr>\n",
       "  </thead>\n",
       "  <tbody>\n",
       "    <tr>\n",
       "      <th>0</th>\n",
       "      <td>Biggest</td>\n",
       "    </tr>\n",
       "    <tr>\n",
       "      <th>1</th>\n",
       "      <td>Compare 3 digit numbers</td>\n",
       "    </tr>\n",
       "    <tr>\n",
       "      <th>2</th>\n",
       "      <td>Compare fractions</td>\n",
       "    </tr>\n",
       "    <tr>\n",
       "      <th>3</th>\n",
       "      <td>Counting numbers up to 10</td>\n",
       "    </tr>\n",
       "    <tr>\n",
       "      <th>4</th>\n",
       "      <td>Division</td>\n",
       "    </tr>\n",
       "    <tr>\n",
       "      <th>5</th>\n",
       "      <td>Even or odd</td>\n",
       "    </tr>\n",
       "    <tr>\n",
       "      <th>6</th>\n",
       "      <td>Identify 2-dimensional shapes</td>\n",
       "    </tr>\n",
       "    <tr>\n",
       "      <th>7</th>\n",
       "      <td>Mixed Operations</td>\n",
       "    </tr>\n",
       "    <tr>\n",
       "      <th>8</th>\n",
       "      <td>Move The Character</td>\n",
       "    </tr>\n",
       "    <tr>\n",
       "      <th>9</th>\n",
       "      <td>Multiplication</td>\n",
       "    </tr>\n",
       "    <tr>\n",
       "      <th>10</th>\n",
       "      <td>Rounding to nearest hundred</td>\n",
       "    </tr>\n",
       "    <tr>\n",
       "      <th>11</th>\n",
       "      <td>Subtract with decimals</td>\n",
       "    </tr>\n",
       "    <tr>\n",
       "      <th>12</th>\n",
       "      <td>Symmetry</td>\n",
       "    </tr>\n",
       "    <tr>\n",
       "      <th>13</th>\n",
       "      <td>True or False</td>\n",
       "    </tr>\n",
       "    <tr>\n",
       "      <th>14</th>\n",
       "      <td>What comes between?</td>\n",
       "    </tr>\n",
       "    <tr>\n",
       "      <th>15</th>\n",
       "      <td>Write numbers up to 10</td>\n",
       "    </tr>\n",
       "  </tbody>\n",
       "</table>\n",
       "</div>"
      ],
      "text/plain": [
       "                     English Text\n",
       "0                         Biggest\n",
       "1         Compare 3 digit numbers\n",
       "2               Compare fractions\n",
       "3       Counting numbers up to 10\n",
       "4                        Division\n",
       "5                     Even or odd\n",
       "6   Identify 2-dimensional shapes\n",
       "7                Mixed Operations\n",
       "8              Move The Character\n",
       "9                  Multiplication\n",
       "10    Rounding to nearest hundred\n",
       "11         Subtract with decimals\n",
       "12                       Symmetry\n",
       "13                  True or False\n",
       "14            What comes between?\n",
       "15         Write numbers up to 10"
      ]
     },
     "execution_count": 6,
     "metadata": {},
     "output_type": "execute_result"
    }
   ],
   "source": [
    "csv_data = pd.read_csv('input_data_translation.csv')\n",
    "\n",
    "print(type(csv_data))\n",
    "\n",
    "csv_data['E']"
   ]
  },
  {
   "cell_type": "code",
   "execution_count": null,
   "id": "52983090",
   "metadata": {},
   "outputs": [],
   "source": [
    "translator= Translator(to_lang=\"hi\")\n",
    "translation = translator.translate(\"This is a pen.\")\n"
   ]
  },
  {
   "cell_type": "code",
   "execution_count": 7,
   "id": "787e543e",
   "metadata": {
    "ExecuteTime": {
     "end_time": "2021-10-01T12:54:19.641730Z",
     "start_time": "2021-10-01T12:54:19.633729Z"
    }
   },
   "outputs": [
    {
     "data": {
      "text/plain": [
       "'याही है इक कलाम है'"
      ]
     },
     "execution_count": 7,
     "metadata": {},
     "output_type": "execute_result"
    }
   ],
   "source": [
    "translation"
   ]
  },
  {
   "cell_type": "code",
   "execution_count": null,
   "id": "6b20786b",
   "metadata": {},
   "outputs": [],
   "source": [
    "Malaysian\n",
    "Russian\n",
    "Spanish"
   ]
  }
 ],
 "metadata": {
  "kernelspec": {
   "display_name": "Python 3",
   "language": "python",
   "name": "python3"
  },
  "language_info": {
   "codemirror_mode": {
    "name": "ipython",
    "version": 3
   },
   "file_extension": ".py",
   "mimetype": "text/x-python",
   "name": "python",
   "nbconvert_exporter": "python",
   "pygments_lexer": "ipython3",
   "version": "3.8.8"
  }
 },
 "nbformat": 4,
 "nbformat_minor": 5
}
