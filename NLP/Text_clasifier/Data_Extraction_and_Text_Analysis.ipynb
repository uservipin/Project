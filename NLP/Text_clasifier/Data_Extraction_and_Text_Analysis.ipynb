{
 "cells": [
  {
   "cell_type": "code",
   "execution_count": null,
   "id": "18518d54",
   "metadata": {
    "ExecuteTime": {
     "end_time": "2021-09-11T07:57:01.947022Z",
     "start_time": "2021-09-11T07:57:01.928524Z"
    }
   },
   "outputs": [],
   "source": [
    "from bs4 import BeautifulSoup\n",
    "import html\n",
    "import requests"
   ]
  },
  {
   "cell_type": "code",
   "execution_count": null,
   "id": "03423f21",
   "metadata": {
    "ExecuteTime": {
     "end_time": "2021-09-11T07:54:52.876987Z",
     "start_time": "2021-09-11T07:54:52.536711Z"
    }
   },
   "outputs": [],
   "source": [
    "data = requests.get(\"https://www.sec.gov/Archives/edgar/data/3662/0000950170-98-000413.txt\")"
   ]
  },
  {
   "cell_type": "code",
   "execution_count": null,
   "id": "764ae62f",
   "metadata": {
    "ExecuteTime": {
     "end_time": "2021-09-11T07:56:56.147594Z",
     "start_time": "2021-09-11T07:56:56.127796Z"
    },
    "scrolled": false
   },
   "outputs": [],
   "source": [
    "data"
   ]
  },
  {
   "cell_type": "code",
   "execution_count": null,
   "id": "89c13d91",
   "metadata": {
    "ExecuteTime": {
     "end_time": "2021-09-11T07:54:59.464839Z",
     "start_time": "2021-09-11T07:54:59.448862Z"
    }
   },
   "outputs": [],
   "source": [
    "data.status_code"
   ]
  },
  {
   "cell_type": "code",
   "execution_count": null,
   "id": "18ec2ae4",
   "metadata": {
    "ExecuteTime": {
     "end_time": "2021-09-11T07:55:47.731713Z",
     "start_time": "2021-09-11T07:55:47.722825Z"
    },
    "scrolled": true
   },
   "outputs": [],
   "source": [
    "data.content"
   ]
  },
  {
   "cell_type": "code",
   "execution_count": null,
   "id": "3df20932",
   "metadata": {
    "ExecuteTime": {
     "end_time": "2021-09-11T07:55:53.383232Z",
     "start_time": "2021-09-11T07:55:53.355668Z"
    }
   },
   "outputs": [],
   "source": [
    "soup = BeautifulSoup(data.content, 'html.parser')\n",
    "soup"
   ]
  },
  {
   "cell_type": "code",
   "execution_count": null,
   "id": "9ff6de0a",
   "metadata": {
    "ExecuteTime": {
     "end_time": "2021-09-11T07:56:02.413916Z",
     "start_time": "2021-09-11T07:56:02.404576Z"
    }
   },
   "outputs": [],
   "source": [
    "print(soup.prettify())"
   ]
  },
  {
   "cell_type": "code",
   "execution_count": null,
   "id": "85e0c149",
   "metadata": {
    "ExecuteTime": {
     "end_time": "2021-09-10T18:04:20.066456Z",
     "start_time": "2021-09-10T18:04:19.889699Z"
    }
   },
   "outputs": [],
   "source": [
    "list(soup.children)"
   ]
  },
  {
   "cell_type": "code",
   "execution_count": null,
   "id": "f657f7e9",
   "metadata": {
    "ExecuteTime": {
     "end_time": "2021-09-10T18:04:36.310505Z",
     "start_time": "2021-09-10T18:04:36.286497Z"
    },
    "scrolled": true
   },
   "outputs": [],
   "source": [
    "[type(item) for item in list(soup.children)]"
   ]
  },
  {
   "cell_type": "code",
   "execution_count": null,
   "id": "232b07d8",
   "metadata": {
    "ExecuteTime": {
     "end_time": "2021-09-10T18:04:43.873053Z",
     "start_time": "2021-09-10T18:04:43.849170Z"
    }
   },
   "outputs": [],
   "source": [
    "html = list(soup.children)[2]\n",
    "\n",
    "html"
   ]
  },
  {
   "cell_type": "code",
   "execution_count": null,
   "id": "6c571e3f",
   "metadata": {
    "ExecuteTime": {
     "end_time": "2021-09-10T17:43:19.445627Z",
     "start_time": "2021-09-10T17:43:19.426622Z"
    },
    "scrolled": true
   },
   "outputs": [],
   "source": [
    "soup.find_all('p')"
   ]
  },
  {
   "cell_type": "code",
   "execution_count": null,
   "id": "ee31dc29",
   "metadata": {
    "ExecuteTime": {
     "end_time": "2021-09-10T17:43:57.928780Z",
     "start_time": "2021-09-10T17:43:57.907808Z"
    },
    "scrolled": false
   },
   "outputs": [],
   "source": [
    "soup.find_all('p')[2].get_text()"
   ]
  },
  {
   "cell_type": "code",
   "execution_count": null,
   "id": "30731bd1",
   "metadata": {},
   "outputs": [],
   "source": []
  },
  {
   "cell_type": "markdown",
   "id": "1c4a14f3",
   "metadata": {},
   "source": [
    "# Search by Tags"
   ]
  },
  {
   "cell_type": "code",
   "execution_count": null,
   "id": "4dc3252b",
   "metadata": {},
   "outputs": [],
   "source": []
  },
  {
   "cell_type": "code",
   "execution_count": null,
   "id": "aee8d284",
   "metadata": {
    "ExecuteTime": {
     "end_time": "2021-09-10T17:47:16.666825Z",
     "start_time": "2021-09-10T17:47:15.715620Z"
    },
    "scrolled": true
   },
   "outputs": [],
   "source": [
    "page = requests.get(\"https://www.sec.gov/Archives/edgar/data/3662/0000950170-98-000413.txt\")\n",
    "soup = BeautifulSoup(page.content, 'html.parser')\n",
    "soup"
   ]
  },
  {
   "cell_type": "code",
   "execution_count": null,
   "id": "00846c5f",
   "metadata": {},
   "outputs": [],
   "source": []
  },
  {
   "cell_type": "code",
   "execution_count": null,
   "id": "34c39a40",
   "metadata": {
    "ExecuteTime": {
     "end_time": "2021-09-10T17:54:04.520494Z",
     "start_time": "2021-09-10T17:54:04.497426Z"
    }
   },
   "outputs": [],
   "source": [
    "t =soup.find_all('p', class_='note')\n",
    "t"
   ]
  },
  {
   "cell_type": "code",
   "execution_count": null,
   "id": "e779e28f",
   "metadata": {
    "ExecuteTime": {
     "end_time": "2021-09-10T17:55:31.122250Z",
     "start_time": "2021-09-10T17:55:31.101910Z"
    }
   },
   "outputs": [],
   "source": [
    "soup.find_all(id=\"header\")"
   ]
  }
 ],
 "metadata": {
  "kernelspec": {
   "display_name": "Python 3",
   "language": "python",
   "name": "python3"
  },
  "language_info": {
   "codemirror_mode": {
    "name": "ipython",
    "version": 3
   },
   "file_extension": ".py",
   "mimetype": "text/x-python",
   "name": "python",
   "nbconvert_exporter": "python",
   "pygments_lexer": "ipython3",
   "version": "3.8.8"
  }
 },
 "nbformat": 4,
 "nbformat_minor": 5
}
