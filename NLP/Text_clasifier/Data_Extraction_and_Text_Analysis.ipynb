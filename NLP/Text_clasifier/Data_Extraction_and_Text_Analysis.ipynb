{
 "cells": [
  {
   "cell_type": "code",
   "execution_count": 1,
   "id": "18518d54",
   "metadata": {
    "ExecuteTime": {
     "end_time": "2021-10-02T23:37:12.339633Z",
     "start_time": "2021-10-02T23:37:10.447880Z"
    },
    "scrolled": true
   },
   "outputs": [
    {
     "name": "stderr",
     "output_type": "stream",
     "text": [
      "[nltk_data] Downloading package punkt to\n",
      "[nltk_data]     C:\\Users\\kumar\\AppData\\Roaming\\nltk_data...\n",
      "[nltk_data]   Package punkt is already up-to-date!\n"
     ]
    },
    {
     "data": {
      "text/plain": [
       "True"
      ]
     },
     "execution_count": 1,
     "metadata": {},
     "output_type": "execute_result"
    }
   ],
   "source": [
    "from bs4 import BeautifulSoup\n",
    "import html\n",
    "import requests\n",
    "import pandas as pd\n",
    "import numpy as np\n",
    "import re \n",
    "import time\n",
    "\n",
    "from nltk.tokenize import sent_tokenize, word_tokenize\n",
    "import nltk\n",
    "nltk.download('punkt')"
   ]
  },
  {
   "cell_type": "code",
   "execution_count": null,
   "id": "50420abf",
   "metadata": {},
   "outputs": [],
   "source": []
  },
  {
   "cell_type": "code",
   "execution_count": 2,
   "id": "d807bd4e",
   "metadata": {
    "ExecuteTime": {
     "end_time": "2021-10-02T23:37:12.879798Z",
     "start_time": "2021-10-02T23:37:12.342641Z"
    },
    "scrolled": true
   },
   "outputs": [
    {
     "data": {
      "text/html": [
       "<div>\n",
       "<style scoped>\n",
       "    .dataframe tbody tr th:only-of-type {\n",
       "        vertical-align: middle;\n",
       "    }\n",
       "\n",
       "    .dataframe tbody tr th {\n",
       "        vertical-align: top;\n",
       "    }\n",
       "\n",
       "    .dataframe thead th {\n",
       "        text-align: right;\n",
       "    }\n",
       "</style>\n",
       "<table border=\"1\" class=\"dataframe\">\n",
       "  <thead>\n",
       "    <tr style=\"text-align: right;\">\n",
       "      <th></th>\n",
       "      <th>Stop_Words</th>\n",
       "      <th>Posative_Words</th>\n",
       "      <th>Negative_words</th>\n",
       "      <th>Uncertanity_Word</th>\n",
       "      <th>Constraning_Word</th>\n",
       "    </tr>\n",
       "  </thead>\n",
       "  <tbody>\n",
       "    <tr>\n",
       "      <th>0</th>\n",
       "      <td>a</td>\n",
       "      <td>a+</td>\n",
       "      <td>2-faced</td>\n",
       "      <td>ABEYANCE</td>\n",
       "      <td>ABIDE</td>\n",
       "    </tr>\n",
       "    <tr>\n",
       "      <th>1</th>\n",
       "      <td>a's</td>\n",
       "      <td>abound</td>\n",
       "      <td>2-faces</td>\n",
       "      <td>ABEYANCES</td>\n",
       "      <td>ABIDING</td>\n",
       "    </tr>\n",
       "    <tr>\n",
       "      <th>2</th>\n",
       "      <td>able</td>\n",
       "      <td>abounds</td>\n",
       "      <td>abnormal</td>\n",
       "      <td>ALMOST</td>\n",
       "      <td>BOUND</td>\n",
       "    </tr>\n",
       "    <tr>\n",
       "      <th>3</th>\n",
       "      <td>about</td>\n",
       "      <td>abundance</td>\n",
       "      <td>abolish</td>\n",
       "      <td>ALTERATION</td>\n",
       "      <td>BOUNDED</td>\n",
       "    </tr>\n",
       "    <tr>\n",
       "      <th>4</th>\n",
       "      <td>above</td>\n",
       "      <td>abundant</td>\n",
       "      <td>abominable</td>\n",
       "      <td>ALTERATIONS</td>\n",
       "      <td>COMMIT</td>\n",
       "    </tr>\n",
       "    <tr>\n",
       "      <th>...</th>\n",
       "      <td>...</td>\n",
       "      <td>...</td>\n",
       "      <td>...</td>\n",
       "      <td>...</td>\n",
       "      <td>...</td>\n",
       "    </tr>\n",
       "    <tr>\n",
       "      <th>4778</th>\n",
       "      <td>NaN</td>\n",
       "      <td>NaN</td>\n",
       "      <td>zaps</td>\n",
       "      <td>NaN</td>\n",
       "      <td>NaN</td>\n",
       "    </tr>\n",
       "    <tr>\n",
       "      <th>4779</th>\n",
       "      <td>NaN</td>\n",
       "      <td>NaN</td>\n",
       "      <td>zealot</td>\n",
       "      <td>NaN</td>\n",
       "      <td>NaN</td>\n",
       "    </tr>\n",
       "    <tr>\n",
       "      <th>4780</th>\n",
       "      <td>NaN</td>\n",
       "      <td>NaN</td>\n",
       "      <td>zealous</td>\n",
       "      <td>NaN</td>\n",
       "      <td>NaN</td>\n",
       "    </tr>\n",
       "    <tr>\n",
       "      <th>4781</th>\n",
       "      <td>NaN</td>\n",
       "      <td>NaN</td>\n",
       "      <td>zealously</td>\n",
       "      <td>NaN</td>\n",
       "      <td>NaN</td>\n",
       "    </tr>\n",
       "    <tr>\n",
       "      <th>4782</th>\n",
       "      <td>NaN</td>\n",
       "      <td>NaN</td>\n",
       "      <td>zombie</td>\n",
       "      <td>NaN</td>\n",
       "      <td>NaN</td>\n",
       "    </tr>\n",
       "  </tbody>\n",
       "</table>\n",
       "<p>4783 rows × 5 columns</p>\n",
       "</div>"
      ],
      "text/plain": [
       "     Stop_Words Posative_Words Negative_words Uncertanity_Word  \\\n",
       "0             a             a+        2-faced         ABEYANCE   \n",
       "1           a's         abound        2-faces        ABEYANCES   \n",
       "2          able        abounds       abnormal           ALMOST   \n",
       "3         about      abundance        abolish       ALTERATION   \n",
       "4         above       abundant     abominable      ALTERATIONS   \n",
       "...         ...            ...            ...              ...   \n",
       "4778        NaN            NaN           zaps              NaN   \n",
       "4779        NaN            NaN         zealot              NaN   \n",
       "4780        NaN            NaN        zealous              NaN   \n",
       "4781        NaN            NaN      zealously              NaN   \n",
       "4782        NaN            NaN         zombie              NaN   \n",
       "\n",
       "     Constraning_Word  \n",
       "0               ABIDE  \n",
       "1             ABIDING  \n",
       "2               BOUND  \n",
       "3             BOUNDED  \n",
       "4              COMMIT  \n",
       "...               ...  \n",
       "4778              NaN  \n",
       "4779              NaN  \n",
       "4780              NaN  \n",
       "4781              NaN  \n",
       "4782              NaN  \n",
       "\n",
       "[4783 rows x 5 columns]"
      ]
     },
     "execution_count": 2,
     "metadata": {},
     "output_type": "execute_result"
    }
   ],
   "source": [
    "sheet_positive_negetive_stop_words_constrain_uncertanity_words= pd.read_excel('C:/Users/kumar/OneDrive/Programm/Project/NLP/NLP_problem_Statement/sheet_of_Positive_negative_Stop_Word_constrain_uncertenity_words.xlsx')\n",
    "sheet_positive_negetive_stop_words_constrain_uncertanity_words"
   ]
  },
  {
   "cell_type": "code",
   "execution_count": 3,
   "id": "e470f85d",
   "metadata": {
    "ExecuteTime": {
     "end_time": "2021-10-02T23:37:12.894784Z",
     "start_time": "2021-10-02T23:37:12.881783Z"
    },
    "run_control": {
     "marked": true
    }
   },
   "outputs": [],
   "source": [
    "\n",
    "CIK1=[]\n",
    "CONAME1=[]\n",
    "FYRMO1=[]\n",
    "FDATE1=[]\n",
    "FORM1=[]\n",
    "SECFNAME1=[]\n",
    "pos_score =[]\n",
    "neg_score = []\n",
    "pol_score= []\n",
    "avg_sen_len = []\n",
    "percentage_of_com_words= []\n",
    "f_ind= []\n",
    "complex_wor_count= []\n",
    "word_counter =[]\n",
    "uncer_score = []\n",
    "const_score = []\n",
    "pos_wor_prop= []\n",
    "neg_wor_prop= []\n",
    "uncer_wor_prop= []\n",
    "cons_wor_prop= []\n",
    "constraning_words_whole_report=[]"
   ]
  },
  {
   "cell_type": "code",
   "execution_count": null,
   "id": "81d0ad86",
   "metadata": {
    "ExecuteTime": {
     "end_time": "2021-10-02T23:50:06.341680Z",
     "start_time": "2021-10-02T23:48:43.430Z"
    },
    "run_control": {
     "marked": true
    }
   },
   "outputs": [],
   "source": [
    "def fetch_data(link):\n",
    "    headers = {'User-Agent': 'Mozilla/5.0 (Macintosh; Intel Mac OS X 10_11_5) AppleWebKit/537.36 (KHTML, like Gecko) Chrome/50.0.2661.102 Safari/537.36'}\n",
    "    \n",
    "    data = requests.get(link)\n",
    "    time.sleep(5)\n",
    "    return data"
   ]
  },
  {
   "cell_type": "code",
   "execution_count": null,
   "id": "764ae62f",
   "metadata": {
    "ExecuteTime": {
     "end_time": "2021-10-02T23:50:06.344680Z",
     "start_time": "2021-10-02T23:48:45.472Z"
    }
   },
   "outputs": [],
   "source": [
    "# data.status_code"
   ]
  },
  {
   "cell_type": "code",
   "execution_count": null,
   "id": "18ec2ae4",
   "metadata": {
    "ExecuteTime": {
     "end_time": "2021-10-02T23:50:06.346678Z",
     "start_time": "2021-10-02T23:48:45.973Z"
    },
    "scrolled": true
   },
   "outputs": [],
   "source": [
    "# data.content"
   ]
  },
  {
   "cell_type": "code",
   "execution_count": null,
   "id": "c6788cb3",
   "metadata": {
    "ExecuteTime": {
     "end_time": "2021-10-02T23:50:06.349678Z",
     "start_time": "2021-10-02T23:48:46.572Z"
    }
   },
   "outputs": [],
   "source": [
    "def BeautifulSoup_data(input_data_content, par):\n",
    "    soup = BeautifulSoup(input_data_content, par)\n",
    "#     print(soup)\n",
    "#     print(soup.prettify())\n",
    "#     [type(item) for item in list(soup.children)]\n",
    "#     list(soup.children)\n",
    "#     html_text = list(soup.children)[1].get_text()\n",
    "#     type(html_text)\n",
    "    return soup    "
   ]
  },
  {
   "cell_type": "code",
   "execution_count": null,
   "id": "ea9845c7",
   "metadata": {
    "ExecuteTime": {
     "end_time": "2021-09-15T10:47:23.221375Z",
     "start_time": "2021-09-15T10:47:23.179372Z"
    }
   },
   "outputs": [],
   "source": []
  },
  {
   "cell_type": "code",
   "execution_count": null,
   "id": "8ac25c42",
   "metadata": {
    "ExecuteTime": {
     "end_time": "2021-10-02T23:50:06.351679Z",
     "start_time": "2021-10-02T23:48:48.827Z"
    },
    "run_control": {
     "marked": true
    }
   },
   "outputs": [],
   "source": [
    "def establish_connection(link):\n",
    "    data=  fetch_data(link)\n",
    "    print(data.status_code)\n",
    "    while(data.status_code != 200):\n",
    "        data = fetch_data(link)\n",
    "        print('data not connected to source')\n",
    "        if(data.status_code == 200):\n",
    "            print('welcome data connect successfully')\n",
    "            break\n",
    "    return data"
   ]
  },
  {
   "cell_type": "code",
   "execution_count": null,
   "id": "df9c5b3d",
   "metadata": {
    "ExecuteTime": {
     "start_time": "2021-10-02T23:50:14.706Z"
    }
   },
   "outputs": [
    {
     "name": "stdout",
     "output_type": "stream",
     "text": [
      "403\n",
      "data not connected to source\n",
      "data not connected to source\n",
      "data not connected to source\n",
      "data not connected to source\n",
      "data not connected to source\n",
      "data not connected to source\n",
      "data not connected to source\n",
      "data not connected to source\n",
      "data not connected to source\n",
      "data not connected to source\n",
      "data not connected to source\n",
      "data not connected to source\n",
      "data not connected to source\n",
      "data not connected to source\n",
      "data not connected to source\n",
      "data not connected to source\n",
      "data not connected to source\n",
      "data not connected to source\n",
      "data not connected to source\n"
     ]
    }
   ],
   "source": [
    "url ='https://www.sec.gov/Archives/edgar/data/3662/0000950170-98-000413.txt'\n",
    "tt= establish_connection(url)\n",
    "print(tt)"
   ]
  },
  {
   "cell_type": "code",
   "execution_count": null,
   "id": "065f1bfd",
   "metadata": {},
   "outputs": [],
   "source": []
  },
  {
   "cell_type": "code",
   "execution_count": 9,
   "id": "a162a79f",
   "metadata": {
    "ExecuteTime": {
     "end_time": "2021-10-02T23:37:12.989000Z",
     "start_time": "2021-10-02T23:37:12.974995Z"
    }
   },
   "outputs": [],
   "source": [
    "# soup"
   ]
  },
  {
   "cell_type": "code",
   "execution_count": 10,
   "id": "3df20932",
   "metadata": {
    "ExecuteTime": {
     "end_time": "2021-10-02T23:37:13.004214Z",
     "start_time": "2021-10-02T23:37:12.990997Z"
    }
   },
   "outputs": [],
   "source": [
    "# soup = BeautifulSoup(data.content, 'html.parser')\n",
    "# soup"
   ]
  },
  {
   "cell_type": "code",
   "execution_count": 11,
   "id": "9ff6de0a",
   "metadata": {
    "ExecuteTime": {
     "end_time": "2021-10-02T23:37:13.020236Z",
     "start_time": "2021-10-02T23:37:13.006224Z"
    },
    "scrolled": true
   },
   "outputs": [],
   "source": [
    "# print(soup.prettify())"
   ]
  },
  {
   "cell_type": "code",
   "execution_count": 12,
   "id": "f657f7e9",
   "metadata": {
    "ExecuteTime": {
     "end_time": "2021-10-02T23:37:13.036239Z",
     "start_time": "2021-10-02T23:37:13.022235Z"
    },
    "scrolled": false
   },
   "outputs": [],
   "source": [
    "# [type(item) for item in list(soup.children)]"
   ]
  },
  {
   "cell_type": "code",
   "execution_count": 13,
   "id": "e705dd55",
   "metadata": {
    "ExecuteTime": {
     "end_time": "2021-10-02T23:37:13.052243Z",
     "start_time": "2021-10-02T23:37:13.038237Z"
    }
   },
   "outputs": [],
   "source": [
    "# len(list(soup.children))"
   ]
  },
  {
   "cell_type": "code",
   "execution_count": 14,
   "id": "3364b515",
   "metadata": {
    "ExecuteTime": {
     "end_time": "2021-10-02T23:37:13.068245Z",
     "start_time": "2021-10-02T23:37:13.054237Z"
    }
   },
   "outputs": [],
   "source": [
    "# soup.children"
   ]
  },
  {
   "cell_type": "code",
   "execution_count": 15,
   "id": "9c3ee8b0",
   "metadata": {
    "ExecuteTime": {
     "end_time": "2021-10-02T23:37:13.084251Z",
     "start_time": "2021-10-02T23:37:13.070246Z"
    }
   },
   "outputs": [],
   "source": [
    "def get_text_from_report(soup):\n",
    "    [type(item) for item in list(soup.children)]\n",
    "    html_text = list(soup.children)[1].get_text()\n",
    "    return html_text   "
   ]
  },
  {
   "cell_type": "code",
   "execution_count": 16,
   "id": "127eed19",
   "metadata": {
    "ExecuteTime": {
     "end_time": "2021-10-02T23:37:13.100253Z",
     "start_time": "2021-10-02T23:37:13.086249Z"
    }
   },
   "outputs": [],
   "source": [
    "# text_from_report = get_text_from_report(soup)"
   ]
  },
  {
   "cell_type": "code",
   "execution_count": 17,
   "id": "2a0c89d6",
   "metadata": {
    "ExecuteTime": {
     "end_time": "2021-10-02T23:37:13.116257Z",
     "start_time": "2021-10-02T23:37:13.102251Z"
    }
   },
   "outputs": [],
   "source": [
    "# html_text = list(soup.children)[1].get_text()\n",
    "# html_text"
   ]
  },
  {
   "cell_type": "code",
   "execution_count": 18,
   "id": "0a9d9453",
   "metadata": {
    "ExecuteTime": {
     "end_time": "2021-10-02T23:37:13.132260Z",
     "start_time": "2021-10-02T23:37:13.117255Z"
    }
   },
   "outputs": [],
   "source": [
    "# type(html_text)"
   ]
  },
  {
   "cell_type": "markdown",
   "id": "1c4a14f3",
   "metadata": {},
   "source": [
    "# Search by Tags"
   ]
  },
  {
   "cell_type": "code",
   "execution_count": 19,
   "id": "7a0f0173",
   "metadata": {
    "ExecuteTime": {
     "end_time": "2021-10-02T23:37:13.147446Z",
     "start_time": "2021-10-02T23:37:13.134261Z"
    }
   },
   "outputs": [],
   "source": [
    "def search_by_tag(soup1):\n",
    "    list_of_tag= [tag.name for tag in soup1.find_all()]\n",
    "    set_of_tag = set()\n",
    "    for tags in list_of_tag:\n",
    "        set_of_tag.add(tags)\n",
    "#     lenght = len(soup.find_all(\"text\"))\n",
    "    return set_of_tag    "
   ]
  },
  {
   "cell_type": "code",
   "execution_count": 20,
   "id": "28c4132b",
   "metadata": {
    "ExecuteTime": {
     "end_time": "2021-10-02T23:37:13.163451Z",
     "start_time": "2021-10-02T23:37:13.149446Z"
    }
   },
   "outputs": [],
   "source": [
    "# tag_name = search_by_tag(soup)"
   ]
  },
  {
   "cell_type": "code",
   "execution_count": 21,
   "id": "00846c5f",
   "metadata": {
    "ExecuteTime": {
     "end_time": "2021-10-02T23:37:13.179453Z",
     "start_time": "2021-10-02T23:37:13.165450Z"
    }
   },
   "outputs": [],
   "source": [
    "# list_of_tag= [tag.name for tag in soup.find_all()]"
   ]
  },
  {
   "cell_type": "code",
   "execution_count": 22,
   "id": "224951d3",
   "metadata": {
    "ExecuteTime": {
     "end_time": "2021-10-02T23:37:13.195456Z",
     "start_time": "2021-10-02T23:37:13.181437Z"
    }
   },
   "outputs": [],
   "source": [
    "# set_of_tag = set()"
   ]
  },
  {
   "cell_type": "code",
   "execution_count": 23,
   "id": "bea67671",
   "metadata": {
    "ExecuteTime": {
     "end_time": "2021-10-02T23:37:13.211460Z",
     "start_time": "2021-10-02T23:37:13.198458Z"
    },
    "code_folding": []
   },
   "outputs": [],
   "source": [
    "# for tags in list_of_tag:\n",
    "#     set_of_tag.add(tags)"
   ]
  },
  {
   "cell_type": "code",
   "execution_count": 24,
   "id": "2f2346d5",
   "metadata": {
    "ExecuteTime": {
     "end_time": "2021-10-02T23:37:13.227464Z",
     "start_time": "2021-10-02T23:37:13.213460Z"
    },
    "run_control": {
     "marked": true
    },
    "scrolled": false
   },
   "outputs": [],
   "source": [
    "# set_of_tag"
   ]
  },
  {
   "cell_type": "code",
   "execution_count": 25,
   "id": "82801158",
   "metadata": {
    "ExecuteTime": {
     "end_time": "2021-10-02T23:37:13.243468Z",
     "start_time": "2021-10-02T23:37:13.231464Z"
    }
   },
   "outputs": [],
   "source": [
    "# print(len(soup.find_all(\"text\")))"
   ]
  },
  {
   "cell_type": "code",
   "execution_count": 26,
   "id": "d58dc282",
   "metadata": {
    "ExecuteTime": {
     "end_time": "2021-10-02T23:37:13.258626Z",
     "start_time": "2021-10-02T23:37:13.245463Z"
    }
   },
   "outputs": [],
   "source": [
    "# soup.find_all(\"text\")"
   ]
  },
  {
   "cell_type": "markdown",
   "id": "9d09521b",
   "metadata": {
    "ExecuteTime": {
     "end_time": "2021-09-12T02:53:40.078374Z",
     "start_time": "2021-09-12T02:53:40.051839Z"
    }
   },
   "source": [
    "t =soup.find_all('p', class_='note')\n",
    "t"
   ]
  },
  {
   "cell_type": "markdown",
   "id": "c7c2f8e3",
   "metadata": {
    "ExecuteTime": {
     "end_time": "2021-09-10T17:55:31.122250Z",
     "start_time": "2021-09-10T17:55:31.101910Z"
    }
   },
   "source": [
    "soup.find_all(id=\"header\")"
   ]
  },
  {
   "cell_type": "markdown",
   "id": "08fc0c89",
   "metadata": {
    "ExecuteTime": {
     "end_time": "2021-09-13T02:19:56.266483Z",
     "start_time": "2021-09-13T02:19:55.871318Z"
    }
   },
   "source": [
    "f = open('file.txt', 'r')\n",
    "f.read()"
   ]
  },
  {
   "cell_type": "markdown",
   "id": "e735a09c",
   "metadata": {},
   "source": [
    "# Apply NLP"
   ]
  },
  {
   "cell_type": "markdown",
   "id": "6c3293a1",
   "metadata": {},
   "source": [
    "1. word tokenizer \n",
    "2. sentence tokenizer "
   ]
  },
  {
   "cell_type": "markdown",
   "id": "09495c71",
   "metadata": {},
   "source": [
    "Extracting Derived variables\n",
    "1. Positive score\n",
    "2. Negative score\n",
    "3. polarity \n",
    "4. subjectivity"
   ]
  },
  {
   "cell_type": "markdown",
   "id": "7e1301bb",
   "metadata": {},
   "source": [
    "Sentiment score categorization\n",
    "This is determined by grouping the Polarity score values in the following groups.\n",
    " \n",
    "1. Most Negative: Polarity Score below -0.5\n",
    " \n",
    "2. Negative: Polarity Score between -0.5 and 0\n",
    " \n",
    "3. Neutral: Polarity Score equal to 0\n",
    " \n",
    "4. Positive: Polarity Score between 0 and 0.5\n",
    " \n",
    "5. Very Positive: Polarity Score above 0.5\n"
   ]
  },
  {
   "cell_type": "markdown",
   "id": "a70155ed",
   "metadata": {
    "run_control": {
     "marked": true
    }
   },
   "source": [
    "Analysis of Readability\n",
    "1. Average Sentence Length \n",
    "2. Percentage of Complex words \n",
    "3. Average Number of Words Per Sentence\n",
    "4. Complex Word Count\n",
    "5. Word Count\n",
    "6. Syllable Count Per Word\n",
    "7. Passive Words\n",
    "8. Average Word Length\n",
    "\n",
    "\n"
   ]
  },
  {
   "cell_type": "markdown",
   "id": "c19fa84c",
   "metadata": {},
   "source": [
    "# Word Tokenizer"
   ]
  },
  {
   "cell_type": "code",
   "execution_count": 27,
   "id": "69bd35af",
   "metadata": {
    "ExecuteTime": {
     "end_time": "2021-10-02T23:37:14.450569Z",
     "start_time": "2021-10-02T23:37:14.439545Z"
    }
   },
   "outputs": [],
   "source": [
    "def word_token(text_from_report):\n",
    "    word_token = word_tokenize(text_from_report)\n",
    "    return word_token\n",
    "    \n",
    "    "
   ]
  },
  {
   "cell_type": "code",
   "execution_count": 28,
   "id": "d31798fa",
   "metadata": {
    "ExecuteTime": {
     "end_time": "2021-10-02T23:37:14.466573Z",
     "start_time": "2021-10-02T23:37:14.452569Z"
    }
   },
   "outputs": [],
   "source": [
    "# w_token = word_token(text_from_report)"
   ]
  },
  {
   "cell_type": "markdown",
   "id": "8e977a83",
   "metadata": {
    "ExecuteTime": {
     "end_time": "2021-09-15T10:54:23.395107Z",
     "start_time": "2021-09-15T10:54:23.379571Z"
    }
   },
   "source": [
    "# Sentence Tokenizer"
   ]
  },
  {
   "cell_type": "code",
   "execution_count": 29,
   "id": "c8c7a83a",
   "metadata": {
    "ExecuteTime": {
     "end_time": "2021-10-02T23:37:14.845068Z",
     "start_time": "2021-10-02T23:37:14.828962Z"
    }
   },
   "outputs": [],
   "source": [
    "def sen_token(text_from_report):\n",
    "    sent_token = sent_tokenize(text_from_report)\n",
    "    return sent_token"
   ]
  },
  {
   "cell_type": "code",
   "execution_count": 30,
   "id": "5bacb56d",
   "metadata": {
    "ExecuteTime": {
     "end_time": "2021-10-02T23:37:14.861071Z",
     "start_time": "2021-10-02T23:37:14.847065Z"
    }
   },
   "outputs": [],
   "source": [
    "# s_token = sen_token(text_from_report)"
   ]
  },
  {
   "cell_type": "code",
   "execution_count": 31,
   "id": "017398d2",
   "metadata": {
    "ExecuteTime": {
     "end_time": "2021-10-02T23:37:14.877075Z",
     "start_time": "2021-10-02T23:37:14.863069Z"
    }
   },
   "outputs": [],
   "source": [
    "# s_token"
   ]
  },
  {
   "cell_type": "code",
   "execution_count": 32,
   "id": "15df8c29",
   "metadata": {
    "ExecuteTime": {
     "end_time": "2021-10-02T23:37:14.893113Z",
     "start_time": "2021-10-02T23:37:14.879078Z"
    }
   },
   "outputs": [],
   "source": [
    "# print(type(s_token))\n",
    "# print(len(s_token))\n",
    "# print(type(w_token))\n",
    "# print(len(w_token))"
   ]
  },
  {
   "cell_type": "markdown",
   "id": "94a4de26",
   "metadata": {},
   "source": [
    "# Total No of Sentence"
   ]
  },
  {
   "cell_type": "code",
   "execution_count": null,
   "id": "40b59609",
   "metadata": {},
   "outputs": [],
   "source": []
  },
  {
   "cell_type": "code",
   "execution_count": 33,
   "id": "532365ce",
   "metadata": {
    "ExecuteTime": {
     "end_time": "2021-10-02T23:37:15.226711Z",
     "start_time": "2021-10-02T23:37:15.220709Z"
    }
   },
   "outputs": [],
   "source": [
    "def total_no_of_sentence(s_token):\n",
    "    Total_sentence= len(s_token)\n",
    "    return Total_sentence"
   ]
  },
  {
   "cell_type": "code",
   "execution_count": 34,
   "id": "71fa5802",
   "metadata": {
    "ExecuteTime": {
     "end_time": "2021-10-02T23:37:15.242729Z",
     "start_time": "2021-10-02T23:37:15.228220Z"
    }
   },
   "outputs": [],
   "source": [
    "# Total_no_of_sentence=total_no_of_sentence(s_token)\n",
    "# Total_no_of_sentence"
   ]
  },
  {
   "cell_type": "markdown",
   "id": "530416f6",
   "metadata": {
    "ExecuteTime": {
     "end_time": "2021-09-13T03:09:59.550462Z",
     "start_time": "2021-09-13T03:09:59.525936Z"
    }
   },
   "source": [
    "# Filter text using Regular Expression "
   ]
  },
  {
   "cell_type": "code",
   "execution_count": 35,
   "id": "e89eec48",
   "metadata": {
    "ExecuteTime": {
     "end_time": "2021-10-02T23:37:15.621852Z",
     "start_time": "2021-10-02T23:37:15.603848Z"
    }
   },
   "outputs": [],
   "source": [
    "def filter_word_using_re(w_token):\n",
    "    clean_test=[]\n",
    "    clean= ''\n",
    "    for word in w_token:\n",
    "        res= re.sub(r'[^\\w\\s]|[^\\D]',\"\",word)\n",
    "        if res != \"\":\n",
    "            clean= res\n",
    "            clean_test.append(clean)\n",
    "            \n",
    "    clean_test_in_lower_case= []\n",
    "    for word in clean_test:\n",
    "        t= word.lower()\n",
    "        clean_test_in_lower_case.append(t)\n",
    "\n",
    "    return clean_test_in_lower_case "
   ]
  },
  {
   "cell_type": "code",
   "execution_count": 36,
   "id": "40568ad1",
   "metadata": {
    "ExecuteTime": {
     "end_time": "2021-10-02T23:37:15.637856Z",
     "start_time": "2021-10-02T23:37:15.623852Z"
    }
   },
   "outputs": [],
   "source": [
    "# clean_test_in_lower_case = filter_word_using_re(w_token)"
   ]
  },
  {
   "cell_type": "code",
   "execution_count": 37,
   "id": "9190b04a",
   "metadata": {
    "ExecuteTime": {
     "end_time": "2021-10-02T23:37:15.653860Z",
     "start_time": "2021-10-02T23:37:15.639855Z"
    }
   },
   "outputs": [],
   "source": [
    "# clean_test_in_lower_case"
   ]
  },
  {
   "cell_type": "markdown",
   "id": "fbac1054",
   "metadata": {},
   "source": [
    "clean word_token list \n",
    "remove all non word and digit character"
   ]
  },
  {
   "cell_type": "markdown",
   "id": "6589b4de",
   "metadata": {},
   "source": [
    "# Total No. of Words after removing Non text character"
   ]
  },
  {
   "cell_type": "code",
   "execution_count": 38,
   "id": "c2fe2136",
   "metadata": {
    "ExecuteTime": {
     "end_time": "2021-10-02T23:37:16.401024Z",
     "start_time": "2021-10-02T23:37:16.385023Z"
    }
   },
   "outputs": [],
   "source": [
    "def Total_No_of_Words_after_removing_Non_text_character(clean_test_in_lower_case):\n",
    "    Total_words= len(clean_test_in_lower_case)\n",
    "    return Total_words     "
   ]
  },
  {
   "cell_type": "markdown",
   "id": "340ab425",
   "metadata": {},
   "source": [
    "# Total_No_of_Words"
   ]
  },
  {
   "cell_type": "code",
   "execution_count": 39,
   "id": "92689687",
   "metadata": {
    "ExecuteTime": {
     "end_time": "2021-10-02T23:37:16.814135Z",
     "start_time": "2021-10-02T23:37:16.812135Z"
    },
    "scrolled": true
   },
   "outputs": [],
   "source": [
    "# Total_no_of_words =  Total_No_of_Words_after_removing_Non_text_character(clean_test_in_lower_case)\n",
    "# Total_no_of_words"
   ]
  },
  {
   "cell_type": "markdown",
   "id": "b5dd6ca8",
   "metadata": {
    "ExecuteTime": {
     "end_time": "2021-09-13T03:06:58.128224Z",
     "start_time": "2021-09-13T03:06:55.096126Z"
    }
   },
   "source": [
    "\n",
    "sent_token = sent_tokenize(f.read())"
   ]
  },
  {
   "cell_type": "markdown",
   "id": "9aeaeff0",
   "metadata": {},
   "source": [
    "# Stop word removal count  words_after removing stop word"
   ]
  },
  {
   "cell_type": "markdown",
   "id": "de769aa8",
   "metadata": {},
   "source": [
    "We count the total cleaned words present in the text by \n",
    "removing the stop words (using stopwords class of nltk package)."
   ]
  },
  {
   "cell_type": "markdown",
   "id": "cc11386f",
   "metadata": {
    "ExecuteTime": {
     "end_time": "2021-09-15T12:21:53.352633Z",
     "start_time": "2021-09-15T12:21:53.346618Z"
    }
   },
   "source": [
    "# Convert_Pandas_Series_to_Int"
   ]
  },
  {
   "cell_type": "code",
   "execution_count": 40,
   "id": "23e4abfe",
   "metadata": {
    "ExecuteTime": {
     "end_time": "2021-10-02T23:37:18.383895Z",
     "start_time": "2021-10-02T23:37:18.380161Z"
    }
   },
   "outputs": [],
   "source": [
    "def convert_pandas_series_to_int(List_of_stop_words):\n",
    "    List_of_stop_words = List_of_stop_words.to_list()\n",
    "    return List_of_stop_words    "
   ]
  },
  {
   "cell_type": "code",
   "execution_count": 41,
   "id": "62520bba",
   "metadata": {
    "ExecuteTime": {
     "end_time": "2021-10-02T23:37:18.399574Z",
     "start_time": "2021-10-02T23:37:18.384882Z"
    }
   },
   "outputs": [],
   "source": [
    "def count_words(List_of_stop_words):\n",
    "    List_of_stop_words= convert_pandas_series_to_int(List_of_stop_words)\n",
    "    list_of_words_after_stop_words= []\n",
    "    for word in clean_test_in_lower_case :\n",
    "        if not word in List_of_stop_words:\n",
    "            list_of_words_after_stop_words.append(word)\n",
    "    return len(list_of_words_after_stop_words)\n"
   ]
  },
  {
   "cell_type": "markdown",
   "id": "1933fda5",
   "metadata": {},
   "source": [
    "## Word Count"
   ]
  },
  {
   "cell_type": "code",
   "execution_count": 42,
   "id": "7fe9bf7f",
   "metadata": {
    "ExecuteTime": {
     "end_time": "2021-10-02T23:37:18.809423Z",
     "start_time": "2021-10-02T23:37:18.799895Z"
    }
   },
   "outputs": [],
   "source": [
    "list_of_words_after_stop_words = sheet_positive_negetive_stop_words_constrain_uncertanity_words['Stop_Words'].dropna()\n",
    "# word_count = count_words(list_of_words_after_stop_words)\n",
    "# word_count\n"
   ]
  },
  {
   "cell_type": "markdown",
   "id": "2ac10cba",
   "metadata": {
    "ExecuteTime": {
     "end_time": "2021-09-14T04:46:25.426558Z",
     "start_time": "2021-09-14T04:46:25.411008Z"
    }
   },
   "source": [
    "# Extracting Derived variables"
   ]
  },
  {
   "cell_type": "code",
   "execution_count": 43,
   "id": "572ab207",
   "metadata": {
    "ExecuteTime": {
     "end_time": "2021-10-02T23:37:19.221803Z",
     "start_time": "2021-10-02T23:37:19.209273Z"
    },
    "code_folding": []
   },
   "outputs": [],
   "source": [
    "def count(text_list,list_search):\n",
    "    list_search= convert_pandas_series_to_int(list_search)\n",
    "    counter =0\n",
    "    for word in text_list:\n",
    "        if word in list_search :\n",
    "            counter +=1\n",
    "    return counter"
   ]
  },
  {
   "cell_type": "markdown",
   "id": "a7517cba",
   "metadata": {},
   "source": [
    "# Positive Score "
   ]
  },
  {
   "cell_type": "markdown",
   "id": "7a15d4ea",
   "metadata": {},
   "source": [
    "This score is calculated by assigning the value of +1 for each word if \n",
    "found in the Positive Dictionary and then adding up all the values."
   ]
  },
  {
   "cell_type": "markdown",
   "id": "83409412",
   "metadata": {},
   "source": [
    "clean_test_in_lower_case_of_lemitization\n",
    "List_of_Positive_words_after_removing_stop_word\n",
    "List_of_Negative_words_after_removing_stop_word\n",
    "clean_test_in_lower_case"
   ]
  },
  {
   "cell_type": "code",
   "execution_count": 44,
   "id": "27da4d6b",
   "metadata": {
    "ExecuteTime": {
     "end_time": "2021-10-02T23:37:20.422457Z",
     "start_time": "2021-10-02T23:37:20.411932Z"
    }
   },
   "outputs": [],
   "source": [
    "# List_of_Posative_words=  sheet_positive_negetive_stop_words_constrain_uncertanity_words['Posative_Words'].dropna()\n",
    "# Positive_score = count(list_of_words_after_stop_words,List_of_Posative_words)\n",
    "# Positive_score"
   ]
  },
  {
   "cell_type": "markdown",
   "id": "c5afc7dd",
   "metadata": {},
   "source": [
    "# Tokenize"
   ]
  },
  {
   "cell_type": "markdown",
   "id": "bf9ae083",
   "metadata": {},
   "source": [
    "# Negative Score"
   ]
  },
  {
   "cell_type": "markdown",
   "id": "b1108030",
   "metadata": {},
   "source": [
    "Negative Score: This score is calculated by assigning the value of -1\n",
    "for each word if found in the Negative Dictionary and then adding up all\n",
    "the values. We multiply the score with -1 so that the score is a\n",
    "positive number.\n"
   ]
  },
  {
   "cell_type": "code",
   "execution_count": 45,
   "id": "3c1b8dd5",
   "metadata": {
    "ExecuteTime": {
     "end_time": "2021-10-02T23:37:21.643674Z",
     "start_time": "2021-10-02T23:37:21.627667Z"
    }
   },
   "outputs": [],
   "source": [
    "# List_of_Negative_words=  sheet_positive_negetive_stop_words_constrain_uncertanity_words['Negative_words'].dropna()\n",
    "# Negative_score = count(list_of_words_after_stop_words,List_of_Negative_words)\n",
    "# Negative_score"
   ]
  },
  {
   "cell_type": "markdown",
   "id": "470f757b",
   "metadata": {},
   "source": [
    "# uncertainty_score"
   ]
  },
  {
   "cell_type": "code",
   "execution_count": 46,
   "id": "43d9cf56",
   "metadata": {
    "ExecuteTime": {
     "end_time": "2021-10-02T23:37:22.072755Z",
     "start_time": "2021-10-02T23:37:22.067754Z"
    }
   },
   "outputs": [],
   "source": [
    "# sheet_positive_negetive_stop_words_constrain_uncertanity_words.columns"
   ]
  },
  {
   "cell_type": "code",
   "execution_count": 47,
   "id": "44976bf6",
   "metadata": {
    "ExecuteTime": {
     "end_time": "2021-10-02T23:37:22.088758Z",
     "start_time": "2021-10-02T23:37:22.074755Z"
    }
   },
   "outputs": [],
   "source": [
    "# sheet_positive_negetive_stop_words_constrain_uncertanity_words['Uncertanity_Word'] = sheet_positive_negetive_stop_words_constrain_uncertanity_words['Uncertanity_Word'].str.lower()"
   ]
  },
  {
   "cell_type": "code",
   "execution_count": 48,
   "id": "0fe01fd8",
   "metadata": {
    "ExecuteTime": {
     "end_time": "2021-10-02T23:37:22.104764Z",
     "start_time": "2021-10-02T23:37:22.089758Z"
    },
    "run_control": {
     "marked": true
    }
   },
   "outputs": [],
   "source": [
    "# sheet_positive_negetive_stop_words_constrain_uncertanity_words['Uncertanity_Word'] = sheet_positive_negetive_stop_words_constrain_uncertanity_words['Uncertanity_Word'].str.lower()\n",
    "# Series_of_uncertanity_words = sheet_positive_negetive_stop_words_constrain_uncertanity_words['Uncertanity_Word'].dropna()\n",
    "# uncertanity_score = count(list_of_words_after_stop_words,Series_of_uncertanity_words)\n",
    "# uncertanity_score"
   ]
  },
  {
   "cell_type": "markdown",
   "id": "45a58316",
   "metadata": {},
   "source": [
    "# constraining_score"
   ]
  },
  {
   "cell_type": "code",
   "execution_count": 49,
   "id": "f994f685",
   "metadata": {
    "ExecuteTime": {
     "end_time": "2021-10-02T23:37:22.607381Z",
     "start_time": "2021-10-02T23:37:22.601380Z"
    }
   },
   "outputs": [],
   "source": [
    "# sheet_positive_negetive_stop_words_constrain_uncertanity_words['Constraning_Word']= sheet_positive_negetive_stop_words_constrain_uncertanity_words['Constraning_Word'].str.lower()"
   ]
  },
  {
   "cell_type": "code",
   "execution_count": 50,
   "id": "1938c00a",
   "metadata": {
    "ExecuteTime": {
     "end_time": "2021-10-02T23:37:22.623384Z",
     "start_time": "2021-10-02T23:37:22.609385Z"
    }
   },
   "outputs": [],
   "source": [
    "# sheet_positive_negetive_stop_words_constrain_uncertanity_words['Constraning_Word']= sheet_positive_negetive_stop_words_constrain_uncertanity_words['Constraning_Word'].str.lower()\n",
    "# Series_of_uncertanity_words = sheet_positive_negetive_stop_words_constrain_uncertanity_words['Constraning_Word'].dropna()\n",
    "# constraining_score =count(list_of_words_after_stop_words,Series_of_uncertanity_words)\n",
    "# constraining_score"
   ]
  },
  {
   "cell_type": "markdown",
   "id": "372a48d3",
   "metadata": {},
   "source": [
    "# Polarity "
   ]
  },
  {
   "cell_type": "markdown",
   "id": "59973835",
   "metadata": {},
   "source": [
    "Polarity Score: This is the score that determines if a given text is\n",
    "positive or negative in nature. It is calculated by using the formula: \n",
    "\n",
    "Polarity Score = (Positive Score – Negative Score)/ ((Positive Score + Negative Score) + 0.000001)\n",
    "Range is from -1 to +1"
   ]
  },
  {
   "cell_type": "code",
   "execution_count": 51,
   "id": "645d0b5b",
   "metadata": {
    "ExecuteTime": {
     "end_time": "2021-10-02T23:37:23.619408Z",
     "start_time": "2021-10-02T23:37:23.613407Z"
    }
   },
   "outputs": [],
   "source": [
    "def polarity(Positive_score,Negative_score):\n",
    "    Polarity_Score = (Positive_score-Negative_score)/(Positive_score+Negative_score)+0.000001\n",
    "    \n",
    "    return Polarity_Score\n",
    "    "
   ]
  },
  {
   "cell_type": "code",
   "execution_count": 52,
   "id": "99f3252d",
   "metadata": {
    "ExecuteTime": {
     "end_time": "2021-10-02T23:37:23.635409Z",
     "start_time": "2021-10-02T23:37:23.620409Z"
    }
   },
   "outputs": [],
   "source": [
    "# Polarity_Score = polarity(Positive_score,Negative_score)\n",
    "# Polarity_Score"
   ]
  },
  {
   "cell_type": "markdown",
   "id": "6b368f57",
   "metadata": {},
   "source": [
    "# Subjectivity Score"
   ]
  },
  {
   "cell_type": "markdown",
   "id": "7dd1069b",
   "metadata": {},
   "source": [
    "Subjectivity Score: This is the score that determines if a given text is\n",
    "objective or subjective. It is calculated by using the formula: \n",
    "\n",
    "Subjectivity Score = (Positive Score + Negative Score)/ ((Total Words after cleaning) + 0.000001)\n",
    "Range is from 0 to +1"
   ]
  },
  {
   "cell_type": "code",
   "execution_count": 53,
   "id": "74d1030b",
   "metadata": {
    "ExecuteTime": {
     "end_time": "2021-10-02T23:37:24.582872Z",
     "start_time": "2021-10-02T23:37:24.569364Z"
    }
   },
   "outputs": [],
   "source": [
    "def sub_score(Positive_score,Negative_score):\n",
    "    Subjectivity_Score = (Positive_score+Negative_score)/(len(clean_test_in_lower_case)) + 0.000001\n",
    "    return Subjectivity_Score\n",
    "    "
   ]
  },
  {
   "cell_type": "code",
   "execution_count": null,
   "id": "9ad942c6",
   "metadata": {},
   "outputs": [],
   "source": []
  },
  {
   "cell_type": "code",
   "execution_count": 54,
   "id": "b9112b46",
   "metadata": {
    "ExecuteTime": {
     "end_time": "2021-10-02T23:37:24.598396Z",
     "start_time": "2021-10-02T23:37:24.584874Z"
    },
    "scrolled": true
   },
   "outputs": [],
   "source": [
    "# Subjectivity_Score = sub_score(Positive_score,Negative_score)\n",
    "# Subjectivity_Score"
   ]
  },
  {
   "cell_type": "markdown",
   "id": "f1af7da0",
   "metadata": {},
   "source": [
    "# Sentiment score categorization"
   ]
  },
  {
   "cell_type": "markdown",
   "id": "12ce33a2",
   "metadata": {},
   "source": [
    "\n",
    "This is determined by grouping the Polarity score values in the following groups.\n",
    " \n",
    "Most Negative: Polarity Score below -0.5\n",
    " \n",
    "Negative: Polarity Score between -0.5 and 0\n",
    " \n",
    "Neutral: Polarity Score equal to 0\n",
    " \n",
    "Positive: Polarity Score between 0 and 0.5\n",
    " \n",
    "Very Positive: Polarity Score above 0.5\n"
   ]
  },
  {
   "cell_type": "code",
   "execution_count": 55,
   "id": "c38b1829",
   "metadata": {
    "ExecuteTime": {
     "end_time": "2021-10-02T23:37:25.534299Z",
     "start_time": "2021-10-02T23:37:25.522228Z"
    }
   },
   "outputs": [],
   "source": [
    "def sent_score(Polarity_Score):\n",
    "    \n",
    "    if (Polarity_Score < -.5):\n",
    "        print(\"Most Negative: Polarity Score below -0.5  and polarity is : \", Polarity_Score)\n",
    "\n",
    "    elif(Polarity_Score >= -0.5  and Polarity_Score < 0 ):\n",
    "        print(\"Negative: Polarity Score between -0.5 and 0 and polarity is : \", Polarity_Score)\n",
    "    if (Polarity_Score == 0):\n",
    "        print(\"Neutral: Polarity Score equalto 0  and polarity is : \", Polarity_Score)\n",
    "\n",
    "    elif(Polarity_Score > 0  and Polarity_Score <= .5 ):\n",
    "        print(\"Positive: Polarity Score between 0 and 0.5 and polarity is : \", Polarity_Score)\n",
    "\n",
    "    elif(Polarity_Score > 0.5):\n",
    "        print(\"Very Positive: Polarity Score above 0.5 and polarity is : \", Polarity_Score)\n",
    "   \n",
    "    \n",
    "    return Polarity_Score"
   ]
  },
  {
   "cell_type": "code",
   "execution_count": 56,
   "id": "6a5e8478",
   "metadata": {
    "ExecuteTime": {
     "end_time": "2021-10-02T23:37:25.550303Z",
     "start_time": "2021-10-02T23:37:25.536302Z"
    }
   },
   "outputs": [],
   "source": [
    "#Sentiment score categorization\n",
    "# sentimental_score =  sent_score(Polarity_Score)"
   ]
  },
  {
   "cell_type": "code",
   "execution_count": null,
   "id": "8b94a4b8",
   "metadata": {},
   "outputs": [],
   "source": []
  },
  {
   "cell_type": "markdown",
   "id": "663eaae6",
   "metadata": {},
   "source": [
    "# Average_Sentence_Length"
   ]
  },
  {
   "cell_type": "markdown",
   "id": "702dbc33",
   "metadata": {},
   "source": [
    "Average Sentence Length = the number of words / the number of sentences\n"
   ]
  },
  {
   "cell_type": "code",
   "execution_count": 57,
   "id": "8a6aac0e",
   "metadata": {
    "ExecuteTime": {
     "end_time": "2021-10-02T23:37:26.388804Z",
     "start_time": "2021-10-02T23:37:26.372786Z"
    }
   },
   "outputs": [],
   "source": [
    "def avg_snet_len(Total_no_of_words,Total_no_of_sentence ):\n",
    "    Average_Sentence_Length = Total_no_of_words/Total_no_of_sentence\n",
    "    \n",
    "    return Average_Sentence_Length\n"
   ]
  },
  {
   "cell_type": "code",
   "execution_count": 58,
   "id": "accf3c59",
   "metadata": {
    "ExecuteTime": {
     "end_time": "2021-10-02T23:37:26.404808Z",
     "start_time": "2021-10-02T23:37:26.390803Z"
    }
   },
   "outputs": [],
   "source": [
    "# Average_Sentence_Length\n",
    "# Average_Sentence_Length =avg_snet_len(Total_no_of_words,Total_no_of_sentence )\n",
    "\n",
    "# Average_Sentence_Length"
   ]
  },
  {
   "cell_type": "markdown",
   "id": "2b69feef",
   "metadata": {},
   "source": [
    "# Tokenize the syllable"
   ]
  },
  {
   "cell_type": "code",
   "execution_count": 59,
   "id": "3a021e6b",
   "metadata": {
    "ExecuteTime": {
     "end_time": "2021-10-02T23:37:26.815113Z",
     "start_time": "2021-10-02T23:37:26.800167Z"
    }
   },
   "outputs": [],
   "source": [
    "def syllable_tokenizer(list_of_words_after_stop_words):\n",
    "    \n",
    "    from nltk.tokenize import SyllableTokenizer\n",
    "    # Create a reference variable for Class word_tokenize\n",
    "    tk = SyllableTokenizer()\n",
    "\n",
    "    # Use tokenize method\n",
    "    syllable = tk.tokenize(list_of_words_after_stop_words)\n",
    "    return syllable"
   ]
  },
  {
   "cell_type": "code",
   "execution_count": 60,
   "id": "290f1143",
   "metadata": {
    "ExecuteTime": {
     "end_time": "2021-10-02T23:37:26.831119Z",
     "start_time": "2021-10-02T23:37:26.817116Z"
    }
   },
   "outputs": [],
   "source": [
    "def count_complex_word(list_of_words_after_stop_words):\n",
    "    list_of_syllable= []\n",
    "\n",
    "    for word in list_of_words_after_stop_words:\n",
    "        list_single_word_syllable=[]\n",
    "        syllable_list = syllable_tokenizer(word)\n",
    "    #     print(syllable_list)\n",
    "        list_single_word_syllable.append(syllable_list)\n",
    "        list_of_syllable.append(list_single_word_syllable)\n",
    "        \n",
    "#     print(list_of_syllable)\n",
    "        \n",
    "    list_of_count_syllable= []\n",
    "    for ls in list_of_syllable:\n",
    "        for co in ls:\n",
    "            counter = ''\n",
    "            counter = len(co)\n",
    "            list_of_count_syllable.append(counter)\n",
    "#     print(list_of_count_syllable)\n",
    "    \n",
    "    Total_No_of_complex_word = 0\n",
    "    for i in list_of_count_syllable:\n",
    "        if i > 2:\n",
    "            Total_No_of_complex_word +=1\n",
    "    return Total_No_of_complex_word  "
   ]
  },
  {
   "cell_type": "markdown",
   "id": "b687718c",
   "metadata": {},
   "source": [
    "# Complex Word Count"
   ]
  },
  {
   "cell_type": "code",
   "execution_count": 61,
   "id": "f0940794",
   "metadata": {
    "ExecuteTime": {
     "end_time": "2021-10-02T23:37:27.240480Z",
     "start_time": "2021-10-02T23:37:27.234459Z"
    }
   },
   "outputs": [],
   "source": [
    "# Complex Word Count\n",
    "# Total_No_of_complex_word =count_complex_word(list_of_words_after_stop_words)\n",
    "# Total_No_of_complex_word"
   ]
  },
  {
   "cell_type": "markdown",
   "id": "1e2e14c8",
   "metadata": {},
   "source": [
    "# Percentage_of_complex_word"
   ]
  },
  {
   "cell_type": "markdown",
   "id": "4c2779bc",
   "metadata": {},
   "source": [
    "Complex words are words in the text that contain more than two syllables\n",
    "\n",
    "Percentage of Complex words = the number of complex words / the number of words "
   ]
  },
  {
   "cell_type": "code",
   "execution_count": 62,
   "id": "33543a92",
   "metadata": {
    "ExecuteTime": {
     "end_time": "2021-10-02T23:37:28.091725Z",
     "start_time": "2021-10-02T23:37:28.076725Z"
    }
   },
   "outputs": [],
   "source": [
    "def Percentage_of_complex_word(Total_No_of_complex_word,Total_no_of_words):\n",
    "    Percentage_of_complex_word =  (Total_No_of_complex_word/Total_no_of_words)*100\n",
    "    return Percentage_of_complex_word"
   ]
  },
  {
   "cell_type": "code",
   "execution_count": 63,
   "id": "98c13f9f",
   "metadata": {
    "ExecuteTime": {
     "end_time": "2021-10-02T23:37:28.106716Z",
     "start_time": "2021-10-02T23:37:28.093734Z"
    },
    "run_control": {
     "marked": true
    }
   },
   "outputs": [],
   "source": [
    "#Percentage_of_complex_word\n",
    "# Percentage_of_complex_word = Percentage_of_complex_word(Total_No_of_complex_word,Total_no_of_words)\n",
    "# Percentage_of_complex_word"
   ]
  },
  {
   "cell_type": "markdown",
   "id": "d76bb9b7",
   "metadata": {},
   "source": [
    "# Fog Index "
   ]
  },
  {
   "cell_type": "code",
   "execution_count": 64,
   "id": "a84db14d",
   "metadata": {
    "ExecuteTime": {
     "end_time": "2021-10-02T23:37:28.517684Z",
     "start_time": "2021-10-02T23:37:28.502622Z"
    }
   },
   "outputs": [],
   "source": [
    "def fog(Average_Sentence_Length , Percentage_of_complex_word):\n",
    "    \n",
    "    Fog_Ind = 0.4 * (Average_Sentence_Length + Percentage_of_complex_word)\n",
    "    return Fog_Ind"
   ]
  },
  {
   "cell_type": "markdown",
   "id": "15869ba9",
   "metadata": {},
   "source": [
    "Fog Index = 0.4 * (Average Sentence Length + Percentage of Complex words)"
   ]
  },
  {
   "cell_type": "code",
   "execution_count": 65,
   "id": "caf59874",
   "metadata": {
    "ExecuteTime": {
     "end_time": "2021-10-02T23:37:28.944342Z",
     "start_time": "2021-10-02T23:37:28.933322Z"
    }
   },
   "outputs": [],
   "source": [
    "# Fog Index\n",
    "# Fog_Index =  fog(Average_Sentence_Length , Percentage_of_complex_word)\n",
    "# Fog_Index"
   ]
  },
  {
   "cell_type": "markdown",
   "id": "d4313e68",
   "metadata": {},
   "source": [
    "# Average Word Length"
   ]
  },
  {
   "cell_type": "markdown",
   "id": "4cf67e17",
   "metadata": {},
   "source": [
    "Average Word Length is calculated by the formula:\n",
    "\n",
    "Sum of the total number of characters in each word/Total number of words"
   ]
  },
  {
   "cell_type": "code",
   "execution_count": 66,
   "id": "a143825c",
   "metadata": {
    "ExecuteTime": {
     "end_time": "2021-10-02T23:37:29.798893Z",
     "start_time": "2021-10-02T23:37:29.780875Z"
    }
   },
   "outputs": [],
   "source": [
    "def avg_word_len(word_count):\n",
    "    char_counter =0\n",
    "    for words in clean_test_in_lower_case:\n",
    "        for char in words:\n",
    "            char_counter += 1\n",
    "            \n",
    "    Avg_len_0f_word= char_counter/word_count\n",
    "    return Avg_len_0f_word            \n",
    "    "
   ]
  },
  {
   "cell_type": "code",
   "execution_count": 67,
   "id": "7a0dd51a",
   "metadata": {
    "ExecuteTime": {
     "end_time": "2021-10-02T23:37:29.814898Z",
     "start_time": "2021-10-02T23:37:29.800895Z"
    },
    "scrolled": true
   },
   "outputs": [],
   "source": [
    "# Average Word Length\n",
    "# Average_word_length=avg_word_len(word_count)\n",
    "# Average_word_length"
   ]
  },
  {
   "cell_type": "markdown",
   "id": "b790d928",
   "metadata": {},
   "source": [
    "The absolute values of “Positive/Negative Scores” are equal to the number of positive/negative words in each report of \n",
    "10-Q/K; so the (Loughran-McDonald) positive/negative word proportion can be simply calculated as “Positive/Negative Scores \n",
    "divided by Word Count "
   ]
  },
  {
   "cell_type": "markdown",
   "id": "64c5b058",
   "metadata": {},
   "source": [
    "# Propotion"
   ]
  },
  {
   "cell_type": "code",
   "execution_count": 68,
   "id": "d6a409ce",
   "metadata": {
    "ExecuteTime": {
     "end_time": "2021-10-02T23:37:30.669797Z",
     "start_time": "2021-10-02T23:37:30.667797Z"
    }
   },
   "outputs": [],
   "source": [
    "def word_prop(score,count):\n",
    "    proportion = score/count\n",
    "    return proportion"
   ]
  },
  {
   "cell_type": "markdown",
   "id": "ef86b281",
   "metadata": {
    "ExecuteTime": {
     "end_time": "2021-09-15T08:58:37.983923Z",
     "start_time": "2021-09-15T08:58:37.960930Z"
    }
   },
   "source": [
    "# Positive_word_proportion"
   ]
  },
  {
   "cell_type": "code",
   "execution_count": 69,
   "id": "4b5e9071",
   "metadata": {
    "ExecuteTime": {
     "end_time": "2021-10-02T23:37:31.112898Z",
     "start_time": "2021-10-02T23:37:31.105901Z"
    }
   },
   "outputs": [],
   "source": [
    "# positive_word_proportion = word_prop(Positive_score,word_count)\n",
    "# positive_word_proportion"
   ]
  },
  {
   "cell_type": "markdown",
   "id": "f56bc59c",
   "metadata": {},
   "source": [
    "# negative_word_proportion"
   ]
  },
  {
   "cell_type": "code",
   "execution_count": 70,
   "id": "1cfa7710",
   "metadata": {
    "ExecuteTime": {
     "end_time": "2021-10-02T23:37:31.557913Z",
     "start_time": "2021-10-02T23:37:31.544900Z"
    }
   },
   "outputs": [],
   "source": [
    "# negative_word_proportion = word_prop(Negative_score,word_count)\n",
    "# negative_word_proportion"
   ]
  },
  {
   "cell_type": "markdown",
   "id": "f5964840",
   "metadata": {},
   "source": [
    "# uncertainty_word_proportion"
   ]
  },
  {
   "cell_type": "code",
   "execution_count": 71,
   "id": "3e08f320",
   "metadata": {
    "ExecuteTime": {
     "end_time": "2021-10-02T23:37:31.969375Z",
     "start_time": "2021-10-02T23:37:31.966378Z"
    }
   },
   "outputs": [],
   "source": [
    "# uncertainty_word_proportion = word_prop(uncertanity_score,word_count)\n",
    "# uncertainty_word_proportion"
   ]
  },
  {
   "cell_type": "markdown",
   "id": "dc732556",
   "metadata": {},
   "source": [
    "# constraining_word_proportion"
   ]
  },
  {
   "cell_type": "code",
   "execution_count": 72,
   "id": "a224129b",
   "metadata": {
    "ExecuteTime": {
     "end_time": "2021-10-02T23:37:32.429107Z",
     "start_time": "2021-10-02T23:37:32.416048Z"
    },
    "scrolled": false
   },
   "outputs": [],
   "source": [
    "# constraining_word_proportion =word_prop(constraining_score,word_count)\n",
    "# constraining_word_proportion"
   ]
  },
  {
   "cell_type": "markdown",
   "id": "ec7e73ef",
   "metadata": {},
   "source": [
    "# constraining_words_whole_report"
   ]
  },
  {
   "cell_type": "code",
   "execution_count": 73,
   "id": "737dacf1",
   "metadata": {
    "ExecuteTime": {
     "end_time": "2021-10-02T23:37:32.867464Z",
     "start_time": "2021-10-02T23:37:32.864467Z"
    }
   },
   "outputs": [],
   "source": [
    "constraining_words_whole_report = ''"
   ]
  },
  {
   "cell_type": "markdown",
   "id": "d599fa76",
   "metadata": {
    "ExecuteTime": {
     "end_time": "2021-09-15T18:22:52.708170Z",
     "start_time": "2021-09-15T18:22:35.072478Z"
    },
    "run_control": {
     "marked": false
    },
    "scrolled": true
   },
   "source": [
    "par = 'html.parser'\n",
    "\n",
    "\n",
    "\n",
    "\n",
    "data = establish_connection()\n",
    "print(data.status_code)\n",
    "\n",
    "input_data_content = data.content\n",
    "\n",
    "soup = BeautifulSoup_data(input_data_content,par)\n",
    "\n",
    "text_from_report = get_text_from_report(soup)\n",
    "\n",
    "tag_name = search_by_tag(soup)\n",
    "\n",
    "w_token = word_token(text_from_report)\n",
    "\n",
    "s_token = sen_token(text_from_report)\n",
    "\n",
    "# No. of sentence\n",
    "Total_no_of_sentence=total_no_of_sentence(s_token)\n",
    "\n",
    "# filer text using regx \n",
    "clean_test_in_lower_case = filter_word_using_re(w_token)\n",
    "\n",
    "\n",
    "# total No. of words after removing not text character \n",
    "Total_no_of_words =  Total_No_of_Words_after_removing_Non_text_character(clean_test_in_lower_case)\n",
    "\n",
    "\n",
    "# ........................\n",
    "# word_count \n",
    "list_of_words_after_stop_words = sheet_positive_negetive_stop_words_constrain_uncertanity_words['Stop_Words'].dropna()\n",
    "word_count = count_words(list_of_words_after_stop_words)\n",
    "word_counter.append(word_count)\n",
    "\n",
    "\n",
    "\n",
    "#.......................\n",
    "# Positive score \n",
    "List_of_Posative_words=  sheet_positive_negetive_stop_words_constrain_uncertanity_words['Posative_Words'].dropna()\n",
    "Positive_score = count(list_of_words_after_stop_words,List_of_Posative_words)\n",
    "pos_score.append(Positive_score)\n",
    "\n",
    "\n",
    "\n",
    "\n",
    "#.......................\n",
    "#Negative score\n",
    "List_of_Negative_words=  sheet_positive_negetive_stop_words_constrain_uncertanity_words['Negative_words'].dropna()\n",
    "Negative_score = count(list_of_words_after_stop_words,List_of_Negative_words)\n",
    "neg_score.append(Negative_score)\n",
    "\n",
    "#..........................\n",
    "# Polarity \n",
    "Polarity_Score = polarity(Positive_score,Negative_score)\n",
    "pol_score.append(Polarity_Score)\n",
    "\n",
    "\n",
    "#..........................\n",
    "# Average_Sentence_Length\n",
    "Average_Sentence_Length =avg_snet_len(Total_no_of_words,Total_no_of_sentence )\n",
    "avg_sen_len.append(Average_Sentence_Length)\n",
    "\n",
    "\n",
    "\n",
    "# .........................\n",
    "# Complex Word Count\n",
    "Total_No_of_complex_word =count_complex_word(list_of_words_after_stop_words)\n",
    "complex_wor_count.append(Total_No_of_complex_word)\n",
    "\n",
    "#..........................\n",
    "#Percentage_of_complex_word\n",
    "Percentage_of_complex_word = Percentage_of_complex_word(Total_No_of_complex_word,Total_no_of_words)\n",
    "percentage_of_com_words.append(Percentage_of_complex_word)\n",
    "\n",
    "\n",
    "#...........................\n",
    "# Fog Index\n",
    "Fog_Index =  fog(Average_Sentence_Length , Percentage_of_complex_word)\n",
    "f_ind.append(Fog_Index)\n",
    "\n",
    "\n",
    "#........................\n",
    "# uncertanity score\n",
    "sheet_positive_negetive_stop_words_constrain_uncertanity_words['Uncertanity_Word'] = sheet_positive_negetive_stop_words_constrain_uncertanity_words['Uncertanity_Word'].str.lower()\n",
    "Series_of_uncertanity_words = sheet_positive_negetive_stop_words_constrain_uncertanity_words['Uncertanity_Word'].dropna()\n",
    "uncertanity_score = count(list_of_words_after_stop_words,Series_of_uncertanity_words)\n",
    "uncer_score.append(uncertanity_score)\n",
    "\n",
    "\n",
    "#.........................\n",
    "# constraning score\n",
    "sheet_positive_negetive_stop_words_constrain_uncertanity_words['Constraning_Word']= sheet_positive_negetive_stop_words_constrain_uncertanity_words['Constraning_Word'].str.lower()\n",
    "Series_of_uncertanity_words = sheet_positive_negetive_stop_words_constrain_uncertanity_words['Constraning_Word'].dropna()\n",
    "constraining_score =count(list_of_words_after_stop_words,Series_of_uncertanity_words)\n",
    "const_score.append(constraining_score)\n",
    "\n",
    "\n",
    "\n",
    "# selectivity score\n",
    "Subjectivity_Score = sub_score(Positive_score,Negative_score)\n",
    "\n",
    "#Sentiment score categorization\n",
    "sentimental_score =  sent_score(Polarity_Score)\n",
    "\n",
    "# Average Word Length\n",
    "Average_word_length=avg_word_len(word_count)\n",
    "\n",
    "\n",
    "\n",
    "#..................................\n",
    "# positive_word_proportion\n",
    "positive_word_proportion = word_prop(Positive_score,word_count)\n",
    "pos_wor_prop.append(positive_word_proportion)\n",
    "\n",
    "\n",
    "#..................................\n",
    "# negative_word_proportion\n",
    "negative_word_proportion = word_prop(Negative_score,word_count)\n",
    "neg_wor_prop.append(negative_word_proportion)\n",
    "\n",
    "\n",
    "#.................................\n",
    "# uncertainty_word_proportion\n",
    "uncertainty_word_proportion = word_prop(uncertanity_score,word_count)\n",
    "uncer_wor_prop.append(uncertainty_word_proportion)\n",
    "\n",
    "\n",
    "# ................................\n",
    "# constraining_word_proportion\n",
    "constraining_word_proportion =word_prop(constraining_score,word_count)\n",
    "cons_wor_prop.append(constraining_word_proportion)\n",
    "\n",
    "#..................................\n",
    "# constraining_words_whole_report\n",
    "constraining_words_whole_report = ''\n",
    "constraning_words_whole_report.append(constraining_words_whole_report)\n"
   ]
  },
  {
   "cell_type": "code",
   "execution_count": 74,
   "id": "56a0769c",
   "metadata": {
    "ExecuteTime": {
     "end_time": "2021-10-02T23:37:33.874873Z",
     "start_time": "2021-10-02T23:37:33.515034Z"
    }
   },
   "outputs": [
    {
     "data": {
      "text/html": [
       "<div>\n",
       "<style scoped>\n",
       "    .dataframe tbody tr th:only-of-type {\n",
       "        vertical-align: middle;\n",
       "    }\n",
       "\n",
       "    .dataframe tbody tr th {\n",
       "        vertical-align: top;\n",
       "    }\n",
       "\n",
       "    .dataframe thead th {\n",
       "        text-align: right;\n",
       "    }\n",
       "</style>\n",
       "<table border=\"1\" class=\"dataframe\">\n",
       "  <thead>\n",
       "    <tr style=\"text-align: right;\">\n",
       "      <th></th>\n",
       "      <th>CIK</th>\n",
       "      <th>CONAME</th>\n",
       "      <th>FYRMO</th>\n",
       "      <th>FDATE</th>\n",
       "      <th>FORM</th>\n",
       "      <th>SECFNAME</th>\n",
       "      <th>Unnamed: 6</th>\n",
       "      <th>compet_link</th>\n",
       "    </tr>\n",
       "  </thead>\n",
       "  <tbody>\n",
       "    <tr>\n",
       "      <th>0</th>\n",
       "      <td>3662</td>\n",
       "      <td>SUNBEAM CORP/FL/</td>\n",
       "      <td>199803</td>\n",
       "      <td>1998-03-06</td>\n",
       "      <td>10-K405</td>\n",
       "      <td>edgar/data/3662/0000950170-98-000413.txt</td>\n",
       "      <td>https://www.sec.gov/Archives/</td>\n",
       "      <td>https://www.sec.gov/Archives/edgar/data/3662/0...</td>\n",
       "    </tr>\n",
       "    <tr>\n",
       "      <th>1</th>\n",
       "      <td>3662</td>\n",
       "      <td>SUNBEAM CORP/FL/</td>\n",
       "      <td>199805</td>\n",
       "      <td>1998-05-15</td>\n",
       "      <td>10-Q</td>\n",
       "      <td>edgar/data/3662/0000950170-98-001001.txt</td>\n",
       "      <td>https://www.sec.gov/Archives/</td>\n",
       "      <td>https://www.sec.gov/Archives/edgar/data/3662/0...</td>\n",
       "    </tr>\n",
       "    <tr>\n",
       "      <th>2</th>\n",
       "      <td>3662</td>\n",
       "      <td>SUNBEAM CORP/FL/</td>\n",
       "      <td>199808</td>\n",
       "      <td>1998-08-13</td>\n",
       "      <td>NT 10-Q</td>\n",
       "      <td>edgar/data/3662/0000950172-98-000783.txt</td>\n",
       "      <td>https://www.sec.gov/Archives/</td>\n",
       "      <td>https://www.sec.gov/Archives/edgar/data/3662/0...</td>\n",
       "    </tr>\n",
       "    <tr>\n",
       "      <th>3</th>\n",
       "      <td>3662</td>\n",
       "      <td>SUNBEAM CORP/FL/</td>\n",
       "      <td>199811</td>\n",
       "      <td>1998-11-12</td>\n",
       "      <td>10-K/A</td>\n",
       "      <td>edgar/data/3662/0000950170-98-002145.txt</td>\n",
       "      <td>https://www.sec.gov/Archives/</td>\n",
       "      <td>https://www.sec.gov/Archives/edgar/data/3662/0...</td>\n",
       "    </tr>\n",
       "    <tr>\n",
       "      <th>4</th>\n",
       "      <td>3662</td>\n",
       "      <td>SUNBEAM CORP/FL/</td>\n",
       "      <td>199811</td>\n",
       "      <td>1998-11-16</td>\n",
       "      <td>NT 10-Q</td>\n",
       "      <td>edgar/data/3662/0000950172-98-001203.txt</td>\n",
       "      <td>https://www.sec.gov/Archives/</td>\n",
       "      <td>https://www.sec.gov/Archives/edgar/data/3662/0...</td>\n",
       "    </tr>\n",
       "    <tr>\n",
       "      <th>...</th>\n",
       "      <td>...</td>\n",
       "      <td>...</td>\n",
       "      <td>...</td>\n",
       "      <td>...</td>\n",
       "      <td>...</td>\n",
       "      <td>...</td>\n",
       "      <td>...</td>\n",
       "      <td>...</td>\n",
       "    </tr>\n",
       "    <tr>\n",
       "      <th>147</th>\n",
       "      <td>12239</td>\n",
       "      <td>SPHERIX INC</td>\n",
       "      <td>200704</td>\n",
       "      <td>2007-04-02</td>\n",
       "      <td>10-K</td>\n",
       "      <td>edgar/data/12239/0001104659-07-024804.txt</td>\n",
       "      <td>https://www.sec.gov/Archives/</td>\n",
       "      <td>https://www.sec.gov/Archives/edgar/data/12239/...</td>\n",
       "    </tr>\n",
       "    <tr>\n",
       "      <th>148</th>\n",
       "      <td>12239</td>\n",
       "      <td>SPHERIX INC</td>\n",
       "      <td>200705</td>\n",
       "      <td>2007-05-16</td>\n",
       "      <td>NT 10-Q</td>\n",
       "      <td>edgar/data/12239/0001104659-07-040463.txt</td>\n",
       "      <td>https://www.sec.gov/Archives/</td>\n",
       "      <td>https://www.sec.gov/Archives/edgar/data/12239/...</td>\n",
       "    </tr>\n",
       "    <tr>\n",
       "      <th>149</th>\n",
       "      <td>12239</td>\n",
       "      <td>SPHERIX INC</td>\n",
       "      <td>200705</td>\n",
       "      <td>2007-05-18</td>\n",
       "      <td>10-Q</td>\n",
       "      <td>edgar/data/12239/0001104659-07-041441.txt</td>\n",
       "      <td>https://www.sec.gov/Archives/</td>\n",
       "      <td>https://www.sec.gov/Archives/edgar/data/12239/...</td>\n",
       "    </tr>\n",
       "    <tr>\n",
       "      <th>150</th>\n",
       "      <td>12239</td>\n",
       "      <td>SPHERIX INC</td>\n",
       "      <td>200705</td>\n",
       "      <td>2007-05-23</td>\n",
       "      <td>10-K/A</td>\n",
       "      <td>edgar/data/12239/0001104659-07-042333.txt</td>\n",
       "      <td>https://www.sec.gov/Archives/</td>\n",
       "      <td>https://www.sec.gov/Archives/edgar/data/12239/...</td>\n",
       "    </tr>\n",
       "    <tr>\n",
       "      <th>151</th>\n",
       "      <td>12239</td>\n",
       "      <td>SPHERIX INC</td>\n",
       "      <td>200708</td>\n",
       "      <td>2007-08-14</td>\n",
       "      <td>10-Q</td>\n",
       "      <td>edgar/data/12239/0001104659-07-062470.txt</td>\n",
       "      <td>https://www.sec.gov/Archives/</td>\n",
       "      <td>https://www.sec.gov/Archives/edgar/data/12239/...</td>\n",
       "    </tr>\n",
       "  </tbody>\n",
       "</table>\n",
       "<p>152 rows × 8 columns</p>\n",
       "</div>"
      ],
      "text/plain": [
       "       CIK            CONAME   FYRMO      FDATE     FORM  \\\n",
       "0     3662  SUNBEAM CORP/FL/  199803 1998-03-06  10-K405   \n",
       "1     3662  SUNBEAM CORP/FL/  199805 1998-05-15     10-Q   \n",
       "2     3662  SUNBEAM CORP/FL/  199808 1998-08-13  NT 10-Q   \n",
       "3     3662  SUNBEAM CORP/FL/  199811 1998-11-12   10-K/A   \n",
       "4     3662  SUNBEAM CORP/FL/  199811 1998-11-16  NT 10-Q   \n",
       "..     ...               ...     ...        ...      ...   \n",
       "147  12239       SPHERIX INC  200704 2007-04-02     10-K   \n",
       "148  12239       SPHERIX INC  200705 2007-05-16  NT 10-Q   \n",
       "149  12239       SPHERIX INC  200705 2007-05-18     10-Q   \n",
       "150  12239       SPHERIX INC  200705 2007-05-23   10-K/A   \n",
       "151  12239       SPHERIX INC  200708 2007-08-14     10-Q   \n",
       "\n",
       "                                      SECFNAME                     Unnamed: 6  \\\n",
       "0     edgar/data/3662/0000950170-98-000413.txt  https://www.sec.gov/Archives/   \n",
       "1     edgar/data/3662/0000950170-98-001001.txt  https://www.sec.gov/Archives/   \n",
       "2     edgar/data/3662/0000950172-98-000783.txt  https://www.sec.gov/Archives/   \n",
       "3     edgar/data/3662/0000950170-98-002145.txt  https://www.sec.gov/Archives/   \n",
       "4     edgar/data/3662/0000950172-98-001203.txt  https://www.sec.gov/Archives/   \n",
       "..                                         ...                            ...   \n",
       "147  edgar/data/12239/0001104659-07-024804.txt  https://www.sec.gov/Archives/   \n",
       "148  edgar/data/12239/0001104659-07-040463.txt  https://www.sec.gov/Archives/   \n",
       "149  edgar/data/12239/0001104659-07-041441.txt  https://www.sec.gov/Archives/   \n",
       "150  edgar/data/12239/0001104659-07-042333.txt  https://www.sec.gov/Archives/   \n",
       "151  edgar/data/12239/0001104659-07-062470.txt  https://www.sec.gov/Archives/   \n",
       "\n",
       "                                           compet_link  \n",
       "0    https://www.sec.gov/Archives/edgar/data/3662/0...  \n",
       "1    https://www.sec.gov/Archives/edgar/data/3662/0...  \n",
       "2    https://www.sec.gov/Archives/edgar/data/3662/0...  \n",
       "3    https://www.sec.gov/Archives/edgar/data/3662/0...  \n",
       "4    https://www.sec.gov/Archives/edgar/data/3662/0...  \n",
       "..                                                 ...  \n",
       "147  https://www.sec.gov/Archives/edgar/data/12239/...  \n",
       "148  https://www.sec.gov/Archives/edgar/data/12239/...  \n",
       "149  https://www.sec.gov/Archives/edgar/data/12239/...  \n",
       "150  https://www.sec.gov/Archives/edgar/data/12239/...  \n",
       "151  https://www.sec.gov/Archives/edgar/data/12239/...  \n",
       "\n",
       "[152 rows x 8 columns]"
      ]
     },
     "execution_count": 74,
     "metadata": {},
     "output_type": "execute_result"
    }
   ],
   "source": [
    "read_exc= pd.read_excel('cik_list.xlsx')\n",
    "read_exc"
   ]
  },
  {
   "cell_type": "code",
   "execution_count": 75,
   "id": "1812d041",
   "metadata": {
    "ExecuteTime": {
     "end_time": "2021-10-02T23:37:33.890048Z",
     "start_time": "2021-10-02T23:37:33.875861Z"
    }
   },
   "outputs": [
    {
     "data": {
      "text/plain": [
       "0      https://www.sec.gov/Archives/edgar/data/3662/0...\n",
       "1      https://www.sec.gov/Archives/edgar/data/3662/0...\n",
       "2      https://www.sec.gov/Archives/edgar/data/3662/0...\n",
       "3      https://www.sec.gov/Archives/edgar/data/3662/0...\n",
       "4      https://www.sec.gov/Archives/edgar/data/3662/0...\n",
       "                             ...                        \n",
       "147    https://www.sec.gov/Archives/edgar/data/12239/...\n",
       "148    https://www.sec.gov/Archives/edgar/data/12239/...\n",
       "149    https://www.sec.gov/Archives/edgar/data/12239/...\n",
       "150    https://www.sec.gov/Archives/edgar/data/12239/...\n",
       "151    https://www.sec.gov/Archives/edgar/data/12239/...\n",
       "Name: compet_link, Length: 152, dtype: object"
      ]
     },
     "execution_count": 75,
     "metadata": {},
     "output_type": "execute_result"
    }
   ],
   "source": [
    "read_exc['compet_link'].dropna()\n",
    "\n"
   ]
  },
  {
   "cell_type": "code",
   "execution_count": 76,
   "id": "b5fb8631",
   "metadata": {
    "ExecuteTime": {
     "end_time": "2021-10-02T23:37:33.906045Z",
     "start_time": "2021-10-02T23:37:33.892035Z"
    }
   },
   "outputs": [],
   "source": [
    "web_link=  read_exc['compet_link'].dropna().to_list()"
   ]
  },
  {
   "cell_type": "code",
   "execution_count": 77,
   "id": "633375b6",
   "metadata": {
    "ExecuteTime": {
     "end_time": "2021-10-02T23:37:33.922055Z",
     "start_time": "2021-10-02T23:37:33.907053Z"
    }
   },
   "outputs": [],
   "source": [
    "# type(data_set)"
   ]
  },
  {
   "cell_type": "code",
   "execution_count": 78,
   "id": "a7002be8",
   "metadata": {
    "ExecuteTime": {
     "end_time": "2021-10-02T23:37:33.938061Z",
     "start_time": "2021-10-02T23:37:33.924043Z"
    }
   },
   "outputs": [
    {
     "data": {
      "text/plain": [
       "['https://www.sec.gov/Archives/edgar/data/3662/0000950170-98-000413.txt',\n",
       " 'https://www.sec.gov/Archives/edgar/data/3662/0000950170-98-001001.txt',\n",
       " 'https://www.sec.gov/Archives/edgar/data/3662/0000950172-98-000783.txt',\n",
       " 'https://www.sec.gov/Archives/edgar/data/3662/0000950170-98-002145.txt',\n",
       " 'https://www.sec.gov/Archives/edgar/data/3662/0000950172-98-001203.txt',\n",
       " 'https://www.sec.gov/Archives/edgar/data/3662/0000950170-98-002278.txt',\n",
       " 'https://www.sec.gov/Archives/edgar/data/3662/0000950170-98-002401.txt',\n",
       " 'https://www.sec.gov/Archives/edgar/data/3662/0000950170-98-002402.txt',\n",
       " 'https://www.sec.gov/Archives/edgar/data/3662/0000950172-99-000362.txt',\n",
       " 'https://www.sec.gov/Archives/edgar/data/3662/0000950170-99-000775.txt',\n",
       " 'https://www.sec.gov/Archives/edgar/data/3662/0000950172-99-000584.txt',\n",
       " 'https://www.sec.gov/Archives/edgar/data/3662/0000950170-99-001005.txt',\n",
       " 'https://www.sec.gov/Archives/edgar/data/3662/0000950172-99-001074.txt',\n",
       " 'https://www.sec.gov/Archives/edgar/data/3662/0000950170-99-001361.txt',\n",
       " 'https://www.sec.gov/Archives/edgar/data/3662/0000889812-99-003241.txt',\n",
       " 'https://www.sec.gov/Archives/edgar/data/3662/0000950170-99-001639.txt',\n",
       " 'https://www.sec.gov/Archives/edgar/data/3662/0000950170-99-001640.txt',\n",
       " 'https://www.sec.gov/Archives/edgar/data/3662/0000950172-99-001626.txt',\n",
       " 'https://www.sec.gov/Archives/edgar/data/3662/0000950170-99-001856.txt',\n",
       " 'https://www.sec.gov/Archives/edgar/data/3982/0000950129-06-002926.txt',\n",
       " 'https://www.sec.gov/Archives/edgar/data/3982/0000950129-06-004690.txt',\n",
       " 'https://www.sec.gov/Archives/edgar/data/3982/0000950129-06-005244.txt',\n",
       " 'https://www.sec.gov/Archives/edgar/data/3982/0000950129-06-007243.txt',\n",
       " 'https://www.sec.gov/Archives/edgar/data/3982/0000950129-06-007244.txt',\n",
       " 'https://www.sec.gov/Archives/edgar/data/3982/0000950129-06-007871.txt',\n",
       " 'https://www.sec.gov/Archives/edgar/data/3982/0000950129-06-009522.txt',\n",
       " 'https://www.sec.gov/Archives/edgar/data/3982/0000950134-06-023819.txt',\n",
       " 'https://www.sec.gov/Archives/edgar/data/3982/0000950129-07-001381.txt',\n",
       " 'https://www.sec.gov/Archives/edgar/data/3982/0000950129-07-002432.txt',\n",
       " 'https://www.sec.gov/Archives/edgar/data/3982/0000950129-07-003918.txt',\n",
       " 'https://www.sec.gov/Archives/edgar/data/3982/0000950129-07-005361.txt',\n",
       " 'https://www.sec.gov/Archives/edgar/data/3982/0000950129-08-001569.txt',\n",
       " 'https://www.sec.gov/Archives/edgar/data/3982/0000950129-08-002507.txt',\n",
       " 'https://www.sec.gov/Archives/edgar/data/4447/0000950123-03-012528.txt',\n",
       " 'https://www.sec.gov/Archives/edgar/data/4447/0000950123-04-003250.txt',\n",
       " 'https://www.sec.gov/Archives/edgar/data/4447/0000950123-04-003322.txt',\n",
       " 'https://www.sec.gov/Archives/edgar/data/4447/0000950123-04-005950.txt',\n",
       " 'https://www.sec.gov/Archives/edgar/data/4447/0000950123-04-009350.txt',\n",
       " 'https://www.sec.gov/Archives/edgar/data/4447/0000950123-04-013054.txt',\n",
       " 'https://www.sec.gov/Archives/edgar/data/4447/0000950123-05-003078.txt',\n",
       " 'https://www.sec.gov/Archives/edgar/data/4447/0000950123-05-005767.txt',\n",
       " 'https://www.sec.gov/Archives/edgar/data/4447/0000950123-05-009475.txt',\n",
       " 'https://www.sec.gov/Archives/edgar/data/4447/0000950123-05-013153.txt',\n",
       " 'https://www.sec.gov/Archives/edgar/data/4457/0000004457-99-000043.txt',\n",
       " 'https://www.sec.gov/Archives/edgar/data/4457/0000004457-00-000018.txt',\n",
       " 'https://www.sec.gov/Archives/edgar/data/4457/0000004457-00-000067.txt',\n",
       " 'https://www.sec.gov/Archives/edgar/data/4457/0000004457-00-000080.txt',\n",
       " 'https://www.sec.gov/Archives/edgar/data/4457/0000004457-00-000105.txt',\n",
       " 'https://www.sec.gov/Archives/edgar/data/4457/0000004457-01-500024.txt',\n",
       " 'https://www.sec.gov/Archives/edgar/data/4457/0000004457-01-500063.txt',\n",
       " 'https://www.sec.gov/Archives/edgar/data/4457/0000004457-01-500060.txt',\n",
       " 'https://www.sec.gov/Archives/edgar/data/4457/0000004457-01-500081.txt',\n",
       " 'https://www.sec.gov/Archives/edgar/data/4457/0000004457-01-500083.txt',\n",
       " 'https://www.sec.gov/Archives/edgar/data/4515/0000004515-08-000073.txt',\n",
       " 'https://www.sec.gov/Archives/edgar/data/4515/0000004515-09-000008.txt',\n",
       " 'https://www.sec.gov/Archives/edgar/data/4515/0000004515-09-000018.txt',\n",
       " 'https://www.sec.gov/Archives/edgar/data/4515/0000004515-09-000029.txt',\n",
       " 'https://www.sec.gov/Archives/edgar/data/4515/0000004515-09-000039.txt',\n",
       " 'https://www.sec.gov/Archives/edgar/data/4515/0000004515-09-000041.txt',\n",
       " 'https://www.sec.gov/Archives/edgar/data/4515/0000004515-10-000006.txt',\n",
       " 'https://www.sec.gov/Archives/edgar/data/4515/0000004515-10-000016.txt',\n",
       " 'https://www.sec.gov/Archives/edgar/data/4515/0000950123-10-066865.txt',\n",
       " 'https://www.sec.gov/Archives/edgar/data/4515/0000950123-10-094615.txt',\n",
       " 'https://www.sec.gov/Archives/edgar/data/4962/0001193125-14-167067.txt',\n",
       " 'https://www.sec.gov/Archives/edgar/data/4962/0001193125-14-286961.txt',\n",
       " 'https://www.sec.gov/Archives/edgar/data/5588/0000930661-96-001510.txt',\n",
       " 'https://www.sec.gov/Archives/edgar/data/5588/0000950134-97-002428.txt',\n",
       " 'https://www.sec.gov/Archives/edgar/data/5588/0000950134-97-003934.txt',\n",
       " 'https://www.sec.gov/Archives/edgar/data/5588/0000950134-97-006223.txt',\n",
       " 'https://www.sec.gov/Archives/edgar/data/5588/0000950134-97-008577.txt',\n",
       " 'https://www.sec.gov/Archives/edgar/data/5588/0000950134-98-002477.txt',\n",
       " 'https://www.sec.gov/Archives/edgar/data/5588/0000950134-98-004241.txt',\n",
       " 'https://www.sec.gov/Archives/edgar/data/5588/0000950134-98-006988.txt',\n",
       " 'https://www.sec.gov/Archives/edgar/data/5588/0000005588-98-000008.txt',\n",
       " 'https://www.sec.gov/Archives/edgar/data/5588/0000005588-98-000010.txt',\n",
       " 'https://www.sec.gov/Archives/edgar/data/5907/0000005907-99-000027.txt',\n",
       " 'https://www.sec.gov/Archives/edgar/data/5907/0000005907-99-000037.txt',\n",
       " 'https://www.sec.gov/Archives/edgar/data/5907/0000005907-00-000014.txt',\n",
       " 'https://www.sec.gov/Archives/edgar/data/5907/0000005907-00-000025.txt',\n",
       " 'https://www.sec.gov/Archives/edgar/data/5907/0000005907-00-000031.txt',\n",
       " 'https://www.sec.gov/Archives/edgar/data/5907/0000005907-00-000038.txt',\n",
       " 'https://www.sec.gov/Archives/edgar/data/5907/0000005907-01-000002.txt',\n",
       " 'https://www.sec.gov/Archives/edgar/data/5907/0000005907-01-000012.txt',\n",
       " 'https://www.sec.gov/Archives/edgar/data/5907/0000005907-01-000015.txt',\n",
       " 'https://www.sec.gov/Archives/edgar/data/5907/0000950123-01-502538.txt',\n",
       " 'https://www.sec.gov/Archives/edgar/data/5907/0000950123-01-504075.txt',\n",
       " 'https://www.sec.gov/Archives/edgar/data/5907/0000950123-01-505366.txt',\n",
       " 'https://www.sec.gov/Archives/edgar/data/5907/0000950123-01-505598.txt',\n",
       " 'https://www.sec.gov/Archives/edgar/data/6071/0000006071-98-000023.txt',\n",
       " 'https://www.sec.gov/Archives/edgar/data/6071/0000006071-98-000026.txt',\n",
       " 'https://www.sec.gov/Archives/edgar/data/6071/0000889812-99-001116.txt',\n",
       " 'https://www.sec.gov/Archives/edgar/data/6071/0000006071-99-000013.txt',\n",
       " 'https://www.sec.gov/Archives/edgar/data/6071/0000006071-99-000015.txt',\n",
       " 'https://www.sec.gov/Archives/edgar/data/6071/0000006071-99-000017.txt',\n",
       " 'https://www.sec.gov/Archives/edgar/data/6071/0000006071-00-000002.txt',\n",
       " 'https://www.sec.gov/Archives/edgar/data/6071/0000006071-00-000011.txt',\n",
       " 'https://www.sec.gov/Archives/edgar/data/6201/0000006201-99-000023.txt',\n",
       " 'https://www.sec.gov/Archives/edgar/data/6201/0000006201-99-000028.txt',\n",
       " 'https://www.sec.gov/Archives/edgar/data/6201/0000950134-00-002454.txt',\n",
       " 'https://www.sec.gov/Archives/edgar/data/6201/0000006201-00-000009.txt',\n",
       " 'https://www.sec.gov/Archives/edgar/data/6201/0000950134-00-006067.txt',\n",
       " 'https://www.sec.gov/Archives/edgar/data/6201/0000006201-00-000017.txt',\n",
       " 'https://www.sec.gov/Archives/edgar/data/6201/0000950134-01-002483.txt',\n",
       " 'https://www.sec.gov/Archives/edgar/data/6201/0000950134-01-500665.txt',\n",
       " 'https://www.sec.gov/Archives/edgar/data/6201/0000006201-01-500032.txt',\n",
       " 'https://www.sec.gov/Archives/edgar/data/6201/0000006201-01-500047.txt',\n",
       " 'https://www.sec.gov/Archives/edgar/data/6201/0000950134-02-001661.txt',\n",
       " 'https://www.sec.gov/Archives/edgar/data/6201/0000006201-02-000015.txt',\n",
       " 'https://www.sec.gov/Archives/edgar/data/6201/0000006201-02-000035.txt',\n",
       " 'https://www.sec.gov/Archives/edgar/data/6201/0000006201-02-000052.txt',\n",
       " 'https://www.sec.gov/Archives/edgar/data/6201/0000950134-02-012680.txt',\n",
       " 'https://www.sec.gov/Archives/edgar/data/6201/0000950134-02-012682.txt',\n",
       " 'https://www.sec.gov/Archives/edgar/data/6201/0000006201-03-000012.txt',\n",
       " 'https://www.sec.gov/Archives/edgar/data/6201/0001047469-03-013301.txt',\n",
       " 'https://www.sec.gov/Archives/edgar/data/6201/0000006201-03-000030.txt',\n",
       " 'https://www.sec.gov/Archives/edgar/data/6201/0000006201-03-000045.txt',\n",
       " 'https://www.sec.gov/Archives/edgar/data/6201/0000006201-08-000060.txt',\n",
       " 'https://www.sec.gov/Archives/edgar/data/6201/0000006201-09-000009.txt',\n",
       " 'https://www.sec.gov/Archives/edgar/data/6201/0000006201-09-000016.txt',\n",
       " 'https://www.sec.gov/Archives/edgar/data/6201/0000006201-09-000029.txt',\n",
       " 'https://www.sec.gov/Archives/edgar/data/6201/0000006201-09-000038.txt',\n",
       " 'https://www.sec.gov/Archives/edgar/data/6201/0000006201-09-000040.txt',\n",
       " 'https://www.sec.gov/Archives/edgar/data/6201/0000006201-10-000006.txt',\n",
       " 'https://www.sec.gov/Archives/edgar/data/6201/0000006201-10-000013.txt',\n",
       " 'https://www.sec.gov/Archives/edgar/data/6201/0000950123-10-066894.txt',\n",
       " 'https://www.sec.gov/Archives/edgar/data/6201/0000950123-10-094605.txt',\n",
       " 'https://www.sec.gov/Archives/edgar/data/6260/0000006260-94-000014.txt',\n",
       " 'https://www.sec.gov/Archives/edgar/data/6260/0000006260-94-000016.txt',\n",
       " 'https://www.sec.gov/Archives/edgar/data/6260/0000006260-97-000011.txt',\n",
       " 'https://www.sec.gov/Archives/edgar/data/6260/0000006260-98-000001.txt',\n",
       " 'https://www.sec.gov/Archives/edgar/data/6260/0000006260-98-000003.txt',\n",
       " 'https://www.sec.gov/Archives/edgar/data/6260/0000914121-98-000672.txt',\n",
       " 'https://www.sec.gov/Archives/edgar/data/6260/0001047469-98-045227.txt',\n",
       " 'https://www.sec.gov/Archives/edgar/data/6260/0000006260-99-000005.txt',\n",
       " 'https://www.sec.gov/Archives/edgar/data/6260/0000006260-99-000007.txt',\n",
       " 'https://www.sec.gov/Archives/edgar/data/6260/0000006260-99-000010.txt',\n",
       " 'https://www.sec.gov/Archives/edgar/data/11860/0000011860-98-000022.txt',\n",
       " 'https://www.sec.gov/Archives/edgar/data/11860/0001021408-99-000543.txt',\n",
       " 'https://www.sec.gov/Archives/edgar/data/11860/0000011860-99-000025.txt',\n",
       " 'https://www.sec.gov/Archives/edgar/data/11860/0000011860-99-000030.txt',\n",
       " 'https://www.sec.gov/Archives/edgar/data/11860/0000011860-99-000035.txt',\n",
       " 'https://www.sec.gov/Archives/edgar/data/11860/0000011860-99-000042.txt',\n",
       " 'https://www.sec.gov/Archives/edgar/data/11860/0000011860-00-000019.txt',\n",
       " 'https://www.sec.gov/Archives/edgar/data/11860/0000011860-00-000022.txt',\n",
       " 'https://www.sec.gov/Archives/edgar/data/11860/0000011860-00-000025.txt',\n",
       " 'https://www.sec.gov/Archives/edgar/data/11860/0000011860-00-000028.txt',\n",
       " 'https://www.sec.gov/Archives/edgar/data/11860/0000011860-00-000038.txt',\n",
       " 'https://www.sec.gov/Archives/edgar/data/12239/0001104659-07-024804.txt',\n",
       " 'https://www.sec.gov/Archives/edgar/data/12239/0001104659-07-040463.txt',\n",
       " 'https://www.sec.gov/Archives/edgar/data/12239/0001104659-07-041441.txt',\n",
       " 'https://www.sec.gov/Archives/edgar/data/12239/0001104659-07-042333.txt',\n",
       " 'https://www.sec.gov/Archives/edgar/data/12239/0001104659-07-062470.txt']"
      ]
     },
     "execution_count": 78,
     "metadata": {},
     "output_type": "execute_result"
    }
   ],
   "source": [
    "web_link"
   ]
  },
  {
   "cell_type": "code",
   "execution_count": null,
   "id": "138fcd39",
   "metadata": {
    "ExecuteTime": {
     "start_time": "2021-10-02T23:37:33.522Z"
    },
    "scrolled": true
   },
   "outputs": [
    {
     "name": "stdout",
     "output_type": "stream",
     "text": [
      "https://www.sec.gov/Archives/edgar/data/3662/0000950170-98-000413.txt\n",
      "<class 'str'>\n",
      "403\n",
      "data not connected to source\n",
      "data not connected to source\n",
      "data not connected to source\n",
      "data not connected to source\n",
      "data not connected to source\n",
      "data not connected to source\n",
      "data not connected to source\n",
      "data not connected to source\n",
      "data not connected to source\n",
      "data not connected to source\n",
      "data not connected to source\n",
      "data not connected to source\n",
      "data not connected to source\n",
      "data not connected to source\n",
      "data not connected to source\n",
      "data not connected to source\n",
      "data not connected to source\n",
      "data not connected to source\n",
      "data not connected to source\n",
      "data not connected to source\n",
      "data not connected to source\n",
      "data not connected to source\n",
      "data not connected to source\n",
      "data not connected to source\n",
      "data not connected to source\n",
      "data not connected to source\n",
      "data not connected to source\n",
      "data not connected to source\n",
      "data not connected to source\n",
      "data not connected to source\n",
      "data not connected to source\n",
      "data not connected to source\n",
      "data not connected to source\n",
      "data not connected to source\n",
      "data not connected to source\n",
      "data not connected to source\n",
      "data not connected to source\n",
      "data not connected to source\n"
     ]
    }
   ],
   "source": [
    "par = 'html.parser'\n",
    "\n",
    "for link in web_link:\n",
    "    print(link)\n",
    "    print(type(link))\n",
    "\n",
    "    data = establish_connection(link)\n",
    "    print(data.status_code)\n",
    "    \n",
    "#     break\n",
    "\n",
    "    input_data_content = data.content\n",
    "\n",
    "    soup = BeautifulSoup_data(input_data_content,par)\n",
    "    \n",
    "    try : \n",
    "        \n",
    "\n",
    "        text_from_report = get_text_from_report(soup)\n",
    "        \n",
    "    \n",
    "        tag_name = search_by_tag(soup)\n",
    "\n",
    "        w_token = word_token(text_from_report)\n",
    "\n",
    "        s_token = sen_token(text_from_report)\n",
    "\n",
    "        # No. of sentence\n",
    "        Total_no_of_sentence=total_no_of_sentence(s_token)\n",
    "\n",
    "        # filer text using regx \n",
    "        clean_test_in_lower_case = filter_word_using_re(w_token)\n",
    "\n",
    "\n",
    "        # total No. of words after removing not text character \n",
    "        Total_no_of_words =  Total_No_of_Words_after_removing_Non_text_character(clean_test_in_lower_case)\n",
    "\n",
    "\n",
    "        # ........................\n",
    "        # word_count \n",
    "        list_of_words_after_stop_words = sheet_positive_negetive_stop_words_constrain_uncertanity_words['Stop_Words'].dropna()\n",
    "        word_count = count_words(list_of_words_after_stop_words)\n",
    "        word_counter.append(word_count)\n",
    "\n",
    "\n",
    "\n",
    "        #.......................\n",
    "        # Positive score \n",
    "        List_of_Posative_words=  sheet_positive_negetive_stop_words_constrain_uncertanity_words['Posative_Words'].dropna()\n",
    "        Positive_score = count(list_of_words_after_stop_words,List_of_Posative_words)\n",
    "        pos_score.append(Positive_score)\n",
    "\n",
    "\n",
    "\n",
    "\n",
    "        #.......................\n",
    "        #Negative score\n",
    "        List_of_Negative_words=  sheet_positive_negetive_stop_words_constrain_uncertanity_words['Negative_words'].dropna()\n",
    "        Negative_score = count(list_of_words_after_stop_words,List_of_Negative_words)\n",
    "        neg_score.append(Negative_score)\n",
    "\n",
    "        #..........................\n",
    "        # Polarity \n",
    "        Polarity_Score = polarity(Positive_score,Negative_score)\n",
    "        pol_score.append(Polarity_Score)\n",
    "\n",
    "\n",
    "        #..........................\n",
    "        # Average_Sentence_Length\n",
    "        Average_Sentence_Length =avg_snet_len(Total_no_of_words,Total_no_of_sentence )\n",
    "        avg_sen_len.append(Average_Sentence_Length)\n",
    "\n",
    "\n",
    "\n",
    "        # .........................\n",
    "        # Complex Word Count\n",
    "        Total_No_of_complex_word =count_complex_word(list_of_words_after_stop_words)\n",
    "        complex_wor_count.append(Total_No_of_complex_word)\n",
    "\n",
    "        #..........................\n",
    "        #Percentage_of_complex_word\n",
    "        Percentage_of_complex_w = Percentage_of_complex_word(Total_No_of_complex_word,Total_no_of_words)\n",
    "        percentage_of_com_words.append(Percentage_of_complex_w)\n",
    "\n",
    "\n",
    "        #...........................\n",
    "        # Fog Index\n",
    "        Fog_Index =  fog(Average_Sentence_Length , Percentage_of_complex_w)\n",
    "        f_ind.append(Fog_Index)\n",
    "\n",
    "\n",
    "        #........................\n",
    "        # uncertanity score\n",
    "        sheet_positive_negetive_stop_words_constrain_uncertanity_words['Uncertanity_Word'] = sheet_positive_negetive_stop_words_constrain_uncertanity_words['Uncertanity_Word'].str.lower()\n",
    "        Series_of_uncertanity_words = sheet_positive_negetive_stop_words_constrain_uncertanity_words['Uncertanity_Word'].dropna()\n",
    "        uncertanity_score = count(list_of_words_after_stop_words,Series_of_uncertanity_words)\n",
    "        uncer_score.append(uncertanity_score)\n",
    "\n",
    "\n",
    "        #.........................\n",
    "        # constraning score\n",
    "        sheet_positive_negetive_stop_words_constrain_uncertanity_words['Constraning_Word']= sheet_positive_negetive_stop_words_constrain_uncertanity_words['Constraning_Word'].str.lower()\n",
    "        Series_of_uncertanity_words = sheet_positive_negetive_stop_words_constrain_uncertanity_words['Constraning_Word'].dropna()\n",
    "        constraining_score =count(list_of_words_after_stop_words,Series_of_uncertanity_words)\n",
    "        const_score.append(constraining_score)\n",
    "\n",
    "        # selectivity score\n",
    "        Subjectivity_Score = sub_score(Positive_score,Negative_score)\n",
    "        #Sentiment score categorization\n",
    "        sentimental_score =  sent_score(Polarity_Score)\n",
    "\n",
    "        # Average Word Length\n",
    "        Average_word_length=avg_word_len(word_count)\n",
    "\n",
    "        #..................................\n",
    "        # positive_word_proportion\n",
    "        positive_word_proportion = word_prop(Positive_score,word_count)\n",
    "        pos_wor_prop.append(positive_word_proportion)\n",
    "\n",
    "        #..................................\n",
    "        # negative_word_proportion\n",
    "        negative_word_proportion = word_prop(Negative_score,word_count)\n",
    "        neg_wor_prop.append(negative_word_proportion)\n",
    "\n",
    "        #.................................\n",
    "        # uncertainty_word_proportion\n",
    "        uncertainty_word_proportion = word_prop(uncertanity_score,word_count)\n",
    "        uncer_wor_prop.append(uncertainty_word_proportion)\n",
    "\n",
    "        # ................................\n",
    "        # constraining_word_proportion\n",
    "        constraining_word_proportion =word_prop(constraining_score,word_count)\n",
    "        cons_wor_prop.append(constraining_word_proportion)\n",
    "\n",
    "        #..................................\n",
    "        # constraining_words_whole_report\n",
    "        constraining_words_whole_report = ''\n",
    "        constraning_words_whole_report.append(constraining_words_whole_report)\n",
    "        \n",
    "        \n",
    "        \n",
    "    except IndexError:\n",
    "        print(\"error index error.....................\")\n",
    "\n",
    "\n"
   ]
  },
  {
   "cell_type": "code",
   "execution_count": null,
   "id": "1fde65a1",
   "metadata": {
    "ExecuteTime": {
     "start_time": "2021-10-02T23:37:33.525Z"
    },
    "run_control": {
     "marked": true
    }
   },
   "outputs": [],
   "source": [
    "print(pos_score,neg_score,pol_score,avg_sen_len,percentage_of_com_words,\n",
    "      f_ind,complex_wor_count,word_counter,uncer_score ,\n",
    "      const_score ,pos_wor_prop,neg_wor_prop,uncer_wor_prop,\n",
    "      cons_wor_prop,constraning_words_whole_report)"
   ]
  },
  {
   "cell_type": "markdown",
   "id": "767acaa6",
   "metadata": {},
   "source": [
    "# Crete Data Frame as Dict"
   ]
  },
  {
   "cell_type": "code",
   "execution_count": null,
   "id": "be4cbb7c",
   "metadata": {
    "ExecuteTime": {
     "start_time": "2021-10-02T23:37:33.996Z"
    },
    "run_control": {
     "marked": true
    }
   },
   "outputs": [],
   "source": [
    "d_set =   {'CIK' : CIK1,\n",
    "          'CONAME' : CONAME1,\n",
    "          'FYRMO': FYRMO1,\n",
    "          'FDATE': FDATE1,\n",
    "          'FORM': FORM1,\n",
    "           'SECFNAME' : SECFNAME1,\n",
    "          'positive_score' :pos_score,\n",
    "          'negative_score': neg_score ,\n",
    "          'polarity_score' :pol_score,\n",
    "          'average_sentence_length' : avg_sen_len,\n",
    "          'percentage_of_complex_words': percentage_of_com_words,\n",
    "          'fog_index' : f_ind,\n",
    "          'complex_word_count' : complex_wor_count,\n",
    "          'word_count' : word_counter,\n",
    "          'uncertainty_score': uncer_score,\n",
    "          'constraining_score': const_score,\n",
    "          'positive_word_proportion' : pos_wor_prop,\n",
    "          'negative_word_proportion' : neg_wor_prop,\n",
    "          'uncertainty_word_proportion': uncer_wor_prop,\n",
    "          'constraining_word_proportion' : cons_wor_prop,\n",
    "          'constraining_words_whole_report' : constraning_words_whole_report\n",
    "          }"
   ]
  },
  {
   "cell_type": "code",
   "execution_count": null,
   "id": "8730f065",
   "metadata": {
    "ExecuteTime": {
     "start_time": "2021-10-02T23:37:34.000Z"
    }
   },
   "outputs": [],
   "source": [
    "data_set = pd.DataFrame.from_dict(d_set, orient='index')\n",
    "Final_data_set= data_set.transpose()\n",
    "Final_data_set"
   ]
  },
  {
   "cell_type": "code",
   "execution_count": null,
   "id": "57bf3b80",
   "metadata": {
    "ExecuteTime": {
     "end_time": "2021-09-16T03:37:32.912618Z",
     "start_time": "2021-09-16T03:37:32.884042Z"
    }
   },
   "outputs": [],
   "source": []
  },
  {
   "cell_type": "code",
   "execution_count": null,
   "id": "81a753d7",
   "metadata": {
    "ExecuteTime": {
     "end_time": "2021-09-16T03:37:37.672065Z",
     "start_time": "2021-09-16T03:37:37.658513Z"
    }
   },
   "outputs": [],
   "source": []
  },
  {
   "cell_type": "code",
   "execution_count": null,
   "id": "8b9dff37",
   "metadata": {
    "ExecuteTime": {
     "start_time": "2021-10-02T23:37:34.005Z"
    },
    "scrolled": false
   },
   "outputs": [],
   "source": [
    "Final_data_set"
   ]
  },
  {
   "cell_type": "markdown",
   "id": "a534b71a",
   "metadata": {},
   "source": [
    "# Export_to_scv"
   ]
  },
  {
   "cell_type": "code",
   "execution_count": null,
   "id": "1b91c305",
   "metadata": {
    "ExecuteTime": {
     "start_time": "2021-10-02T23:37:34.456Z"
    }
   },
   "outputs": [],
   "source": [
    "export_to_csv= Final_data_set.to_csv('Final_data_set.csv')"
   ]
  },
  {
   "cell_type": "code",
   "execution_count": null,
   "id": "5164cfc6",
   "metadata": {},
   "outputs": [],
   "source": []
  }
 ],
 "metadata": {
  "kernelspec": {
   "display_name": "Python 3",
   "language": "python",
   "name": "python3"
  },
  "language_info": {
   "codemirror_mode": {
    "name": "ipython",
    "version": 3
   },
   "file_extension": ".py",
   "mimetype": "text/x-python",
   "name": "python",
   "nbconvert_exporter": "python",
   "pygments_lexer": "ipython3",
   "version": "3.8.8"
  },
  "latex_envs": {
   "LaTeX_envs_menu_present": true,
   "autoclose": false,
   "autocomplete": true,
   "bibliofile": "biblio.bib",
   "cite_by": "apalike",
   "current_citInitial": 1,
   "eqLabelWithNumbers": true,
   "eqNumInitial": 1,
   "hotkeys": {
    "equation": "Ctrl-E",
    "itemize": "Ctrl-I"
   },
   "labels_anchors": false,
   "latex_user_defs": false,
   "report_style_numbering": false,
   "user_envs_cfg": false
  },
  "toc": {
   "base_numbering": 1,
   "nav_menu": {},
   "number_sections": true,
   "sideBar": true,
   "skip_h1_title": false,
   "title_cell": "Table of Contents",
   "title_sidebar": "Contents",
   "toc_cell": false,
   "toc_position": {},
   "toc_section_display": true,
   "toc_window_display": false
  },
  "varInspector": {
   "cols": {
    "lenName": 16,
    "lenType": 16,
    "lenVar": 40
   },
   "kernels_config": {
    "python": {
     "delete_cmd_postfix": "",
     "delete_cmd_prefix": "del ",
     "library": "var_list.py",
     "varRefreshCmd": "print(var_dic_list())"
    },
    "r": {
     "delete_cmd_postfix": ") ",
     "delete_cmd_prefix": "rm(",
     "library": "var_list.r",
     "varRefreshCmd": "cat(var_dic_list()) "
    }
   },
   "types_to_exclude": [
    "module",
    "function",
    "builtin_function_or_method",
    "instance",
    "_Feature"
   ],
   "window_display": false
  }
 },
 "nbformat": 4,
 "nbformat_minor": 5
}
