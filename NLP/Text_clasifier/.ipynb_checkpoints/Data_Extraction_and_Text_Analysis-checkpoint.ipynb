{
 "cells": [
  {
   "cell_type": "code",
   "execution_count": 1,
   "id": "18518d54",
   "metadata": {
    "ExecuteTime": {
     "end_time": "2021-09-15T19:46:53.753029Z",
     "start_time": "2021-09-15T19:46:51.803874Z"
    },
    "scrolled": true
   },
   "outputs": [
    {
     "name": "stderr",
     "output_type": "stream",
     "text": [
      "[nltk_data] Downloading package punkt to\n",
      "[nltk_data]     C:\\Users\\kumar\\AppData\\Roaming\\nltk_data...\n",
      "[nltk_data]   Package punkt is already up-to-date!\n"
     ]
    },
    {
     "data": {
      "text/plain": [
       "True"
      ]
     },
     "execution_count": 1,
     "metadata": {},
     "output_type": "execute_result"
    }
   ],
   "source": [
    "from bs4 import BeautifulSoup\n",
    "import html\n",
    "import requests\n",
    "import pandas as pd\n",
    "import numpy as np\n",
    "import re \n",
    "import time\n",
    "\n",
    "from nltk.tokenize import sent_tokenize, word_tokenize\n",
    "import nltk\n",
    "nltk.download('punkt')"
   ]
  },
  {
   "cell_type": "code",
   "execution_count": 195,
   "id": "d807bd4e",
   "metadata": {
    "ExecuteTime": {
     "end_time": "2021-09-15T20:40:59.780983Z",
     "start_time": "2021-09-15T20:40:59.557655Z"
    },
    "scrolled": true
   },
   "outputs": [
    {
     "data": {
      "text/html": [
       "<div>\n",
       "<style scoped>\n",
       "    .dataframe tbody tr th:only-of-type {\n",
       "        vertical-align: middle;\n",
       "    }\n",
       "\n",
       "    .dataframe tbody tr th {\n",
       "        vertical-align: top;\n",
       "    }\n",
       "\n",
       "    .dataframe thead th {\n",
       "        text-align: right;\n",
       "    }\n",
       "</style>\n",
       "<table border=\"1\" class=\"dataframe\">\n",
       "  <thead>\n",
       "    <tr style=\"text-align: right;\">\n",
       "      <th></th>\n",
       "      <th>Stop_Words</th>\n",
       "      <th>Posative_Words</th>\n",
       "      <th>Negative_words</th>\n",
       "      <th>Uncertanity_Word</th>\n",
       "      <th>Constraning_Word</th>\n",
       "    </tr>\n",
       "  </thead>\n",
       "  <tbody>\n",
       "    <tr>\n",
       "      <th>0</th>\n",
       "      <td>a</td>\n",
       "      <td>a+</td>\n",
       "      <td>2-faced</td>\n",
       "      <td>ABEYANCE</td>\n",
       "      <td>ABIDE</td>\n",
       "    </tr>\n",
       "    <tr>\n",
       "      <th>1</th>\n",
       "      <td>a's</td>\n",
       "      <td>abound</td>\n",
       "      <td>2-faces</td>\n",
       "      <td>ABEYANCES</td>\n",
       "      <td>ABIDING</td>\n",
       "    </tr>\n",
       "    <tr>\n",
       "      <th>2</th>\n",
       "      <td>able</td>\n",
       "      <td>abounds</td>\n",
       "      <td>abnormal</td>\n",
       "      <td>ALMOST</td>\n",
       "      <td>BOUND</td>\n",
       "    </tr>\n",
       "    <tr>\n",
       "      <th>3</th>\n",
       "      <td>about</td>\n",
       "      <td>abundance</td>\n",
       "      <td>abolish</td>\n",
       "      <td>ALTERATION</td>\n",
       "      <td>BOUNDED</td>\n",
       "    </tr>\n",
       "    <tr>\n",
       "      <th>4</th>\n",
       "      <td>above</td>\n",
       "      <td>abundant</td>\n",
       "      <td>abominable</td>\n",
       "      <td>ALTERATIONS</td>\n",
       "      <td>COMMIT</td>\n",
       "    </tr>\n",
       "    <tr>\n",
       "      <th>...</th>\n",
       "      <td>...</td>\n",
       "      <td>...</td>\n",
       "      <td>...</td>\n",
       "      <td>...</td>\n",
       "      <td>...</td>\n",
       "    </tr>\n",
       "    <tr>\n",
       "      <th>4778</th>\n",
       "      <td>NaN</td>\n",
       "      <td>NaN</td>\n",
       "      <td>zaps</td>\n",
       "      <td>NaN</td>\n",
       "      <td>NaN</td>\n",
       "    </tr>\n",
       "    <tr>\n",
       "      <th>4779</th>\n",
       "      <td>NaN</td>\n",
       "      <td>NaN</td>\n",
       "      <td>zealot</td>\n",
       "      <td>NaN</td>\n",
       "      <td>NaN</td>\n",
       "    </tr>\n",
       "    <tr>\n",
       "      <th>4780</th>\n",
       "      <td>NaN</td>\n",
       "      <td>NaN</td>\n",
       "      <td>zealous</td>\n",
       "      <td>NaN</td>\n",
       "      <td>NaN</td>\n",
       "    </tr>\n",
       "    <tr>\n",
       "      <th>4781</th>\n",
       "      <td>NaN</td>\n",
       "      <td>NaN</td>\n",
       "      <td>zealously</td>\n",
       "      <td>NaN</td>\n",
       "      <td>NaN</td>\n",
       "    </tr>\n",
       "    <tr>\n",
       "      <th>4782</th>\n",
       "      <td>NaN</td>\n",
       "      <td>NaN</td>\n",
       "      <td>zombie</td>\n",
       "      <td>NaN</td>\n",
       "      <td>NaN</td>\n",
       "    </tr>\n",
       "  </tbody>\n",
       "</table>\n",
       "<p>4783 rows × 5 columns</p>\n",
       "</div>"
      ],
      "text/plain": [
       "     Stop_Words Posative_Words Negative_words Uncertanity_Word  \\\n",
       "0             a             a+        2-faced         ABEYANCE   \n",
       "1           a's         abound        2-faces        ABEYANCES   \n",
       "2          able        abounds       abnormal           ALMOST   \n",
       "3         about      abundance        abolish       ALTERATION   \n",
       "4         above       abundant     abominable      ALTERATIONS   \n",
       "...         ...            ...            ...              ...   \n",
       "4778        NaN            NaN           zaps              NaN   \n",
       "4779        NaN            NaN         zealot              NaN   \n",
       "4780        NaN            NaN        zealous              NaN   \n",
       "4781        NaN            NaN      zealously              NaN   \n",
       "4782        NaN            NaN         zombie              NaN   \n",
       "\n",
       "     Constraning_Word  \n",
       "0               ABIDE  \n",
       "1             ABIDING  \n",
       "2               BOUND  \n",
       "3             BOUNDED  \n",
       "4              COMMIT  \n",
       "...               ...  \n",
       "4778              NaN  \n",
       "4779              NaN  \n",
       "4780              NaN  \n",
       "4781              NaN  \n",
       "4782              NaN  \n",
       "\n",
       "[4783 rows x 5 columns]"
      ]
     },
     "execution_count": 195,
     "metadata": {},
     "output_type": "execute_result"
    }
   ],
   "source": [
    "sheet_positive_negetive_stop_words_constrain_uncertanity_words= pd.read_excel('C:/Users/kumar/OneDrive/Programm/Project/NLP/NLP_problem_Statement/sheet_of_Positive_negative_Stop_Word_constrain_uncertenity_words.xlsx')\n",
    "sheet_positive_negetive_stop_words_constrain_uncertanity_words"
   ]
  },
  {
   "cell_type": "code",
   "execution_count": 3,
   "id": "e470f85d",
   "metadata": {
    "ExecuteTime": {
     "end_time": "2021-09-15T19:46:54.295208Z",
     "start_time": "2021-09-15T19:46:54.281663Z"
    },
    "run_control": {
     "marked": true
    }
   },
   "outputs": [],
   "source": [
    "\n",
    "CIK1=[]\n",
    "CONAME1=[]\n",
    "FYRMO1=[]\n",
    "FDATE1=[]\n",
    "FORM1=[]\n",
    "SECFNAME1=[]\n",
    "pos_score =[]\n",
    "neg_score = []\n",
    "pol_score= []\n",
    "avg_sen_len = []\n",
    "percentage_of_com_words= []\n",
    "f_ind= []\n",
    "complex_wor_count= []\n",
    "word_counter =[]\n",
    "uncer_score = []\n",
    "const_score = []\n",
    "pos_wor_prop= []\n",
    "neg_wor_prop= []\n",
    "uncer_wor_prop= []\n",
    "cons_wor_prop= []\n",
    "constraning_words_whole_report=[]"
   ]
  },
  {
   "cell_type": "code",
   "execution_count": 4,
   "id": "81d0ad86",
   "metadata": {
    "ExecuteTime": {
     "end_time": "2021-09-15T19:46:54.311198Z",
     "start_time": "2021-09-15T19:46:54.297199Z"
    },
    "run_control": {
     "marked": true
    }
   },
   "outputs": [],
   "source": [
    "def fetch_data(link):\n",
    "    headers = {'User-Agent': 'Mozilla/5.0 (Macintosh; Intel Mac OS X 10_11_5) AppleWebKit/537.36 (KHTML, like Gecko) Chrome/50.0.2661.102 Safari/537.36'}\n",
    "#     url= \"https://wwlinkw.sec.gov/Archives/edgar/data/3662/0000950170-98-000413.txt\"\n",
    "    data = requests.get(link,headers)\n",
    "    time.sleep(5)\n",
    "    return data"
   ]
  },
  {
   "cell_type": "code",
   "execution_count": 5,
   "id": "764ae62f",
   "metadata": {
    "ExecuteTime": {
     "end_time": "2021-09-15T19:46:54.327201Z",
     "start_time": "2021-09-15T19:46:54.312206Z"
    }
   },
   "outputs": [],
   "source": [
    "# data.status_code"
   ]
  },
  {
   "cell_type": "code",
   "execution_count": 6,
   "id": "18ec2ae4",
   "metadata": {
    "ExecuteTime": {
     "end_time": "2021-09-15T19:46:54.343205Z",
     "start_time": "2021-09-15T19:46:54.329209Z"
    },
    "scrolled": true
   },
   "outputs": [],
   "source": [
    "# data.content"
   ]
  },
  {
   "cell_type": "code",
   "execution_count": 7,
   "id": "c6788cb3",
   "metadata": {
    "ExecuteTime": {
     "end_time": "2021-09-15T19:46:54.359210Z",
     "start_time": "2021-09-15T19:46:54.344213Z"
    }
   },
   "outputs": [],
   "source": [
    "def BeautifulSoup_data(input_data_content, par):\n",
    "    soup = BeautifulSoup(input_data_content, par)\n",
    "#     print(soup)\n",
    "#     print(soup.prettify())\n",
    "#     [type(item) for item in list(soup.children)]\n",
    "#     list(soup.children)\n",
    "#     html_text = list(soup.children)[1].get_text()\n",
    "#     type(html_text)\n",
    "    return soup    "
   ]
  },
  {
   "cell_type": "code",
   "execution_count": null,
   "id": "ea9845c7",
   "metadata": {
    "ExecuteTime": {
     "end_time": "2021-09-15T10:47:23.221375Z",
     "start_time": "2021-09-15T10:47:23.179372Z"
    }
   },
   "outputs": [],
   "source": []
  },
  {
   "cell_type": "code",
   "execution_count": 8,
   "id": "8ac25c42",
   "metadata": {
    "ExecuteTime": {
     "end_time": "2021-09-15T19:46:54.375260Z",
     "start_time": "2021-09-15T19:46:54.361217Z"
    },
    "run_control": {
     "marked": true
    }
   },
   "outputs": [],
   "source": [
    "def establish_connection(link):\n",
    "    data=  fetch_data(link)\n",
    "    data.status_code\n",
    "    while(data.status_code != 200):\n",
    "        data = fetch_data(link)\n",
    "        print('data not connected to source')\n",
    "        if(data.status_code == 200):\n",
    "            print('welcome data connect successfully')\n",
    "            break\n",
    "    return data"
   ]
  },
  {
   "cell_type": "code",
   "execution_count": 9,
   "id": "a162a79f",
   "metadata": {
    "ExecuteTime": {
     "end_time": "2021-09-15T19:46:54.391267Z",
     "start_time": "2021-09-15T19:46:54.377264Z"
    }
   },
   "outputs": [],
   "source": [
    "# soup"
   ]
  },
  {
   "cell_type": "code",
   "execution_count": 10,
   "id": "3df20932",
   "metadata": {
    "ExecuteTime": {
     "end_time": "2021-09-15T19:46:54.407715Z",
     "start_time": "2021-09-15T19:46:54.393267Z"
    }
   },
   "outputs": [],
   "source": [
    "# soup = BeautifulSoup(data.content, 'html.parser')\n",
    "# soup"
   ]
  },
  {
   "cell_type": "code",
   "execution_count": 11,
   "id": "9ff6de0a",
   "metadata": {
    "ExecuteTime": {
     "end_time": "2021-09-15T19:46:54.422757Z",
     "start_time": "2021-09-15T19:46:54.409727Z"
    },
    "scrolled": true
   },
   "outputs": [],
   "source": [
    "# print(soup.prettify())"
   ]
  },
  {
   "cell_type": "code",
   "execution_count": 12,
   "id": "f657f7e9",
   "metadata": {
    "ExecuteTime": {
     "end_time": "2021-09-15T19:46:54.438766Z",
     "start_time": "2021-09-15T19:46:54.424766Z"
    },
    "scrolled": false
   },
   "outputs": [],
   "source": [
    "# [type(item) for item in list(soup.children)]"
   ]
  },
  {
   "cell_type": "code",
   "execution_count": 13,
   "id": "e705dd55",
   "metadata": {
    "ExecuteTime": {
     "end_time": "2021-09-15T19:46:54.454781Z",
     "start_time": "2021-09-15T19:46:54.440770Z"
    }
   },
   "outputs": [],
   "source": [
    "# len(list(soup.children))"
   ]
  },
  {
   "cell_type": "code",
   "execution_count": 14,
   "id": "3364b515",
   "metadata": {
    "ExecuteTime": {
     "end_time": "2021-09-15T19:46:54.470779Z",
     "start_time": "2021-09-15T19:46:54.456788Z"
    }
   },
   "outputs": [],
   "source": [
    "# soup.children"
   ]
  },
  {
   "cell_type": "code",
   "execution_count": 15,
   "id": "9c3ee8b0",
   "metadata": {
    "ExecuteTime": {
     "end_time": "2021-09-15T19:46:54.486789Z",
     "start_time": "2021-09-15T19:46:54.471779Z"
    }
   },
   "outputs": [],
   "source": [
    "def get_text_from_report(soup):\n",
    "    [type(item) for item in list(soup.children)]\n",
    "    html_text = list(soup.children)[1].get_text()\n",
    "    return html_text   "
   ]
  },
  {
   "cell_type": "code",
   "execution_count": 16,
   "id": "127eed19",
   "metadata": {
    "ExecuteTime": {
     "end_time": "2021-09-15T19:46:54.502403Z",
     "start_time": "2021-09-15T19:46:54.487783Z"
    }
   },
   "outputs": [],
   "source": [
    "# text_from_report = get_text_from_report(soup)"
   ]
  },
  {
   "cell_type": "code",
   "execution_count": 17,
   "id": "2a0c89d6",
   "metadata": {
    "ExecuteTime": {
     "end_time": "2021-09-15T19:46:54.517422Z",
     "start_time": "2021-09-15T19:46:54.504418Z"
    }
   },
   "outputs": [],
   "source": [
    "# html_text = list(soup.children)[1].get_text()\n",
    "# html_text"
   ]
  },
  {
   "cell_type": "code",
   "execution_count": 18,
   "id": "0a9d9453",
   "metadata": {
    "ExecuteTime": {
     "end_time": "2021-09-15T19:46:54.533426Z",
     "start_time": "2021-09-15T19:46:54.519416Z"
    }
   },
   "outputs": [],
   "source": [
    "# type(html_text)"
   ]
  },
  {
   "cell_type": "markdown",
   "id": "1c4a14f3",
   "metadata": {},
   "source": [
    "# Search by Tags"
   ]
  },
  {
   "cell_type": "code",
   "execution_count": 19,
   "id": "7a0f0173",
   "metadata": {
    "ExecuteTime": {
     "end_time": "2021-09-15T19:46:54.549528Z",
     "start_time": "2021-09-15T19:46:54.535419Z"
    }
   },
   "outputs": [],
   "source": [
    "def search_by_tag(soup1):\n",
    "    list_of_tag= [tag.name for tag in soup1.find_all()]\n",
    "    set_of_tag = set()\n",
    "    for tags in list_of_tag:\n",
    "        set_of_tag.add(tags)\n",
    "#     lenght = len(soup.find_all(\"text\"))\n",
    "    return set_of_tag    "
   ]
  },
  {
   "cell_type": "code",
   "execution_count": 20,
   "id": "28c4132b",
   "metadata": {
    "ExecuteTime": {
     "end_time": "2021-09-15T19:46:54.565552Z",
     "start_time": "2021-09-15T19:46:54.550536Z"
    }
   },
   "outputs": [],
   "source": [
    "# tag_name = search_by_tag(soup)"
   ]
  },
  {
   "cell_type": "code",
   "execution_count": 21,
   "id": "00846c5f",
   "metadata": {
    "ExecuteTime": {
     "end_time": "2021-09-15T19:46:54.580948Z",
     "start_time": "2021-09-15T19:46:54.567553Z"
    }
   },
   "outputs": [],
   "source": [
    "# list_of_tag= [tag.name for tag in soup.find_all()]"
   ]
  },
  {
   "cell_type": "code",
   "execution_count": 22,
   "id": "224951d3",
   "metadata": {
    "ExecuteTime": {
     "end_time": "2021-09-15T19:46:54.596495Z",
     "start_time": "2021-09-15T19:46:54.582938Z"
    }
   },
   "outputs": [],
   "source": [
    "# set_of_tag = set()"
   ]
  },
  {
   "cell_type": "code",
   "execution_count": 23,
   "id": "bea67671",
   "metadata": {
    "ExecuteTime": {
     "end_time": "2021-09-15T19:46:54.612282Z",
     "start_time": "2021-09-15T19:46:54.600500Z"
    },
    "code_folding": []
   },
   "outputs": [],
   "source": [
    "# for tags in list_of_tag:\n",
    "#     set_of_tag.add(tags)"
   ]
  },
  {
   "cell_type": "code",
   "execution_count": 24,
   "id": "2f2346d5",
   "metadata": {
    "ExecuteTime": {
     "end_time": "2021-09-15T19:46:54.628347Z",
     "start_time": "2021-09-15T19:46:54.615277Z"
    },
    "run_control": {
     "marked": true
    },
    "scrolled": false
   },
   "outputs": [],
   "source": [
    "# set_of_tag"
   ]
  },
  {
   "cell_type": "code",
   "execution_count": 25,
   "id": "82801158",
   "metadata": {
    "ExecuteTime": {
     "end_time": "2021-09-15T19:46:54.643498Z",
     "start_time": "2021-09-15T19:46:54.630350Z"
    }
   },
   "outputs": [],
   "source": [
    "# print(len(soup.find_all(\"text\")))"
   ]
  },
  {
   "cell_type": "code",
   "execution_count": 26,
   "id": "d58dc282",
   "metadata": {
    "ExecuteTime": {
     "end_time": "2021-09-15T19:46:54.659133Z",
     "start_time": "2021-09-15T19:46:54.644504Z"
    }
   },
   "outputs": [],
   "source": [
    "# soup.find_all(\"text\")"
   ]
  },
  {
   "cell_type": "markdown",
   "id": "9d09521b",
   "metadata": {
    "ExecuteTime": {
     "end_time": "2021-09-12T02:53:40.078374Z",
     "start_time": "2021-09-12T02:53:40.051839Z"
    }
   },
   "source": [
    "t =soup.find_all('p', class_='note')\n",
    "t"
   ]
  },
  {
   "cell_type": "markdown",
   "id": "c7c2f8e3",
   "metadata": {
    "ExecuteTime": {
     "end_time": "2021-09-10T17:55:31.122250Z",
     "start_time": "2021-09-10T17:55:31.101910Z"
    }
   },
   "source": [
    "soup.find_all(id=\"header\")"
   ]
  },
  {
   "cell_type": "markdown",
   "id": "08fc0c89",
   "metadata": {
    "ExecuteTime": {
     "end_time": "2021-09-13T02:19:56.266483Z",
     "start_time": "2021-09-13T02:19:55.871318Z"
    }
   },
   "source": [
    "f = open('file.txt', 'r')\n",
    "f.read()"
   ]
  },
  {
   "cell_type": "markdown",
   "id": "e735a09c",
   "metadata": {},
   "source": [
    "# Apply NLP"
   ]
  },
  {
   "cell_type": "markdown",
   "id": "6c3293a1",
   "metadata": {},
   "source": [
    "1. word tokenizer \n",
    "2. sentence tokenizer "
   ]
  },
  {
   "cell_type": "markdown",
   "id": "09495c71",
   "metadata": {},
   "source": [
    "Extracting Derived variables\n",
    "1. Positive score\n",
    "2. Negative score\n",
    "3. polarity \n",
    "4. subjectivity"
   ]
  },
  {
   "cell_type": "markdown",
   "id": "7e1301bb",
   "metadata": {},
   "source": [
    "Sentiment score categorization\n",
    "This is determined by grouping the Polarity score values in the following groups.\n",
    " \n",
    "1. Most Negative: Polarity Score below -0.5\n",
    " \n",
    "2. Negative: Polarity Score between -0.5 and 0\n",
    " \n",
    "3. Neutral: Polarity Score equal to 0\n",
    " \n",
    "4. Positive: Polarity Score between 0 and 0.5\n",
    " \n",
    "5. Very Positive: Polarity Score above 0.5\n"
   ]
  },
  {
   "cell_type": "markdown",
   "id": "a70155ed",
   "metadata": {
    "run_control": {
     "marked": true
    }
   },
   "source": [
    "Analysis of Readability\n",
    "1. Average Sentence Length \n",
    "2. Percentage of Complex words \n",
    "3. Average Number of Words Per Sentence\n",
    "4. Complex Word Count\n",
    "5. Word Count\n",
    "6. Syllable Count Per Word\n",
    "7. Passive Words\n",
    "8. Average Word Length\n",
    "\n",
    "\n"
   ]
  },
  {
   "cell_type": "markdown",
   "id": "c19fa84c",
   "metadata": {},
   "source": [
    "# Word Tokenizer"
   ]
  },
  {
   "cell_type": "code",
   "execution_count": 27,
   "id": "69bd35af",
   "metadata": {
    "ExecuteTime": {
     "end_time": "2021-09-15T19:46:54.675231Z",
     "start_time": "2021-09-15T19:46:54.660141Z"
    }
   },
   "outputs": [],
   "source": [
    "def word_token(text_from_report):\n",
    "    word_token = word_tokenize(text_from_report)\n",
    "    return word_token\n",
    "    \n",
    "    "
   ]
  },
  {
   "cell_type": "code",
   "execution_count": 28,
   "id": "d31798fa",
   "metadata": {
    "ExecuteTime": {
     "end_time": "2021-09-15T19:46:54.691290Z",
     "start_time": "2021-09-15T19:46:54.677239Z"
    }
   },
   "outputs": [],
   "source": [
    "# w_token = word_token(text_from_report)"
   ]
  },
  {
   "cell_type": "markdown",
   "id": "8e977a83",
   "metadata": {
    "ExecuteTime": {
     "end_time": "2021-09-15T10:54:23.395107Z",
     "start_time": "2021-09-15T10:54:23.379571Z"
    }
   },
   "source": [
    "# Sentence Tokenizer"
   ]
  },
  {
   "cell_type": "code",
   "execution_count": 29,
   "id": "c8c7a83a",
   "metadata": {
    "ExecuteTime": {
     "end_time": "2021-09-15T19:46:54.706719Z",
     "start_time": "2021-09-15T19:46:54.694267Z"
    }
   },
   "outputs": [],
   "source": [
    "def sen_token(text_from_report):\n",
    "    sent_token = sent_tokenize(text_from_report)\n",
    "    return sent_token"
   ]
  },
  {
   "cell_type": "code",
   "execution_count": 30,
   "id": "5bacb56d",
   "metadata": {
    "ExecuteTime": {
     "end_time": "2021-09-15T19:46:54.722079Z",
     "start_time": "2021-09-15T19:46:54.709723Z"
    }
   },
   "outputs": [],
   "source": [
    "# s_token = sen_token(text_from_report)"
   ]
  },
  {
   "cell_type": "code",
   "execution_count": 31,
   "id": "017398d2",
   "metadata": {
    "ExecuteTime": {
     "end_time": "2021-09-15T19:46:54.738082Z",
     "start_time": "2021-09-15T19:46:54.723079Z"
    }
   },
   "outputs": [],
   "source": [
    "# s_token"
   ]
  },
  {
   "cell_type": "code",
   "execution_count": 32,
   "id": "15df8c29",
   "metadata": {
    "ExecuteTime": {
     "end_time": "2021-09-15T19:46:54.753635Z",
     "start_time": "2021-09-15T19:46:54.740083Z"
    }
   },
   "outputs": [],
   "source": [
    "# print(type(s_token))\n",
    "# print(len(s_token))\n",
    "# print(type(w_token))\n",
    "# print(len(w_token))"
   ]
  },
  {
   "cell_type": "markdown",
   "id": "94a4de26",
   "metadata": {},
   "source": [
    "# Total No of Sentence"
   ]
  },
  {
   "cell_type": "code",
   "execution_count": null,
   "id": "40b59609",
   "metadata": {},
   "outputs": [],
   "source": []
  },
  {
   "cell_type": "code",
   "execution_count": 33,
   "id": "532365ce",
   "metadata": {
    "ExecuteTime": {
     "end_time": "2021-09-15T19:46:54.769615Z",
     "start_time": "2021-09-15T19:46:54.754618Z"
    }
   },
   "outputs": [],
   "source": [
    "def total_no_of_sentence(s_token):\n",
    "    Total_sentence= len(s_token)\n",
    "    return Total_sentence"
   ]
  },
  {
   "cell_type": "code",
   "execution_count": 34,
   "id": "71fa5802",
   "metadata": {
    "ExecuteTime": {
     "end_time": "2021-09-15T19:46:54.785625Z",
     "start_time": "2021-09-15T19:46:54.770622Z"
    }
   },
   "outputs": [],
   "source": [
    "# Total_no_of_sentence=total_no_of_sentence(s_token)\n",
    "# Total_no_of_sentence"
   ]
  },
  {
   "cell_type": "markdown",
   "id": "530416f6",
   "metadata": {
    "ExecuteTime": {
     "end_time": "2021-09-13T03:09:59.550462Z",
     "start_time": "2021-09-13T03:09:59.525936Z"
    }
   },
   "source": [
    "# Filter text using Regular Expression "
   ]
  },
  {
   "cell_type": "code",
   "execution_count": 35,
   "id": "e89eec48",
   "metadata": {
    "ExecuteTime": {
     "end_time": "2021-09-15T19:46:54.800627Z",
     "start_time": "2021-09-15T19:46:54.787625Z"
    }
   },
   "outputs": [],
   "source": [
    "def filter_word_using_re(w_token):\n",
    "    clean_test=[]\n",
    "    clean= ''\n",
    "    for word in w_token:\n",
    "        res= re.sub(r'[^\\w\\s]|[^\\D]',\"\",word)\n",
    "        if res != \"\":\n",
    "            clean= res\n",
    "            clean_test.append(clean)\n",
    "            \n",
    "    clean_test_in_lower_case= []\n",
    "    for word in clean_test:\n",
    "        t= word.lower()\n",
    "        clean_test_in_lower_case.append(t)\n",
    "\n",
    "    return clean_test_in_lower_case "
   ]
  },
  {
   "cell_type": "code",
   "execution_count": 36,
   "id": "40568ad1",
   "metadata": {
    "ExecuteTime": {
     "end_time": "2021-09-15T19:46:54.816632Z",
     "start_time": "2021-09-15T19:46:54.801622Z"
    }
   },
   "outputs": [],
   "source": [
    "# clean_test_in_lower_case = filter_word_using_re(w_token)"
   ]
  },
  {
   "cell_type": "code",
   "execution_count": 37,
   "id": "9190b04a",
   "metadata": {
    "ExecuteTime": {
     "end_time": "2021-09-15T19:46:54.832638Z",
     "start_time": "2021-09-15T19:46:54.818632Z"
    }
   },
   "outputs": [],
   "source": [
    "# clean_test_in_lower_case"
   ]
  },
  {
   "cell_type": "markdown",
   "id": "fbac1054",
   "metadata": {},
   "source": [
    "clean word_token list \n",
    "remove all non word and digit character"
   ]
  },
  {
   "cell_type": "markdown",
   "id": "6589b4de",
   "metadata": {},
   "source": [
    "# Total No. of Words after removing Non text character"
   ]
  },
  {
   "cell_type": "code",
   "execution_count": 38,
   "id": "c2fe2136",
   "metadata": {
    "ExecuteTime": {
     "end_time": "2021-09-15T19:46:54.848639Z",
     "start_time": "2021-09-15T19:46:54.834630Z"
    }
   },
   "outputs": [],
   "source": [
    "def Total_No_of_Words_after_removing_Non_text_character(clean_test_in_lower_case):\n",
    "    Total_words= len(clean_test_in_lower_case)\n",
    "    return Total_words     "
   ]
  },
  {
   "cell_type": "markdown",
   "id": "340ab425",
   "metadata": {},
   "source": [
    "# Total_No_of_Words"
   ]
  },
  {
   "cell_type": "code",
   "execution_count": 39,
   "id": "92689687",
   "metadata": {
    "ExecuteTime": {
     "end_time": "2021-09-15T19:46:54.864290Z",
     "start_time": "2021-09-15T19:46:54.850640Z"
    },
    "scrolled": true
   },
   "outputs": [],
   "source": [
    "# Total_no_of_words =  Total_No_of_Words_after_removing_Non_text_character(clean_test_in_lower_case)\n",
    "# Total_no_of_words"
   ]
  },
  {
   "cell_type": "markdown",
   "id": "b5dd6ca8",
   "metadata": {
    "ExecuteTime": {
     "end_time": "2021-09-13T03:06:58.128224Z",
     "start_time": "2021-09-13T03:06:55.096126Z"
    }
   },
   "source": [
    "\n",
    "sent_token = sent_tokenize(f.read())"
   ]
  },
  {
   "cell_type": "markdown",
   "id": "9aeaeff0",
   "metadata": {},
   "source": [
    "# Stop word removal count  words_after removing stop word"
   ]
  },
  {
   "cell_type": "markdown",
   "id": "de769aa8",
   "metadata": {},
   "source": [
    "We count the total cleaned words present in the text by \n",
    "removing the stop words (using stopwords class of nltk package)."
   ]
  },
  {
   "cell_type": "markdown",
   "id": "cc11386f",
   "metadata": {
    "ExecuteTime": {
     "end_time": "2021-09-15T12:21:53.352633Z",
     "start_time": "2021-09-15T12:21:53.346618Z"
    }
   },
   "source": [
    "# Convert_Pandas_Series_to_Int"
   ]
  },
  {
   "cell_type": "code",
   "execution_count": 40,
   "id": "23e4abfe",
   "metadata": {
    "ExecuteTime": {
     "end_time": "2021-09-15T19:46:54.879821Z",
     "start_time": "2021-09-15T19:46:54.866278Z"
    }
   },
   "outputs": [],
   "source": [
    "def convert_pandas_series_to_int(List_of_stop_words):\n",
    "    List_of_stop_words = List_of_stop_words.to_list()\n",
    "    return List_of_stop_words    "
   ]
  },
  {
   "cell_type": "code",
   "execution_count": 41,
   "id": "62520bba",
   "metadata": {
    "ExecuteTime": {
     "end_time": "2021-09-15T19:46:54.895652Z",
     "start_time": "2021-09-15T19:46:54.881802Z"
    }
   },
   "outputs": [],
   "source": [
    "def count_words(List_of_stop_words):\n",
    "    List_of_stop_words= convert_pandas_series_to_int(List_of_stop_words)\n",
    "    list_of_words_after_stop_words= []\n",
    "    for word in clean_test_in_lower_case :\n",
    "        if not word in List_of_stop_words:\n",
    "            list_of_words_after_stop_words.append(word)\n",
    "    return len(list_of_words_after_stop_words)\n"
   ]
  },
  {
   "cell_type": "markdown",
   "id": "1933fda5",
   "metadata": {},
   "source": [
    "## Word Count"
   ]
  },
  {
   "cell_type": "code",
   "execution_count": 177,
   "id": "7fe9bf7f",
   "metadata": {
    "ExecuteTime": {
     "end_time": "2021-09-15T20:38:54.348768Z",
     "start_time": "2021-09-15T20:38:54.338224Z"
    }
   },
   "outputs": [],
   "source": [
    "list_of_words_after_stop_words = sheet_positive_negetive_stop_words_constrain_uncertanity_words['Stop_Words'].dropna()\n",
    "# word_count = count_words(list_of_words_after_stop_words)\n",
    "# word_count\n"
   ]
  },
  {
   "cell_type": "markdown",
   "id": "2ac10cba",
   "metadata": {
    "ExecuteTime": {
     "end_time": "2021-09-14T04:46:25.426558Z",
     "start_time": "2021-09-14T04:46:25.411008Z"
    }
   },
   "source": [
    "# Extracting Derived variables"
   ]
  },
  {
   "cell_type": "code",
   "execution_count": 43,
   "id": "572ab207",
   "metadata": {
    "ExecuteTime": {
     "end_time": "2021-09-15T19:46:54.926839Z",
     "start_time": "2021-09-15T19:46:54.913672Z"
    },
    "code_folding": []
   },
   "outputs": [],
   "source": [
    "def count(text_list,list_search):\n",
    "    list_search= convert_pandas_series_to_int(list_search)\n",
    "    counter =0\n",
    "    for word in text_list:\n",
    "        if word in list_search :\n",
    "            counter +=1\n",
    "    return counter"
   ]
  },
  {
   "cell_type": "markdown",
   "id": "a7517cba",
   "metadata": {},
   "source": [
    "# Positive Score "
   ]
  },
  {
   "cell_type": "markdown",
   "id": "7a15d4ea",
   "metadata": {},
   "source": [
    "This score is calculated by assigning the value of +1 for each word if \n",
    "found in the Positive Dictionary and then adding up all the values."
   ]
  },
  {
   "cell_type": "markdown",
   "id": "83409412",
   "metadata": {},
   "source": [
    "clean_test_in_lower_case_of_lemitization\n",
    "List_of_Positive_words_after_removing_stop_word\n",
    "List_of_Negative_words_after_removing_stop_word\n",
    "clean_test_in_lower_case"
   ]
  },
  {
   "cell_type": "code",
   "execution_count": 44,
   "id": "27da4d6b",
   "metadata": {
    "ExecuteTime": {
     "end_time": "2021-09-15T19:46:54.942867Z",
     "start_time": "2021-09-15T19:46:54.928841Z"
    }
   },
   "outputs": [],
   "source": [
    "# List_of_Posative_words=  sheet_positive_negetive_stop_words_constrain_uncertanity_words['Posative_Words'].dropna()\n",
    "# Positive_score = count(list_of_words_after_stop_words,List_of_Posative_words)\n",
    "# Positive_score"
   ]
  },
  {
   "cell_type": "markdown",
   "id": "c5afc7dd",
   "metadata": {},
   "source": [
    "# Tokenize"
   ]
  },
  {
   "cell_type": "markdown",
   "id": "bf9ae083",
   "metadata": {},
   "source": [
    "# Negative Score"
   ]
  },
  {
   "cell_type": "markdown",
   "id": "b1108030",
   "metadata": {},
   "source": [
    "Negative Score: This score is calculated by assigning the value of -1\n",
    "for each word if found in the Negative Dictionary and then adding up all\n",
    "the values. We multiply the score with -1 so that the score is a\n",
    "positive number.\n"
   ]
  },
  {
   "cell_type": "code",
   "execution_count": 45,
   "id": "3c1b8dd5",
   "metadata": {
    "ExecuteTime": {
     "end_time": "2021-09-15T19:46:54.958864Z",
     "start_time": "2021-09-15T19:46:54.944867Z"
    }
   },
   "outputs": [],
   "source": [
    "# List_of_Negative_words=  sheet_positive_negetive_stop_words_constrain_uncertanity_words['Negative_words'].dropna()\n",
    "# Negative_score = count(list_of_words_after_stop_words,List_of_Negative_words)\n",
    "# Negative_score"
   ]
  },
  {
   "cell_type": "markdown",
   "id": "470f757b",
   "metadata": {},
   "source": [
    "# uncertainty_score"
   ]
  },
  {
   "cell_type": "code",
   "execution_count": 46,
   "id": "43d9cf56",
   "metadata": {
    "ExecuteTime": {
     "end_time": "2021-09-15T19:46:54.974930Z",
     "start_time": "2021-09-15T19:46:54.960879Z"
    }
   },
   "outputs": [],
   "source": [
    "# sheet_positive_negetive_stop_words_constrain_uncertanity_words.columns"
   ]
  },
  {
   "cell_type": "code",
   "execution_count": 47,
   "id": "44976bf6",
   "metadata": {
    "ExecuteTime": {
     "end_time": "2021-09-15T19:46:54.990955Z",
     "start_time": "2021-09-15T19:46:54.976914Z"
    }
   },
   "outputs": [],
   "source": [
    "# sheet_positive_negetive_stop_words_constrain_uncertanity_words['Uncertanity_Word'] = sheet_positive_negetive_stop_words_constrain_uncertanity_words['Uncertanity_Word'].str.lower()"
   ]
  },
  {
   "cell_type": "code",
   "execution_count": 48,
   "id": "0fe01fd8",
   "metadata": {
    "ExecuteTime": {
     "end_time": "2021-09-15T19:46:55.006670Z",
     "start_time": "2021-09-15T19:46:54.993936Z"
    },
    "run_control": {
     "marked": true
    }
   },
   "outputs": [],
   "source": [
    "# sheet_positive_negetive_stop_words_constrain_uncertanity_words['Uncertanity_Word'] = sheet_positive_negetive_stop_words_constrain_uncertanity_words['Uncertanity_Word'].str.lower()\n",
    "# Series_of_uncertanity_words = sheet_positive_negetive_stop_words_constrain_uncertanity_words['Uncertanity_Word'].dropna()\n",
    "# uncertanity_score = count(list_of_words_after_stop_words,Series_of_uncertanity_words)\n",
    "# uncertanity_score"
   ]
  },
  {
   "cell_type": "markdown",
   "id": "45a58316",
   "metadata": {},
   "source": [
    "# constraining_score"
   ]
  },
  {
   "cell_type": "code",
   "execution_count": 49,
   "id": "f994f685",
   "metadata": {
    "ExecuteTime": {
     "end_time": "2021-09-15T19:46:55.022688Z",
     "start_time": "2021-09-15T19:46:55.008672Z"
    }
   },
   "outputs": [],
   "source": [
    "# sheet_positive_negetive_stop_words_constrain_uncertanity_words['Constraning_Word']= sheet_positive_negetive_stop_words_constrain_uncertanity_words['Constraning_Word'].str.lower()"
   ]
  },
  {
   "cell_type": "code",
   "execution_count": 50,
   "id": "1938c00a",
   "metadata": {
    "ExecuteTime": {
     "end_time": "2021-09-15T19:46:55.038722Z",
     "start_time": "2021-09-15T19:46:55.024676Z"
    }
   },
   "outputs": [],
   "source": [
    "# sheet_positive_negetive_stop_words_constrain_uncertanity_words['Constraning_Word']= sheet_positive_negetive_stop_words_constrain_uncertanity_words['Constraning_Word'].str.lower()\n",
    "# Series_of_uncertanity_words = sheet_positive_negetive_stop_words_constrain_uncertanity_words['Constraning_Word'].dropna()\n",
    "# constraining_score =count(list_of_words_after_stop_words,Series_of_uncertanity_words)\n",
    "# constraining_score"
   ]
  },
  {
   "cell_type": "markdown",
   "id": "372a48d3",
   "metadata": {},
   "source": [
    "# Polarity "
   ]
  },
  {
   "cell_type": "markdown",
   "id": "59973835",
   "metadata": {},
   "source": [
    "Polarity Score: This is the score that determines if a given text is\n",
    "positive or negative in nature. It is calculated by using the formula: \n",
    "\n",
    "Polarity Score = (Positive Score – Negative Score)/ ((Positive Score + Negative Score) + 0.000001)\n",
    "Range is from -1 to +1"
   ]
  },
  {
   "cell_type": "code",
   "execution_count": 51,
   "id": "645d0b5b",
   "metadata": {
    "ExecuteTime": {
     "end_time": "2021-09-15T19:46:55.054806Z",
     "start_time": "2021-09-15T19:46:55.040731Z"
    }
   },
   "outputs": [],
   "source": [
    "def polarity(Positive_score,Negative_score):\n",
    "    Polarity_Score = (Positive_score-Negative_score)/(Positive_score+Negative_score)+0.000001\n",
    "    \n",
    "    return Polarity_Score\n",
    "    "
   ]
  },
  {
   "cell_type": "code",
   "execution_count": 52,
   "id": "99f3252d",
   "metadata": {
    "ExecuteTime": {
     "end_time": "2021-09-15T19:46:55.070832Z",
     "start_time": "2021-09-15T19:46:55.056817Z"
    }
   },
   "outputs": [],
   "source": [
    "# Polarity_Score = polarity(Positive_score,Negative_score)\n",
    "# Polarity_Score"
   ]
  },
  {
   "cell_type": "markdown",
   "id": "6b368f57",
   "metadata": {},
   "source": [
    "# Subjectivity Score"
   ]
  },
  {
   "cell_type": "markdown",
   "id": "7dd1069b",
   "metadata": {},
   "source": [
    "Subjectivity Score: This is the score that determines if a given text is\n",
    "objective or subjective. It is calculated by using the formula: \n",
    "\n",
    "Subjectivity Score = (Positive Score + Negative Score)/ ((Total Words after cleaning) + 0.000001)\n",
    "Range is from 0 to +1"
   ]
  },
  {
   "cell_type": "code",
   "execution_count": 53,
   "id": "74d1030b",
   "metadata": {
    "ExecuteTime": {
     "end_time": "2021-09-15T19:46:55.086832Z",
     "start_time": "2021-09-15T19:46:55.072821Z"
    }
   },
   "outputs": [],
   "source": [
    "def sub_score(Positive_score,Negative_score):\n",
    "    Subjectivity_Score = (Positive_score+Negative_score)/(len(clean_test_in_lower_case)) + 0.000001\n",
    "    return Subjectivity_Score\n",
    "    "
   ]
  },
  {
   "cell_type": "code",
   "execution_count": null,
   "id": "9ad942c6",
   "metadata": {},
   "outputs": [],
   "source": []
  },
  {
   "cell_type": "code",
   "execution_count": 54,
   "id": "b9112b46",
   "metadata": {
    "ExecuteTime": {
     "end_time": "2021-09-15T19:46:55.102835Z",
     "start_time": "2021-09-15T19:46:55.088830Z"
    },
    "scrolled": true
   },
   "outputs": [],
   "source": [
    "# Subjectivity_Score = sub_score(Positive_score,Negative_score)\n",
    "# Subjectivity_Score"
   ]
  },
  {
   "cell_type": "markdown",
   "id": "f1af7da0",
   "metadata": {},
   "source": [
    "# Sentiment score categorization"
   ]
  },
  {
   "cell_type": "markdown",
   "id": "12ce33a2",
   "metadata": {},
   "source": [
    "\n",
    "This is determined by grouping the Polarity score values in the following groups.\n",
    " \n",
    "Most Negative: Polarity Score below -0.5\n",
    " \n",
    "Negative: Polarity Score between -0.5 and 0\n",
    " \n",
    "Neutral: Polarity Score equal to 0\n",
    " \n",
    "Positive: Polarity Score between 0 and 0.5\n",
    " \n",
    "Very Positive: Polarity Score above 0.5\n"
   ]
  },
  {
   "cell_type": "code",
   "execution_count": 55,
   "id": "c38b1829",
   "metadata": {
    "ExecuteTime": {
     "end_time": "2021-09-15T19:46:55.118832Z",
     "start_time": "2021-09-15T19:46:55.104834Z"
    }
   },
   "outputs": [],
   "source": [
    "def sent_score(Polarity_Score):\n",
    "    \n",
    "    if (Polarity_Score < -.5):\n",
    "        print(\"Most Negative: Polarity Score below -0.5  and polarity is : \", Polarity_Score)\n",
    "\n",
    "    elif(Polarity_Score >= -0.5  and Polarity_Score < 0 ):\n",
    "        print(\"Negative: Polarity Score between -0.5 and 0 and polarity is : \", Polarity_Score)\n",
    "    if (Polarity_Score == 0):\n",
    "        print(\"Neutral: Polarity Score equalto 0  and polarity is : \", Polarity_Score)\n",
    "\n",
    "    elif(Polarity_Score > 0  and Polarity_Score <= .5 ):\n",
    "        print(\"Positive: Polarity Score between 0 and 0.5 and polarity is : \", Polarity_Score)\n",
    "\n",
    "    elif(Polarity_Score > 0.5):\n",
    "        print(\"Very Positive: Polarity Score above 0.5 and polarity is : \", Polarity_Score)\n",
    "   \n",
    "    \n",
    "    return Polarity_Score"
   ]
  },
  {
   "cell_type": "code",
   "execution_count": 56,
   "id": "6a5e8478",
   "metadata": {
    "ExecuteTime": {
     "end_time": "2021-09-15T19:46:55.133842Z",
     "start_time": "2021-09-15T19:46:55.120838Z"
    }
   },
   "outputs": [],
   "source": [
    "#Sentiment score categorization\n",
    "# sentimental_score =  sent_score(Polarity_Score)"
   ]
  },
  {
   "cell_type": "code",
   "execution_count": null,
   "id": "8b94a4b8",
   "metadata": {},
   "outputs": [],
   "source": []
  },
  {
   "cell_type": "markdown",
   "id": "663eaae6",
   "metadata": {},
   "source": [
    "# Average_Sentence_Length"
   ]
  },
  {
   "cell_type": "markdown",
   "id": "702dbc33",
   "metadata": {},
   "source": [
    "Average Sentence Length = the number of words / the number of sentences\n"
   ]
  },
  {
   "cell_type": "code",
   "execution_count": 57,
   "id": "8a6aac0e",
   "metadata": {
    "ExecuteTime": {
     "end_time": "2021-09-15T19:46:55.149844Z",
     "start_time": "2021-09-15T19:46:55.135841Z"
    }
   },
   "outputs": [],
   "source": [
    "def avg_snet_len(Total_no_of_words,Total_no_of_sentence ):\n",
    "    Average_Sentence_Length = Total_no_of_words/Total_no_of_sentence\n",
    "    \n",
    "    return Average_Sentence_Length\n"
   ]
  },
  {
   "cell_type": "code",
   "execution_count": 58,
   "id": "accf3c59",
   "metadata": {
    "ExecuteTime": {
     "end_time": "2021-09-15T19:46:55.165198Z",
     "start_time": "2021-09-15T19:46:55.151846Z"
    }
   },
   "outputs": [],
   "source": [
    "# Average_Sentence_Length\n",
    "# Average_Sentence_Length =avg_snet_len(Total_no_of_words,Total_no_of_sentence )\n",
    "\n",
    "# Average_Sentence_Length"
   ]
  },
  {
   "cell_type": "markdown",
   "id": "2b69feef",
   "metadata": {},
   "source": [
    "# Tokenize the syllable"
   ]
  },
  {
   "cell_type": "code",
   "execution_count": 59,
   "id": "3a021e6b",
   "metadata": {
    "ExecuteTime": {
     "end_time": "2021-09-15T19:46:55.181203Z",
     "start_time": "2021-09-15T19:46:55.167200Z"
    }
   },
   "outputs": [],
   "source": [
    "def syllable_tokenizer(list_of_words_after_stop_words):\n",
    "    \n",
    "    from nltk.tokenize import SyllableTokenizer\n",
    "    # Create a reference variable for Class word_tokenize\n",
    "    tk = SyllableTokenizer()\n",
    "\n",
    "    # Use tokenize method\n",
    "    syllable = tk.tokenize(list_of_words_after_stop_words)\n",
    "    return syllable"
   ]
  },
  {
   "cell_type": "code",
   "execution_count": 60,
   "id": "290f1143",
   "metadata": {
    "ExecuteTime": {
     "end_time": "2021-09-15T19:46:55.196483Z",
     "start_time": "2021-09-15T19:46:55.183202Z"
    }
   },
   "outputs": [],
   "source": [
    "def count_complex_word(list_of_words_after_stop_words):\n",
    "    list_of_syllable= []\n",
    "\n",
    "    for word in list_of_words_after_stop_words:\n",
    "        list_single_word_syllable=[]\n",
    "        syllable_list = syllable_tokenizer(word)\n",
    "    #     print(syllable_list)\n",
    "        list_single_word_syllable.append(syllable_list)\n",
    "        list_of_syllable.append(list_single_word_syllable)\n",
    "        \n",
    "#     print(list_of_syllable)\n",
    "        \n",
    "    list_of_count_syllable= []\n",
    "    for ls in list_of_syllable:\n",
    "        for co in ls:\n",
    "            counter = ''\n",
    "            counter = len(co)\n",
    "            list_of_count_syllable.append(counter)\n",
    "#     print(list_of_count_syllable)\n",
    "    \n",
    "    Total_No_of_complex_word = 0\n",
    "    for i in list_of_count_syllable:\n",
    "        if i > 2:\n",
    "            Total_No_of_complex_word +=1\n",
    "    return Total_No_of_complex_word  "
   ]
  },
  {
   "cell_type": "markdown",
   "id": "b687718c",
   "metadata": {},
   "source": [
    "# Complex Word Count"
   ]
  },
  {
   "cell_type": "code",
   "execution_count": 61,
   "id": "f0940794",
   "metadata": {
    "ExecuteTime": {
     "end_time": "2021-09-15T19:46:55.212162Z",
     "start_time": "2021-09-15T19:46:55.198477Z"
    }
   },
   "outputs": [],
   "source": [
    "# Complex Word Count\n",
    "# Total_No_of_complex_word =count_complex_word(list_of_words_after_stop_words)\n",
    "# Total_No_of_complex_word"
   ]
  },
  {
   "cell_type": "markdown",
   "id": "1e2e14c8",
   "metadata": {},
   "source": [
    "# Percentage_of_complex_word"
   ]
  },
  {
   "cell_type": "markdown",
   "id": "4c2779bc",
   "metadata": {},
   "source": [
    "Complex words are words in the text that contain more than two syllables\n",
    "\n",
    "Percentage of Complex words = the number of complex words / the number of words "
   ]
  },
  {
   "cell_type": "code",
   "execution_count": 62,
   "id": "33543a92",
   "metadata": {
    "ExecuteTime": {
     "end_time": "2021-09-15T19:46:55.227809Z",
     "start_time": "2021-09-15T19:46:55.214168Z"
    }
   },
   "outputs": [],
   "source": [
    "def Percentage_of_complex_word(Total_No_of_complex_word,Total_no_of_words):\n",
    "    Percentage_of_complex_word =  (Total_No_of_complex_word/Total_no_of_words)*100\n",
    "    return Percentage_of_complex_word"
   ]
  },
  {
   "cell_type": "code",
   "execution_count": 63,
   "id": "98c13f9f",
   "metadata": {
    "ExecuteTime": {
     "end_time": "2021-09-15T19:46:55.243496Z",
     "start_time": "2021-09-15T19:46:55.229809Z"
    },
    "run_control": {
     "marked": true
    }
   },
   "outputs": [],
   "source": [
    "#Percentage_of_complex_word\n",
    "# Percentage_of_complex_word = Percentage_of_complex_word(Total_No_of_complex_word,Total_no_of_words)\n",
    "# Percentage_of_complex_word"
   ]
  },
  {
   "cell_type": "markdown",
   "id": "d76bb9b7",
   "metadata": {},
   "source": [
    "# Fog Index "
   ]
  },
  {
   "cell_type": "code",
   "execution_count": 64,
   "id": "a84db14d",
   "metadata": {
    "ExecuteTime": {
     "end_time": "2021-09-15T19:46:55.259487Z",
     "start_time": "2021-09-15T19:46:55.244493Z"
    }
   },
   "outputs": [],
   "source": [
    "def fog(Average_Sentence_Length , Percentage_of_complex_word):\n",
    "    \n",
    "    Fog_Ind = 0.4 * (Average_Sentence_Length + Percentage_of_complex_word)\n",
    "    return Fog_Ind"
   ]
  },
  {
   "cell_type": "markdown",
   "id": "15869ba9",
   "metadata": {},
   "source": [
    "Fog Index = 0.4 * (Average Sentence Length + Percentage of Complex words)"
   ]
  },
  {
   "cell_type": "code",
   "execution_count": 65,
   "id": "caf59874",
   "metadata": {
    "ExecuteTime": {
     "end_time": "2021-09-15T19:46:55.275520Z",
     "start_time": "2021-09-15T19:46:55.260502Z"
    }
   },
   "outputs": [],
   "source": [
    "# Fog Index\n",
    "# Fog_Index =  fog(Average_Sentence_Length , Percentage_of_complex_word)\n",
    "# Fog_Index"
   ]
  },
  {
   "cell_type": "markdown",
   "id": "d4313e68",
   "metadata": {},
   "source": [
    "# Average Word Length"
   ]
  },
  {
   "cell_type": "markdown",
   "id": "4cf67e17",
   "metadata": {},
   "source": [
    "Average Word Length is calculated by the formula:\n",
    "\n",
    "Sum of the total number of characters in each word/Total number of words"
   ]
  },
  {
   "cell_type": "code",
   "execution_count": 66,
   "id": "a143825c",
   "metadata": {
    "ExecuteTime": {
     "end_time": "2021-09-15T19:46:55.291101Z",
     "start_time": "2021-09-15T19:46:55.277517Z"
    }
   },
   "outputs": [],
   "source": [
    "def avg_word_len(word_count):\n",
    "    char_counter =0\n",
    "    for words in clean_test_in_lower_case:\n",
    "        for char in words:\n",
    "            char_counter += 1\n",
    "            \n",
    "    Avg_len_0f_word= char_counter/word_count\n",
    "    return Avg_len_0f_word            \n",
    "    "
   ]
  },
  {
   "cell_type": "code",
   "execution_count": 67,
   "id": "7a0dd51a",
   "metadata": {
    "ExecuteTime": {
     "end_time": "2021-09-15T19:46:55.307158Z",
     "start_time": "2021-09-15T19:46:55.293094Z"
    },
    "scrolled": true
   },
   "outputs": [],
   "source": [
    "# Average Word Length\n",
    "# Average_word_length=avg_word_len(word_count)\n",
    "# Average_word_length"
   ]
  },
  {
   "cell_type": "markdown",
   "id": "b790d928",
   "metadata": {},
   "source": [
    "The absolute values of “Positive/Negative Scores” are equal to the number of positive/negative words in each report of \n",
    "10-Q/K; so the (Loughran-McDonald) positive/negative word proportion can be simply calculated as “Positive/Negative Scores \n",
    "divided by Word Count "
   ]
  },
  {
   "cell_type": "markdown",
   "id": "64c5b058",
   "metadata": {},
   "source": [
    "# Propotion"
   ]
  },
  {
   "cell_type": "code",
   "execution_count": 68,
   "id": "d6a409ce",
   "metadata": {
    "ExecuteTime": {
     "end_time": "2021-09-15T19:46:55.322929Z",
     "start_time": "2021-09-15T19:46:55.312150Z"
    }
   },
   "outputs": [],
   "source": [
    "def word_prop(score,count):\n",
    "    proportion = score/count\n",
    "    return proportion"
   ]
  },
  {
   "cell_type": "markdown",
   "id": "ef86b281",
   "metadata": {
    "ExecuteTime": {
     "end_time": "2021-09-15T08:58:37.983923Z",
     "start_time": "2021-09-15T08:58:37.960930Z"
    }
   },
   "source": [
    "# positive_word_proportion"
   ]
  },
  {
   "cell_type": "code",
   "execution_count": 69,
   "id": "4b5e9071",
   "metadata": {
    "ExecuteTime": {
     "end_time": "2021-09-15T19:46:55.338948Z",
     "start_time": "2021-09-15T19:46:55.325933Z"
    }
   },
   "outputs": [],
   "source": [
    "# positive_word_proportion = word_prop(Positive_score,word_count)\n",
    "# positive_word_proportion"
   ]
  },
  {
   "cell_type": "markdown",
   "id": "f56bc59c",
   "metadata": {},
   "source": [
    "# negative_word_proportion"
   ]
  },
  {
   "cell_type": "code",
   "execution_count": 70,
   "id": "1cfa7710",
   "metadata": {
    "ExecuteTime": {
     "end_time": "2021-09-15T19:46:55.354951Z",
     "start_time": "2021-09-15T19:46:55.340956Z"
    }
   },
   "outputs": [],
   "source": [
    "# negative_word_proportion = word_prop(Negative_score,word_count)\n",
    "# negative_word_proportion"
   ]
  },
  {
   "cell_type": "markdown",
   "id": "f5964840",
   "metadata": {},
   "source": [
    "# uncertainty_word_proportion"
   ]
  },
  {
   "cell_type": "code",
   "execution_count": 71,
   "id": "3e08f320",
   "metadata": {
    "ExecuteTime": {
     "end_time": "2021-09-15T19:46:55.369842Z",
     "start_time": "2021-09-15T19:46:55.356952Z"
    }
   },
   "outputs": [],
   "source": [
    "# uncertainty_word_proportion = word_prop(uncertanity_score,word_count)\n",
    "# uncertainty_word_proportion"
   ]
  },
  {
   "cell_type": "markdown",
   "id": "dc732556",
   "metadata": {},
   "source": [
    "# constraining_word_proportion"
   ]
  },
  {
   "cell_type": "code",
   "execution_count": 72,
   "id": "a224129b",
   "metadata": {
    "ExecuteTime": {
     "end_time": "2021-09-15T19:46:55.384850Z",
     "start_time": "2021-09-15T19:46:55.370853Z"
    },
    "scrolled": false
   },
   "outputs": [],
   "source": [
    "# constraining_word_proportion =word_prop(constraining_score,word_count)\n",
    "# constraining_word_proportion"
   ]
  },
  {
   "cell_type": "markdown",
   "id": "ec7e73ef",
   "metadata": {},
   "source": [
    "# constraining_words_whole_report"
   ]
  },
  {
   "cell_type": "code",
   "execution_count": 73,
   "id": "737dacf1",
   "metadata": {
    "ExecuteTime": {
     "end_time": "2021-09-15T19:46:55.400855Z",
     "start_time": "2021-09-15T19:46:55.386857Z"
    }
   },
   "outputs": [],
   "source": [
    "constraining_words_whole_report = ''"
   ]
  },
  {
   "cell_type": "markdown",
   "id": "e115d3c8",
   "metadata": {
    "ExecuteTime": {
     "end_time": "2021-09-15T18:22:52.708170Z",
     "start_time": "2021-09-15T18:22:35.072478Z"
    },
    "run_control": {
     "marked": false
    },
    "scrolled": true
   },
   "source": [
    "par = 'html.parser'\n",
    "\n",
    "\n",
    "\n",
    "\n",
    "data = establish_connection()\n",
    "print(data.status_code)\n",
    "\n",
    "input_data_content = data.content\n",
    "\n",
    "soup = BeautifulSoup_data(input_data_content,par)\n",
    "\n",
    "text_from_report = get_text_from_report(soup)\n",
    "\n",
    "tag_name = search_by_tag(soup)\n",
    "\n",
    "w_token = word_token(text_from_report)\n",
    "\n",
    "s_token = sen_token(text_from_report)\n",
    "\n",
    "# No. of sentence\n",
    "Total_no_of_sentence=total_no_of_sentence(s_token)\n",
    "\n",
    "# filer text using regx \n",
    "clean_test_in_lower_case = filter_word_using_re(w_token)\n",
    "\n",
    "\n",
    "# total No. of words after removing not text character \n",
    "Total_no_of_words =  Total_No_of_Words_after_removing_Non_text_character(clean_test_in_lower_case)\n",
    "\n",
    "\n",
    "# ........................\n",
    "# word_count \n",
    "list_of_words_after_stop_words = sheet_positive_negetive_stop_words_constrain_uncertanity_words['Stop_Words'].dropna()\n",
    "word_count = count_words(list_of_words_after_stop_words)\n",
    "word_counter.append(word_count)\n",
    "\n",
    "\n",
    "\n",
    "#.......................\n",
    "# Positive score \n",
    "List_of_Posative_words=  sheet_positive_negetive_stop_words_constrain_uncertanity_words['Posative_Words'].dropna()\n",
    "Positive_score = count(list_of_words_after_stop_words,List_of_Posative_words)\n",
    "pos_score.append(Positive_score)\n",
    "\n",
    "\n",
    "\n",
    "\n",
    "#.......................\n",
    "#Negative score\n",
    "List_of_Negative_words=  sheet_positive_negetive_stop_words_constrain_uncertanity_words['Negative_words'].dropna()\n",
    "Negative_score = count(list_of_words_after_stop_words,List_of_Negative_words)\n",
    "neg_score.append(Negative_score)\n",
    "\n",
    "#..........................\n",
    "# Polarity \n",
    "Polarity_Score = polarity(Positive_score,Negative_score)\n",
    "pol_score.append(Polarity_Score)\n",
    "\n",
    "\n",
    "#..........................\n",
    "# Average_Sentence_Length\n",
    "Average_Sentence_Length =avg_snet_len(Total_no_of_words,Total_no_of_sentence )\n",
    "avg_sen_len.append(Average_Sentence_Length)\n",
    "\n",
    "\n",
    "\n",
    "# .........................\n",
    "# Complex Word Count\n",
    "Total_No_of_complex_word =count_complex_word(list_of_words_after_stop_words)\n",
    "complex_wor_count.append(Total_No_of_complex_word)\n",
    "\n",
    "#..........................\n",
    "#Percentage_of_complex_word\n",
    "Percentage_of_complex_word = Percentage_of_complex_word(Total_No_of_complex_word,Total_no_of_words)\n",
    "percentage_of_com_words.append(Percentage_of_complex_word)\n",
    "\n",
    "\n",
    "#...........................\n",
    "# Fog Index\n",
    "Fog_Index =  fog(Average_Sentence_Length , Percentage_of_complex_word)\n",
    "f_ind.append(Fog_Index)\n",
    "\n",
    "\n",
    "#........................\n",
    "# uncertanity score\n",
    "sheet_positive_negetive_stop_words_constrain_uncertanity_words['Uncertanity_Word'] = sheet_positive_negetive_stop_words_constrain_uncertanity_words['Uncertanity_Word'].str.lower()\n",
    "Series_of_uncertanity_words = sheet_positive_negetive_stop_words_constrain_uncertanity_words['Uncertanity_Word'].dropna()\n",
    "uncertanity_score = count(list_of_words_after_stop_words,Series_of_uncertanity_words)\n",
    "uncer_score.append(uncertanity_score)\n",
    "\n",
    "\n",
    "#.........................\n",
    "# constraning score\n",
    "sheet_positive_negetive_stop_words_constrain_uncertanity_words['Constraning_Word']= sheet_positive_negetive_stop_words_constrain_uncertanity_words['Constraning_Word'].str.lower()\n",
    "Series_of_uncertanity_words = sheet_positive_negetive_stop_words_constrain_uncertanity_words['Constraning_Word'].dropna()\n",
    "constraining_score =count(list_of_words_after_stop_words,Series_of_uncertanity_words)\n",
    "const_score.append(constraining_score)\n",
    "\n",
    "\n",
    "\n",
    "# selectivity score\n",
    "Subjectivity_Score = sub_score(Positive_score,Negative_score)\n",
    "\n",
    "#Sentiment score categorization\n",
    "sentimental_score =  sent_score(Polarity_Score)\n",
    "\n",
    "# Average Word Length\n",
    "Average_word_length=avg_word_len(word_count)\n",
    "\n",
    "\n",
    "\n",
    "#..................................\n",
    "# positive_word_proportion\n",
    "positive_word_proportion = word_prop(Positive_score,word_count)\n",
    "pos_wor_prop.append(positive_word_proportion)\n",
    "\n",
    "\n",
    "#..................................\n",
    "# negative_word_proportion\n",
    "negative_word_proportion = word_prop(Negative_score,word_count)\n",
    "neg_wor_prop.append(negative_word_proportion)\n",
    "\n",
    "\n",
    "#.................................\n",
    "# uncertainty_word_proportion\n",
    "uncertainty_word_proportion = word_prop(uncertanity_score,word_count)\n",
    "uncer_wor_prop.append(uncertainty_word_proportion)\n",
    "\n",
    "\n",
    "# ................................\n",
    "# constraining_word_proportion\n",
    "constraining_word_proportion =word_prop(constraining_score,word_count)\n",
    "cons_wor_prop.append(constraining_word_proportion)\n",
    "\n",
    "#..................................\n",
    "# constraining_words_whole_report\n",
    "constraining_words_whole_report = ''\n",
    "constraning_words_whole_report.append(constraining_words_whole_report)\n"
   ]
  },
  {
   "cell_type": "code",
   "execution_count": 225,
   "id": "56a0769c",
   "metadata": {
    "ExecuteTime": {
     "end_time": "2021-09-15T20:44:11.887726Z",
     "start_time": "2021-09-15T20:44:11.542283Z"
    }
   },
   "outputs": [
    {
     "data": {
      "text/html": [
       "<div>\n",
       "<style scoped>\n",
       "    .dataframe tbody tr th:only-of-type {\n",
       "        vertical-align: middle;\n",
       "    }\n",
       "\n",
       "    .dataframe tbody tr th {\n",
       "        vertical-align: top;\n",
       "    }\n",
       "\n",
       "    .dataframe thead th {\n",
       "        text-align: right;\n",
       "    }\n",
       "</style>\n",
       "<table border=\"1\" class=\"dataframe\">\n",
       "  <thead>\n",
       "    <tr style=\"text-align: right;\">\n",
       "      <th></th>\n",
       "      <th>CIK</th>\n",
       "      <th>CONAME</th>\n",
       "      <th>FYRMO</th>\n",
       "      <th>FDATE</th>\n",
       "      <th>FORM</th>\n",
       "      <th>SECFNAME</th>\n",
       "      <th>Unnamed: 6</th>\n",
       "      <th>compet_link</th>\n",
       "    </tr>\n",
       "  </thead>\n",
       "  <tbody>\n",
       "    <tr>\n",
       "      <th>0</th>\n",
       "      <td>3662</td>\n",
       "      <td>SUNBEAM CORP/FL/</td>\n",
       "      <td>199803</td>\n",
       "      <td>1998-03-06</td>\n",
       "      <td>10-K405</td>\n",
       "      <td>edgar/data/3662/0000950170-98-000413.txt</td>\n",
       "      <td>https://www.sec.gov/Archives/</td>\n",
       "      <td>https://www.sec.gov/Archives/edgar/data/3662/0...</td>\n",
       "    </tr>\n",
       "    <tr>\n",
       "      <th>1</th>\n",
       "      <td>3662</td>\n",
       "      <td>SUNBEAM CORP/FL/</td>\n",
       "      <td>199805</td>\n",
       "      <td>1998-05-15</td>\n",
       "      <td>10-Q</td>\n",
       "      <td>edgar/data/3662/0000950170-98-001001.txt</td>\n",
       "      <td>https://www.sec.gov/Archives/</td>\n",
       "      <td>https://www.sec.gov/Archives/edgar/data/3662/0...</td>\n",
       "    </tr>\n",
       "    <tr>\n",
       "      <th>2</th>\n",
       "      <td>3662</td>\n",
       "      <td>SUNBEAM CORP/FL/</td>\n",
       "      <td>199808</td>\n",
       "      <td>1998-08-13</td>\n",
       "      <td>NT 10-Q</td>\n",
       "      <td>edgar/data/3662/0000950172-98-000783.txt</td>\n",
       "      <td>https://www.sec.gov/Archives/</td>\n",
       "      <td>https://www.sec.gov/Archives/edgar/data/3662/0...</td>\n",
       "    </tr>\n",
       "    <tr>\n",
       "      <th>3</th>\n",
       "      <td>3662</td>\n",
       "      <td>SUNBEAM CORP/FL/</td>\n",
       "      <td>199811</td>\n",
       "      <td>1998-11-12</td>\n",
       "      <td>10-K/A</td>\n",
       "      <td>edgar/data/3662/0000950170-98-002145.txt</td>\n",
       "      <td>https://www.sec.gov/Archives/</td>\n",
       "      <td>https://www.sec.gov/Archives/edgar/data/3662/0...</td>\n",
       "    </tr>\n",
       "    <tr>\n",
       "      <th>4</th>\n",
       "      <td>3662</td>\n",
       "      <td>SUNBEAM CORP/FL/</td>\n",
       "      <td>199811</td>\n",
       "      <td>1998-11-16</td>\n",
       "      <td>NT 10-Q</td>\n",
       "      <td>edgar/data/3662/0000950172-98-001203.txt</td>\n",
       "      <td>NaN</td>\n",
       "      <td>NaN</td>\n",
       "    </tr>\n",
       "    <tr>\n",
       "      <th>...</th>\n",
       "      <td>...</td>\n",
       "      <td>...</td>\n",
       "      <td>...</td>\n",
       "      <td>...</td>\n",
       "      <td>...</td>\n",
       "      <td>...</td>\n",
       "      <td>...</td>\n",
       "      <td>...</td>\n",
       "    </tr>\n",
       "    <tr>\n",
       "      <th>147</th>\n",
       "      <td>12239</td>\n",
       "      <td>SPHERIX INC</td>\n",
       "      <td>200704</td>\n",
       "      <td>2007-04-02</td>\n",
       "      <td>10-K</td>\n",
       "      <td>edgar/data/12239/0001104659-07-024804.txt</td>\n",
       "      <td>NaN</td>\n",
       "      <td>NaN</td>\n",
       "    </tr>\n",
       "    <tr>\n",
       "      <th>148</th>\n",
       "      <td>12239</td>\n",
       "      <td>SPHERIX INC</td>\n",
       "      <td>200705</td>\n",
       "      <td>2007-05-16</td>\n",
       "      <td>NT 10-Q</td>\n",
       "      <td>edgar/data/12239/0001104659-07-040463.txt</td>\n",
       "      <td>NaN</td>\n",
       "      <td>NaN</td>\n",
       "    </tr>\n",
       "    <tr>\n",
       "      <th>149</th>\n",
       "      <td>12239</td>\n",
       "      <td>SPHERIX INC</td>\n",
       "      <td>200705</td>\n",
       "      <td>2007-05-18</td>\n",
       "      <td>10-Q</td>\n",
       "      <td>edgar/data/12239/0001104659-07-041441.txt</td>\n",
       "      <td>NaN</td>\n",
       "      <td>NaN</td>\n",
       "    </tr>\n",
       "    <tr>\n",
       "      <th>150</th>\n",
       "      <td>12239</td>\n",
       "      <td>SPHERIX INC</td>\n",
       "      <td>200705</td>\n",
       "      <td>2007-05-23</td>\n",
       "      <td>10-K/A</td>\n",
       "      <td>edgar/data/12239/0001104659-07-042333.txt</td>\n",
       "      <td>NaN</td>\n",
       "      <td>NaN</td>\n",
       "    </tr>\n",
       "    <tr>\n",
       "      <th>151</th>\n",
       "      <td>12239</td>\n",
       "      <td>SPHERIX INC</td>\n",
       "      <td>200708</td>\n",
       "      <td>2007-08-14</td>\n",
       "      <td>10-Q</td>\n",
       "      <td>edgar/data/12239/0001104659-07-062470.txt</td>\n",
       "      <td>NaN</td>\n",
       "      <td>NaN</td>\n",
       "    </tr>\n",
       "  </tbody>\n",
       "</table>\n",
       "<p>152 rows × 8 columns</p>\n",
       "</div>"
      ],
      "text/plain": [
       "       CIK            CONAME   FYRMO      FDATE     FORM  \\\n",
       "0     3662  SUNBEAM CORP/FL/  199803 1998-03-06  10-K405   \n",
       "1     3662  SUNBEAM CORP/FL/  199805 1998-05-15     10-Q   \n",
       "2     3662  SUNBEAM CORP/FL/  199808 1998-08-13  NT 10-Q   \n",
       "3     3662  SUNBEAM CORP/FL/  199811 1998-11-12   10-K/A   \n",
       "4     3662  SUNBEAM CORP/FL/  199811 1998-11-16  NT 10-Q   \n",
       "..     ...               ...     ...        ...      ...   \n",
       "147  12239       SPHERIX INC  200704 2007-04-02     10-K   \n",
       "148  12239       SPHERIX INC  200705 2007-05-16  NT 10-Q   \n",
       "149  12239       SPHERIX INC  200705 2007-05-18     10-Q   \n",
       "150  12239       SPHERIX INC  200705 2007-05-23   10-K/A   \n",
       "151  12239       SPHERIX INC  200708 2007-08-14     10-Q   \n",
       "\n",
       "                                      SECFNAME                     Unnamed: 6  \\\n",
       "0     edgar/data/3662/0000950170-98-000413.txt  https://www.sec.gov/Archives/   \n",
       "1     edgar/data/3662/0000950170-98-001001.txt  https://www.sec.gov/Archives/   \n",
       "2     edgar/data/3662/0000950172-98-000783.txt  https://www.sec.gov/Archives/   \n",
       "3     edgar/data/3662/0000950170-98-002145.txt  https://www.sec.gov/Archives/   \n",
       "4     edgar/data/3662/0000950172-98-001203.txt                            NaN   \n",
       "..                                         ...                            ...   \n",
       "147  edgar/data/12239/0001104659-07-024804.txt                            NaN   \n",
       "148  edgar/data/12239/0001104659-07-040463.txt                            NaN   \n",
       "149  edgar/data/12239/0001104659-07-041441.txt                            NaN   \n",
       "150  edgar/data/12239/0001104659-07-042333.txt                            NaN   \n",
       "151  edgar/data/12239/0001104659-07-062470.txt                            NaN   \n",
       "\n",
       "                                           compet_link  \n",
       "0    https://www.sec.gov/Archives/edgar/data/3662/0...  \n",
       "1    https://www.sec.gov/Archives/edgar/data/3662/0...  \n",
       "2    https://www.sec.gov/Archives/edgar/data/3662/0...  \n",
       "3    https://www.sec.gov/Archives/edgar/data/3662/0...  \n",
       "4                                                  NaN  \n",
       "..                                                 ...  \n",
       "147                                                NaN  \n",
       "148                                                NaN  \n",
       "149                                                NaN  \n",
       "150                                                NaN  \n",
       "151                                                NaN  \n",
       "\n",
       "[152 rows x 8 columns]"
      ]
     },
     "execution_count": 225,
     "metadata": {},
     "output_type": "execute_result"
    }
   ],
   "source": [
    "read_exc= pd.read_excel('cik_list.xlsx')\n",
    "read_exc"
   ]
  },
  {
   "cell_type": "code",
   "execution_count": 227,
   "id": "f16beefd",
   "metadata": {
    "ExecuteTime": {
     "end_time": "2021-09-15T20:44:21.941448Z",
     "start_time": "2021-09-15T20:44:21.927919Z"
    }
   },
   "outputs": [
    {
     "data": {
      "text/plain": [
       "0    https://www.sec.gov/Archives/edgar/data/3662/0...\n",
       "1    https://www.sec.gov/Archives/edgar/data/3662/0...\n",
       "2    https://www.sec.gov/Archives/edgar/data/3662/0...\n",
       "3    https://www.sec.gov/Archives/edgar/data/3662/0...\n",
       "Name: compet_link, dtype: object"
      ]
     },
     "execution_count": 227,
     "metadata": {},
     "output_type": "execute_result"
    }
   ],
   "source": [
    "read_exc['compet_link'].dropna()\n",
    "\n"
   ]
  },
  {
   "cell_type": "code",
   "execution_count": 228,
   "id": "4f722489",
   "metadata": {
    "ExecuteTime": {
     "end_time": "2021-09-15T20:44:38.989155Z",
     "start_time": "2021-09-15T20:44:38.975599Z"
    }
   },
   "outputs": [],
   "source": [
    "web_link=  read_exc['compet_link'].dropna().to_list()"
   ]
  },
  {
   "cell_type": "code",
   "execution_count": 91,
   "id": "b887cad1",
   "metadata": {
    "ExecuteTime": {
     "end_time": "2021-09-15T19:57:22.520517Z",
     "start_time": "2021-09-15T19:57:22.514513Z"
    }
   },
   "outputs": [],
   "source": [
    "# type(data_set)"
   ]
  },
  {
   "cell_type": "code",
   "execution_count": 229,
   "id": "2ce08242",
   "metadata": {
    "ExecuteTime": {
     "end_time": "2021-09-15T20:44:42.043872Z",
     "start_time": "2021-09-15T20:44:42.037290Z"
    }
   },
   "outputs": [
    {
     "data": {
      "text/plain": [
       "['https://www.sec.gov/Archives/edgar/data/3662/0000950170-98-000413.txt',\n",
       " 'https://www.sec.gov/Archives/edgar/data/3662/0000950170-98-001001.txt',\n",
       " 'https://www.sec.gov/Archives/edgar/data/3662/0000950172-98-000783.txt',\n",
       " 'https://www.sec.gov/Archives/edgar/data/3662/0000950170-98-002145.txt']"
      ]
     },
     "execution_count": 229,
     "metadata": {},
     "output_type": "execute_result"
    }
   ],
   "source": [
    "web_link"
   ]
  },
  {
   "cell_type": "code",
   "execution_count": 77,
   "id": "138fcd39",
   "metadata": {
    "ExecuteTime": {
     "end_time": "2021-09-15T19:48:22.251083Z",
     "start_time": "2021-09-15T19:46:55.770310Z"
    },
    "scrolled": false
   },
   "outputs": [
    {
     "name": "stdout",
     "output_type": "stream",
     "text": [
      "https://www.sec.gov/Archives/edgar/data/3662/0000950170-98-000413.txt\n",
      "<class 'str'>\n",
      "data not connected to source\n",
      "data not connected to source\n",
      "welcome data connect successfully\n",
      "200\n",
      "Very Positive: Polarity Score above 0.5 and polarity is :  0.6363646363636364\n",
      "https://www.sec.gov/Archives/edgar/data/3662/0000950170-98-001001.txt\n",
      "<class 'str'>\n",
      "200\n",
      "Very Positive: Polarity Score above 0.5 and polarity is :  0.6363646363636364\n",
      "https://www.sec.gov/Archives/edgar/data/3662/0000950172-98-000783.txt\n",
      "<class 'str'>\n",
      "data not connected to source\n",
      "data not connected to source\n",
      "data not connected to source\n",
      "data not connected to source\n",
      "data not connected to source\n",
      "data not connected to source\n",
      "welcome data connect successfully\n",
      "200\n",
      "Very Positive: Polarity Score above 0.5 and polarity is :  0.6363646363636364\n",
      "https://www.sec.gov/Archives/edgar/data/3662/0000950170-98-002145.txt\n",
      "<class 'str'>\n",
      "data not connected to source\n",
      "data not connected to source\n",
      "data not connected to source\n",
      "data not connected to source\n",
      "welcome data connect successfully\n",
      "200\n",
      "Very Positive: Polarity Score above 0.5 and polarity is :  0.6363646363636364\n",
      "nan\n",
      "<class 'float'>\n"
     ]
    },
    {
     "ename": "MissingSchema",
     "evalue": "Invalid URL 'nan': No schema supplied. Perhaps you meant http://nan?",
     "output_type": "error",
     "traceback": [
      "\u001b[1;31m---------------------------------------------------------------------------\u001b[0m",
      "\u001b[1;31mMissingSchema\u001b[0m                             Traceback (most recent call last)",
      "\u001b[1;32m<ipython-input-77-0e873f3aac0b>\u001b[0m in \u001b[0;36m<module>\u001b[1;34m\u001b[0m\n\u001b[0;32m      5\u001b[0m     \u001b[0mprint\u001b[0m\u001b[1;33m(\u001b[0m\u001b[0mtype\u001b[0m\u001b[1;33m(\u001b[0m\u001b[0mlink\u001b[0m\u001b[1;33m)\u001b[0m\u001b[1;33m)\u001b[0m\u001b[1;33m\u001b[0m\u001b[1;33m\u001b[0m\u001b[0m\n\u001b[0;32m      6\u001b[0m \u001b[1;33m\u001b[0m\u001b[0m\n\u001b[1;32m----> 7\u001b[1;33m     \u001b[0mdata\u001b[0m \u001b[1;33m=\u001b[0m \u001b[0mestablish_connection\u001b[0m\u001b[1;33m(\u001b[0m\u001b[0mlink\u001b[0m\u001b[1;33m)\u001b[0m\u001b[1;33m\u001b[0m\u001b[1;33m\u001b[0m\u001b[0m\n\u001b[0m\u001b[0;32m      8\u001b[0m     \u001b[0mprint\u001b[0m\u001b[1;33m(\u001b[0m\u001b[0mdata\u001b[0m\u001b[1;33m.\u001b[0m\u001b[0mstatus_code\u001b[0m\u001b[1;33m)\u001b[0m\u001b[1;33m\u001b[0m\u001b[1;33m\u001b[0m\u001b[0m\n\u001b[0;32m      9\u001b[0m \u001b[1;33m\u001b[0m\u001b[0m\n",
      "\u001b[1;32m<ipython-input-8-64b4304e38d8>\u001b[0m in \u001b[0;36mestablish_connection\u001b[1;34m(link)\u001b[0m\n\u001b[0;32m      1\u001b[0m \u001b[1;32mdef\u001b[0m \u001b[0mestablish_connection\u001b[0m\u001b[1;33m(\u001b[0m\u001b[0mlink\u001b[0m\u001b[1;33m)\u001b[0m\u001b[1;33m:\u001b[0m\u001b[1;33m\u001b[0m\u001b[1;33m\u001b[0m\u001b[0m\n\u001b[1;32m----> 2\u001b[1;33m     \u001b[0mdata\u001b[0m\u001b[1;33m=\u001b[0m  \u001b[0mfetch_data\u001b[0m\u001b[1;33m(\u001b[0m\u001b[0mlink\u001b[0m\u001b[1;33m)\u001b[0m\u001b[1;33m\u001b[0m\u001b[1;33m\u001b[0m\u001b[0m\n\u001b[0m\u001b[0;32m      3\u001b[0m     \u001b[0mdata\u001b[0m\u001b[1;33m.\u001b[0m\u001b[0mstatus_code\u001b[0m\u001b[1;33m\u001b[0m\u001b[1;33m\u001b[0m\u001b[0m\n\u001b[0;32m      4\u001b[0m     \u001b[1;32mwhile\u001b[0m\u001b[1;33m(\u001b[0m\u001b[0mdata\u001b[0m\u001b[1;33m.\u001b[0m\u001b[0mstatus_code\u001b[0m \u001b[1;33m!=\u001b[0m \u001b[1;36m200\u001b[0m\u001b[1;33m)\u001b[0m\u001b[1;33m:\u001b[0m\u001b[1;33m\u001b[0m\u001b[1;33m\u001b[0m\u001b[0m\n\u001b[0;32m      5\u001b[0m         \u001b[0mdata\u001b[0m \u001b[1;33m=\u001b[0m \u001b[0mfetch_data\u001b[0m\u001b[1;33m(\u001b[0m\u001b[0mlink\u001b[0m\u001b[1;33m)\u001b[0m\u001b[1;33m\u001b[0m\u001b[1;33m\u001b[0m\u001b[0m\n",
      "\u001b[1;32m<ipython-input-4-878cbd39d0bf>\u001b[0m in \u001b[0;36mfetch_data\u001b[1;34m(link)\u001b[0m\n\u001b[0;32m      2\u001b[0m     \u001b[0mheaders\u001b[0m \u001b[1;33m=\u001b[0m \u001b[1;33m{\u001b[0m\u001b[1;34m'User-Agent'\u001b[0m\u001b[1;33m:\u001b[0m \u001b[1;34m'Mozilla/5.0 (Macintosh; Intel Mac OS X 10_11_5) AppleWebKit/537.36 (KHTML, like Gecko) Chrome/50.0.2661.102 Safari/537.36'\u001b[0m\u001b[1;33m}\u001b[0m\u001b[1;33m\u001b[0m\u001b[1;33m\u001b[0m\u001b[0m\n\u001b[0;32m      3\u001b[0m \u001b[1;31m#     url= \"https://wwlinkw.sec.gov/Archives/edgar/data/3662/0000950170-98-000413.txt\"\u001b[0m\u001b[1;33m\u001b[0m\u001b[1;33m\u001b[0m\u001b[1;33m\u001b[0m\u001b[0m\n\u001b[1;32m----> 4\u001b[1;33m     \u001b[0mdata\u001b[0m \u001b[1;33m=\u001b[0m \u001b[0mrequests\u001b[0m\u001b[1;33m.\u001b[0m\u001b[0mget\u001b[0m\u001b[1;33m(\u001b[0m\u001b[0mlink\u001b[0m\u001b[1;33m,\u001b[0m\u001b[0mheaders\u001b[0m\u001b[1;33m)\u001b[0m\u001b[1;33m\u001b[0m\u001b[1;33m\u001b[0m\u001b[0m\n\u001b[0m\u001b[0;32m      5\u001b[0m     \u001b[0mtime\u001b[0m\u001b[1;33m.\u001b[0m\u001b[0msleep\u001b[0m\u001b[1;33m(\u001b[0m\u001b[1;36m5\u001b[0m\u001b[1;33m)\u001b[0m\u001b[1;33m\u001b[0m\u001b[1;33m\u001b[0m\u001b[0m\n\u001b[0;32m      6\u001b[0m     \u001b[1;32mreturn\u001b[0m \u001b[0mdata\u001b[0m\u001b[1;33m\u001b[0m\u001b[1;33m\u001b[0m\u001b[0m\n",
      "\u001b[1;32m~\\Anaconda3\\lib\\site-packages\\requests\\api.py\u001b[0m in \u001b[0;36mget\u001b[1;34m(url, params, **kwargs)\u001b[0m\n\u001b[0;32m     74\u001b[0m \u001b[1;33m\u001b[0m\u001b[0m\n\u001b[0;32m     75\u001b[0m     \u001b[0mkwargs\u001b[0m\u001b[1;33m.\u001b[0m\u001b[0msetdefault\u001b[0m\u001b[1;33m(\u001b[0m\u001b[1;34m'allow_redirects'\u001b[0m\u001b[1;33m,\u001b[0m \u001b[1;32mTrue\u001b[0m\u001b[1;33m)\u001b[0m\u001b[1;33m\u001b[0m\u001b[1;33m\u001b[0m\u001b[0m\n\u001b[1;32m---> 76\u001b[1;33m     \u001b[1;32mreturn\u001b[0m \u001b[0mrequest\u001b[0m\u001b[1;33m(\u001b[0m\u001b[1;34m'get'\u001b[0m\u001b[1;33m,\u001b[0m \u001b[0murl\u001b[0m\u001b[1;33m,\u001b[0m \u001b[0mparams\u001b[0m\u001b[1;33m=\u001b[0m\u001b[0mparams\u001b[0m\u001b[1;33m,\u001b[0m \u001b[1;33m**\u001b[0m\u001b[0mkwargs\u001b[0m\u001b[1;33m)\u001b[0m\u001b[1;33m\u001b[0m\u001b[1;33m\u001b[0m\u001b[0m\n\u001b[0m\u001b[0;32m     77\u001b[0m \u001b[1;33m\u001b[0m\u001b[0m\n\u001b[0;32m     78\u001b[0m \u001b[1;33m\u001b[0m\u001b[0m\n",
      "\u001b[1;32m~\\Anaconda3\\lib\\site-packages\\requests\\api.py\u001b[0m in \u001b[0;36mrequest\u001b[1;34m(method, url, **kwargs)\u001b[0m\n\u001b[0;32m     59\u001b[0m     \u001b[1;31m# cases, and look like a memory leak in others.\u001b[0m\u001b[1;33m\u001b[0m\u001b[1;33m\u001b[0m\u001b[1;33m\u001b[0m\u001b[0m\n\u001b[0;32m     60\u001b[0m     \u001b[1;32mwith\u001b[0m \u001b[0msessions\u001b[0m\u001b[1;33m.\u001b[0m\u001b[0mSession\u001b[0m\u001b[1;33m(\u001b[0m\u001b[1;33m)\u001b[0m \u001b[1;32mas\u001b[0m \u001b[0msession\u001b[0m\u001b[1;33m:\u001b[0m\u001b[1;33m\u001b[0m\u001b[1;33m\u001b[0m\u001b[0m\n\u001b[1;32m---> 61\u001b[1;33m         \u001b[1;32mreturn\u001b[0m \u001b[0msession\u001b[0m\u001b[1;33m.\u001b[0m\u001b[0mrequest\u001b[0m\u001b[1;33m(\u001b[0m\u001b[0mmethod\u001b[0m\u001b[1;33m=\u001b[0m\u001b[0mmethod\u001b[0m\u001b[1;33m,\u001b[0m \u001b[0murl\u001b[0m\u001b[1;33m=\u001b[0m\u001b[0murl\u001b[0m\u001b[1;33m,\u001b[0m \u001b[1;33m**\u001b[0m\u001b[0mkwargs\u001b[0m\u001b[1;33m)\u001b[0m\u001b[1;33m\u001b[0m\u001b[1;33m\u001b[0m\u001b[0m\n\u001b[0m\u001b[0;32m     62\u001b[0m \u001b[1;33m\u001b[0m\u001b[0m\n\u001b[0;32m     63\u001b[0m \u001b[1;33m\u001b[0m\u001b[0m\n",
      "\u001b[1;32m~\\Anaconda3\\lib\\site-packages\\requests\\sessions.py\u001b[0m in \u001b[0;36mrequest\u001b[1;34m(self, method, url, params, data, headers, cookies, files, auth, timeout, allow_redirects, proxies, hooks, stream, verify, cert, json)\u001b[0m\n\u001b[0;32m    526\u001b[0m             \u001b[0mhooks\u001b[0m\u001b[1;33m=\u001b[0m\u001b[0mhooks\u001b[0m\u001b[1;33m,\u001b[0m\u001b[1;33m\u001b[0m\u001b[1;33m\u001b[0m\u001b[0m\n\u001b[0;32m    527\u001b[0m         )\n\u001b[1;32m--> 528\u001b[1;33m         \u001b[0mprep\u001b[0m \u001b[1;33m=\u001b[0m \u001b[0mself\u001b[0m\u001b[1;33m.\u001b[0m\u001b[0mprepare_request\u001b[0m\u001b[1;33m(\u001b[0m\u001b[0mreq\u001b[0m\u001b[1;33m)\u001b[0m\u001b[1;33m\u001b[0m\u001b[1;33m\u001b[0m\u001b[0m\n\u001b[0m\u001b[0;32m    529\u001b[0m \u001b[1;33m\u001b[0m\u001b[0m\n\u001b[0;32m    530\u001b[0m         \u001b[0mproxies\u001b[0m \u001b[1;33m=\u001b[0m \u001b[0mproxies\u001b[0m \u001b[1;32mor\u001b[0m \u001b[1;33m{\u001b[0m\u001b[1;33m}\u001b[0m\u001b[1;33m\u001b[0m\u001b[1;33m\u001b[0m\u001b[0m\n",
      "\u001b[1;32m~\\Anaconda3\\lib\\site-packages\\requests\\sessions.py\u001b[0m in \u001b[0;36mprepare_request\u001b[1;34m(self, request)\u001b[0m\n\u001b[0;32m    454\u001b[0m \u001b[1;33m\u001b[0m\u001b[0m\n\u001b[0;32m    455\u001b[0m         \u001b[0mp\u001b[0m \u001b[1;33m=\u001b[0m \u001b[0mPreparedRequest\u001b[0m\u001b[1;33m(\u001b[0m\u001b[1;33m)\u001b[0m\u001b[1;33m\u001b[0m\u001b[1;33m\u001b[0m\u001b[0m\n\u001b[1;32m--> 456\u001b[1;33m         p.prepare(\n\u001b[0m\u001b[0;32m    457\u001b[0m             \u001b[0mmethod\u001b[0m\u001b[1;33m=\u001b[0m\u001b[0mrequest\u001b[0m\u001b[1;33m.\u001b[0m\u001b[0mmethod\u001b[0m\u001b[1;33m.\u001b[0m\u001b[0mupper\u001b[0m\u001b[1;33m(\u001b[0m\u001b[1;33m)\u001b[0m\u001b[1;33m,\u001b[0m\u001b[1;33m\u001b[0m\u001b[1;33m\u001b[0m\u001b[0m\n\u001b[0;32m    458\u001b[0m             \u001b[0murl\u001b[0m\u001b[1;33m=\u001b[0m\u001b[0mrequest\u001b[0m\u001b[1;33m.\u001b[0m\u001b[0murl\u001b[0m\u001b[1;33m,\u001b[0m\u001b[1;33m\u001b[0m\u001b[1;33m\u001b[0m\u001b[0m\n",
      "\u001b[1;32m~\\Anaconda3\\lib\\site-packages\\requests\\models.py\u001b[0m in \u001b[0;36mprepare\u001b[1;34m(self, method, url, headers, files, data, params, auth, cookies, hooks, json)\u001b[0m\n\u001b[0;32m    314\u001b[0m \u001b[1;33m\u001b[0m\u001b[0m\n\u001b[0;32m    315\u001b[0m         \u001b[0mself\u001b[0m\u001b[1;33m.\u001b[0m\u001b[0mprepare_method\u001b[0m\u001b[1;33m(\u001b[0m\u001b[0mmethod\u001b[0m\u001b[1;33m)\u001b[0m\u001b[1;33m\u001b[0m\u001b[1;33m\u001b[0m\u001b[0m\n\u001b[1;32m--> 316\u001b[1;33m         \u001b[0mself\u001b[0m\u001b[1;33m.\u001b[0m\u001b[0mprepare_url\u001b[0m\u001b[1;33m(\u001b[0m\u001b[0murl\u001b[0m\u001b[1;33m,\u001b[0m \u001b[0mparams\u001b[0m\u001b[1;33m)\u001b[0m\u001b[1;33m\u001b[0m\u001b[1;33m\u001b[0m\u001b[0m\n\u001b[0m\u001b[0;32m    317\u001b[0m         \u001b[0mself\u001b[0m\u001b[1;33m.\u001b[0m\u001b[0mprepare_headers\u001b[0m\u001b[1;33m(\u001b[0m\u001b[0mheaders\u001b[0m\u001b[1;33m)\u001b[0m\u001b[1;33m\u001b[0m\u001b[1;33m\u001b[0m\u001b[0m\n\u001b[0;32m    318\u001b[0m         \u001b[0mself\u001b[0m\u001b[1;33m.\u001b[0m\u001b[0mprepare_cookies\u001b[0m\u001b[1;33m(\u001b[0m\u001b[0mcookies\u001b[0m\u001b[1;33m)\u001b[0m\u001b[1;33m\u001b[0m\u001b[1;33m\u001b[0m\u001b[0m\n",
      "\u001b[1;32m~\\Anaconda3\\lib\\site-packages\\requests\\models.py\u001b[0m in \u001b[0;36mprepare_url\u001b[1;34m(self, url, params)\u001b[0m\n\u001b[0;32m    388\u001b[0m             \u001b[0merror\u001b[0m \u001b[1;33m=\u001b[0m \u001b[0merror\u001b[0m\u001b[1;33m.\u001b[0m\u001b[0mformat\u001b[0m\u001b[1;33m(\u001b[0m\u001b[0mto_native_string\u001b[0m\u001b[1;33m(\u001b[0m\u001b[0murl\u001b[0m\u001b[1;33m,\u001b[0m \u001b[1;34m'utf8'\u001b[0m\u001b[1;33m)\u001b[0m\u001b[1;33m)\u001b[0m\u001b[1;33m\u001b[0m\u001b[1;33m\u001b[0m\u001b[0m\n\u001b[0;32m    389\u001b[0m \u001b[1;33m\u001b[0m\u001b[0m\n\u001b[1;32m--> 390\u001b[1;33m             \u001b[1;32mraise\u001b[0m \u001b[0mMissingSchema\u001b[0m\u001b[1;33m(\u001b[0m\u001b[0merror\u001b[0m\u001b[1;33m)\u001b[0m\u001b[1;33m\u001b[0m\u001b[1;33m\u001b[0m\u001b[0m\n\u001b[0m\u001b[0;32m    391\u001b[0m \u001b[1;33m\u001b[0m\u001b[0m\n\u001b[0;32m    392\u001b[0m         \u001b[1;32mif\u001b[0m \u001b[1;32mnot\u001b[0m \u001b[0mhost\u001b[0m\u001b[1;33m:\u001b[0m\u001b[1;33m\u001b[0m\u001b[1;33m\u001b[0m\u001b[0m\n",
      "\u001b[1;31mMissingSchema\u001b[0m: Invalid URL 'nan': No schema supplied. Perhaps you meant http://nan?"
     ]
    }
   ],
   "source": [
    "par = 'html.parser'\n",
    "\n",
    "for link in web_link:\n",
    "    print(link)\n",
    "    print(type(link))\n",
    "\n",
    "    data = establish_connection(link)\n",
    "    print(data.status_code)\n",
    "    \n",
    "#     break\n",
    "\n",
    "    input_data_content = data.content\n",
    "\n",
    "    soup = BeautifulSoup_data(input_data_content,par)\n",
    "\n",
    "    text_from_report = get_text_from_report(soup)\n",
    "\n",
    "    tag_name = search_by_tag(soup)\n",
    "\n",
    "    w_token = word_token(text_from_report)\n",
    "\n",
    "    s_token = sen_token(text_from_report)\n",
    "\n",
    "    # No. of sentence\n",
    "    Total_no_of_sentence=total_no_of_sentence(s_token)\n",
    "\n",
    "    # filer text using regx \n",
    "    clean_test_in_lower_case = filter_word_using_re(w_token)\n",
    "\n",
    "\n",
    "    # total No. of words after removing not text character \n",
    "    Total_no_of_words =  Total_No_of_Words_after_removing_Non_text_character(clean_test_in_lower_case)\n",
    "\n",
    "\n",
    "    # ........................\n",
    "    # word_count \n",
    "    list_of_words_after_stop_words = sheet_positive_negetive_stop_words_constrain_uncertanity_words['Stop_Words'].dropna()\n",
    "    word_count = count_words(list_of_words_after_stop_words)\n",
    "    word_counter.append(word_count)\n",
    "\n",
    "\n",
    "\n",
    "    #.......................\n",
    "    # Positive score \n",
    "    List_of_Posative_words=  sheet_positive_negetive_stop_words_constrain_uncertanity_words['Posative_Words'].dropna()\n",
    "    Positive_score = count(list_of_words_after_stop_words,List_of_Posative_words)\n",
    "    pos_score.append(Positive_score)\n",
    "\n",
    "\n",
    "\n",
    "\n",
    "    #.......................\n",
    "    #Negative score\n",
    "    List_of_Negative_words=  sheet_positive_negetive_stop_words_constrain_uncertanity_words['Negative_words'].dropna()\n",
    "    Negative_score = count(list_of_words_after_stop_words,List_of_Negative_words)\n",
    "    neg_score.append(Negative_score)\n",
    "\n",
    "    #..........................\n",
    "    # Polarity \n",
    "    Polarity_Score = polarity(Positive_score,Negative_score)\n",
    "    pol_score.append(Polarity_Score)\n",
    "\n",
    "\n",
    "    #..........................\n",
    "    # Average_Sentence_Length\n",
    "    Average_Sentence_Length =avg_snet_len(Total_no_of_words,Total_no_of_sentence )\n",
    "    avg_sen_len.append(Average_Sentence_Length)\n",
    "\n",
    "\n",
    "\n",
    "    # .........................\n",
    "    # Complex Word Count\n",
    "    Total_No_of_complex_word =count_complex_word(list_of_words_after_stop_words)\n",
    "    complex_wor_count.append(Total_No_of_complex_word)\n",
    "\n",
    "    #..........................\n",
    "    #Percentage_of_complex_word\n",
    "    Percentage_of_complex_w = Percentage_of_complex_word(Total_No_of_complex_word,Total_no_of_words)\n",
    "    percentage_of_com_words.append(Percentage_of_complex_w)\n",
    "\n",
    "\n",
    "    #...........................\n",
    "    # Fog Index\n",
    "    Fog_Index =  fog(Average_Sentence_Length , Percentage_of_complex_w)\n",
    "    f_ind.append(Fog_Index)\n",
    "\n",
    "\n",
    "    #........................\n",
    "    # uncertanity score\n",
    "    sheet_positive_negetive_stop_words_constrain_uncertanity_words['Uncertanity_Word'] = sheet_positive_negetive_stop_words_constrain_uncertanity_words['Uncertanity_Word'].str.lower()\n",
    "    Series_of_uncertanity_words = sheet_positive_negetive_stop_words_constrain_uncertanity_words['Uncertanity_Word'].dropna()\n",
    "    uncertanity_score = count(list_of_words_after_stop_words,Series_of_uncertanity_words)\n",
    "    uncer_score.append(uncertanity_score)\n",
    "\n",
    "\n",
    "    #.........................\n",
    "    # constraning score\n",
    "    sheet_positive_negetive_stop_words_constrain_uncertanity_words['Constraning_Word']= sheet_positive_negetive_stop_words_constrain_uncertanity_words['Constraning_Word'].str.lower()\n",
    "    Series_of_uncertanity_words = sheet_positive_negetive_stop_words_constrain_uncertanity_words['Constraning_Word'].dropna()\n",
    "    constraining_score =count(list_of_words_after_stop_words,Series_of_uncertanity_words)\n",
    "    const_score.append(constraining_score)\n",
    "\n",
    "\n",
    "\n",
    "    # selectivity score\n",
    "    Subjectivity_Score = sub_score(Positive_score,Negative_score)\n",
    "\n",
    "    #Sentiment score categorization\n",
    "    sentimental_score =  sent_score(Polarity_Score)\n",
    "\n",
    "    # Average Word Length\n",
    "    Average_word_length=avg_word_len(word_count)\n",
    "\n",
    "\n",
    "\n",
    "    #..................................\n",
    "    # positive_word_proportion\n",
    "    positive_word_proportion = word_prop(Positive_score,word_count)\n",
    "    pos_wor_prop.append(positive_word_proportion)\n",
    "\n",
    "\n",
    "    #..................................\n",
    "    # negative_word_proportion\n",
    "    negative_word_proportion = word_prop(Negative_score,word_count)\n",
    "    neg_wor_prop.append(negative_word_proportion)\n",
    "\n",
    "\n",
    "    #.................................\n",
    "    # uncertainty_word_proportion\n",
    "    uncertainty_word_proportion = word_prop(uncertanity_score,word_count)\n",
    "    uncer_wor_prop.append(uncertainty_word_proportion)\n",
    "\n",
    "\n",
    "    # ................................\n",
    "    # constraining_word_proportion\n",
    "    constraining_word_proportion =word_prop(constraining_score,word_count)\n",
    "    cons_wor_prop.append(constraining_word_proportion)\n",
    "\n",
    "    #..................................\n",
    "    # constraining_words_whole_report\n",
    "    constraining_words_whole_report = ''\n",
    "    constraning_words_whole_report.append(constraining_words_whole_report)\n",
    "\n"
   ]
  },
  {
   "cell_type": "code",
   "execution_count": 131,
   "id": "1fde65a1",
   "metadata": {
    "ExecuteTime": {
     "end_time": "2021-09-15T20:18:50.024397Z",
     "start_time": "2021-09-15T20:18:50.013834Z"
    },
    "run_control": {
     "marked": true
    }
   },
   "outputs": [
    {
     "name": "stdout",
     "output_type": "stream",
     "text": [
      "[18, 18, 18, 18] [4, 4, 4, 4] [0.6363646363636364, 0.6363646363636364, 0.6363646363636364, 0.6363646363636364] [41.45193035579107, 43.28365384615385, 40.95, 31.86876006441224] [0.09070211962939966, 0.13791699063275203, 18.192918192918192, 0.18822162148505595] [16.617052990168187, 17.36862833471464, 23.65716727716728, 12.82279267435892] [149, 149, 149, 149] [78605, 50916, 438, 40037] [17, 17, 17, 17] [0, 0, 0, 0] [0.00022899306659881688, 0.0003535234503888758, 0.0410958904109589, 0.0004495841346754252] [5.0887348133070415e-05, 7.85607667530835e-05, 0.0091324200913242, 9.990758548342783e-05] [0.00021627122956554927, 0.0003338832587006049, 0.03881278538812785, 0.00042460723830456827] [0.0, 0.0, 0.0, 0.0] ['', '', '', '']\n"
     ]
    }
   ],
   "source": [
    "print(pos_score,neg_score,pol_score,avg_sen_len,percentage_of_com_words,\n",
    "      f_ind,complex_wor_count,word_counter,uncer_score ,\n",
    "      const_score ,pos_wor_prop,neg_wor_prop,uncer_wor_prop,\n",
    "      cons_wor_prop,constraning_words_whole_report)"
   ]
  },
  {
   "cell_type": "markdown",
   "id": "c096c3e2",
   "metadata": {},
   "source": [
    "# Crete Data Frame as Dict"
   ]
  },
  {
   "cell_type": "code",
   "execution_count": 133,
   "id": "12813af4",
   "metadata": {
    "ExecuteTime": {
     "end_time": "2021-09-15T20:19:14.840680Z",
     "start_time": "2021-09-15T20:19:14.832146Z"
    },
    "run_control": {
     "marked": true
    }
   },
   "outputs": [],
   "source": [
    "d_set =   {'CIK' : CIK1,\n",
    "          'CONAME' : CONAME1,\n",
    "          'FYRMO': FYRMO1,\n",
    "          'FDATE': FDATE1,\n",
    "          'FORM': FORM1,\n",
    "           'SECFNAME' : SECFNAME1,\n",
    "          'positive_score' :pos_score,\n",
    "          'negative_score': neg_score ,\n",
    "          'polarity_score' :pol_score,\n",
    "          'average_sentence_length' : avg_sen_len,\n",
    "          'percentage_of_complex_words': percentage_of_com_words,\n",
    "          'fog_index' : f_ind,\n",
    "          'complex_word_count' : complex_wor_count,\n",
    "          'word_count' : word_counter,\n",
    "          'uncertainty_score': uncer_score,\n",
    "          'constraining_score': const_score,\n",
    "          'positive_word_proportion' : pos_wor_prop,\n",
    "          'negative_word_proportion' : neg_wor_prop,\n",
    "          'uncertainty_word_proportion': uncer_wor_prop,\n",
    "          'constraining_word_proportion' : cons_wor_prop,\n",
    "          'constraining_words_whole_report' : constraning_words_whole_report\n",
    "          }"
   ]
  },
  {
   "cell_type": "code",
   "execution_count": 140,
   "id": "fd560b79",
   "metadata": {
    "ExecuteTime": {
     "end_time": "2021-09-15T20:21:59.446117Z",
     "start_time": "2021-09-15T20:21:59.430107Z"
    }
   },
   "outputs": [],
   "source": [
    "data_set = pd.DataFrame.from_dict(d_set, orient='index')"
   ]
  },
  {
   "cell_type": "code",
   "execution_count": 137,
   "id": "f4f14645",
   "metadata": {
    "ExecuteTime": {
     "end_time": "2021-09-15T20:21:22.070236Z",
     "start_time": "2021-09-15T20:21:22.050232Z"
    }
   },
   "outputs": [
    {
     "data": {
      "text/html": [
       "<div>\n",
       "<style scoped>\n",
       "    .dataframe tbody tr th:only-of-type {\n",
       "        vertical-align: middle;\n",
       "    }\n",
       "\n",
       "    .dataframe tbody tr th {\n",
       "        vertical-align: top;\n",
       "    }\n",
       "\n",
       "    .dataframe thead th {\n",
       "        text-align: right;\n",
       "    }\n",
       "</style>\n",
       "<table border=\"1\" class=\"dataframe\">\n",
       "  <thead>\n",
       "    <tr style=\"text-align: right;\">\n",
       "      <th></th>\n",
       "      <th>0</th>\n",
       "      <th>1</th>\n",
       "      <th>2</th>\n",
       "      <th>3</th>\n",
       "    </tr>\n",
       "  </thead>\n",
       "  <tbody>\n",
       "    <tr>\n",
       "      <th>CIK</th>\n",
       "      <td>None</td>\n",
       "      <td>None</td>\n",
       "      <td>None</td>\n",
       "      <td>None</td>\n",
       "    </tr>\n",
       "    <tr>\n",
       "      <th>CONAME</th>\n",
       "      <td>None</td>\n",
       "      <td>None</td>\n",
       "      <td>None</td>\n",
       "      <td>None</td>\n",
       "    </tr>\n",
       "    <tr>\n",
       "      <th>FYRMO</th>\n",
       "      <td>None</td>\n",
       "      <td>None</td>\n",
       "      <td>None</td>\n",
       "      <td>None</td>\n",
       "    </tr>\n",
       "    <tr>\n",
       "      <th>FDATE</th>\n",
       "      <td>None</td>\n",
       "      <td>None</td>\n",
       "      <td>None</td>\n",
       "      <td>None</td>\n",
       "    </tr>\n",
       "    <tr>\n",
       "      <th>FORM</th>\n",
       "      <td>None</td>\n",
       "      <td>None</td>\n",
       "      <td>None</td>\n",
       "      <td>None</td>\n",
       "    </tr>\n",
       "    <tr>\n",
       "      <th>SECFNAME</th>\n",
       "      <td>None</td>\n",
       "      <td>None</td>\n",
       "      <td>None</td>\n",
       "      <td>None</td>\n",
       "    </tr>\n",
       "    <tr>\n",
       "      <th>positive_score</th>\n",
       "      <td>18</td>\n",
       "      <td>18</td>\n",
       "      <td>18</td>\n",
       "      <td>18</td>\n",
       "    </tr>\n",
       "    <tr>\n",
       "      <th>negative_score</th>\n",
       "      <td>4</td>\n",
       "      <td>4</td>\n",
       "      <td>4</td>\n",
       "      <td>4</td>\n",
       "    </tr>\n",
       "    <tr>\n",
       "      <th>polarity_score</th>\n",
       "      <td>0.636365</td>\n",
       "      <td>0.636365</td>\n",
       "      <td>0.636365</td>\n",
       "      <td>0.636365</td>\n",
       "    </tr>\n",
       "    <tr>\n",
       "      <th>average_sentence_length</th>\n",
       "      <td>41.45193</td>\n",
       "      <td>43.283654</td>\n",
       "      <td>40.95</td>\n",
       "      <td>31.86876</td>\n",
       "    </tr>\n",
       "    <tr>\n",
       "      <th>percentage_of_complex_words</th>\n",
       "      <td>0.090702</td>\n",
       "      <td>0.137917</td>\n",
       "      <td>18.192918</td>\n",
       "      <td>0.188222</td>\n",
       "    </tr>\n",
       "    <tr>\n",
       "      <th>fog_index</th>\n",
       "      <td>16.617053</td>\n",
       "      <td>17.368628</td>\n",
       "      <td>23.657167</td>\n",
       "      <td>12.822793</td>\n",
       "    </tr>\n",
       "    <tr>\n",
       "      <th>complex_word_count</th>\n",
       "      <td>149</td>\n",
       "      <td>149</td>\n",
       "      <td>149</td>\n",
       "      <td>149</td>\n",
       "    </tr>\n",
       "    <tr>\n",
       "      <th>word_count</th>\n",
       "      <td>78605</td>\n",
       "      <td>50916</td>\n",
       "      <td>438</td>\n",
       "      <td>40037</td>\n",
       "    </tr>\n",
       "    <tr>\n",
       "      <th>uncertainty_score</th>\n",
       "      <td>17</td>\n",
       "      <td>17</td>\n",
       "      <td>17</td>\n",
       "      <td>17</td>\n",
       "    </tr>\n",
       "    <tr>\n",
       "      <th>constraining_score</th>\n",
       "      <td>0</td>\n",
       "      <td>0</td>\n",
       "      <td>0</td>\n",
       "      <td>0</td>\n",
       "    </tr>\n",
       "    <tr>\n",
       "      <th>positive_word_proportion</th>\n",
       "      <td>0.000229</td>\n",
       "      <td>0.000354</td>\n",
       "      <td>0.041096</td>\n",
       "      <td>0.00045</td>\n",
       "    </tr>\n",
       "    <tr>\n",
       "      <th>negative_word_proportion</th>\n",
       "      <td>0.000051</td>\n",
       "      <td>0.000079</td>\n",
       "      <td>0.009132</td>\n",
       "      <td>0.0001</td>\n",
       "    </tr>\n",
       "    <tr>\n",
       "      <th>uncertainty_word_proportion</th>\n",
       "      <td>0.000216</td>\n",
       "      <td>0.000334</td>\n",
       "      <td>0.038813</td>\n",
       "      <td>0.000425</td>\n",
       "    </tr>\n",
       "    <tr>\n",
       "      <th>constraining_word_proportion</th>\n",
       "      <td>0.0</td>\n",
       "      <td>0.0</td>\n",
       "      <td>0.0</td>\n",
       "      <td>0.0</td>\n",
       "    </tr>\n",
       "    <tr>\n",
       "      <th>constraining_words_whole_report</th>\n",
       "      <td></td>\n",
       "      <td></td>\n",
       "      <td></td>\n",
       "      <td></td>\n",
       "    </tr>\n",
       "  </tbody>\n",
       "</table>\n",
       "</div>"
      ],
      "text/plain": [
       "                                         0          1          2          3\n",
       "CIK                                   None       None       None       None\n",
       "CONAME                                None       None       None       None\n",
       "FYRMO                                 None       None       None       None\n",
       "FDATE                                 None       None       None       None\n",
       "FORM                                  None       None       None       None\n",
       "SECFNAME                              None       None       None       None\n",
       "positive_score                          18         18         18         18\n",
       "negative_score                           4          4          4          4\n",
       "polarity_score                    0.636365   0.636365   0.636365   0.636365\n",
       "average_sentence_length           41.45193  43.283654      40.95   31.86876\n",
       "percentage_of_complex_words       0.090702   0.137917  18.192918   0.188222\n",
       "fog_index                        16.617053  17.368628  23.657167  12.822793\n",
       "complex_word_count                     149        149        149        149\n",
       "word_count                           78605      50916        438      40037\n",
       "uncertainty_score                       17         17         17         17\n",
       "constraining_score                       0          0          0          0\n",
       "positive_word_proportion          0.000229   0.000354   0.041096    0.00045\n",
       "negative_word_proportion          0.000051   0.000079   0.009132     0.0001\n",
       "uncertainty_word_proportion       0.000216   0.000334   0.038813   0.000425\n",
       "constraining_word_proportion           0.0        0.0        0.0        0.0\n",
       "constraining_words_whole_report                                            "
      ]
     },
     "execution_count": 137,
     "metadata": {},
     "output_type": "execute_result"
    }
   ],
   "source": [
    "data_set"
   ]
  },
  {
   "cell_type": "code",
   "execution_count": 144,
   "id": "a57736d0",
   "metadata": {
    "ExecuteTime": {
     "end_time": "2021-09-15T20:27:27.281263Z",
     "start_time": "2021-09-15T20:27:27.273251Z"
    }
   },
   "outputs": [],
   "source": [
    "Final_data_set= data_set.transpose()"
   ]
  },
  {
   "cell_type": "code",
   "execution_count": 145,
   "id": "30b2eddc",
   "metadata": {
    "ExecuteTime": {
     "end_time": "2021-09-15T20:27:29.314744Z",
     "start_time": "2021-09-15T20:27:29.291739Z"
    }
   },
   "outputs": [
    {
     "data": {
      "text/html": [
       "<div>\n",
       "<style scoped>\n",
       "    .dataframe tbody tr th:only-of-type {\n",
       "        vertical-align: middle;\n",
       "    }\n",
       "\n",
       "    .dataframe tbody tr th {\n",
       "        vertical-align: top;\n",
       "    }\n",
       "\n",
       "    .dataframe thead th {\n",
       "        text-align: right;\n",
       "    }\n",
       "</style>\n",
       "<table border=\"1\" class=\"dataframe\">\n",
       "  <thead>\n",
       "    <tr style=\"text-align: right;\">\n",
       "      <th></th>\n",
       "      <th>CIK</th>\n",
       "      <th>CONAME</th>\n",
       "      <th>FYRMO</th>\n",
       "      <th>FDATE</th>\n",
       "      <th>FORM</th>\n",
       "      <th>SECFNAME</th>\n",
       "      <th>positive_score</th>\n",
       "      <th>negative_score</th>\n",
       "      <th>polarity_score</th>\n",
       "      <th>average_sentence_length</th>\n",
       "      <th>...</th>\n",
       "      <th>fog_index</th>\n",
       "      <th>complex_word_count</th>\n",
       "      <th>word_count</th>\n",
       "      <th>uncertainty_score</th>\n",
       "      <th>constraining_score</th>\n",
       "      <th>positive_word_proportion</th>\n",
       "      <th>negative_word_proportion</th>\n",
       "      <th>uncertainty_word_proportion</th>\n",
       "      <th>constraining_word_proportion</th>\n",
       "      <th>constraining_words_whole_report</th>\n",
       "    </tr>\n",
       "  </thead>\n",
       "  <tbody>\n",
       "    <tr>\n",
       "      <th>0</th>\n",
       "      <td>None</td>\n",
       "      <td>None</td>\n",
       "      <td>None</td>\n",
       "      <td>None</td>\n",
       "      <td>None</td>\n",
       "      <td>None</td>\n",
       "      <td>18</td>\n",
       "      <td>4</td>\n",
       "      <td>0.636365</td>\n",
       "      <td>41.45193</td>\n",
       "      <td>...</td>\n",
       "      <td>16.617053</td>\n",
       "      <td>149</td>\n",
       "      <td>78605</td>\n",
       "      <td>17</td>\n",
       "      <td>0</td>\n",
       "      <td>0.000229</td>\n",
       "      <td>0.000051</td>\n",
       "      <td>0.000216</td>\n",
       "      <td>0.0</td>\n",
       "      <td></td>\n",
       "    </tr>\n",
       "    <tr>\n",
       "      <th>1</th>\n",
       "      <td>None</td>\n",
       "      <td>None</td>\n",
       "      <td>None</td>\n",
       "      <td>None</td>\n",
       "      <td>None</td>\n",
       "      <td>None</td>\n",
       "      <td>18</td>\n",
       "      <td>4</td>\n",
       "      <td>0.636365</td>\n",
       "      <td>43.283654</td>\n",
       "      <td>...</td>\n",
       "      <td>17.368628</td>\n",
       "      <td>149</td>\n",
       "      <td>50916</td>\n",
       "      <td>17</td>\n",
       "      <td>0</td>\n",
       "      <td>0.000354</td>\n",
       "      <td>0.000079</td>\n",
       "      <td>0.000334</td>\n",
       "      <td>0.0</td>\n",
       "      <td></td>\n",
       "    </tr>\n",
       "    <tr>\n",
       "      <th>2</th>\n",
       "      <td>None</td>\n",
       "      <td>None</td>\n",
       "      <td>None</td>\n",
       "      <td>None</td>\n",
       "      <td>None</td>\n",
       "      <td>None</td>\n",
       "      <td>18</td>\n",
       "      <td>4</td>\n",
       "      <td>0.636365</td>\n",
       "      <td>40.95</td>\n",
       "      <td>...</td>\n",
       "      <td>23.657167</td>\n",
       "      <td>149</td>\n",
       "      <td>438</td>\n",
       "      <td>17</td>\n",
       "      <td>0</td>\n",
       "      <td>0.041096</td>\n",
       "      <td>0.009132</td>\n",
       "      <td>0.038813</td>\n",
       "      <td>0.0</td>\n",
       "      <td></td>\n",
       "    </tr>\n",
       "    <tr>\n",
       "      <th>3</th>\n",
       "      <td>None</td>\n",
       "      <td>None</td>\n",
       "      <td>None</td>\n",
       "      <td>None</td>\n",
       "      <td>None</td>\n",
       "      <td>None</td>\n",
       "      <td>18</td>\n",
       "      <td>4</td>\n",
       "      <td>0.636365</td>\n",
       "      <td>31.86876</td>\n",
       "      <td>...</td>\n",
       "      <td>12.822793</td>\n",
       "      <td>149</td>\n",
       "      <td>40037</td>\n",
       "      <td>17</td>\n",
       "      <td>0</td>\n",
       "      <td>0.00045</td>\n",
       "      <td>0.0001</td>\n",
       "      <td>0.000425</td>\n",
       "      <td>0.0</td>\n",
       "      <td></td>\n",
       "    </tr>\n",
       "  </tbody>\n",
       "</table>\n",
       "<p>4 rows × 21 columns</p>\n",
       "</div>"
      ],
      "text/plain": [
       "    CIK CONAME FYRMO FDATE  FORM SECFNAME positive_score negative_score  \\\n",
       "0  None   None  None  None  None     None             18              4   \n",
       "1  None   None  None  None  None     None             18              4   \n",
       "2  None   None  None  None  None     None             18              4   \n",
       "3  None   None  None  None  None     None             18              4   \n",
       "\n",
       "  polarity_score average_sentence_length  ...  fog_index complex_word_count  \\\n",
       "0       0.636365                41.45193  ...  16.617053                149   \n",
       "1       0.636365               43.283654  ...  17.368628                149   \n",
       "2       0.636365                   40.95  ...  23.657167                149   \n",
       "3       0.636365                31.86876  ...  12.822793                149   \n",
       "\n",
       "  word_count uncertainty_score constraining_score positive_word_proportion  \\\n",
       "0      78605                17                  0                 0.000229   \n",
       "1      50916                17                  0                 0.000354   \n",
       "2        438                17                  0                 0.041096   \n",
       "3      40037                17                  0                  0.00045   \n",
       "\n",
       "  negative_word_proportion uncertainty_word_proportion  \\\n",
       "0                 0.000051                    0.000216   \n",
       "1                 0.000079                    0.000334   \n",
       "2                 0.009132                    0.038813   \n",
       "3                   0.0001                    0.000425   \n",
       "\n",
       "  constraining_word_proportion constraining_words_whole_report  \n",
       "0                          0.0                                  \n",
       "1                          0.0                                  \n",
       "2                          0.0                                  \n",
       "3                          0.0                                  \n",
       "\n",
       "[4 rows x 21 columns]"
      ]
     },
     "execution_count": 145,
     "metadata": {},
     "output_type": "execute_result"
    }
   ],
   "source": [
    "Final_data_set"
   ]
  }
 ],
 "metadata": {
  "kernelspec": {
   "display_name": "Python 3",
   "language": "python",
   "name": "python3"
  },
  "language_info": {
   "codemirror_mode": {
    "name": "ipython",
    "version": 3
   },
   "file_extension": ".py",
   "mimetype": "text/x-python",
   "name": "python",
   "nbconvert_exporter": "python",
   "pygments_lexer": "ipython3",
   "version": "3.8.8"
  }
 },
 "nbformat": 4,
 "nbformat_minor": 5
}
