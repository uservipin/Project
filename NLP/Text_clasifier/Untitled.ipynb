{
 "cells": [
  {
   "cell_type": "markdown",
   "id": "8a8caa11",
   "metadata": {},
   "source": [
    "# Stemming | Apply stemming on main list of dictionary¶\n"
   ]
  },
  {
   "cell_type": "code",
   "execution_count": null,
   "id": "75d7ddd6",
   "metadata": {
    "run_control": {
     "marked": true
    }
   },
   "outputs": [],
   "source": [
    "from nltk.stem import PorterStemmer \n",
    "port= PorterStemmer()"
   ]
  },
  {
   "cell_type": "markdown",
   "id": "264a898d",
   "metadata": {},
   "source": [
    "examples = [\"cars\", \"eating\", \"quickly\"] list_of_stemming_word= [] word = '' for w in examples: word = port.stem(w) list_of_stemming_word.append(word)\n",
    "\n"
   ]
  },
  {
   "cell_type": "code",
   "execution_count": null,
   "id": "6d2edd5b",
   "metadata": {},
   "outputs": [],
   "source": [
    "list_of_stemming_word= []\n",
    "for w in clean_test_in_lower_case: \n",
    "    list_of_stemming_word.append(port.stem(w))"
   ]
  },
  {
   "cell_type": "code",
   "execution_count": null,
   "id": "27ea4230",
   "metadata": {},
   "outputs": [],
   "source": [
    "list_of_stemming_word"
   ]
  },
  {
   "cell_type": "markdown",
   "id": "2ff0ceae",
   "metadata": {},
   "source": [
    "# Lemitization"
   ]
  },
  {
   "cell_type": "code",
   "execution_count": 4,
   "id": "f83c20a5",
   "metadata": {
    "ExecuteTime": {
     "end_time": "2021-09-15T16:40:54.850096Z",
     "start_time": "2021-09-15T16:40:54.842086Z"
    }
   },
   "outputs": [],
   "source": [
    "from nltk.stem.wordnet import WordNetLemmatizer\n",
    "wnet = WordNetLemmatizer()"
   ]
  },
  {
   "cell_type": "code",
   "execution_count": null,
   "id": "1aea6465",
   "metadata": {},
   "outputs": [],
   "source": [
    "import nltk \n",
    "nltk.download('wordnet')"
   ]
  },
  {
   "cell_type": "markdown",
   "id": "55cb76c2",
   "metadata": {},
   "source": [
    "List_of_lemitization= [] for word in list_of_stemming_word: List_of_lemitization.append(wnet.lemmatize(word))\n",
    "\n",
    "List_of_lemitization\n",
    "\n"
   ]
  },
  {
   "cell_type": "code",
   "execution_count": null,
   "id": "05d31598",
   "metadata": {},
   "outputs": [],
   "source": [
    "clean_test_in_lower_case_of_lemitization= []\n",
    "for word in list_of_stemming_word:\n",
    "    clean_test_in_lower_case_of_lemitization.append(wnet.lemmatize(word))\n",
    "    "
   ]
  },
  {
   "cell_type": "code",
   "execution_count": null,
   "id": "c15a69dc",
   "metadata": {},
   "outputs": [],
   "source": [
    "clean_test_in_lower_case_of_lemitization"
   ]
  },
  {
   "cell_type": "code",
   "execution_count": null,
   "id": "67740f05",
   "metadata": {},
   "outputs": [],
   "source": [
    "len(clean_test_in_lower_case_of_lemitization)"
   ]
  },
  {
   "cell_type": "code",
   "execution_count": 1,
   "id": "743aa3f7",
   "metadata": {
    "ExecuteTime": {
     "end_time": "2021-09-15T16:40:28.223463Z",
     "start_time": "2021-09-15T16:40:28.214428Z"
    }
   },
   "outputs": [],
   "source": [
    "def impotrs():\n",
    "    from bs4 import BeautifulSoup\n",
    "    import html\n",
    "    import requests\n",
    "    import pandas as pd\n",
    "    import numpy as np\n",
    "    import re \n",
    "    import time\n",
    "\n",
    "    from nltk.tokenize import sent_tokenize, word_tokenize\n",
    "    import nltk\n",
    "    nltk.download('punkt')\n",
    "    "
   ]
  },
  {
   "cell_type": "code",
   "execution_count": 8,
   "id": "d0fb51d4",
   "metadata": {
    "ExecuteTime": {
     "end_time": "2021-09-15T16:42:38.679580Z",
     "start_time": "2021-09-15T16:42:38.673584Z"
    }
   },
   "outputs": [
    {
     "name": "stderr",
     "output_type": "stream",
     "text": [
      "[nltk_data] Downloading package punkt to\n",
      "[nltk_data]     C:\\Users\\kumar\\AppData\\Roaming\\nltk_data...\n",
      "[nltk_data]   Package punkt is already up-to-date!\n"
     ]
    },
    {
     "data": {
      "text/plain": [
       "True"
      ]
     },
     "execution_count": 8,
     "metadata": {},
     "output_type": "execute_result"
    }
   ],
   "source": [
    "from bs4 import BeautifulSoup\n",
    "import html\n",
    "import requests\n",
    "import pandas as pd\n",
    "import numpy as np\n",
    "import re \n",
    "import time\n",
    "\n",
    "from nltk.tokenize import sent_tokenize, word_tokenize\n",
    "import nltk\n",
    "nltk.download('punkt')"
   ]
  },
  {
   "cell_type": "code",
   "execution_count": 36,
   "id": "b5c0350d",
   "metadata": {
    "ExecuteTime": {
     "end_time": "2021-09-15T16:56:47.180849Z",
     "start_time": "2021-09-15T16:56:47.165290Z"
    }
   },
   "outputs": [],
   "source": [
    "def fetch_data():\n",
    "    headers = {'User-Agent': 'Mozilla/5.0 (Macintosh; Intel Mac OS X 10_11_5) AppleWebKit/537.36 (KHTML, like Gecko) Chrome/50.0.2661.102 Safari/537.36'}\n",
    "    url= \"https://www.sec.gov/Archives/edgar/data/3662/0000950170-98-000413.txt\"\n",
    "    data = requests.get(url,headers)\n",
    "    time.sleep(2)\n",
    "    return data"
   ]
  },
  {
   "cell_type": "code",
   "execution_count": null,
   "id": "64236615",
   "metadata": {},
   "outputs": [],
   "source": []
  },
  {
   "cell_type": "code",
   "execution_count": 21,
   "id": "9e7629cd",
   "metadata": {
    "ExecuteTime": {
     "end_time": "2021-09-15T16:48:01.119638Z",
     "start_time": "2021-09-15T16:48:01.112634Z"
    }
   },
   "outputs": [
    {
     "data": {
      "text/plain": [
       "200"
      ]
     },
     "execution_count": 21,
     "metadata": {},
     "output_type": "execute_result"
    }
   ],
   "source": [
    "t.status_code"
   ]
  },
  {
   "cell_type": "code",
   "execution_count": 43,
   "id": "2d8fd138",
   "metadata": {
    "ExecuteTime": {
     "end_time": "2021-09-15T17:02:04.783328Z",
     "start_time": "2021-09-15T17:02:00.409290Z"
    }
   },
   "outputs": [
    {
     "name": "stdout",
     "output_type": "stream",
     "text": [
      "data not connected to source\n",
      "welcome data connect successfully\n",
      "out\n"
     ]
    }
   ],
   "source": [
    "t=  fetch_data()\n",
    "t.status_code\n",
    "while(t.status_code != 200):\n",
    "    t = fetch_data()\n",
    "    print('data not connected to source')\n",
    "    if(t.status_code == 200):\n",
    "        print('welcome data connect successfully')\n",
    "        break\n",
    "        \n",
    "    else:\n",
    "        print('welcome data connect successfully')\n",
    "        break\n",
    "    \n",
    "print(\"out\")"
   ]
  },
  {
   "cell_type": "code",
   "execution_count": 40,
   "id": "f99b1001",
   "metadata": {
    "ExecuteTime": {
     "end_time": "2021-09-15T17:01:04.755190Z",
     "start_time": "2021-09-15T17:01:04.744667Z"
    },
    "scrolled": true
   },
   "outputs": [
    {
     "data": {
      "text/plain": [
       "200"
      ]
     },
     "execution_count": 40,
     "metadata": {},
     "output_type": "execute_result"
    }
   ],
   "source": [
    "t.status_code"
   ]
  },
  {
   "cell_type": "code",
   "execution_count": null,
   "id": "ef9340e7",
   "metadata": {},
   "outputs": [],
   "source": [
    "pos_score =[]\n",
    "neg_score = []\n",
    "pol_score= []\n",
    "avg_sen_len = []\n",
    "percentage_of_com_words= []\n",
    "f_ind= []\n",
    "complex_wor_count= []\n",
    "word_counter =[]\n",
    "uncer_score = []\n",
    "const_score = []\n",
    "pos_wor_prop= []\n",
    "neg_wor_prop= []\n",
    "uncer_wor_prop= []\n",
    "cons_wor_prop= []\n",
    "constraning_words_whole_report=[]"
   ]
  },
  {
   "cell_type": "code",
   "execution_count": null,
   "id": "6936cd2c",
   "metadata": {},
   "outputs": [],
   "source": []
  },
  {
   "cell_type": "code",
   "execution_count": null,
   "id": "f0d04500",
   "metadata": {},
   "outputs": [],
   "source": []
  }
 ],
 "metadata": {
  "kernelspec": {
   "display_name": "Python 3",
   "language": "python",
   "name": "python3"
  },
  "language_info": {
   "codemirror_mode": {
    "name": "ipython",
    "version": 3
   },
   "file_extension": ".py",
   "mimetype": "text/x-python",
   "name": "python",
   "nbconvert_exporter": "python",
   "pygments_lexer": "ipython3",
   "version": "3.8.8"
  }
 },
 "nbformat": 4,
 "nbformat_minor": 5
}
