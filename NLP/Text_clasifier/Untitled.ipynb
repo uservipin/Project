{
 "cells": [
  {
   "cell_type": "markdown",
   "id": "8a8caa11",
   "metadata": {},
   "source": [
    "# Stemming | Apply stemming on main list of dictionary¶\n"
   ]
  },
  {
   "cell_type": "code",
   "execution_count": null,
   "id": "75d7ddd6",
   "metadata": {
    "run_control": {
     "marked": true
    }
   },
   "outputs": [],
   "source": [
    "from nltk.stem import PorterStemmer \n",
    "port= PorterStemmer()"
   ]
  },
  {
   "cell_type": "markdown",
   "id": "264a898d",
   "metadata": {},
   "source": [
    "examples = [\"cars\", \"eating\", \"quickly\"] list_of_stemming_word= [] word = '' for w in examples: word = port.stem(w) list_of_stemming_word.append(word)\n",
    "\n"
   ]
  },
  {
   "cell_type": "code",
   "execution_count": null,
   "id": "6d2edd5b",
   "metadata": {},
   "outputs": [],
   "source": [
    "list_of_stemming_word= []\n",
    "for w in clean_test_in_lower_case: \n",
    "    list_of_stemming_word.append(port.stem(w))"
   ]
  },
  {
   "cell_type": "code",
   "execution_count": null,
   "id": "27ea4230",
   "metadata": {},
   "outputs": [],
   "source": [
    "list_of_stemming_word"
   ]
  },
  {
   "cell_type": "markdown",
   "id": "2ff0ceae",
   "metadata": {},
   "source": [
    "# Lemitization"
   ]
  },
  {
   "cell_type": "code",
   "execution_count": 1,
   "id": "f83c20a5",
   "metadata": {
    "ExecuteTime": {
     "end_time": "2021-09-15T11:58:08.298815Z",
     "start_time": "2021-09-15T11:58:07.067791Z"
    }
   },
   "outputs": [],
   "source": [
    "from nltk.stem.wordnet import WordNetLemmatizer\n",
    "wnet = WordNetLemmatizer()"
   ]
  },
  {
   "cell_type": "code",
   "execution_count": null,
   "id": "1aea6465",
   "metadata": {},
   "outputs": [],
   "source": [
    "import nltk \n",
    "nltk.download('wordnet')"
   ]
  },
  {
   "cell_type": "markdown",
   "id": "55cb76c2",
   "metadata": {},
   "source": [
    "List_of_lemitization= [] for word in list_of_stemming_word: List_of_lemitization.append(wnet.lemmatize(word))\n",
    "\n",
    "List_of_lemitization\n",
    "\n"
   ]
  },
  {
   "cell_type": "code",
   "execution_count": null,
   "id": "05d31598",
   "metadata": {},
   "outputs": [],
   "source": [
    "clean_test_in_lower_case_of_lemitization= []\n",
    "for word in list_of_stemming_word:\n",
    "    clean_test_in_lower_case_of_lemitization.append(wnet.lemmatize(word))\n",
    "    "
   ]
  },
  {
   "cell_type": "code",
   "execution_count": null,
   "id": "c15a69dc",
   "metadata": {},
   "outputs": [],
   "source": [
    "clean_test_in_lower_case_of_lemitization"
   ]
  },
  {
   "cell_type": "code",
   "execution_count": null,
   "id": "67740f05",
   "metadata": {},
   "outputs": [],
   "source": [
    "len(clean_test_in_lower_case_of_lemitization)"
   ]
  }
 ],
 "metadata": {
  "kernelspec": {
   "display_name": "Python 3",
   "language": "python",
   "name": "python3"
  },
  "language_info": {
   "codemirror_mode": {
    "name": "ipython",
    "version": 3
   },
   "file_extension": ".py",
   "mimetype": "text/x-python",
   "name": "python",
   "nbconvert_exporter": "python",
   "pygments_lexer": "ipython3",
   "version": "3.8.8"
  }
 },
 "nbformat": 4,
 "nbformat_minor": 5
}
