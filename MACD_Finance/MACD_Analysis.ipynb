{
 "cells": [
  {
   "cell_type": "code",
   "execution_count": null,
   "id": "97a96285",
   "metadata": {},
   "outputs": [],
   "source": [
    "# import dependencies "
   ]
  },
  {
   "cell_type": "code",
   "execution_count": 1,
   "id": "607495b8",
   "metadata": {
    "ExecuteTime": {
     "end_time": "2021-09-04T06:10:21.131109Z",
     "start_time": "2021-09-04T06:10:20.467431Z"
    },
    "run_control": {
     "marked": true
    }
   },
   "outputs": [],
   "source": [
    "import pandas as pd\n",
    "import numpy as np\n",
    "import matplotlib.pyplot as plt"
   ]
  },
  {
   "cell_type": "code",
   "execution_count": null,
   "id": "63bfc74e",
   "metadata": {},
   "outputs": [],
   "source": [
    "# Load data "
   ]
  },
  {
   "cell_type": "code",
   "execution_count": 2,
   "id": "5c3e9738",
   "metadata": {
    "ExecuteTime": {
     "end_time": "2021-09-04T06:10:24.703368Z",
     "start_time": "2021-09-04T06:10:24.679862Z"
    },
    "run_control": {
     "marked": true
    }
   },
   "outputs": [
    {
     "data": {
      "text/html": [
       "<div>\n",
       "<style scoped>\n",
       "    .dataframe tbody tr th:only-of-type {\n",
       "        vertical-align: middle;\n",
       "    }\n",
       "\n",
       "    .dataframe tbody tr th {\n",
       "        vertical-align: top;\n",
       "    }\n",
       "\n",
       "    .dataframe thead th {\n",
       "        text-align: right;\n",
       "    }\n",
       "</style>\n",
       "<table border=\"1\" class=\"dataframe\">\n",
       "  <thead>\n",
       "    <tr style=\"text-align: right;\">\n",
       "      <th></th>\n",
       "      <th>Date</th>\n",
       "      <th>Open</th>\n",
       "      <th>High</th>\n",
       "      <th>Low</th>\n",
       "      <th>Close</th>\n",
       "      <th>Adj Close</th>\n",
       "      <th>Volume</th>\n",
       "    </tr>\n",
       "  </thead>\n",
       "  <tbody>\n",
       "    <tr>\n",
       "      <th>0</th>\n",
       "      <td>2015-01-01</td>\n",
       "      <td>1283.500000</td>\n",
       "      <td>1283.500000</td>\n",
       "      <td>1270.500000</td>\n",
       "      <td>1272.780029</td>\n",
       "      <td>1089.075073</td>\n",
       "      <td>366830.0</td>\n",
       "    </tr>\n",
       "    <tr>\n",
       "      <th>1</th>\n",
       "      <td>2015-01-02</td>\n",
       "      <td>1275.500000</td>\n",
       "      <td>1295.469971</td>\n",
       "      <td>1275.300049</td>\n",
       "      <td>1289.719971</td>\n",
       "      <td>1103.570190</td>\n",
       "      <td>925740.0</td>\n",
       "    </tr>\n",
       "    <tr>\n",
       "      <th>2</th>\n",
       "      <td>2015-01-05</td>\n",
       "      <td>1290.500000</td>\n",
       "      <td>1299.949951</td>\n",
       "      <td>1262.319946</td>\n",
       "      <td>1270.119995</td>\n",
       "      <td>1086.799072</td>\n",
       "      <td>1754242.0</td>\n",
       "    </tr>\n",
       "    <tr>\n",
       "      <th>3</th>\n",
       "      <td>2015-01-06</td>\n",
       "      <td>1264.550049</td>\n",
       "      <td>1264.550049</td>\n",
       "      <td>1220.000000</td>\n",
       "      <td>1223.300049</td>\n",
       "      <td>1046.736816</td>\n",
       "      <td>2423784.0</td>\n",
       "    </tr>\n",
       "    <tr>\n",
       "      <th>4</th>\n",
       "      <td>2015-01-07</td>\n",
       "      <td>1235.000000</td>\n",
       "      <td>1239.569946</td>\n",
       "      <td>1203.719971</td>\n",
       "      <td>1208.849976</td>\n",
       "      <td>1034.372314</td>\n",
       "      <td>2636332.0</td>\n",
       "    </tr>\n",
       "    <tr>\n",
       "      <th>...</th>\n",
       "      <td>...</td>\n",
       "      <td>...</td>\n",
       "      <td>...</td>\n",
       "      <td>...</td>\n",
       "      <td>...</td>\n",
       "      <td>...</td>\n",
       "      <td>...</td>\n",
       "    </tr>\n",
       "    <tr>\n",
       "      <th>1224</th>\n",
       "      <td>2019-12-23</td>\n",
       "      <td>2210.000000</td>\n",
       "      <td>2241.949951</td>\n",
       "      <td>2210.000000</td>\n",
       "      <td>2231.699951</td>\n",
       "      <td>2199.081055</td>\n",
       "      <td>2247329.0</td>\n",
       "    </tr>\n",
       "    <tr>\n",
       "      <th>1225</th>\n",
       "      <td>2019-12-24</td>\n",
       "      <td>2239.000000</td>\n",
       "      <td>2243.550049</td>\n",
       "      <td>2211.149902</td>\n",
       "      <td>2215.600098</td>\n",
       "      <td>2183.216797</td>\n",
       "      <td>1805896.0</td>\n",
       "    </tr>\n",
       "    <tr>\n",
       "      <th>1226</th>\n",
       "      <td>2019-12-26</td>\n",
       "      <td>2216.399902</td>\n",
       "      <td>2229.000000</td>\n",
       "      <td>2195.199951</td>\n",
       "      <td>2201.949951</td>\n",
       "      <td>2169.766357</td>\n",
       "      <td>1880367.0</td>\n",
       "    </tr>\n",
       "    <tr>\n",
       "      <th>1227</th>\n",
       "      <td>2019-12-27</td>\n",
       "      <td>2208.000000</td>\n",
       "      <td>2226.399902</td>\n",
       "      <td>2176.000000</td>\n",
       "      <td>2198.500000</td>\n",
       "      <td>2166.366699</td>\n",
       "      <td>2720261.0</td>\n",
       "    </tr>\n",
       "    <tr>\n",
       "      <th>1228</th>\n",
       "      <td>2019-12-30</td>\n",
       "      <td>2207.000000</td>\n",
       "      <td>2225.000000</td>\n",
       "      <td>2177.100098</td>\n",
       "      <td>2183.199951</td>\n",
       "      <td>2151.290039</td>\n",
       "      <td>2288830.0</td>\n",
       "    </tr>\n",
       "  </tbody>\n",
       "</table>\n",
       "<p>1229 rows × 7 columns</p>\n",
       "</div>"
      ],
      "text/plain": [
       "            Date         Open         High          Low        Close  \\\n",
       "0     2015-01-01  1283.500000  1283.500000  1270.500000  1272.780029   \n",
       "1     2015-01-02  1275.500000  1295.469971  1275.300049  1289.719971   \n",
       "2     2015-01-05  1290.500000  1299.949951  1262.319946  1270.119995   \n",
       "3     2015-01-06  1264.550049  1264.550049  1220.000000  1223.300049   \n",
       "4     2015-01-07  1235.000000  1239.569946  1203.719971  1208.849976   \n",
       "...          ...          ...          ...          ...          ...   \n",
       "1224  2019-12-23  2210.000000  2241.949951  2210.000000  2231.699951   \n",
       "1225  2019-12-24  2239.000000  2243.550049  2211.149902  2215.600098   \n",
       "1226  2019-12-26  2216.399902  2229.000000  2195.199951  2201.949951   \n",
       "1227  2019-12-27  2208.000000  2226.399902  2176.000000  2198.500000   \n",
       "1228  2019-12-30  2207.000000  2225.000000  2177.100098  2183.199951   \n",
       "\n",
       "        Adj Close     Volume  \n",
       "0     1089.075073   366830.0  \n",
       "1     1103.570190   925740.0  \n",
       "2     1086.799072  1754242.0  \n",
       "3     1046.736816  2423784.0  \n",
       "4     1034.372314  2636332.0  \n",
       "...           ...        ...  \n",
       "1224  2199.081055  2247329.0  \n",
       "1225  2183.216797  1805896.0  \n",
       "1226  2169.766357  1880367.0  \n",
       "1227  2166.366699  2720261.0  \n",
       "1228  2151.290039  2288830.0  \n",
       "\n",
       "[1229 rows x 7 columns]"
      ]
     },
     "execution_count": 2,
     "metadata": {},
     "output_type": "execute_result"
    }
   ],
   "source": [
    "df = pd.read_csv('tcs.csv')\n",
    "df"
   ]
  },
  {
   "cell_type": "code",
   "execution_count": null,
   "id": "1b94fdcf",
   "metadata": {},
   "outputs": [],
   "source": []
  },
  {
   "cell_type": "code",
   "execution_count": 3,
   "id": "12615ed4",
   "metadata": {
    "ExecuteTime": {
     "end_time": "2021-09-04T06:10:53.768040Z",
     "start_time": "2021-09-04T06:10:53.754049Z"
    },
    "scrolled": true
   },
   "outputs": [
    {
     "data": {
      "text/html": [
       "<div>\n",
       "<style scoped>\n",
       "    .dataframe tbody tr th:only-of-type {\n",
       "        vertical-align: middle;\n",
       "    }\n",
       "\n",
       "    .dataframe tbody tr th {\n",
       "        vertical-align: top;\n",
       "    }\n",
       "\n",
       "    .dataframe thead th {\n",
       "        text-align: right;\n",
       "    }\n",
       "</style>\n",
       "<table border=\"1\" class=\"dataframe\">\n",
       "  <thead>\n",
       "    <tr style=\"text-align: right;\">\n",
       "      <th></th>\n",
       "      <th>Date</th>\n",
       "      <th>Open</th>\n",
       "      <th>High</th>\n",
       "      <th>Low</th>\n",
       "      <th>Close</th>\n",
       "      <th>Adj Close</th>\n",
       "      <th>Volume</th>\n",
       "    </tr>\n",
       "    <tr>\n",
       "      <th>Date</th>\n",
       "      <th></th>\n",
       "      <th></th>\n",
       "      <th></th>\n",
       "      <th></th>\n",
       "      <th></th>\n",
       "      <th></th>\n",
       "      <th></th>\n",
       "    </tr>\n",
       "  </thead>\n",
       "  <tbody>\n",
       "    <tr>\n",
       "      <th>2015-01-01</th>\n",
       "      <td>2015-01-01</td>\n",
       "      <td>1283.500000</td>\n",
       "      <td>1283.500000</td>\n",
       "      <td>1270.500000</td>\n",
       "      <td>1272.780029</td>\n",
       "      <td>1089.075073</td>\n",
       "      <td>366830.0</td>\n",
       "    </tr>\n",
       "    <tr>\n",
       "      <th>2015-01-02</th>\n",
       "      <td>2015-01-02</td>\n",
       "      <td>1275.500000</td>\n",
       "      <td>1295.469971</td>\n",
       "      <td>1275.300049</td>\n",
       "      <td>1289.719971</td>\n",
       "      <td>1103.570190</td>\n",
       "      <td>925740.0</td>\n",
       "    </tr>\n",
       "    <tr>\n",
       "      <th>2015-01-05</th>\n",
       "      <td>2015-01-05</td>\n",
       "      <td>1290.500000</td>\n",
       "      <td>1299.949951</td>\n",
       "      <td>1262.319946</td>\n",
       "      <td>1270.119995</td>\n",
       "      <td>1086.799072</td>\n",
       "      <td>1754242.0</td>\n",
       "    </tr>\n",
       "    <tr>\n",
       "      <th>2015-01-06</th>\n",
       "      <td>2015-01-06</td>\n",
       "      <td>1264.550049</td>\n",
       "      <td>1264.550049</td>\n",
       "      <td>1220.000000</td>\n",
       "      <td>1223.300049</td>\n",
       "      <td>1046.736816</td>\n",
       "      <td>2423784.0</td>\n",
       "    </tr>\n",
       "    <tr>\n",
       "      <th>2015-01-07</th>\n",
       "      <td>2015-01-07</td>\n",
       "      <td>1235.000000</td>\n",
       "      <td>1239.569946</td>\n",
       "      <td>1203.719971</td>\n",
       "      <td>1208.849976</td>\n",
       "      <td>1034.372314</td>\n",
       "      <td>2636332.0</td>\n",
       "    </tr>\n",
       "    <tr>\n",
       "      <th>...</th>\n",
       "      <td>...</td>\n",
       "      <td>...</td>\n",
       "      <td>...</td>\n",
       "      <td>...</td>\n",
       "      <td>...</td>\n",
       "      <td>...</td>\n",
       "      <td>...</td>\n",
       "    </tr>\n",
       "    <tr>\n",
       "      <th>2019-12-23</th>\n",
       "      <td>2019-12-23</td>\n",
       "      <td>2210.000000</td>\n",
       "      <td>2241.949951</td>\n",
       "      <td>2210.000000</td>\n",
       "      <td>2231.699951</td>\n",
       "      <td>2199.081055</td>\n",
       "      <td>2247329.0</td>\n",
       "    </tr>\n",
       "    <tr>\n",
       "      <th>2019-12-24</th>\n",
       "      <td>2019-12-24</td>\n",
       "      <td>2239.000000</td>\n",
       "      <td>2243.550049</td>\n",
       "      <td>2211.149902</td>\n",
       "      <td>2215.600098</td>\n",
       "      <td>2183.216797</td>\n",
       "      <td>1805896.0</td>\n",
       "    </tr>\n",
       "    <tr>\n",
       "      <th>2019-12-26</th>\n",
       "      <td>2019-12-26</td>\n",
       "      <td>2216.399902</td>\n",
       "      <td>2229.000000</td>\n",
       "      <td>2195.199951</td>\n",
       "      <td>2201.949951</td>\n",
       "      <td>2169.766357</td>\n",
       "      <td>1880367.0</td>\n",
       "    </tr>\n",
       "    <tr>\n",
       "      <th>2019-12-27</th>\n",
       "      <td>2019-12-27</td>\n",
       "      <td>2208.000000</td>\n",
       "      <td>2226.399902</td>\n",
       "      <td>2176.000000</td>\n",
       "      <td>2198.500000</td>\n",
       "      <td>2166.366699</td>\n",
       "      <td>2720261.0</td>\n",
       "    </tr>\n",
       "    <tr>\n",
       "      <th>2019-12-30</th>\n",
       "      <td>2019-12-30</td>\n",
       "      <td>2207.000000</td>\n",
       "      <td>2225.000000</td>\n",
       "      <td>2177.100098</td>\n",
       "      <td>2183.199951</td>\n",
       "      <td>2151.290039</td>\n",
       "      <td>2288830.0</td>\n",
       "    </tr>\n",
       "  </tbody>\n",
       "</table>\n",
       "<p>1229 rows × 7 columns</p>\n",
       "</div>"
      ],
      "text/plain": [
       "                  Date         Open         High          Low        Close  \\\n",
       "Date                                                                         \n",
       "2015-01-01  2015-01-01  1283.500000  1283.500000  1270.500000  1272.780029   \n",
       "2015-01-02  2015-01-02  1275.500000  1295.469971  1275.300049  1289.719971   \n",
       "2015-01-05  2015-01-05  1290.500000  1299.949951  1262.319946  1270.119995   \n",
       "2015-01-06  2015-01-06  1264.550049  1264.550049  1220.000000  1223.300049   \n",
       "2015-01-07  2015-01-07  1235.000000  1239.569946  1203.719971  1208.849976   \n",
       "...                ...          ...          ...          ...          ...   \n",
       "2019-12-23  2019-12-23  2210.000000  2241.949951  2210.000000  2231.699951   \n",
       "2019-12-24  2019-12-24  2239.000000  2243.550049  2211.149902  2215.600098   \n",
       "2019-12-26  2019-12-26  2216.399902  2229.000000  2195.199951  2201.949951   \n",
       "2019-12-27  2019-12-27  2208.000000  2226.399902  2176.000000  2198.500000   \n",
       "2019-12-30  2019-12-30  2207.000000  2225.000000  2177.100098  2183.199951   \n",
       "\n",
       "              Adj Close     Volume  \n",
       "Date                                \n",
       "2015-01-01  1089.075073   366830.0  \n",
       "2015-01-02  1103.570190   925740.0  \n",
       "2015-01-05  1086.799072  1754242.0  \n",
       "2015-01-06  1046.736816  2423784.0  \n",
       "2015-01-07  1034.372314  2636332.0  \n",
       "...                 ...        ...  \n",
       "2019-12-23  2199.081055  2247329.0  \n",
       "2019-12-24  2183.216797  1805896.0  \n",
       "2019-12-26  2169.766357  1880367.0  \n",
       "2019-12-27  2166.366699  2720261.0  \n",
       "2019-12-30  2151.290039  2288830.0  \n",
       "\n",
       "[1229 rows x 7 columns]"
      ]
     },
     "execution_count": 3,
     "metadata": {},
     "output_type": "execute_result"
    }
   ],
   "source": [
    "# set the index\n",
    "\n",
    "df= df.set_index(pd.DatetimeIndex(df['Date']))\n",
    "\n",
    "df"
   ]
  },
  {
   "cell_type": "code",
   "execution_count": 5,
   "id": "7b257b09",
   "metadata": {
    "ExecuteTime": {
     "end_time": "2021-09-04T06:11:02.952677Z",
     "start_time": "2021-09-04T06:11:02.819397Z"
    },
    "scrolled": true
   },
   "outputs": [
    {
     "data": {
      "image/png": "[encoded data removed]",
      "text/plain": [
       "<Figure size 878.4x324 with 1 Axes>"
      ]
     },
     "metadata": {
      "needs_background": "light"
     },
     "output_type": "display_data"
    }
   ],
   "source": [
    "#visualize\n",
    "\n",
    "plt.figure(figsize=(12.2,4.5))\n",
    "plt.title('Share Price', fontsize= 20)\n",
    "plt.plot(df['Close'])\n",
    "plt.xlabel(\"Date\", fontsize= 20)\n",
    "plt.ylabel(\"Share Price\" , fontsize= 20)\n",
    "\n",
    "plt.show()\n"
   ]
  },
  {
   "cell_type": "markdown",
   "id": "4335985b",
   "metadata": {},
   "source": [
    "## calculate the three moving average"
   ]
  },
  {
   "cell_type": "markdown",
   "id": "4e122a39",
   "metadata": {},
   "source": [
    "#### calculate short/fast moving average"
   ]
  },
  {
   "cell_type": "code",
   "execution_count": 6,
   "id": "6208bc93",
   "metadata": {
    "ExecuteTime": {
     "end_time": "2021-09-04T06:12:29.576161Z",
     "start_time": "2021-09-04T06:12:29.568160Z"
    }
   },
   "outputs": [],
   "source": [
    "shortEMA= df.Close.ewm(span=5, adjust=False).mean()"
   ]
  },
  {
   "cell_type": "markdown",
   "id": "d30c59bd",
   "metadata": {},
   "source": [
    "#### calculate middle/Medium moving average"
   ]
  },
  {
   "cell_type": "code",
   "execution_count": 7,
   "id": "529ed3aa",
   "metadata": {
    "ExecuteTime": {
     "end_time": "2021-09-04T06:12:31.596635Z",
     "start_time": "2021-09-04T06:12:31.589080Z"
    }
   },
   "outputs": [],
   "source": [
    "mediumEMA= df.Close.ewm(span=12 , adjust=False).mean()"
   ]
  },
  {
   "cell_type": "markdown",
   "id": "87fa542a",
   "metadata": {},
   "source": [
    "#### calculate Long/slow moving average"
   ]
  },
  {
   "cell_type": "code",
   "execution_count": 8,
   "id": "94c5b770",
   "metadata": {
    "ExecuteTime": {
     "end_time": "2021-09-04T06:12:33.603819Z",
     "start_time": "2021-09-04T06:12:33.586220Z"
    }
   },
   "outputs": [],
   "source": [
    "longEMA= df.Close.ewm(span=21, adjust=False).mean()"
   ]
  },
  {
   "cell_type": "code",
   "execution_count": 9,
   "id": "52ffb733",
   "metadata": {
    "ExecuteTime": {
     "end_time": "2021-09-04T06:12:37.013959Z",
     "start_time": "2021-09-04T06:12:36.873431Z"
    },
    "scrolled": true
   },
   "outputs": [
    {
     "data": {
      "image/png": "[encoded data removed]",
      "text/plain": [
       "<Figure size 878.4x324 with 1 Axes>"
      ]
     },
     "metadata": {
      "needs_background": "light"
     },
     "output_type": "display_data"
    }
   ],
   "source": [
    "plt.figure(figsize=(12.2,4.5))\n",
    "plt.title('Share Price',fontsize= 20)\n",
    "plt.plot(df['Close'])\n",
    "plt.plot(shortEMA, label= 'Short/Fast')\n",
    "plt.plot(mediumEMA, label= 'Medium')\n",
    "plt.plot(longEMA, label = 'Fast')\n",
    "plt.xlabel(\"Date\", fontsize= 20)\n",
    "plt.ylabel(\"Share Price\" , fontsize= 20)\n",
    "\n",
    "plt.show()"
   ]
  },
  {
   "cell_type": "markdown",
   "id": "f627b550",
   "metadata": {},
   "source": [
    "#### add exponential moving average to the data set"
   ]
  },
  {
   "cell_type": "code",
   "execution_count": 10,
   "id": "b321e612",
   "metadata": {
    "ExecuteTime": {
     "end_time": "2021-09-04T06:12:55.665492Z",
     "start_time": "2021-09-04T06:12:55.655846Z"
    }
   },
   "outputs": [],
   "source": [
    "\n",
    "df['Short']  =shortEMA\n",
    "df['Middle'] =mediumEMA\n",
    "df['Long'] = longEMA"
   ]
  },
  {
   "cell_type": "code",
   "execution_count": 11,
   "id": "4352caba",
   "metadata": {
    "ExecuteTime": {
     "end_time": "2021-09-04T06:12:57.632097Z",
     "start_time": "2021-09-04T06:12:57.609558Z"
    }
   },
   "outputs": [
    {
     "data": {
      "text/html": [
       "<div>\n",
       "<style scoped>\n",
       "    .dataframe tbody tr th:only-of-type {\n",
       "        vertical-align: middle;\n",
       "    }\n",
       "\n",
       "    .dataframe tbody tr th {\n",
       "        vertical-align: top;\n",
       "    }\n",
       "\n",
       "    .dataframe thead th {\n",
       "        text-align: right;\n",
       "    }\n",
       "</style>\n",
       "<table border=\"1\" class=\"dataframe\">\n",
       "  <thead>\n",
       "    <tr style=\"text-align: right;\">\n",
       "      <th></th>\n",
       "      <th>Date</th>\n",
       "      <th>Open</th>\n",
       "      <th>High</th>\n",
       "      <th>Low</th>\n",
       "      <th>Close</th>\n",
       "      <th>Adj Close</th>\n",
       "      <th>Volume</th>\n",
       "      <th>Short</th>\n",
       "      <th>Middle</th>\n",
       "      <th>Long</th>\n",
       "    </tr>\n",
       "    <tr>\n",
       "      <th>Date</th>\n",
       "      <th></th>\n",
       "      <th></th>\n",
       "      <th></th>\n",
       "      <th></th>\n",
       "      <th></th>\n",
       "      <th></th>\n",
       "      <th></th>\n",
       "      <th></th>\n",
       "      <th></th>\n",
       "      <th></th>\n",
       "    </tr>\n",
       "  </thead>\n",
       "  <tbody>\n",
       "    <tr>\n",
       "      <th>2015-01-01</th>\n",
       "      <td>2015-01-01</td>\n",
       "      <td>1283.500000</td>\n",
       "      <td>1283.500000</td>\n",
       "      <td>1270.500000</td>\n",
       "      <td>1272.780029</td>\n",
       "      <td>1089.075073</td>\n",
       "      <td>366830.0</td>\n",
       "      <td>1272.780029</td>\n",
       "      <td>1272.780029</td>\n",
       "      <td>1272.780029</td>\n",
       "    </tr>\n",
       "    <tr>\n",
       "      <th>2015-01-02</th>\n",
       "      <td>2015-01-02</td>\n",
       "      <td>1275.500000</td>\n",
       "      <td>1295.469971</td>\n",
       "      <td>1275.300049</td>\n",
       "      <td>1289.719971</td>\n",
       "      <td>1103.570190</td>\n",
       "      <td>925740.0</td>\n",
       "      <td>1278.426676</td>\n",
       "      <td>1275.386174</td>\n",
       "      <td>1274.320024</td>\n",
       "    </tr>\n",
       "    <tr>\n",
       "      <th>2015-01-05</th>\n",
       "      <td>2015-01-05</td>\n",
       "      <td>1290.500000</td>\n",
       "      <td>1299.949951</td>\n",
       "      <td>1262.319946</td>\n",
       "      <td>1270.119995</td>\n",
       "      <td>1086.799072</td>\n",
       "      <td>1754242.0</td>\n",
       "      <td>1275.657783</td>\n",
       "      <td>1274.575993</td>\n",
       "      <td>1273.938203</td>\n",
       "    </tr>\n",
       "    <tr>\n",
       "      <th>2015-01-06</th>\n",
       "      <td>2015-01-06</td>\n",
       "      <td>1264.550049</td>\n",
       "      <td>1264.550049</td>\n",
       "      <td>1220.000000</td>\n",
       "      <td>1223.300049</td>\n",
       "      <td>1046.736816</td>\n",
       "      <td>2423784.0</td>\n",
       "      <td>1258.205205</td>\n",
       "      <td>1266.687386</td>\n",
       "      <td>1269.334734</td>\n",
       "    </tr>\n",
       "    <tr>\n",
       "      <th>2015-01-07</th>\n",
       "      <td>2015-01-07</td>\n",
       "      <td>1235.000000</td>\n",
       "      <td>1239.569946</td>\n",
       "      <td>1203.719971</td>\n",
       "      <td>1208.849976</td>\n",
       "      <td>1034.372314</td>\n",
       "      <td>2636332.0</td>\n",
       "      <td>1241.753462</td>\n",
       "      <td>1257.789323</td>\n",
       "      <td>1263.836120</td>\n",
       "    </tr>\n",
       "    <tr>\n",
       "      <th>...</th>\n",
       "      <td>...</td>\n",
       "      <td>...</td>\n",
       "      <td>...</td>\n",
       "      <td>...</td>\n",
       "      <td>...</td>\n",
       "      <td>...</td>\n",
       "      <td>...</td>\n",
       "      <td>...</td>\n",
       "      <td>...</td>\n",
       "      <td>...</td>\n",
       "    </tr>\n",
       "    <tr>\n",
       "      <th>2019-12-23</th>\n",
       "      <td>2019-12-23</td>\n",
       "      <td>2210.000000</td>\n",
       "      <td>2241.949951</td>\n",
       "      <td>2210.000000</td>\n",
       "      <td>2231.699951</td>\n",
       "      <td>2199.081055</td>\n",
       "      <td>2247329.0</td>\n",
       "      <td>2198.290432</td>\n",
       "      <td>2150.213760</td>\n",
       "      <td>2129.061395</td>\n",
       "    </tr>\n",
       "    <tr>\n",
       "      <th>2019-12-24</th>\n",
       "      <td>2019-12-24</td>\n",
       "      <td>2239.000000</td>\n",
       "      <td>2243.550049</td>\n",
       "      <td>2211.149902</td>\n",
       "      <td>2215.600098</td>\n",
       "      <td>2183.216797</td>\n",
       "      <td>1805896.0</td>\n",
       "      <td>2204.060321</td>\n",
       "      <td>2160.273197</td>\n",
       "      <td>2136.928550</td>\n",
       "    </tr>\n",
       "    <tr>\n",
       "      <th>2019-12-26</th>\n",
       "      <td>2019-12-26</td>\n",
       "      <td>2216.399902</td>\n",
       "      <td>2229.000000</td>\n",
       "      <td>2195.199951</td>\n",
       "      <td>2201.949951</td>\n",
       "      <td>2169.766357</td>\n",
       "      <td>1880367.0</td>\n",
       "      <td>2203.356864</td>\n",
       "      <td>2166.685005</td>\n",
       "      <td>2142.839586</td>\n",
       "    </tr>\n",
       "    <tr>\n",
       "      <th>2019-12-27</th>\n",
       "      <td>2019-12-27</td>\n",
       "      <td>2208.000000</td>\n",
       "      <td>2226.399902</td>\n",
       "      <td>2176.000000</td>\n",
       "      <td>2198.500000</td>\n",
       "      <td>2166.366699</td>\n",
       "      <td>2720261.0</td>\n",
       "      <td>2201.737909</td>\n",
       "      <td>2171.579620</td>\n",
       "      <td>2147.899624</td>\n",
       "    </tr>\n",
       "    <tr>\n",
       "      <th>2019-12-30</th>\n",
       "      <td>2019-12-30</td>\n",
       "      <td>2207.000000</td>\n",
       "      <td>2225.000000</td>\n",
       "      <td>2177.100098</td>\n",
       "      <td>2183.199951</td>\n",
       "      <td>2151.290039</td>\n",
       "      <td>2288830.0</td>\n",
       "      <td>2195.558590</td>\n",
       "      <td>2173.367363</td>\n",
       "      <td>2151.108745</td>\n",
       "    </tr>\n",
       "  </tbody>\n",
       "</table>\n",
       "<p>1229 rows × 10 columns</p>\n",
       "</div>"
      ],
      "text/plain": [
       "                  Date         Open         High          Low        Close  \\\n",
       "Date                                                                         \n",
       "2015-01-01  2015-01-01  1283.500000  1283.500000  1270.500000  1272.780029   \n",
       "2015-01-02  2015-01-02  1275.500000  1295.469971  1275.300049  1289.719971   \n",
       "2015-01-05  2015-01-05  1290.500000  1299.949951  1262.319946  1270.119995   \n",
       "2015-01-06  2015-01-06  1264.550049  1264.550049  1220.000000  1223.300049   \n",
       "2015-01-07  2015-01-07  1235.000000  1239.569946  1203.719971  1208.849976   \n",
       "...                ...          ...          ...          ...          ...   \n",
       "2019-12-23  2019-12-23  2210.000000  2241.949951  2210.000000  2231.699951   \n",
       "2019-12-24  2019-12-24  2239.000000  2243.550049  2211.149902  2215.600098   \n",
       "2019-12-26  2019-12-26  2216.399902  2229.000000  2195.199951  2201.949951   \n",
       "2019-12-27  2019-12-27  2208.000000  2226.399902  2176.000000  2198.500000   \n",
       "2019-12-30  2019-12-30  2207.000000  2225.000000  2177.100098  2183.199951   \n",
       "\n",
       "              Adj Close     Volume        Short       Middle         Long  \n",
       "Date                                                                       \n",
       "2015-01-01  1089.075073   366830.0  1272.780029  1272.780029  1272.780029  \n",
       "2015-01-02  1103.570190   925740.0  1278.426676  1275.386174  1274.320024  \n",
       "2015-01-05  1086.799072  1754242.0  1275.657783  1274.575993  1273.938203  \n",
       "2015-01-06  1046.736816  2423784.0  1258.205205  1266.687386  1269.334734  \n",
       "2015-01-07  1034.372314  2636332.0  1241.753462  1257.789323  1263.836120  \n",
       "...                 ...        ...          ...          ...          ...  \n",
       "2019-12-23  2199.081055  2247329.0  2198.290432  2150.213760  2129.061395  \n",
       "2019-12-24  2183.216797  1805896.0  2204.060321  2160.273197  2136.928550  \n",
       "2019-12-26  2169.766357  1880367.0  2203.356864  2166.685005  2142.839586  \n",
       "2019-12-27  2166.366699  2720261.0  2201.737909  2171.579620  2147.899624  \n",
       "2019-12-30  2151.290039  2288830.0  2195.558590  2173.367363  2151.108745  \n",
       "\n",
       "[1229 rows x 10 columns]"
      ]
     },
     "execution_count": 11,
     "metadata": {},
     "output_type": "execute_result"
    }
   ],
   "source": [
    "df"
   ]
  },
  {
   "cell_type": "markdown",
   "id": "84d23cea",
   "metadata": {},
   "source": [
    "#### creating function to buy and sell the stock"
   ]
  },
  {
   "cell_type": "code",
   "execution_count": 13,
   "id": "7ce3dac0",
   "metadata": {
    "ExecuteTime": {
     "end_time": "2021-09-04T06:13:24.231337Z",
     "start_time": "2021-09-04T06:13:24.221330Z"
    }
   },
   "outputs": [],
   "source": [
    " \n",
    "def buy_sell_funt(data):\n",
    "        buy_list =[]\n",
    "        sell_list = []\n",
    "        flag_long = False\n",
    "        flag_short= False\n",
    "        \n",
    "        for i in range(0, len(data)):\n",
    "            \n",
    "            if data['Middle'][i]< data['Long'][i] and data['Short'][i]< data['Middle'][i] and flag_long == False and flag_short == False:\n",
    "                buy_list.append(data['Close'][i])\n",
    "                sell_list.append(np.nan)\n",
    "                flag_short =True\n",
    "                \n",
    "            elif flag_short == True and data['Short'][i] > data['Middle'][i]:\n",
    "                sell_list.append(data['Close'][i])\n",
    "                buy_list.append(np.nan)\n",
    "                flag_short == False\n",
    "                \n",
    "                \n",
    "                \n",
    "            elif data['Middle'][i] > data['Long'][i] and data['Short'][i]> data['Middle'][i] and flag_long == False and flag_short == False:\n",
    "                buy_list.append(data['Close'][i])\n",
    "                sell_list.append(np.nan)\n",
    "                flag_long =True\n",
    "                \n",
    "            elif flag_long == True and data['Short'][i] < data['Middle'][i]:\n",
    "                sell_list.append(data['Close'][i])\n",
    "                buy_list.append(np.nan)\n",
    "                flag_long ==False\n",
    "                \n",
    "            else:\n",
    "                \n",
    "                buy_list.append(np.nan)\n",
    "                sell_list.append(np.nan)\n",
    "                \n",
    "        return (buy_list, sell_list)        "
   ]
  },
  {
   "cell_type": "markdown",
   "id": "f75677f5",
   "metadata": {},
   "source": [
    "### Add buy sell signals to the data set\n"
   ]
  },
  {
   "cell_type": "code",
   "execution_count": 14,
   "id": "c6d163dc",
   "metadata": {
    "ExecuteTime": {
     "end_time": "2021-09-04T06:13:52.544073Z",
     "start_time": "2021-09-04T06:13:52.466517Z"
    }
   },
   "outputs": [],
   "source": [
    "df['Buy'] = buy_sell_funt(df)[0]\n",
    "\n",
    "df['Sell'] = buy_sell_funt(df)[1]"
   ]
  },
  {
   "cell_type": "code",
   "execution_count": 15,
   "id": "0dd5a8c9",
   "metadata": {
    "ExecuteTime": {
     "end_time": "2021-09-04T06:13:57.325313Z",
     "start_time": "2021-09-04T06:13:57.171761Z"
    },
    "scrolled": true
   },
   "outputs": [
    {
     "data": {
      "image/png": "[encoded data removed]",
      "text/plain": [
       "<Figure size 878.4x324 with 1 Axes>"
      ]
     },
     "metadata": {
      "needs_background": "light"
     },
     "output_type": "display_data"
    }
   ],
   "source": [
    "plt.figure(figsize=(12.2,4.5))\n",
    "plt.title('Buy and sell Plot of TCS Shares',fontsize= 20)\n",
    "plt.plot(df['Close'], label= 'Close Price', color = 'blue', alpha = 0.35)\n",
    "plt.plot(shortEMA, label= 'Short/Fast', color = 'red', alpha = 0.35)\n",
    "plt.plot(mediumEMA, label= 'Medium', color = 'orange', alpha = 0.35)\n",
    "plt.plot(longEMA, label = 'Fast')\n",
    "\n",
    "plt.scatter(df.index,df['Buy'],color= 'green', marker= '^', alpha= 1 )\n",
    "\n",
    "plt.scatter(df.index,df['Sell'],color= 'red', marker= 'v', alpha= 1 )\n",
    "\n",
    "plt.xlabel(\"Date\", fontsize= 20)\n",
    "plt.ylabel(\"Share Price\" , fontsize= 20)\n",
    "\n",
    "plt.show()"
   ]
  }
 ],
 "metadata": {
  "kernelspec": {
   "display_name": "Python 3",
   "language": "python",
   "name": "python3"
  },
  "language_info": {
   "codemirror_mode": {
    "name": "ipython",
    "version": 3
   },
   "file_extension": ".py",
   "mimetype": "text/x-python",
   "name": "python",
   "nbconvert_exporter": "python",
   "pygments_lexer": "ipython3",
   "version": "3.8.8"
  }
 },
 "nbformat": 4,
 "nbformat_minor": 5
}
