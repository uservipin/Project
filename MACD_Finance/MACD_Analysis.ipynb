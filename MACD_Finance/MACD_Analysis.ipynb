{
 "cells": [
  {
   "cell_type": "code",
   "execution_count": 46,
   "id": "97a96285",
   "metadata": {
    "ExecuteTime": {
     "end_time": "2021-09-06T01:37:06.767313Z",
     "start_time": "2021-09-06T01:37:06.761718Z"
    }
   },
   "outputs": [],
   "source": [
    "# import dependencies "
   ]
  },
  {
   "cell_type": "code",
   "execution_count": 2,
   "id": "607495b8",
   "metadata": {
    "ExecuteTime": {
     "end_time": "2021-09-06T03:49:01.247256Z",
     "start_time": "2021-09-06T03:48:59.712687Z"
    },
    "run_control": {
     "marked": true
    }
   },
   "outputs": [],
   "source": [
    "import pandas as pd\n",
    "import numpy as np\n",
    "import matplotlib.pyplot as plt"
   ]
  },
  {
   "cell_type": "code",
   "execution_count": 48,
   "id": "63bfc74e",
   "metadata": {
    "ExecuteTime": {
     "end_time": "2021-09-06T01:37:06.795609Z",
     "start_time": "2021-09-06T01:37:06.779607Z"
    }
   },
   "outputs": [],
   "source": [
    "# Load data "
   ]
  },
  {
   "cell_type": "code",
   "execution_count": 3,
   "id": "5c3e9738",
   "metadata": {
    "ExecuteTime": {
     "end_time": "2021-09-06T03:49:05.785538Z",
     "start_time": "2021-09-06T03:49:05.732218Z"
    },
    "run_control": {
     "marked": true
    }
   },
   "outputs": [
    {
     "data": {
      "text/html": [
       "<div>\n",
       "<style scoped>\n",
       "    .dataframe tbody tr th:only-of-type {\n",
       "        vertical-align: middle;\n",
       "    }\n",
       "\n",
       "    .dataframe tbody tr th {\n",
       "        vertical-align: top;\n",
       "    }\n",
       "\n",
       "    .dataframe thead th {\n",
       "        text-align: right;\n",
       "    }\n",
       "</style>\n",
       "<table border=\"1\" class=\"dataframe\">\n",
       "  <thead>\n",
       "    <tr style=\"text-align: right;\">\n",
       "      <th></th>\n",
       "      <th>Date</th>\n",
       "      <th>Open</th>\n",
       "      <th>High</th>\n",
       "      <th>Low</th>\n",
       "      <th>Close</th>\n",
       "      <th>Adj Close</th>\n",
       "      <th>Volume</th>\n",
       "    </tr>\n",
       "  </thead>\n",
       "  <tbody>\n",
       "    <tr>\n",
       "      <th>0</th>\n",
       "      <td>2015-01-01</td>\n",
       "      <td>489.252014</td>\n",
       "      <td>494.149994</td>\n",
       "      <td>487.026001</td>\n",
       "      <td>493.160004</td>\n",
       "      <td>492.960358</td>\n",
       "      <td>944551.0</td>\n",
       "    </tr>\n",
       "    <tr>\n",
       "      <th>1</th>\n",
       "      <td>2015-01-02</td>\n",
       "      <td>491.972992</td>\n",
       "      <td>511.908997</td>\n",
       "      <td>491.972992</td>\n",
       "      <td>506.368988</td>\n",
       "      <td>506.164001</td>\n",
       "      <td>4193093.0</td>\n",
       "    </tr>\n",
       "    <tr>\n",
       "      <th>2</th>\n",
       "      <td>2015-01-05</td>\n",
       "      <td>504.687012</td>\n",
       "      <td>520.418030</td>\n",
       "      <td>501.322998</td>\n",
       "      <td>518.241028</td>\n",
       "      <td>518.031250</td>\n",
       "      <td>6758676.0</td>\n",
       "    </tr>\n",
       "    <tr>\n",
       "      <th>3</th>\n",
       "      <td>2015-01-06</td>\n",
       "      <td>508.891998</td>\n",
       "      <td>508.891998</td>\n",
       "      <td>493.951996</td>\n",
       "      <td>496.079010</td>\n",
       "      <td>495.878174</td>\n",
       "      <td>7979598.0</td>\n",
       "    </tr>\n",
       "    <tr>\n",
       "      <th>4</th>\n",
       "      <td>2015-01-07</td>\n",
       "      <td>489.747009</td>\n",
       "      <td>495.089996</td>\n",
       "      <td>484.009003</td>\n",
       "      <td>488.609009</td>\n",
       "      <td>488.411194</td>\n",
       "      <td>9232656.0</td>\n",
       "    </tr>\n",
       "    <tr>\n",
       "      <th>...</th>\n",
       "      <td>...</td>\n",
       "      <td>...</td>\n",
       "      <td>...</td>\n",
       "      <td>...</td>\n",
       "      <td>...</td>\n",
       "      <td>...</td>\n",
       "      <td>...</td>\n",
       "    </tr>\n",
       "    <tr>\n",
       "      <th>1224</th>\n",
       "      <td>2019-12-23</td>\n",
       "      <td>176.850006</td>\n",
       "      <td>179.000000</td>\n",
       "      <td>174.149994</td>\n",
       "      <td>176.050003</td>\n",
       "      <td>176.050003</td>\n",
       "      <td>27192195.0</td>\n",
       "    </tr>\n",
       "    <tr>\n",
       "      <th>1225</th>\n",
       "      <td>2019-12-24</td>\n",
       "      <td>177.649994</td>\n",
       "      <td>178.000000</td>\n",
       "      <td>174.649994</td>\n",
       "      <td>175.500000</td>\n",
       "      <td>175.500000</td>\n",
       "      <td>20560311.0</td>\n",
       "    </tr>\n",
       "    <tr>\n",
       "      <th>1226</th>\n",
       "      <td>2019-12-26</td>\n",
       "      <td>175.899994</td>\n",
       "      <td>176.449997</td>\n",
       "      <td>174.100006</td>\n",
       "      <td>174.600006</td>\n",
       "      <td>174.600006</td>\n",
       "      <td>18785333.0</td>\n",
       "    </tr>\n",
       "    <tr>\n",
       "      <th>1227</th>\n",
       "      <td>2019-12-27</td>\n",
       "      <td>176.000000</td>\n",
       "      <td>176.949997</td>\n",
       "      <td>174.850006</td>\n",
       "      <td>176.149994</td>\n",
       "      <td>176.149994</td>\n",
       "      <td>12095797.0</td>\n",
       "    </tr>\n",
       "    <tr>\n",
       "      <th>1228</th>\n",
       "      <td>2019-12-30</td>\n",
       "      <td>177.199997</td>\n",
       "      <td>184.350006</td>\n",
       "      <td>176.300003</td>\n",
       "      <td>183.699997</td>\n",
       "      <td>183.699997</td>\n",
       "      <td>40948394.0</td>\n",
       "    </tr>\n",
       "  </tbody>\n",
       "</table>\n",
       "<p>1229 rows × 7 columns</p>\n",
       "</div>"
      ],
      "text/plain": [
       "            Date        Open        High         Low       Close   Adj Close  \\\n",
       "0     2015-01-01  489.252014  494.149994  487.026001  493.160004  492.960358   \n",
       "1     2015-01-02  491.972992  511.908997  491.972992  506.368988  506.164001   \n",
       "2     2015-01-05  504.687012  520.418030  501.322998  518.241028  518.031250   \n",
       "3     2015-01-06  508.891998  508.891998  493.951996  496.079010  495.878174   \n",
       "4     2015-01-07  489.747009  495.089996  484.009003  488.609009  488.411194   \n",
       "...          ...         ...         ...         ...         ...         ...   \n",
       "1224  2019-12-23  176.850006  179.000000  174.149994  176.050003  176.050003   \n",
       "1225  2019-12-24  177.649994  178.000000  174.649994  175.500000  175.500000   \n",
       "1226  2019-12-26  175.899994  176.449997  174.100006  174.600006  174.600006   \n",
       "1227  2019-12-27  176.000000  176.949997  174.850006  176.149994  176.149994   \n",
       "1228  2019-12-30  177.199997  184.350006  176.300003  183.699997  183.699997   \n",
       "\n",
       "          Volume  \n",
       "0       944551.0  \n",
       "1      4193093.0  \n",
       "2      6758676.0  \n",
       "3      7979598.0  \n",
       "4      9232656.0  \n",
       "...          ...  \n",
       "1224  27192195.0  \n",
       "1225  20560311.0  \n",
       "1226  18785333.0  \n",
       "1227  12095797.0  \n",
       "1228  40948394.0  \n",
       "\n",
       "[1229 rows x 7 columns]"
      ]
     },
     "execution_count": 3,
     "metadata": {},
     "output_type": "execute_result"
    }
   ],
   "source": [
    "df = pd.read_csv('TATAMOTORS.csv')\n",
    "df"
   ]
  },
  {
   "cell_type": "code",
   "execution_count": null,
   "id": "1b94fdcf",
   "metadata": {},
   "outputs": [],
   "source": []
  },
  {
   "cell_type": "code",
   "execution_count": 4,
   "id": "12615ed4",
   "metadata": {
    "ExecuteTime": {
     "end_time": "2021-09-06T03:49:10.276889Z",
     "start_time": "2021-09-06T03:49:10.241780Z"
    },
    "scrolled": true
   },
   "outputs": [
    {
     "data": {
      "text/html": [
       "<div>\n",
       "<style scoped>\n",
       "    .dataframe tbody tr th:only-of-type {\n",
       "        vertical-align: middle;\n",
       "    }\n",
       "\n",
       "    .dataframe tbody tr th {\n",
       "        vertical-align: top;\n",
       "    }\n",
       "\n",
       "    .dataframe thead th {\n",
       "        text-align: right;\n",
       "    }\n",
       "</style>\n",
       "<table border=\"1\" class=\"dataframe\">\n",
       "  <thead>\n",
       "    <tr style=\"text-align: right;\">\n",
       "      <th></th>\n",
       "      <th>Date</th>\n",
       "      <th>Open</th>\n",
       "      <th>High</th>\n",
       "      <th>Low</th>\n",
       "      <th>Close</th>\n",
       "      <th>Adj Close</th>\n",
       "      <th>Volume</th>\n",
       "    </tr>\n",
       "    <tr>\n",
       "      <th>Date</th>\n",
       "      <th></th>\n",
       "      <th></th>\n",
       "      <th></th>\n",
       "      <th></th>\n",
       "      <th></th>\n",
       "      <th></th>\n",
       "      <th></th>\n",
       "    </tr>\n",
       "  </thead>\n",
       "  <tbody>\n",
       "    <tr>\n",
       "      <th>2015-01-01</th>\n",
       "      <td>2015-01-01</td>\n",
       "      <td>489.252014</td>\n",
       "      <td>494.149994</td>\n",
       "      <td>487.026001</td>\n",
       "      <td>493.160004</td>\n",
       "      <td>492.960358</td>\n",
       "      <td>944551.0</td>\n",
       "    </tr>\n",
       "    <tr>\n",
       "      <th>2015-01-02</th>\n",
       "      <td>2015-01-02</td>\n",
       "      <td>491.972992</td>\n",
       "      <td>511.908997</td>\n",
       "      <td>491.972992</td>\n",
       "      <td>506.368988</td>\n",
       "      <td>506.164001</td>\n",
       "      <td>4193093.0</td>\n",
       "    </tr>\n",
       "    <tr>\n",
       "      <th>2015-01-05</th>\n",
       "      <td>2015-01-05</td>\n",
       "      <td>504.687012</td>\n",
       "      <td>520.418030</td>\n",
       "      <td>501.322998</td>\n",
       "      <td>518.241028</td>\n",
       "      <td>518.031250</td>\n",
       "      <td>6758676.0</td>\n",
       "    </tr>\n",
       "    <tr>\n",
       "      <th>2015-01-06</th>\n",
       "      <td>2015-01-06</td>\n",
       "      <td>508.891998</td>\n",
       "      <td>508.891998</td>\n",
       "      <td>493.951996</td>\n",
       "      <td>496.079010</td>\n",
       "      <td>495.878174</td>\n",
       "      <td>7979598.0</td>\n",
       "    </tr>\n",
       "    <tr>\n",
       "      <th>2015-01-07</th>\n",
       "      <td>2015-01-07</td>\n",
       "      <td>489.747009</td>\n",
       "      <td>495.089996</td>\n",
       "      <td>484.009003</td>\n",
       "      <td>488.609009</td>\n",
       "      <td>488.411194</td>\n",
       "      <td>9232656.0</td>\n",
       "    </tr>\n",
       "    <tr>\n",
       "      <th>...</th>\n",
       "      <td>...</td>\n",
       "      <td>...</td>\n",
       "      <td>...</td>\n",
       "      <td>...</td>\n",
       "      <td>...</td>\n",
       "      <td>...</td>\n",
       "      <td>...</td>\n",
       "    </tr>\n",
       "    <tr>\n",
       "      <th>2019-12-23</th>\n",
       "      <td>2019-12-23</td>\n",
       "      <td>176.850006</td>\n",
       "      <td>179.000000</td>\n",
       "      <td>174.149994</td>\n",
       "      <td>176.050003</td>\n",
       "      <td>176.050003</td>\n",
       "      <td>27192195.0</td>\n",
       "    </tr>\n",
       "    <tr>\n",
       "      <th>2019-12-24</th>\n",
       "      <td>2019-12-24</td>\n",
       "      <td>177.649994</td>\n",
       "      <td>178.000000</td>\n",
       "      <td>174.649994</td>\n",
       "      <td>175.500000</td>\n",
       "      <td>175.500000</td>\n",
       "      <td>20560311.0</td>\n",
       "    </tr>\n",
       "    <tr>\n",
       "      <th>2019-12-26</th>\n",
       "      <td>2019-12-26</td>\n",
       "      <td>175.899994</td>\n",
       "      <td>176.449997</td>\n",
       "      <td>174.100006</td>\n",
       "      <td>174.600006</td>\n",
       "      <td>174.600006</td>\n",
       "      <td>18785333.0</td>\n",
       "    </tr>\n",
       "    <tr>\n",
       "      <th>2019-12-27</th>\n",
       "      <td>2019-12-27</td>\n",
       "      <td>176.000000</td>\n",
       "      <td>176.949997</td>\n",
       "      <td>174.850006</td>\n",
       "      <td>176.149994</td>\n",
       "      <td>176.149994</td>\n",
       "      <td>12095797.0</td>\n",
       "    </tr>\n",
       "    <tr>\n",
       "      <th>2019-12-30</th>\n",
       "      <td>2019-12-30</td>\n",
       "      <td>177.199997</td>\n",
       "      <td>184.350006</td>\n",
       "      <td>176.300003</td>\n",
       "      <td>183.699997</td>\n",
       "      <td>183.699997</td>\n",
       "      <td>40948394.0</td>\n",
       "    </tr>\n",
       "  </tbody>\n",
       "</table>\n",
       "<p>1229 rows × 7 columns</p>\n",
       "</div>"
      ],
      "text/plain": [
       "                  Date        Open        High         Low       Close  \\\n",
       "Date                                                                     \n",
       "2015-01-01  2015-01-01  489.252014  494.149994  487.026001  493.160004   \n",
       "2015-01-02  2015-01-02  491.972992  511.908997  491.972992  506.368988   \n",
       "2015-01-05  2015-01-05  504.687012  520.418030  501.322998  518.241028   \n",
       "2015-01-06  2015-01-06  508.891998  508.891998  493.951996  496.079010   \n",
       "2015-01-07  2015-01-07  489.747009  495.089996  484.009003  488.609009   \n",
       "...                ...         ...         ...         ...         ...   \n",
       "2019-12-23  2019-12-23  176.850006  179.000000  174.149994  176.050003   \n",
       "2019-12-24  2019-12-24  177.649994  178.000000  174.649994  175.500000   \n",
       "2019-12-26  2019-12-26  175.899994  176.449997  174.100006  174.600006   \n",
       "2019-12-27  2019-12-27  176.000000  176.949997  174.850006  176.149994   \n",
       "2019-12-30  2019-12-30  177.199997  184.350006  176.300003  183.699997   \n",
       "\n",
       "             Adj Close      Volume  \n",
       "Date                                \n",
       "2015-01-01  492.960358    944551.0  \n",
       "2015-01-02  506.164001   4193093.0  \n",
       "2015-01-05  518.031250   6758676.0  \n",
       "2015-01-06  495.878174   7979598.0  \n",
       "2015-01-07  488.411194   9232656.0  \n",
       "...                ...         ...  \n",
       "2019-12-23  176.050003  27192195.0  \n",
       "2019-12-24  175.500000  20560311.0  \n",
       "2019-12-26  174.600006  18785333.0  \n",
       "2019-12-27  176.149994  12095797.0  \n",
       "2019-12-30  183.699997  40948394.0  \n",
       "\n",
       "[1229 rows x 7 columns]"
      ]
     },
     "execution_count": 4,
     "metadata": {},
     "output_type": "execute_result"
    }
   ],
   "source": [
    "# set the index\n",
    "\n",
    "df= df.set_index(pd.DatetimeIndex(df['Date']))\n",
    "\n",
    "df"
   ]
  },
  {
   "cell_type": "code",
   "execution_count": 5,
   "id": "7b257b09",
   "metadata": {
    "ExecuteTime": {
     "end_time": "2021-09-06T03:49:24.421060Z",
     "start_time": "2021-09-06T03:49:24.152086Z"
    },
    "scrolled": true
   },
   "outputs": [
    {
     "data": {
      "image/png": "[encoded data removed]",
      "text/plain": [
       "<Figure size 878.4x324 with 1 Axes>"
      ]
     },
     "metadata": {
      "needs_background": "light"
     },
     "output_type": "display_data"
    }
   ],
   "source": [
    "#visualize\n",
    "\n",
    "plt.figure(figsize=(12.2,4.5))\n",
    "plt.title('Share Price', fontsize= 20)\n",
    "plt.plot(df['Close'])\n",
    "plt.xlabel(\"Date\", fontsize= 20)\n",
    "plt.ylabel(\"Share Price\" , fontsize= 20)\n",
    "plt.show()"
   ]
  },
  {
   "cell_type": "markdown",
   "id": "4335985b",
   "metadata": {},
   "source": [
    "## calculate the three moving average"
   ]
  },
  {
   "cell_type": "markdown",
   "id": "4e122a39",
   "metadata": {},
   "source": [
    "#### calculate short/fast moving average"
   ]
  },
  {
   "cell_type": "code",
   "execution_count": 8,
   "id": "ebe3f7a9",
   "metadata": {
    "ExecuteTime": {
     "end_time": "2021-09-06T03:50:10.167890Z",
     "start_time": "2021-09-06T03:50:10.135902Z"
    }
   },
   "outputs": [
    {
     "data": {
      "text/html": [
       "<div>\n",
       "<style scoped>\n",
       "    .dataframe tbody tr th:only-of-type {\n",
       "        vertical-align: middle;\n",
       "    }\n",
       "\n",
       "    .dataframe tbody tr th {\n",
       "        vertical-align: top;\n",
       "    }\n",
       "\n",
       "    .dataframe thead th {\n",
       "        text-align: right;\n",
       "    }\n",
       "</style>\n",
       "<table border=\"1\" class=\"dataframe\">\n",
       "  <thead>\n",
       "    <tr style=\"text-align: right;\">\n",
       "      <th></th>\n",
       "      <th>Date</th>\n",
       "      <th>Open</th>\n",
       "      <th>High</th>\n",
       "      <th>Low</th>\n",
       "      <th>Close</th>\n",
       "      <th>Adj Close</th>\n",
       "      <th>Volume</th>\n",
       "    </tr>\n",
       "    <tr>\n",
       "      <th>Date</th>\n",
       "      <th></th>\n",
       "      <th></th>\n",
       "      <th></th>\n",
       "      <th></th>\n",
       "      <th></th>\n",
       "      <th></th>\n",
       "      <th></th>\n",
       "    </tr>\n",
       "  </thead>\n",
       "  <tbody>\n",
       "    <tr>\n",
       "      <th>2015-01-01</th>\n",
       "      <td>2015-01-01</td>\n",
       "      <td>489.252014</td>\n",
       "      <td>494.149994</td>\n",
       "      <td>487.026001</td>\n",
       "      <td>493.160004</td>\n",
       "      <td>492.960358</td>\n",
       "      <td>944551.0</td>\n",
       "    </tr>\n",
       "    <tr>\n",
       "      <th>2015-01-02</th>\n",
       "      <td>2015-01-02</td>\n",
       "      <td>491.972992</td>\n",
       "      <td>511.908997</td>\n",
       "      <td>491.972992</td>\n",
       "      <td>506.368988</td>\n",
       "      <td>506.164001</td>\n",
       "      <td>4193093.0</td>\n",
       "    </tr>\n",
       "    <tr>\n",
       "      <th>2015-01-05</th>\n",
       "      <td>2015-01-05</td>\n",
       "      <td>504.687012</td>\n",
       "      <td>520.418030</td>\n",
       "      <td>501.322998</td>\n",
       "      <td>518.241028</td>\n",
       "      <td>518.031250</td>\n",
       "      <td>6758676.0</td>\n",
       "    </tr>\n",
       "    <tr>\n",
       "      <th>2015-01-06</th>\n",
       "      <td>2015-01-06</td>\n",
       "      <td>508.891998</td>\n",
       "      <td>508.891998</td>\n",
       "      <td>493.951996</td>\n",
       "      <td>496.079010</td>\n",
       "      <td>495.878174</td>\n",
       "      <td>7979598.0</td>\n",
       "    </tr>\n",
       "    <tr>\n",
       "      <th>2015-01-07</th>\n",
       "      <td>2015-01-07</td>\n",
       "      <td>489.747009</td>\n",
       "      <td>495.089996</td>\n",
       "      <td>484.009003</td>\n",
       "      <td>488.609009</td>\n",
       "      <td>488.411194</td>\n",
       "      <td>9232656.0</td>\n",
       "    </tr>\n",
       "    <tr>\n",
       "      <th>...</th>\n",
       "      <td>...</td>\n",
       "      <td>...</td>\n",
       "      <td>...</td>\n",
       "      <td>...</td>\n",
       "      <td>...</td>\n",
       "      <td>...</td>\n",
       "      <td>...</td>\n",
       "    </tr>\n",
       "    <tr>\n",
       "      <th>2019-12-23</th>\n",
       "      <td>2019-12-23</td>\n",
       "      <td>176.850006</td>\n",
       "      <td>179.000000</td>\n",
       "      <td>174.149994</td>\n",
       "      <td>176.050003</td>\n",
       "      <td>176.050003</td>\n",
       "      <td>27192195.0</td>\n",
       "    </tr>\n",
       "    <tr>\n",
       "      <th>2019-12-24</th>\n",
       "      <td>2019-12-24</td>\n",
       "      <td>177.649994</td>\n",
       "      <td>178.000000</td>\n",
       "      <td>174.649994</td>\n",
       "      <td>175.500000</td>\n",
       "      <td>175.500000</td>\n",
       "      <td>20560311.0</td>\n",
       "    </tr>\n",
       "    <tr>\n",
       "      <th>2019-12-26</th>\n",
       "      <td>2019-12-26</td>\n",
       "      <td>175.899994</td>\n",
       "      <td>176.449997</td>\n",
       "      <td>174.100006</td>\n",
       "      <td>174.600006</td>\n",
       "      <td>174.600006</td>\n",
       "      <td>18785333.0</td>\n",
       "    </tr>\n",
       "    <tr>\n",
       "      <th>2019-12-27</th>\n",
       "      <td>2019-12-27</td>\n",
       "      <td>176.000000</td>\n",
       "      <td>176.949997</td>\n",
       "      <td>174.850006</td>\n",
       "      <td>176.149994</td>\n",
       "      <td>176.149994</td>\n",
       "      <td>12095797.0</td>\n",
       "    </tr>\n",
       "    <tr>\n",
       "      <th>2019-12-30</th>\n",
       "      <td>2019-12-30</td>\n",
       "      <td>177.199997</td>\n",
       "      <td>184.350006</td>\n",
       "      <td>176.300003</td>\n",
       "      <td>183.699997</td>\n",
       "      <td>183.699997</td>\n",
       "      <td>40948394.0</td>\n",
       "    </tr>\n",
       "  </tbody>\n",
       "</table>\n",
       "<p>1229 rows × 7 columns</p>\n",
       "</div>"
      ],
      "text/plain": [
       "                  Date        Open        High         Low       Close  \\\n",
       "Date                                                                     \n",
       "2015-01-01  2015-01-01  489.252014  494.149994  487.026001  493.160004   \n",
       "2015-01-02  2015-01-02  491.972992  511.908997  491.972992  506.368988   \n",
       "2015-01-05  2015-01-05  504.687012  520.418030  501.322998  518.241028   \n",
       "2015-01-06  2015-01-06  508.891998  508.891998  493.951996  496.079010   \n",
       "2015-01-07  2015-01-07  489.747009  495.089996  484.009003  488.609009   \n",
       "...                ...         ...         ...         ...         ...   \n",
       "2019-12-23  2019-12-23  176.850006  179.000000  174.149994  176.050003   \n",
       "2019-12-24  2019-12-24  177.649994  178.000000  174.649994  175.500000   \n",
       "2019-12-26  2019-12-26  175.899994  176.449997  174.100006  174.600006   \n",
       "2019-12-27  2019-12-27  176.000000  176.949997  174.850006  176.149994   \n",
       "2019-12-30  2019-12-30  177.199997  184.350006  176.300003  183.699997   \n",
       "\n",
       "             Adj Close      Volume  \n",
       "Date                                \n",
       "2015-01-01  492.960358    944551.0  \n",
       "2015-01-02  506.164001   4193093.0  \n",
       "2015-01-05  518.031250   6758676.0  \n",
       "2015-01-06  495.878174   7979598.0  \n",
       "2015-01-07  488.411194   9232656.0  \n",
       "...                ...         ...  \n",
       "2019-12-23  176.050003  27192195.0  \n",
       "2019-12-24  175.500000  20560311.0  \n",
       "2019-12-26  174.600006  18785333.0  \n",
       "2019-12-27  176.149994  12095797.0  \n",
       "2019-12-30  183.699997  40948394.0  \n",
       "\n",
       "[1229 rows x 7 columns]"
      ]
     },
     "execution_count": 8,
     "metadata": {},
     "output_type": "execute_result"
    }
   ],
   "source": [
    "df"
   ]
  },
  {
   "cell_type": "code",
   "execution_count": 6,
   "id": "6208bc93",
   "metadata": {
    "ExecuteTime": {
     "end_time": "2021-09-06T03:49:26.792159Z",
     "start_time": "2021-09-06T03:49:26.765930Z"
    }
   },
   "outputs": [
    {
     "data": {
      "text/plain": [
       "Date\n",
       "2015-01-01    493.160004\n",
       "2015-01-02    497.562999\n",
       "2015-01-05    504.455675\n",
       "2015-01-06    501.663453\n",
       "2015-01-07    497.311972\n",
       "                 ...    \n",
       "2019-12-23    175.994574\n",
       "2019-12-24    175.829716\n",
       "2019-12-26    175.419813\n",
       "2019-12-27    175.663206\n",
       "2019-12-30    178.342137\n",
       "Name: Close, Length: 1229, dtype: float64"
      ]
     },
     "execution_count": 6,
     "metadata": {},
     "output_type": "execute_result"
    }
   ],
   "source": [
    "shortEMA= df.Close.ewm(span=5, adjust=False).mean()\n",
    "\n",
    "shortEMA"
   ]
  },
  {
   "cell_type": "code",
   "execution_count": 9,
   "id": "99f51c58",
   "metadata": {
    "ExecuteTime": {
     "end_time": "2021-09-06T03:50:55.923203Z",
     "start_time": "2021-09-06T03:50:55.900683Z"
    }
   },
   "outputs": [],
   "source": [
    "mediumEMA= df['Close'].ewm(span=12 , adjust=False).mean()"
   ]
  },
  {
   "cell_type": "markdown",
   "id": "d30c59bd",
   "metadata": {},
   "source": [
    "#### calculate middle/Medium moving average"
   ]
  },
  {
   "cell_type": "code",
   "execution_count": 7,
   "id": "529ed3aa",
   "metadata": {
    "ExecuteTime": {
     "end_time": "2021-09-06T03:49:30.289885Z",
     "start_time": "2021-09-06T03:49:30.279212Z"
    }
   },
   "outputs": [
    {
     "data": {
      "text/plain": [
       "Date\n",
       "2015-01-01    493.160004\n",
       "2015-01-02    495.192155\n",
       "2015-01-05    498.738136\n",
       "2015-01-06    498.329040\n",
       "2015-01-07    496.833650\n",
       "                 ...    \n",
       "2019-12-23    172.932162\n",
       "2019-12-24    173.327214\n",
       "2019-12-26    173.523028\n",
       "2019-12-27    173.927177\n",
       "2019-12-30    175.430688\n",
       "Name: Close, Length: 1229, dtype: float64"
      ]
     },
     "execution_count": 7,
     "metadata": {},
     "output_type": "execute_result"
    }
   ],
   "source": [
    "mediumEMA= df.Close.ewm(span=12 , adjust=False).mean()\n",
    "mediumEMA"
   ]
  },
  {
   "cell_type": "markdown",
   "id": "87fa542a",
   "metadata": {},
   "source": [
    "#### calculate Long/slow moving average"
   ]
  },
  {
   "cell_type": "code",
   "execution_count": 54,
   "id": "94c5b770",
   "metadata": {
    "ExecuteTime": {
     "end_time": "2021-09-06T01:37:07.138691Z",
     "start_time": "2021-09-06T01:37:07.122703Z"
    }
   },
   "outputs": [
    {
     "data": {
      "text/plain": [
       "Date\n",
       "2015-01-01    493.160004\n",
       "2015-01-02    494.360821\n",
       "2015-01-05    496.531749\n",
       "2015-01-06    496.490591\n",
       "2015-01-07    495.774083\n",
       "                 ...    \n",
       "2019-12-23    169.872178\n",
       "2019-12-24    170.383798\n",
       "2019-12-26    170.767090\n",
       "2019-12-27    171.256445\n",
       "2019-12-30    172.387677\n",
       "Name: Close, Length: 1229, dtype: float64"
      ]
     },
     "execution_count": 54,
     "metadata": {},
     "output_type": "execute_result"
    }
   ],
   "source": [
    "longEMA= df.Close.ewm(span=21, adjust=False).mean()\n",
    "longEMA"
   ]
  },
  {
   "cell_type": "code",
   "execution_count": 55,
   "id": "52ffb733",
   "metadata": {
    "ExecuteTime": {
     "end_time": "2021-09-06T01:37:07.403994Z",
     "start_time": "2021-09-06T01:37:07.138691Z"
    },
    "scrolled": true
   },
   "outputs": [
    {
     "data": {
      "image/png": "[encoded data removed]",
      "text/plain": [
       "<Figure size 878.4x324 with 1 Axes>"
      ]
     },
     "metadata": {
      "needs_background": "light"
     },
     "output_type": "display_data"
    }
   ],
   "source": [
    "plt.figure(figsize=(12.2,4.5))\n",
    "plt.title('Share Price',fontsize= 20)\n",
    "plt.plot(df['Close'])\n",
    "plt.plot(shortEMA, label= 'Short/Fast')\n",
    "plt.plot(mediumEMA, label= 'Medium')\n",
    "plt.plot(longEMA, label = 'Fast')\n",
    "plt.xlabel(\"Date\", fontsize= 20)\n",
    "plt.ylabel(\"Share Price\" , fontsize= 20)\n",
    "\n",
    "plt.show()"
   ]
  },
  {
   "cell_type": "markdown",
   "id": "f627b550",
   "metadata": {},
   "source": [
    "#### add exponential moving average to the data set"
   ]
  },
  {
   "cell_type": "code",
   "execution_count": 56,
   "id": "b321e612",
   "metadata": {
    "ExecuteTime": {
     "end_time": "2021-09-06T01:37:07.440760Z",
     "start_time": "2021-09-06T01:37:07.403994Z"
    }
   },
   "outputs": [],
   "source": [
    "\n",
    "df['Short']  =shortEMA\n",
    "df['Middle'] =mediumEMA\n",
    "df['Long'] = longEMA"
   ]
  },
  {
   "cell_type": "code",
   "execution_count": 57,
   "id": "4352caba",
   "metadata": {
    "ExecuteTime": {
     "end_time": "2021-09-06T01:37:07.488765Z",
     "start_time": "2021-09-06T01:37:07.440760Z"
    }
   },
   "outputs": [
    {
     "data": {
      "text/html": [
       "<div>\n",
       "<style scoped>\n",
       "    .dataframe tbody tr th:only-of-type {\n",
       "        vertical-align: middle;\n",
       "    }\n",
       "\n",
       "    .dataframe tbody tr th {\n",
       "        vertical-align: top;\n",
       "    }\n",
       "\n",
       "    .dataframe thead th {\n",
       "        text-align: right;\n",
       "    }\n",
       "</style>\n",
       "<table border=\"1\" class=\"dataframe\">\n",
       "  <thead>\n",
       "    <tr style=\"text-align: right;\">\n",
       "      <th></th>\n",
       "      <th>Date</th>\n",
       "      <th>Open</th>\n",
       "      <th>High</th>\n",
       "      <th>Low</th>\n",
       "      <th>Close</th>\n",
       "      <th>Adj Close</th>\n",
       "      <th>Volume</th>\n",
       "      <th>Short</th>\n",
       "      <th>Middle</th>\n",
       "      <th>Long</th>\n",
       "    </tr>\n",
       "    <tr>\n",
       "      <th>Date</th>\n",
       "      <th></th>\n",
       "      <th></th>\n",
       "      <th></th>\n",
       "      <th></th>\n",
       "      <th></th>\n",
       "      <th></th>\n",
       "      <th></th>\n",
       "      <th></th>\n",
       "      <th></th>\n",
       "      <th></th>\n",
       "    </tr>\n",
       "  </thead>\n",
       "  <tbody>\n",
       "    <tr>\n",
       "      <th>2015-01-01</th>\n",
       "      <td>2015-01-01</td>\n",
       "      <td>489.252014</td>\n",
       "      <td>494.149994</td>\n",
       "      <td>487.026001</td>\n",
       "      <td>493.160004</td>\n",
       "      <td>492.960358</td>\n",
       "      <td>944551.0</td>\n",
       "      <td>493.160004</td>\n",
       "      <td>493.160004</td>\n",
       "      <td>493.160004</td>\n",
       "    </tr>\n",
       "    <tr>\n",
       "      <th>2015-01-02</th>\n",
       "      <td>2015-01-02</td>\n",
       "      <td>491.972992</td>\n",
       "      <td>511.908997</td>\n",
       "      <td>491.972992</td>\n",
       "      <td>506.368988</td>\n",
       "      <td>506.164001</td>\n",
       "      <td>4193093.0</td>\n",
       "      <td>497.562999</td>\n",
       "      <td>495.192155</td>\n",
       "      <td>494.360821</td>\n",
       "    </tr>\n",
       "    <tr>\n",
       "      <th>2015-01-05</th>\n",
       "      <td>2015-01-05</td>\n",
       "      <td>504.687012</td>\n",
       "      <td>520.418030</td>\n",
       "      <td>501.322998</td>\n",
       "      <td>518.241028</td>\n",
       "      <td>518.031250</td>\n",
       "      <td>6758676.0</td>\n",
       "      <td>504.455675</td>\n",
       "      <td>498.738136</td>\n",
       "      <td>496.531749</td>\n",
       "    </tr>\n",
       "    <tr>\n",
       "      <th>2015-01-06</th>\n",
       "      <td>2015-01-06</td>\n",
       "      <td>508.891998</td>\n",
       "      <td>508.891998</td>\n",
       "      <td>493.951996</td>\n",
       "      <td>496.079010</td>\n",
       "      <td>495.878174</td>\n",
       "      <td>7979598.0</td>\n",
       "      <td>501.663453</td>\n",
       "      <td>498.329040</td>\n",
       "      <td>496.490591</td>\n",
       "    </tr>\n",
       "    <tr>\n",
       "      <th>2015-01-07</th>\n",
       "      <td>2015-01-07</td>\n",
       "      <td>489.747009</td>\n",
       "      <td>495.089996</td>\n",
       "      <td>484.009003</td>\n",
       "      <td>488.609009</td>\n",
       "      <td>488.411194</td>\n",
       "      <td>9232656.0</td>\n",
       "      <td>497.311972</td>\n",
       "      <td>496.833650</td>\n",
       "      <td>495.774083</td>\n",
       "    </tr>\n",
       "    <tr>\n",
       "      <th>...</th>\n",
       "      <td>...</td>\n",
       "      <td>...</td>\n",
       "      <td>...</td>\n",
       "      <td>...</td>\n",
       "      <td>...</td>\n",
       "      <td>...</td>\n",
       "      <td>...</td>\n",
       "      <td>...</td>\n",
       "      <td>...</td>\n",
       "      <td>...</td>\n",
       "    </tr>\n",
       "    <tr>\n",
       "      <th>2019-12-23</th>\n",
       "      <td>2019-12-23</td>\n",
       "      <td>176.850006</td>\n",
       "      <td>179.000000</td>\n",
       "      <td>174.149994</td>\n",
       "      <td>176.050003</td>\n",
       "      <td>176.050003</td>\n",
       "      <td>27192195.0</td>\n",
       "      <td>175.994574</td>\n",
       "      <td>172.932162</td>\n",
       "      <td>169.872178</td>\n",
       "    </tr>\n",
       "    <tr>\n",
       "      <th>2019-12-24</th>\n",
       "      <td>2019-12-24</td>\n",
       "      <td>177.649994</td>\n",
       "      <td>178.000000</td>\n",
       "      <td>174.649994</td>\n",
       "      <td>175.500000</td>\n",
       "      <td>175.500000</td>\n",
       "      <td>20560311.0</td>\n",
       "      <td>175.829716</td>\n",
       "      <td>173.327214</td>\n",
       "      <td>170.383798</td>\n",
       "    </tr>\n",
       "    <tr>\n",
       "      <th>2019-12-26</th>\n",
       "      <td>2019-12-26</td>\n",
       "      <td>175.899994</td>\n",
       "      <td>176.449997</td>\n",
       "      <td>174.100006</td>\n",
       "      <td>174.600006</td>\n",
       "      <td>174.600006</td>\n",
       "      <td>18785333.0</td>\n",
       "      <td>175.419813</td>\n",
       "      <td>173.523028</td>\n",
       "      <td>170.767090</td>\n",
       "    </tr>\n",
       "    <tr>\n",
       "      <th>2019-12-27</th>\n",
       "      <td>2019-12-27</td>\n",
       "      <td>176.000000</td>\n",
       "      <td>176.949997</td>\n",
       "      <td>174.850006</td>\n",
       "      <td>176.149994</td>\n",
       "      <td>176.149994</td>\n",
       "      <td>12095797.0</td>\n",
       "      <td>175.663206</td>\n",
       "      <td>173.927177</td>\n",
       "      <td>171.256445</td>\n",
       "    </tr>\n",
       "    <tr>\n",
       "      <th>2019-12-30</th>\n",
       "      <td>2019-12-30</td>\n",
       "      <td>177.199997</td>\n",
       "      <td>184.350006</td>\n",
       "      <td>176.300003</td>\n",
       "      <td>183.699997</td>\n",
       "      <td>183.699997</td>\n",
       "      <td>40948394.0</td>\n",
       "      <td>178.342137</td>\n",
       "      <td>175.430688</td>\n",
       "      <td>172.387677</td>\n",
       "    </tr>\n",
       "  </tbody>\n",
       "</table>\n",
       "<p>1229 rows × 10 columns</p>\n",
       "</div>"
      ],
      "text/plain": [
       "                  Date        Open        High         Low       Close  \\\n",
       "Date                                                                     \n",
       "2015-01-01  2015-01-01  489.252014  494.149994  487.026001  493.160004   \n",
       "2015-01-02  2015-01-02  491.972992  511.908997  491.972992  506.368988   \n",
       "2015-01-05  2015-01-05  504.687012  520.418030  501.322998  518.241028   \n",
       "2015-01-06  2015-01-06  508.891998  508.891998  493.951996  496.079010   \n",
       "2015-01-07  2015-01-07  489.747009  495.089996  484.009003  488.609009   \n",
       "...                ...         ...         ...         ...         ...   \n",
       "2019-12-23  2019-12-23  176.850006  179.000000  174.149994  176.050003   \n",
       "2019-12-24  2019-12-24  177.649994  178.000000  174.649994  175.500000   \n",
       "2019-12-26  2019-12-26  175.899994  176.449997  174.100006  174.600006   \n",
       "2019-12-27  2019-12-27  176.000000  176.949997  174.850006  176.149994   \n",
       "2019-12-30  2019-12-30  177.199997  184.350006  176.300003  183.699997   \n",
       "\n",
       "             Adj Close      Volume       Short      Middle        Long  \n",
       "Date                                                                    \n",
       "2015-01-01  492.960358    944551.0  493.160004  493.160004  493.160004  \n",
       "2015-01-02  506.164001   4193093.0  497.562999  495.192155  494.360821  \n",
       "2015-01-05  518.031250   6758676.0  504.455675  498.738136  496.531749  \n",
       "2015-01-06  495.878174   7979598.0  501.663453  498.329040  496.490591  \n",
       "2015-01-07  488.411194   9232656.0  497.311972  496.833650  495.774083  \n",
       "...                ...         ...         ...         ...         ...  \n",
       "2019-12-23  176.050003  27192195.0  175.994574  172.932162  169.872178  \n",
       "2019-12-24  175.500000  20560311.0  175.829716  173.327214  170.383798  \n",
       "2019-12-26  174.600006  18785333.0  175.419813  173.523028  170.767090  \n",
       "2019-12-27  176.149994  12095797.0  175.663206  173.927177  171.256445  \n",
       "2019-12-30  183.699997  40948394.0  178.342137  175.430688  172.387677  \n",
       "\n",
       "[1229 rows x 10 columns]"
      ]
     },
     "execution_count": 57,
     "metadata": {},
     "output_type": "execute_result"
    }
   ],
   "source": [
    "df\n"
   ]
  },
  {
   "cell_type": "markdown",
   "id": "84d23cea",
   "metadata": {},
   "source": [
    "#### creating function to buy and sell the stock"
   ]
  },
  {
   "cell_type": "code",
   "execution_count": 58,
   "id": "7ce3dac0",
   "metadata": {
    "ExecuteTime": {
     "end_time": "2021-09-06T01:37:07.512768Z",
     "start_time": "2021-09-06T01:37:07.488765Z"
    }
   },
   "outputs": [],
   "source": [
    " \n",
    "def buy_sell_funt(data):\n",
    "        buy_list =[]\n",
    "        sell_list = []\n",
    "        flag_long = False\n",
    "        flag_short= False\n",
    "        \n",
    "        for i in range(0, len(data)):\n",
    "            \n",
    "            if data['Middle'][i]< data['Long'][i] and data['Short'][i]< data['Middle'][i] and flag_long == False and flag_short == False:\n",
    "                buy_list.append(data['Close'][i])\n",
    "                sell_list.append(np.nan)\n",
    "                flag_short =True\n",
    "                \n",
    "            elif flag_short == True and data['Short'][i] > data['Middle'][i]:\n",
    "                sell_list.append(data['Close'][i])\n",
    "                buy_list.append(np.nan)\n",
    "                flag_short == False\n",
    "                \n",
    "                \n",
    "                \n",
    "            elif data['Middle'][i] > data['Long'][i] and data['Short'][i]> data['Middle'][i] and flag_long == False and flag_short == False:\n",
    "                buy_list.append(data['Close'][i])\n",
    "                sell_list.append(np.nan)\n",
    "                flag_long =True\n",
    "                \n",
    "            elif flag_long == True and data['Short'][i] < data['Middle'][i]:\n",
    "                sell_list.append(data['Close'][i])\n",
    "                buy_list.append(np.nan)\n",
    "                flag_long ==False\n",
    "                \n",
    "            else:\n",
    "                \n",
    "                buy_list.append(np.nan)\n",
    "                sell_list.append(np.nan)\n",
    "                \n",
    "        return (buy_list, sell_list)        "
   ]
  },
  {
   "cell_type": "markdown",
   "id": "f75677f5",
   "metadata": {},
   "source": [
    "### Add buy sell signals to the data set\n"
   ]
  },
  {
   "cell_type": "code",
   "execution_count": 59,
   "id": "c6d163dc",
   "metadata": {
    "ExecuteTime": {
     "end_time": "2021-09-06T01:37:07.744793Z",
     "start_time": "2021-09-06T01:37:07.512768Z"
    }
   },
   "outputs": [],
   "source": [
    "df['Buy'] = buy_sell_funt(df)[0]\n",
    "\n",
    "df['Sell'] = buy_sell_funt(df)[1]"
   ]
  },
  {
   "cell_type": "code",
   "execution_count": 60,
   "id": "0dd5a8c9",
   "metadata": {
    "ExecuteTime": {
     "end_time": "2021-09-06T01:37:08.021699Z",
     "start_time": "2021-09-06T01:37:07.744793Z"
    },
    "scrolled": true
   },
   "outputs": [
    {
     "data": {
      "image/png": "[encoded data removed]",
      "text/plain": [
       "<Figure size 878.4x324 with 1 Axes>"
      ]
     },
     "metadata": {
      "needs_background": "light"
     },
     "output_type": "display_data"
    }
   ],
   "source": [
    "plt.figure(figsize=(12.2,4.5))\n",
    "plt.title('Buy and sell Plot of TATA MOTERS Shares',fontsize= 20)\n",
    "plt.plot(df['Close'], label= 'Close Price', color = 'blue', alpha = 0.35)\n",
    "plt.plot(shortEMA, label= 'Short/Fast', color = 'red', alpha = 0.35)\n",
    "plt.plot(mediumEMA, label= 'Medium', color = 'orange', alpha = 0.35)\n",
    "plt.plot(longEMA, label = 'Fast')\n",
    "\n",
    "plt.scatter(df.index,df['Buy'],color= 'green', marker= '^', alpha= 1 )\n",
    "\n",
    "plt.scatter(df.index,df['Sell'],color= 'red', marker= 'v', alpha= 1 )\n",
    "\n",
    "plt.xlabel(\"Date\", fontsize= 20)\n",
    "plt.ylabel(\"Share Price\" , fontsize= 20)\n",
    "\n",
    "plt.show()"
   ]
  }
 ],
 "metadata": {
  "kernelspec": {
   "display_name": "Python 3",
   "language": "python",
   "name": "python3"
  },
  "language_info": {
   "codemirror_mode": {
    "name": "ipython",
    "version": 3
   },
   "file_extension": ".py",
   "mimetype": "text/x-python",
   "name": "python",
   "nbconvert_exporter": "python",
   "pygments_lexer": "ipython3",
   "version": "3.8.8"
  }
 },
 "nbformat": 4,
 "nbformat_minor": 5
}
