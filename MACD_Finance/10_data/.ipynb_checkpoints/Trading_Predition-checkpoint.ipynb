{
 "cells": [
  {
   "cell_type": "markdown",
   "id": "7fd4f7c7",
   "metadata": {},
   "source": [
    "### pynse"
   ]
  },
  {
   "cell_type": "markdown",
   "id": "c7265e0b",
   "metadata": {
    "ExecuteTime": {
     "end_time": "2021-09-05T05:56:09.506220Z",
     "start_time": "2021-09-05T05:56:09.497689Z"
    }
   },
   "source": [
    "#### install pynse"
   ]
  },
  {
   "cell_type": "code",
   "execution_count": 2,
   "id": "01f00bfc",
   "metadata": {
    "ExecuteTime": {
     "end_time": "2021-09-05T06:05:35.415342Z",
     "start_time": "2021-09-05T06:05:33.490463Z"
    },
    "scrolled": false
   },
   "outputs": [
    {
     "name": "stdout",
     "output_type": "stream",
     "text": [
      "Requirement already satisfied: nsepy in c:\\users\\kumar\\anaconda3\\lib\\site-packages (0.8)\n",
      "Requirement already satisfied: click in c:\\users\\kumar\\anaconda3\\lib\\site-packages (from nsepy) (7.1.2)\n",
      "Requirement already satisfied: pandas in c:\\users\\kumar\\anaconda3\\lib\\site-packages (from nsepy) (1.2.4)\n",
      "Requirement already satisfied: six in c:\\users\\kumar\\anaconda3\\lib\\site-packages (from nsepy) (1.15.0)\n",
      "Requirement already satisfied: requests in c:\\users\\kumar\\anaconda3\\lib\\site-packages (from nsepy) (2.25.1)\n",
      "Requirement already satisfied: lxml in c:\\users\\kumar\\anaconda3\\lib\\site-packages (from nsepy) (4.6.3)\n",
      "Requirement already satisfied: beautifulsoup4 in c:\\users\\kumar\\anaconda3\\lib\\site-packages (from nsepy) (4.9.3)\n",
      "Requirement already satisfied: numpy in c:\\users\\kumar\\anaconda3\\lib\\site-packages (from nsepy) (1.20.1)\n",
      "Requirement already satisfied: soupsieve>1.2 in c:\\users\\kumar\\anaconda3\\lib\\site-packages (from beautifulsoup4->nsepy) (2.2.1)\n",
      "Requirement already satisfied: python-dateutil>=2.7.3 in c:\\users\\kumar\\anaconda3\\lib\\site-packages (from pandas->nsepy) (2.8.1)\n",
      "Requirement already satisfied: pytz>=2017.3 in c:\\users\\kumar\\anaconda3\\lib\\site-packages (from pandas->nsepy) (2021.1)\n",
      "Requirement already satisfied: certifi>=2017.4.17 in c:\\users\\kumar\\anaconda3\\lib\\site-packages (from requests->nsepy) (2020.12.5)\n",
      "Requirement already satisfied: urllib3<1.27,>=1.21.1 in c:\\users\\kumar\\anaconda3\\lib\\site-packages (from requests->nsepy) (1.26.4)\n",
      "Requirement already satisfied: idna<3,>=2.5 in c:\\users\\kumar\\anaconda3\\lib\\site-packages (from requests->nsepy) (2.10)\n",
      "Requirement already satisfied: chardet<5,>=3.0.2 in c:\\users\\kumar\\anaconda3\\lib\\site-packages (from requests->nsepy) (4.0.0)\n",
      "Note: you may need to restart the kernel to use updated packages.\n"
     ]
    }
   ],
   "source": [
    "pip install nsepy"
   ]
  },
  {
   "cell_type": "code",
   "execution_count": 3,
   "id": "f7687dfb",
   "metadata": {
    "ExecuteTime": {
     "end_time": "2021-09-05T06:05:43.677007Z",
     "start_time": "2021-09-05T06:05:42.566762Z"
    }
   },
   "outputs": [],
   "source": [
    "from nsepy import * \n",
    "import datetime\n",
    "import logging\n",
    "\n",
    "# config logging\n",
    "\n",
    "logging.basicConfig(level=logging.DEBUG)\n"
   ]
  },
  {
   "cell_type": "code",
   "execution_count": 8,
   "id": "0ba6aac6",
   "metadata": {
    "ExecuteTime": {
     "end_time": "2021-09-05T06:21:25.128629Z",
     "start_time": "2021-09-05T06:21:25.096609Z"
    }
   },
   "outputs": [],
   "source": [
    "from pynse import *"
   ]
  },
  {
   "cell_type": "code",
   "execution_count": 10,
   "id": "0c7d9f1b",
   "metadata": {
    "ExecuteTime": {
     "end_time": "2021-09-05T06:21:44.658055Z",
     "start_time": "2021-09-05T06:21:44.626071Z"
    },
    "scrolled": true
   },
   "outputs": [
    {
     "name": "stderr",
     "output_type": "stream",
     "text": [
      "INFO:pynse.core:pyNse cache size: (43.79, 'KB').\n",
      "You may want to run `nse.clear_data()` if running low on disk space.\n"
     ]
    }
   ],
   "source": [
    "# init nse \n",
    "\n",
    "nse = Nse()"
   ]
  },
  {
   "cell_type": "code",
   "execution_count": null,
   "id": "ba5ec587",
   "metadata": {},
   "outputs": [],
   "source": [
    "Return market status "
   ]
  },
  {
   "cell_type": "code",
   "execution_count": 11,
   "id": "6855d267",
   "metadata": {
    "ExecuteTime": {
     "end_time": "2021-09-05T06:23:02.661311Z",
     "start_time": "2021-09-05T06:23:01.571302Z"
    },
    "scrolled": true
   },
   "outputs": [
    {
     "name": "stderr",
     "output_type": "stream",
     "text": [
      "INFO:pynse.core:downloading market status\n",
      "DEBUG:urllib3.connectionpool:Starting new HTTPS connection (1): www.nseindia.com:443\n",
      "DEBUG:urllib3.connectionpool:https://www.nseindia.com:443 \"GET / HTTP/1.1\" 200 40954\n",
      "DEBUG:urllib3.connectionpool:https://www.nseindia.com:443 \"GET /api/marketStatus HTTP/1.1\" 200 222\n"
     ]
    },
    {
     "data": {
      "text/plain": [
       "{'marketState': [{'market': 'Capital Market',\n",
       "   'marketStatus': 'Close',\n",
       "   'tradeDate': '06-Sep-2021',\n",
       "   'index': 'NIFTY 50',\n",
       "   'last': 17323.6,\n",
       "   'variation': 89.44999999999709,\n",
       "   'percentChange': 0.52,\n",
       "   'marketStatusMessage': 'Market is Closed'},\n",
       "  {'market': 'Currency',\n",
       "   'marketStatus': 'Close',\n",
       "   'tradeDate': '06-Sep-2021',\n",
       "   'index': '',\n",
       "   'last': '',\n",
       "   'variation': '',\n",
       "   'percentChange': '',\n",
       "   'marketStatusMessage': 'Market is Closed'},\n",
       "  {'market': 'Commodity',\n",
       "   'marketStatus': 'Close',\n",
       "   'tradeDate': '06-Sep-2021',\n",
       "   'index': '',\n",
       "   'last': '',\n",
       "   'variation': '',\n",
       "   'percentChange': '',\n",
       "   'marketStatusMessage': 'Market is Closed'},\n",
       "  {'market': 'Debt',\n",
       "   'marketStatus': 'Close',\n",
       "   'tradeDate': '06-Sep-2021',\n",
       "   'index': '',\n",
       "   'last': '',\n",
       "   'variation': '',\n",
       "   'percentChange': '',\n",
       "   'marketStatusMessage': 'Market is Closed'}]}"
      ]
     },
     "execution_count": 11,
     "metadata": {},
     "output_type": "execute_result"
    }
   ],
   "source": [
    "nse.market_status()"
   ]
  },
  {
   "cell_type": "code",
   "execution_count": 12,
   "id": "006881fc",
   "metadata": {
    "ExecuteTime": {
     "end_time": "2021-09-05T06:23:50.481833Z",
     "start_time": "2021-09-05T06:23:49.878650Z"
    },
    "scrolled": true
   },
   "outputs": [
    {
     "name": "stderr",
     "output_type": "stream",
     "text": [
      "INFO:pynse.core:downloading symbol info for SBIN\n",
      "DEBUG:urllib3.connectionpool:Starting new HTTPS connection (1): www.nseindia.com:443\n",
      "DEBUG:urllib3.connectionpool:https://www.nseindia.com:443 \"GET / HTTP/1.1\" 200 40945\n",
      "DEBUG:urllib3.connectionpool:https://www.nseindia.com:443 \"GET /api/equity-meta-info?symbol=SBIN HTTP/1.1\" 200 209\n"
     ]
    },
    {
     "data": {
      "text/plain": [
       "{'symbol': 'SBIN',\n",
       " 'companyName': 'State Bank of India',\n",
       " 'industry': 'BANKS',\n",
       " 'activeSeries': ['EQ'],\n",
       " 'debtSeries': [],\n",
       " 'tempSuspendedSeries': ['IL', 'N1', 'N2', 'N3', 'N4', 'N5', 'N6'],\n",
       " 'isFNOSec': True,\n",
       " 'isCASec': False,\n",
       " 'isSLBSec': True,\n",
       " 'isDebtSec': False,\n",
       " 'isSuspended': False,\n",
       " 'isETFSec': False,\n",
       " 'isDelisted': False,\n",
       " 'isin': 'INE062A08066'}"
      ]
     },
     "execution_count": 12,
     "metadata": {},
     "output_type": "execute_result"
    }
   ],
   "source": [
    "nse.info('SBIN')"
   ]
  },
  {
   "cell_type": "code",
   "execution_count": null,
   "id": "d7a67324",
   "metadata": {},
   "outputs": [],
   "source": []
  },
  {
   "cell_type": "markdown",
   "id": "b03d4bf5",
   "metadata": {},
   "source": [
    "# Bhavcopy"
   ]
  },
  {
   "cell_type": "code",
   "execution_count": null,
   "id": "ac71f227",
   "metadata": {},
   "outputs": [],
   "source": []
  },
  {
   "cell_type": "code",
   "execution_count": null,
   "id": "878fca0e",
   "metadata": {},
   "outputs": [],
   "source": []
  }
 ],
 "metadata": {
  "kernelspec": {
   "display_name": "Python 3",
   "language": "python",
   "name": "python3"
  },
  "language_info": {
   "codemirror_mode": {
    "name": "ipython",
    "version": 3
   },
   "file_extension": ".py",
   "mimetype": "text/x-python",
   "name": "python",
   "nbconvert_exporter": "python",
   "pygments_lexer": "ipython3",
   "version": "3.8.8"
  }
 },
 "nbformat": 4,
 "nbformat_minor": 5
}
