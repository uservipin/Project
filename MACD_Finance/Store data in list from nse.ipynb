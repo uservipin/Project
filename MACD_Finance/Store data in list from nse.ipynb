{
 "cells": [
  {
   "cell_type": "code",
   "execution_count": null,
   "id": "ceac1072",
   "metadata": {},
   "outputs": [],
   "source": [
    "Append sharemarket data in list"
   ]
  },
  {
   "cell_type": "code",
   "execution_count": null,
   "id": "b9ada063",
   "metadata": {},
   "outputs": [],
   "source": [
    "list_of_data= []\n",
    "for i in dict_of_data_set:\n",
    "    list_of_data.append(nse.get_hist(i, years_ago,datetime.date.today()))\n",
    "list_of_data"
   ]
  },
  {
   "cell_type": "code",
   "execution_count": null,
   "id": "6438519e",
   "metadata": {},
   "outputs": [],
   "source": []
  },
  {
   "cell_type": "code",
   "execution_count": null,
   "id": "993f7ee5",
   "metadata": {},
   "outputs": [],
   "source": [
    "dict_of_data_set = {}\n",
    "for i in list_of_top_10_share:\n",
    "    print(i)\n",
    "    dict_of_data_set[i]= nse.get_hist(i, years_ago,datetime.date.today())\n",
    "    \n",
    "dict_of_data_set"
   ]
  }
 ],
 "metadata": {
  "kernelspec": {
   "display_name": "Python 3",
   "language": "python",
   "name": "python3"
  },
  "language_info": {
   "codemirror_mode": {
    "name": "ipython",
    "version": 3
   },
   "file_extension": ".py",
   "mimetype": "text/x-python",
   "name": "python",
   "nbconvert_exporter": "python",
   "pygments_lexer": "ipython3",
   "version": "3.8.8"
  }
 },
 "nbformat": 4,
 "nbformat_minor": 5
}
