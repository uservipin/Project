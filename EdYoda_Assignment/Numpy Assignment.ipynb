{
 "cells": [
  {
   "cell_type": "markdown",
   "id": "e6ea5c79",
   "metadata": {},
   "source": [
    "# Q.1 Use numpy to generate array of 25 random numbers sampled from a standard normal distribution"
   ]
  },
  {
   "cell_type": "code",
   "execution_count": 1,
   "id": "c632c716",
   "metadata": {},
   "outputs": [
    {
     "name": "stdout",
     "output_type": "stream",
     "text": [
      "[-0.25464445  0.08712712 -0.2456596   1.28284907  0.83975272 -0.50589149\n",
      "  1.16632693  0.39547352  0.09355405 -1.15117449  0.36993888  0.39742269\n",
      " -0.10486757 -0.82552764 -0.06832648 -1.60327226  0.8514439  -1.24318175\n",
      "  0.64272421  0.47160844  0.0408531  -0.49440583  0.61574383 -0.04989095\n",
      "  0.82852012]\n"
     ]
    }
   ],
   "source": [
    "import numpy as np\n",
    "arr=np.random.normal(0,1,25)\n",
    "print(arr)"
   ]
  },
  {
   "cell_type": "markdown",
   "id": "699166e6",
   "metadata": {},
   "source": [
    "# Q.2 Create a random vector of size 30 and find the mean value."
   ]
  },
  {
   "cell_type": "code",
   "execution_count": 2,
   "id": "92868521",
   "metadata": {},
   "outputs": [
    {
     "name": "stdout",
     "output_type": "stream",
     "text": [
      "0.5644898642900885\n"
     ]
    }
   ],
   "source": [
    "import numpy as np\n",
    "vect=np.random.random(30)\n",
    "mean=vect.mean()\n",
    "print(mean)"
   ]
  },
  {
   "cell_type": "markdown",
   "id": "1f8dbd66",
   "metadata": {},
   "source": [
    "# Q.3 Insert 1 to 100 numbers in a numpy array and reshape it to 10*10 matrix."
   ]
  },
  {
   "cell_type": "code",
   "execution_count": 3,
   "id": "67b1931f",
   "metadata": {},
   "outputs": [
    {
     "name": "stdout",
     "output_type": "stream",
     "text": [
      "[[  1.   2.   3.   4.   5.   6.   7.   8.   9.  10.]\n",
      " [ 11.  12.  13.  14.  15.  16.  17.  18.  19.  20.]\n",
      " [ 21.  22.  23.  24.  25.  26.  27.  28.  29.  30.]\n",
      " [ 31.  32.  33.  34.  35.  36.  37.  38.  39.  40.]\n",
      " [ 41.  42.  43.  44.  45.  46.  47.  48.  49.  50.]\n",
      " [ 51.  52.  53.  54.  55.  56.  57.  58.  59.  60.]\n",
      " [ 61.  62.  63.  64.  65.  66.  67.  68.  69.  70.]\n",
      " [ 71.  72.  73.  74.  75.  76.  77.  78.  79.  80.]\n",
      " [ 81.  82.  83.  84.  85.  86.  87.  88.  89.  90.]\n",
      " [ 91.  92.  93.  94.  95.  96.  97.  98.  99. 100.]]\n"
     ]
    }
   ],
   "source": [
    "import numpy as np \n",
    "arr=np.linspace(1,100,100)\n",
    "arr=arr.reshape(10,10)\n",
    "print(arr)\n"
   ]
  },
  {
   "cell_type": "markdown",
   "id": "b903e767",
   "metadata": {},
   "source": [
    "# Q.4 Create a 10x10 array with random values and find the minimum and maximum values."
   ]
  },
  {
   "cell_type": "code",
   "execution_count": 4,
   "id": "9f8b44c3",
   "metadata": {},
   "outputs": [
    {
     "name": "stdout",
     "output_type": "stream",
     "text": [
      "Minimum no in the array is 0.026783686697130604\n",
      "Maximum no. in the array is 0.9953652069489415\n"
     ]
    }
   ],
   "source": [
    "import numpy as np\n",
    "arr=np.random.random((10,10))\n",
    "mini=arr.min()\n",
    "maxi=arr.max()\n",
    "print('Minimum no in the array is {}\\nMaximum no. in the array is {}'.format(mini,maxi))"
   ]
  },
  {
   "cell_type": "markdown",
   "id": "d8cf0796",
   "metadata": {},
   "source": [
    "# Q.5 Find Dot product of two arrays\n",
    "\n",
    "f = np.array([1,2])\n",
    "\n",
    "g = np.array([4,5])"
   ]
  },
  {
   "cell_type": "code",
   "execution_count": 5,
   "id": "1c5972f7",
   "metadata": {},
   "outputs": [
    {
     "name": "stdout",
     "output_type": "stream",
     "text": [
      "14\n"
     ]
    }
   ],
   "source": [
    "import numpy as np\n",
    "\n",
    "f = np.array([1,2])\n",
    "\n",
    "g = np.array([4,5])\n",
    "\n",
    "prod=f.dot(g)\n",
    "print(prod)"
   ]
  },
  {
   "cell_type": "markdown",
   "id": "5993f226",
   "metadata": {},
   "source": [
    "# Q.6 Concatenate following arrays along axis=0\n",
    "x=np.array([[1,2],[3,4]])\n",
    "\n",
    "y=np.array([[5,6]])"
   ]
  },
  {
   "cell_type": "code",
   "execution_count": 6,
   "id": "493b67ed",
   "metadata": {},
   "outputs": [
    {
     "name": "stdout",
     "output_type": "stream",
     "text": [
      "[[1 2]\n",
      " [3 4]\n",
      " [5 6]]\n"
     ]
    }
   ],
   "source": [
    "x=np.array([[1,2],[3,4]])\n",
    "\n",
    "y=np.array([[5,6]])\n",
    "\n",
    "conc=np.concatenate((x,y),axis=0)\n",
    "print(conc)"
   ]
  },
  {
   "cell_type": "markdown",
   "id": "ded3ee9d",
   "metadata": {},
   "source": [
    "# Q.7 How to get the common items between two python numpy arrays?\n",
    "a = np.array([1,2,3,2,3,4,3,4,5,6])\n",
    "\n",
    "b = np.array([7,2,10,2,7,4,9,4,9,8])"
   ]
  },
  {
   "cell_type": "code",
   "execution_count": 7,
   "id": "0c55a000",
   "metadata": {},
   "outputs": [
    {
     "name": "stdout",
     "output_type": "stream",
     "text": [
      "[2 4]\n"
     ]
    }
   ],
   "source": [
    "a = np.array([1,2,3,2,3,4,3,4,5,6])\n",
    "\n",
    "b = np.array([7,2,10,2,7,4,9,4,9,8])\n",
    "\n",
    "common=np.intersect1d(a,b)\n",
    "print(common)\n"
   ]
  },
  {
   "cell_type": "markdown",
   "id": "18ff83d7",
   "metadata": {},
   "source": [
    "# Q.8 Sort the numpy array:\n",
    "\n",
    "arr = np.array([10,5,8,4,7,2,3,1])"
   ]
  },
  {
   "cell_type": "code",
   "execution_count": 8,
   "id": "c65cdce7",
   "metadata": {},
   "outputs": [
    {
     "name": "stdout",
     "output_type": "stream",
     "text": [
      "[ 1  2  3  4  5  7  8 10]\n"
     ]
    }
   ],
   "source": [
    "arr = np.array([10,5,8,4,7,2,3,1])\n",
    "\n",
    "sort=np.sort(arr)\n",
    "\n",
    "print(sort)"
   ]
  },
  {
   "cell_type": "code",
   "execution_count": null,
   "id": "36e05011",
   "metadata": {},
   "outputs": [],
   "source": []
  }
 ],
 "metadata": {
  "kernelspec": {
   "display_name": "Python 3",
   "language": "python",
   "name": "python3"
  },
  "language_info": {
   "codemirror_mode": {
    "name": "ipython",
    "version": 3
   },
   "file_extension": ".py",
   "mimetype": "text/x-python",
   "name": "python",
   "nbconvert_exporter": "python",
   "pygments_lexer": "ipython3",
   "version": "3.5.4"
  }
 },
 "nbformat": 4,
 "nbformat_minor": 5
}
