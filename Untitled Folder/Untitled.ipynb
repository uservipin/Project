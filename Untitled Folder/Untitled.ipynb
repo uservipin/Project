{
 "cells": [
  {
   "cell_type": "code",
   "execution_count": null,
   "id": "2f643694",
   "metadata": {
    "run_control": {
     "marked": true
    }
   },
   "outputs": [],
   "source": [
    "# beautiful soup\n",
    "# selenium \n",
    "# api"
   ]
  },
  {
   "cell_type": "markdown",
   "id": "b1000d71",
   "metadata": {},
   "source": [
    "# Beauriful soup"
   ]
  },
  {
   "cell_type": "code",
   "execution_count": 1,
   "id": "2e04a6c9",
   "metadata": {
    "ExecuteTime": {
     "end_time": "2021-12-22T18:17:34.891050Z",
     "start_time": "2021-12-22T18:17:34.688463Z"
    }
   },
   "outputs": [],
   "source": [
    "# main library \n",
    "import requests\n",
    "from bs4 import BeautifulSoup as bs"
   ]
  },
  {
   "cell_type": "markdown",
   "id": "301fa461",
   "metadata": {
    "ExecuteTime": {
     "end_time": "2021-12-22T17:06:08.609370Z",
     "start_time": "2021-12-22T17:06:08.593366Z"
    }
   },
   "source": [
    "* url  web link \n",
    "* call url with request  -> request.get(wel link of url)\n",
    "*  parse request's output to beautiful soup  "
   ]
  },
  {
   "cell_type": "code",
   "execution_count": 2,
   "id": "61f795a4",
   "metadata": {
    "ExecuteTime": {
     "end_time": "2021-12-22T18:17:40.102777Z",
     "start_time": "2021-12-22T18:17:37.554077Z"
    }
   },
   "outputs": [
    {
     "name": "stdout",
     "output_type": "stream",
     "text": [
      "200\n"
     ]
    }
   ],
   "source": [
    "URL = \"http://www.values.com/inspirational-quotes\"\n",
    "r = requests.get(URL)\n",
    "print(r.status_code)"
   ]
  },
  {
   "cell_type": "code",
   "execution_count": 3,
   "id": "1e4905ff",
   "metadata": {
    "ExecuteTime": {
     "end_time": "2021-12-22T18:17:41.710347Z",
     "start_time": "2021-12-22T18:17:41.653556Z"
    },
    "run_control": {
     "marked": true
    },
    "scrolled": true
   },
   "outputs": [],
   "source": [
    "soup = bs(r.content, 'html5lib') # If this line causes an error, run 'pip install html5lib' or install html5lib\n",
    "# soup"
   ]
  },
  {
   "cell_type": "markdown",
   "id": "c372edcb",
   "metadata": {},
   "source": [
    "## amazon"
   ]
  },
  {
   "cell_type": "code",
   "execution_count": 5,
   "id": "4a60d1d9",
   "metadata": {
    "ExecuteTime": {
     "end_time": "2021-12-22T18:20:41.373000Z",
     "start_time": "2021-12-22T18:20:40.451574Z"
    },
    "scrolled": true
   },
   "outputs": [
    {
     "name": "stdout",
     "output_type": "stream",
     "text": [
      "503\n"
     ]
    },
    {
     "ename": "AttributeError",
     "evalue": "'Doctype' object has no attribute 'find_all'",
     "output_type": "error",
     "traceback": [
      "\u001b[1;31m---------------------------------------------------------------------------\u001b[0m",
      "\u001b[1;31mAttributeError\u001b[0m                            Traceback (most recent call last)",
      "\u001b[1;32m~\\AppData\\Local\\Temp/ipykernel_880/1950376517.py\u001b[0m in \u001b[0;36m<module>\u001b[1;34m\u001b[0m\n\u001b[0;32m      7\u001b[0m \u001b[1;31m# data[0]\u001b[0m\u001b[1;33m\u001b[0m\u001b[1;33m\u001b[0m\u001b[0m\n\u001b[0;32m      8\u001b[0m \u001b[1;32mfor\u001b[0m \u001b[0mi\u001b[0m \u001b[1;32min\u001b[0m \u001b[0msoup\u001b[0m\u001b[1;33m:\u001b[0m\u001b[1;33m\u001b[0m\u001b[1;33m\u001b[0m\u001b[0m\n\u001b[1;32m----> 9\u001b[1;33m     \u001b[0mdata\u001b[0m \u001b[1;33m=\u001b[0m \u001b[0mi\u001b[0m\u001b[1;33m.\u001b[0m\u001b[0mfind_all\u001b[0m\u001b[1;33m(\u001b[0m\u001b[1;34m'div'\u001b[0m\u001b[1;33m,\u001b[0m\u001b[1;33m{\u001b[0m\u001b[1;34m'class'\u001b[0m\u001b[1;33m:\u001b[0m\u001b[1;34m\"s-include-content-margin\"\u001b[0m\u001b[1;33m}\u001b[0m\u001b[1;33m)\u001b[0m\u001b[1;33m\u001b[0m\u001b[1;33m\u001b[0m\u001b[0m\n\u001b[0m\u001b[0;32m     10\u001b[0m     \u001b[0mdata\u001b[0m \u001b[1;33m=\u001b[0m \u001b[0mdata\u001b[0m\u001b[1;33m.\u001b[0m\u001b[0mfind_all\u001b[0m\u001b[1;33m(\u001b[0m\u001b[1;34m'div'\u001b[0m\u001b[1;33m,\u001b[0m\u001b[1;33m{\u001b[0m\u001b[1;34m'class'\u001b[0m\u001b[1;33m:\u001b[0m\u001b[1;34m\"s-include-content-margin\"\u001b[0m\u001b[1;33m}\u001b[0m\u001b[1;33m)\u001b[0m\u001b[1;33m\u001b[0m\u001b[1;33m\u001b[0m\u001b[0m\n\u001b[0;32m     11\u001b[0m \u001b[1;31m#     print(i)\u001b[0m\u001b[1;33m\u001b[0m\u001b[1;33m\u001b[0m\u001b[0m\n",
      "\u001b[1;32mC:\\ProgramData\\Anaconda3\\lib\\site-packages\\bs4\\element.py\u001b[0m in \u001b[0;36m__getattr__\u001b[1;34m(self, attr)\u001b[0m\n\u001b[0;32m    961\u001b[0m             \u001b[1;32mreturn\u001b[0m \u001b[0mself\u001b[0m\u001b[1;33m\u001b[0m\u001b[1;33m\u001b[0m\u001b[0m\n\u001b[0;32m    962\u001b[0m         \u001b[1;32melse\u001b[0m\u001b[1;33m:\u001b[0m\u001b[1;33m\u001b[0m\u001b[1;33m\u001b[0m\u001b[0m\n\u001b[1;32m--> 963\u001b[1;33m             raise AttributeError(\n\u001b[0m\u001b[0;32m    964\u001b[0m                 \"'%s' object has no attribute '%s'\" % (\n\u001b[0;32m    965\u001b[0m                     self.__class__.__name__, attr))\n",
      "\u001b[1;31mAttributeError\u001b[0m: 'Doctype' object has no attribute 'find_all'"
     ]
    }
   ],
   "source": [
    "URL = \"https://www.amazon.in/s?k=phone+under+10000+%2B&sprefix=phone%2Caps%2C218&ref=nb_sb_ss_ts-doa-p_1_5\"\n",
    "r = requests.get(URL)\n",
    "print(r.status_code)\n",
    "soup = bs(r.content, 'html5lib') # If this line causes an error, run 'pip install html5lib' or install html5lib\n",
    "# soup\n",
    "\n",
    "# data[0]\n",
    "for i in soup:\n",
    "    data = i.find_all('div',{'class':\"s-include-content-margin\"})\n",
    "    data = data.find_all('div',{'class':\"s-include-content-margin\"})\n",
    "#     print(i)\n",
    "#     break\n",
    "    d =  data.find_all('div',{'class':'a-spacing-none'})        \n",
    "    d[2]\n",
    "    data= d[2].find_all('a',{'class':'a-link-normal'})\n",
    "    data = data[0].find('span',{'class':'a-size-medium'})\n",
    "    print(data.prettify())\n",
    "    break"
   ]
  },
  {
   "cell_type": "markdown",
   "id": "4587ae01",
   "metadata": {},
   "source": [
    "soup.find_all('tag_name',{\"class\": \"class_name\"})\n",
    "\n",
    "\n",
    "**Note**  tye Class Name should be different "
   ]
  },
  {
   "cell_type": "code",
   "execution_count": null,
   "id": "e6273f29",
   "metadata": {
    "ExecuteTime": {
     "end_time": "2021-12-22T18:14:34.755772Z",
     "start_time": "2021-12-22T18:14:34.731748Z"
    },
    "scrolled": false
   },
   "outputs": [],
   "source": []
  },
  {
   "cell_type": "code",
   "execution_count": null,
   "id": "38acaf8f",
   "metadata": {
    "ExecuteTime": {
     "end_time": "2021-12-22T18:09:37.717256Z",
     "start_time": "2021-12-22T18:09:37.699272Z"
    },
    "scrolled": true
   },
   "outputs": [],
   "source": []
  },
  {
   "cell_type": "code",
   "execution_count": null,
   "id": "b75ca0d3",
   "metadata": {},
   "outputs": [],
   "source": [
    "a-spacing-none"
   ]
  },
  {
   "cell_type": "markdown",
   "id": "e2bddd3f",
   "metadata": {},
   "source": []
  }
 ],
 "metadata": {
  "kernelspec": {
   "display_name": "Python 3 (ipykernel)",
   "language": "python",
   "name": "python3"
  },
  "language_info": {
   "codemirror_mode": {
    "name": "ipython",
    "version": 3
   },
   "file_extension": ".py",
   "mimetype": "text/x-python",
   "name": "python",
   "nbconvert_exporter": "python",
   "pygments_lexer": "ipython3",
   "version": "3.9.7"
  },
  "latex_envs": {
   "LaTeX_envs_menu_present": true,
   "autoclose": false,
   "autocomplete": true,
   "bibliofile": "biblio.bib",
   "cite_by": "apalike",
   "current_citInitial": 1,
   "eqLabelWithNumbers": true,
   "eqNumInitial": 1,
   "hotkeys": {
    "equation": "Ctrl-E",
    "itemize": "Ctrl-I"
   },
   "labels_anchors": false,
   "latex_user_defs": false,
   "report_style_numbering": false,
   "user_envs_cfg": false
  },
  "toc": {
   "base_numbering": 1,
   "nav_menu": {},
   "number_sections": true,
   "sideBar": true,
   "skip_h1_title": false,
   "title_cell": "Table of Contents",
   "title_sidebar": "Contents",
   "toc_cell": false,
   "toc_position": {},
   "toc_section_display": true,
   "toc_window_display": false
  }
 },
 "nbformat": 4,
 "nbformat_minor": 5
}
